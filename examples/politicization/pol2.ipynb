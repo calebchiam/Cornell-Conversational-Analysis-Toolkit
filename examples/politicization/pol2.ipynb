{
 "cells": [
  {
   "cell_type": "markdown",
   "metadata": {},
   "source": [
    "# Apply Politization Tracker\n",
    "Testing that the tracker works for both # of incidences and incidence rates."
   ]
  },
  {
   "cell_type": "code",
   "execution_count": 1,
   "metadata": {},
   "outputs": [],
   "source": [
    "# import required modules and set up environment\n",
    "import os\n",
    "\n",
    "# replace file path below with your own local convokit\n",
    "os.chdir('/Users/marianneaubin/Documents/Classes/CS6742/cs6742-fork')\n",
    "\n",
    "import convokit\n",
    "\n",
    "from convokit import Corpus, Parser, PolTracker, Transformer\n",
    "import nltk"
   ]
  },
  {
   "cell_type": "code",
   "execution_count": 2,
   "metadata": {},
   "outputs": [],
   "source": [
    "# load corpus, this takes a long time so you can also use a different corpus as a test\n",
    "corpus = convokit.Corpus(filename='../politics-filtered-corpus')\n",
    "#corpus = convokit.Corpus(filename=convokit.download(\"iq2-corpus\"))"
   ]
  },
  {
   "cell_type": "code",
   "execution_count": 3,
   "metadata": {},
   "outputs": [
    {
     "name": "stdout",
     "output_type": "stream",
     "text": [
      "Number of Users: 289890\n",
      "Number of Utterances: 3237456\n",
      "Number of Conversations: 94768\n"
     ]
    }
   ],
   "source": [
    "corpus.print_summary_stats()"
   ]
  },
  {
   "cell_type": "code",
   "execution_count": 4,
   "metadata": {},
   "outputs": [],
   "source": [
    "pt = PolTracker();\n",
    "corpus = pt.transform(corpus)"
   ]
  },
  {
   "cell_type": "code",
   "execution_count": 5,
   "metadata": {},
   "outputs": [
    {
     "name": "stdout",
     "output_type": "stream",
     "text": [
      "1\n",
      "['trump']\n",
      "0.08333333333333333\n",
      "1\n",
      "['trump']\n",
      "0.011494252873563218\n",
      "2\n",
      "['trump', 'trump']\n",
      "0.03333333333333333\n",
      "1\n",
      "['trump']\n",
      "0.02702702702702703\n",
      "1\n",
      "['trump']\n",
      "0.023255813953488372\n",
      "1\n",
      "['trump']\n",
      "0.011764705882352941\n",
      "1\n",
      "['trump']\n",
      "0.025\n",
      "1\n",
      "['media']\n",
      "0.037037037037037035\n",
      "2\n",
      "['media', 'media']\n",
      "0.03225806451612903\n",
      "1\n",
      "['politics']\n",
      "0.008403361344537815\n",
      "1\n",
      "['politics']\n",
      "0.008264462809917356\n",
      "2\n",
      "['terrorism', 'terrorism']\n",
      "0.04081632653061224\n",
      "1\n",
      "['politics']\n",
      "0.02040816326530612\n",
      "1\n",
      "['politics']\n",
      "0.04\n",
      "1\n",
      "['nation']\n",
      "0.011111111111111112\n",
      "1\n",
      "['trump']\n",
      "0.047619047619047616\n",
      "1\n",
      "['trump']\n",
      "0.03571428571428571\n",
      "1\n",
      "['trump']\n",
      "0.05\n",
      "2\n",
      "['trump', 'trump']\n",
      "0.0111731843575419\n",
      "1\n",
      "['politics']\n",
      "0.011764705882352941\n",
      "1\n",
      "['state']\n",
      "0.008333333333333333\n",
      "1\n",
      "['politics']\n",
      "0.00546448087431694\n",
      "5\n",
      "['independent', 'government', 'precedent', 'politics', 'citizen']\n",
      "0.02403846153846154\n",
      "1\n",
      "['harris']\n",
      "0.010752688172043012\n",
      "3\n",
      "['jurisdiction', 'government', 'jurisdiction']\n",
      "0.007425742574257425\n",
      "7\n",
      "['opinion', 'democracy', 'politics', 'gerrymandering', 'gerrymandering', 'state', 'democracy']\n",
      "0.025\n",
      "3\n",
      "['media', 'politics', 'politics']\n",
      "0.0234375\n",
      "3\n",
      "['politics', 'opinion', 'politics']\n",
      "0.02586206896551724\n",
      "1\n",
      "['trump']\n",
      "0.006024096385542169\n",
      "3\n",
      "['bush', 'power', 'politics']\n",
      "0.014778325123152709\n",
      "1\n",
      "['cabinet']\n",
      "0.02564102564102564\n",
      "1\n",
      "['power']\n",
      "0.012658227848101266\n",
      "3\n",
      "['state', 'government', 'government']\n",
      "0.007142857142857143\n",
      "1\n",
      "['government']\n",
      "0.004048582995951417\n",
      "1\n",
      "['power']\n",
      "0.005747126436781609\n",
      "1\n",
      "['government']\n",
      "0.1111111111111111\n",
      "2\n",
      "['media', 'media']\n",
      "0.023255813953488372\n",
      "1\n",
      "['nation']\n",
      "0.014285714285714285\n",
      "1\n",
      "['state']\n",
      "0.006802721088435374\n",
      "3\n",
      "['trump', 'trump', 'trump']\n",
      "0.015306122448979591\n",
      "1\n",
      "['dictatorship']\n",
      "0.034482758620689655\n",
      "1\n",
      "['trump']\n",
      "0.09090909090909091\n",
      "3\n",
      "['government', 'power', 'citizen']\n",
      "0.05660377358490566\n",
      "1\n",
      "['clinton']\n",
      "0.0196078431372549\n",
      "1\n",
      "['trump']\n",
      "0.023255813953488372\n",
      "4\n",
      "['trump', 'media', 'trump', 'trump']\n",
      "0.03333333333333333\n",
      "1\n",
      "['trump']\n",
      "0.03333333333333333\n",
      "1\n",
      "['trump']\n",
      "0.006711409395973154\n",
      "1\n",
      "['trump']\n",
      "0.06666666666666667\n",
      "1\n",
      "['clinton']\n",
      "0.008928571428571428\n",
      "1\n",
      "['loophole']\n",
      "0.008333333333333333\n",
      "1\n",
      "['clinton']\n",
      "0.1111111111111111\n",
      "2\n",
      "['cloture', 'clinton']\n",
      "0.011834319526627219\n",
      "1\n",
      "['state']\n",
      "0.038461538461538464\n",
      "2\n",
      "['clinton', 'bush']\n",
      "0.09523809523809523\n",
      "2\n",
      "['loophole', 'clinton']\n",
      "0.0136986301369863\n",
      "2\n",
      "['loophole', 'loophole']\n",
      "0.009900990099009901\n",
      "1\n",
      "['constitution']\n",
      "0.1111111111111111\n",
      "1\n",
      "['constitution']\n",
      "0.02857142857142857\n",
      "1\n",
      "['state']\n",
      "0.04\n",
      "1\n",
      "['politics']\n",
      "0.014492753623188406\n",
      "1\n",
      "['constitution']\n",
      "0.07692307692307693\n",
      "1\n",
      "['politics']\n",
      "0.018867924528301886\n",
      "2\n",
      "['constitution', 'constitution']\n",
      "0.028985507246376812\n",
      "1\n",
      "['trump']\n",
      "0.09090909090909091\n",
      "1\n",
      "['trump']\n",
      "0.011764705882352941\n",
      "1\n",
      "['opinion']\n",
      "0.014925373134328358\n",
      "2\n",
      "['trump', 'fascism']\n",
      "0.06896551724137931\n",
      "1\n",
      "['trump']\n",
      "0.047619047619047616\n",
      "2\n",
      "['politics', 'politics']\n",
      "0.028169014084507043\n",
      "2\n",
      "['government', 'politics']\n",
      "0.0625\n",
      "1\n",
      "['trump']\n",
      "0.14285714285714285\n",
      "1\n",
      "['state']\n",
      "0.005405405405405406\n",
      "1\n",
      "['state']\n",
      "0.009009009009009009\n",
      "1\n",
      "['liberty']\n",
      "0.09090909090909091\n",
      "2\n",
      "['kansas', 'amendment']\n",
      "0.007518796992481203\n",
      "2\n",
      "['kansas', 'amendment']\n",
      "0.0064516129032258064\n",
      "1\n",
      "['opinion']\n",
      "0.037037037037037035\n",
      "1\n",
      "['state']\n",
      "0.010416666666666666\n",
      "2\n",
      "['democracy', 'power']\n",
      "0.0273972602739726\n",
      "1\n",
      "['power']\n",
      "0.013888888888888888\n",
      "3\n",
      "['power', 'veto', 'government']\n",
      "0.01293103448275862\n",
      "1\n",
      "['state']\n",
      "0.05\n",
      "1\n",
      "['state']\n",
      "0.04\n",
      "1\n",
      "['state']\n",
      "0.022727272727272728\n",
      "1\n",
      "['democracy']\n",
      "0.014705882352941176\n",
      "1\n",
      "['gerrymandering']\n",
      "0.02631578947368421\n",
      "1\n",
      "['gerrymandering']\n",
      "0.02631578947368421\n",
      "1\n",
      "['state']\n",
      "0.021739130434782608\n",
      "3\n",
      "['clinton', 'state', 'trump']\n",
      "0.033707865168539325\n",
      "1\n",
      "['polling']\n",
      "0.06666666666666667\n",
      "1\n",
      "['state']\n",
      "0.019230769230769232\n",
      "2\n",
      "['state', 'clinton']\n",
      "0.06451612903225806\n",
      "1\n",
      "['government']\n",
      "0.023809523809523808\n",
      "2\n",
      "['loophole', 'bush']\n",
      "0.017391304347826087\n",
      "1\n",
      "['power']\n",
      "0.02702702702702703\n",
      "1\n",
      "['government']\n",
      "0.020833333333333332\n",
      "1\n",
      "['constituency']\n",
      "0.023809523809523808\n",
      "1\n",
      "['clinton']\n",
      "0.008620689655172414\n"
     ]
    }
   ],
   "source": [
    "counter = 1\n",
    "for conv_id in corpus.conversations:\n",
    "    conv = corpus.get_conversation(conv_id)\n",
    "    for utt in conv.iter_utterances():\n",
    "        if utt.meta[\"num_pol_refs\"] != 0:\n",
    "            print(utt.meta[\"num_pol_refs\"])\n",
    "            print(utt.meta[\"pol_words\"])\n",
    "            print(utt.meta[\"num_pol_refs_incidence\"])\n",
    "            counter = counter + 1\n",
    "        if (counter % 10) == 0:\n",
    "            break;\n",
    "    if (counter % 100) == 0:\n",
    "            break;"
   ]
  },
  {
   "cell_type": "code",
   "execution_count": 8,
   "metadata": {},
   "outputs": [
    {
     "data": {
      "text/plain": [
       "'3v4rga'"
      ]
     },
     "execution_count": 8,
     "metadata": {},
     "output_type": "execute_result"
    }
   ],
   "source": [
    "utter_ids = corpus.get_utterance_ids()"
   ]
  },
  {
   "cell_type": "code",
   "execution_count": 9,
   "metadata": {},
   "outputs": [
    {
     "data": {
      "text/plain": [
       "'4o0zck'"
      ]
     },
     "execution_count": 9,
     "metadata": {},
     "output_type": "execute_result"
    }
   ],
   "source": [
    "utter_ids[7000]"
   ]
  },
  {
   "cell_type": "code",
   "execution_count": 39,
   "metadata": {},
   "outputs": [
    {
     "name": "stdout",
     "output_type": "stream",
     "text": [
      "100000  completed\n",
      "200000  completed\n",
      "300000  completed\n",
      "400000  completed\n",
      "500000  completed\n",
      "600000  completed\n",
      "700000  completed\n",
      "800000  completed\n",
      "900000  completed\n",
      "1000000  completed\n",
      "1100000  completed\n",
      "1200000  completed\n",
      "1300000  completed\n",
      "1400000  completed\n",
      "1500000  completed\n",
      "1600000  completed\n",
      "1700000  completed\n",
      "1800000  completed\n",
      "1900000  completed\n",
      "2000000  completed\n",
      "2100000  completed\n",
      "2200000  completed\n",
      "2300000  completed\n",
      "2400000  completed\n",
      "2500000  completed\n",
      "2600000  completed\n",
      "2700000  completed\n",
      "2800000  completed\n",
      "2900000  completed\n",
      "3000000  completed\n",
      "3100000  completed\n",
      "3200000  completed\n",
      "total # of words: 1124222\n",
      "24957.98849078706\n"
     ]
    }
   ],
   "source": [
    "pol_word_counter = 0\n",
    "total_word_counter = 0\n",
    "counter = 0\n",
    "for x in range(0,3237456):\n",
    "    utt = corpus.get_utterance(utter_ids[x])\n",
    "    pol_word_counter = pol_word_counter + utt.meta['num_pol_refs']\n",
    "    total_word_counter = total_word_counter + utt.meta['num_pol_refs_incidence']\n",
    "    counter = counter + 1\n",
    "    if counter % 100000 == 0:\n",
    "        print(counter, \" completed\")\n",
    "    \n",
    "print(\"total # of words:\", pol_word_counter)\n",
    "print(total_word_counter)"
   ]
  },
  {
   "cell_type": "code",
   "execution_count": 47,
   "metadata": {},
   "outputs": [
    {
     "name": "stdout",
     "output_type": "stream",
     "text": [
      "100000  completed\n",
      "200000  completed\n",
      "300000  completed\n",
      "400000  completed\n",
      "500000  completed\n",
      "600000  completed\n",
      "700000  completed\n",
      "800000  completed\n",
      "900000  completed\n",
      "1000000  completed\n",
      "1100000  completed\n",
      "1200000  completed\n",
      "1300000  completed\n",
      "1400000  completed\n",
      "1500000  completed\n",
      "1600000  completed\n",
      "1700000  completed\n",
      "1800000  completed\n",
      "1900000  completed\n",
      "2000000  completed\n",
      "2100000  completed\n",
      "2200000  completed\n",
      "2300000  completed\n",
      "2400000  completed\n",
      "2500000  completed\n",
      "2600000  completed\n",
      "2700000  completed\n",
      "2800000  completed\n",
      "2900000  completed\n",
      "3000000  completed\n",
      "3100000  completed\n",
      "3200000  completed\n",
      "{'politics': 38850, 'bush': 20633, 'power': 50312, 'trump': 350441, 'clinton': 59853, 'state': 85150, 'democracy': 16174, 'amendment': 43074, 'government': 113380, 'reverse': 2050, 'oversight': 2384, 'authority': 7008, 'unemployment': 3810, 'johnson': 4968, 'revolution': 5800, 'liberty': 5539, 'terrorism': 17979, 'constitution': 26416, 'media': 52720, 'harris': 1309, 'nation': 21012, 'opinion': 29490, 'precedent': 4030, 'ideology': 7704, 'citizen': 12897, 'socialism': 5851, 'rationalism': 25, 'brief': 1196, 'welfare': 9209, 'mandate': 2618, 'independent': 7496, 'gerrymandering': 4742, 'bullock': 80, 'stein': 2884, 'legitimacy': 1306, 'kansas': 1894, 'anarchism': 248, 'sample': 1718, 'slander': 1065, 'whistleblower': 267, 'globalization': 404, 'filibuster': 1085, 'inflation': 3590, 'unity': 1331, 'surplus': 1211, 'recession': 3163, 'diversity': 1453, 'equity': 606, 'privatization': 445, 'blog': 1682, 'implementation': 848, 'lobbying': 3744, 'communism': 2860, 'pardon': 4285, 'republic': 3685, 'oligarchy': 1219, 'regime': 2590, 'caucus': 1681, 'sovereignty': 728, 'jurisdiction': 3526, 'intervention': 1757, 'deregulation': 968, 'loophole': 2964, 'bureaucracy': 740, 'fascism': 4042, 'authorization': 494, 'statute': 1359, 'empire': 2199, 'polling': 6066, 'dictatorship': 1447, 'biden': 3533, 'cabinet': 2823, 'libertarianism': 1360, 'individualism': 287, 'suffrage': 183, 'castro': 362, 'liberalism': 1487, 'environmentalism': 85, 'diplomacy': 1324, 'pollster': 313, 'whip': 771, 'staffer': 548, 'pork': 643, 'nation-state': 103, 'veto': 1219, 'framers': 646, 'impeachment': 5391, 'monarchy': 505, 'nationalism': 2403, 'realism': 138, 'idealism': 290, 'charter': 927, 'neoconservatism': 60, 'absolutism': 61, 'nazism': 676, 'affirm': 244, 'isolationism': 191, 'libel': 867, 'constituency': 637, 'unilateral': 300, 'census': 1042, 'hierarchy': 353, 'incorporation': 164, 'appropriation': 140, 'plurality': 507, 'remand': 8, 'centralization': 65, 'spoiler': 988, 'sanford': 80, 'markup': 120, 'bilateral': 104, 'bundling': 41, 'transnational': 62, 'fundamentalism': 310, 'feminism': 692, 'realignment': 67, 'duopoly': 91, 'casework': 10, 'federalism': 153, 'devolution': 33, 'confederacy': 459, 'pluralism': 41, 'deterrence': 284, 'reprieve': 110, 'lawmaking': 73, 'redistricting': 640, 'walsh': 105, 'nihilism': 156, 'nation-building': 35, 'multiculturalism': 189, 'populists': 198, 'specialization': 55, 'rider': 228, 'underemployment': 37, 'reregulation': 1, 'agenda-setting': 9, 'cloture': 74, 'delaney': 19, 'internationalism': 13, 'patronage': 89, 'statecraft': 27, 'front-runner': 111, 'elector': 70, 'weld': 110, 'booker': 774, 'rule-making': 10, 'unipolar': 16, 'preemption': 25, 'autocracy': 150, 'means-testing': 8, 'front-loading': 6, 'pigeonholing': 10, 'reapportionment': 40, 'incrementalism': 106, 'overregulation': 19, 'logrolling': 2, 'gabbard': 280, 'superdelegate': 443, 'bennet': 19, 'conformism': 1, 'multilateralism': 7, 'dealignment': 2, 'codetermination': 2, 'malapportionment': 1, 'buttigieg': 7}\n"
     ]
    }
   ],
   "source": [
    "counter = 0\n",
    "pol_words = {}\n",
    "for x in range(0, 3237456):\n",
    "    utt = corpus.get_utterance(utter_ids[x])\n",
    "    utt_pol_words = utt.meta['pol_words']\n",
    "    for y in utt_pol_words:\n",
    "        if (y not in pol_words.keys()):\n",
    "            pol_words[y] = 1\n",
    "        else:\n",
    "            pol_words[y] = pol_words[y] + 1\n",
    "    counter = counter + 1\n",
    "    if counter % 100000 == 0:\n",
    "        print(counter, \" completed\")\n",
    "        \n",
    "print(pol_words)"
   ]
  },
  {
   "cell_type": "code",
   "execution_count": 88,
   "metadata": {},
   "outputs": [
    {
     "name": "stdout",
     "output_type": "stream",
     "text": [
      "[350441, 113380, 85150, 59853, 52720, 50312, 43074, 38850, 29490, 26416, 21012, 20633, 17979, 16174, 12897, 9209, 7704, 7496, 7008, 6066, 5851, 5800, 5539, 5391]\n"
     ]
    }
   ],
   "source": [
    "freqs = []\n",
    "large_pol_words = []\n",
    "for x in pol_words.keys():\n",
    "    if pol_words[x] > 5000:\n",
    "        freqs.append(pol_words[x])\n",
    "        large_pol_words.append(x)\n",
    "        \n",
    "freqs, large_pol_words = (list(x) for x in zip(*sorted(zip(freqs, large_pol_words))))\n",
    "freqs.reverse()\n",
    "large_pol_words.reverse()\n",
    "print(freqs)"
   ]
  },
  {
   "cell_type": "code",
   "execution_count": 68,
   "metadata": {},
   "outputs": [
    {
     "data": {
      "image/png": "[encoded data removed]",
      "text/plain": [
       "<Figure size 432x288 with 1 Axes>"
      ]
     },
     "metadata": {
      "needs_background": "light"
     },
     "output_type": "display_data"
    }
   ],
   "source": [
    "import matplotlib.pyplot as plt\n",
    "import numpy as np\n",
    "import matplotlib.pyplot as plt\n",
    "\n",
    "objects = large_pol_words\n",
    "y_pos = np.arange(len(objects))\n",
    "\n",
    "plt.bar(y_pos, freqs, align='center', alpha=0.5)\n",
    "plt.xticks(y_pos, objects, rotation='vertical')\n",
    "plt.ylabel('Frequency')\n",
    "plt.title('Most commonly used political words in Corpus')\n",
    "\n",
    "plt.show()\n",
    "\n",
    "## ISSUE: right now, this only works for single words. \n",
    "## will need to change the transformer so that it can also\n",
    "## compute multiple words e.g. \"bill of rights\""
   ]
  },
  {
   "cell_type": "code",
   "execution_count": 302,
   "metadata": {},
   "outputs": [],
   "source": [
    "## read in csv of relevant utts for sandy hook\n",
    "\n",
    "import csv\n",
    "#with open('../sandyhook_utterance_ids.csv', 'r') as f:\n",
    "with open('../santafehigh_utterance_ids.csv', 'r') as f:\n",
    "    reader = csv.reader(f)\n",
    "    sh_list = list(reader)\n"
   ]
  },
  {
   "cell_type": "code",
   "execution_count": 303,
   "metadata": {},
   "outputs": [
    {
     "name": "stdout",
     "output_type": "stream",
     "text": [
      "{'power': 9, 'terrorism': 11, 'amendment': 67, 'trump': 46, 'government': 50, 'media': 32, 'opinion': 18, 'state': 66, 'spoiler': 1, 'politics': 16, 'staffer': 2, 'mandate': 4, 'nation': 6, 'citizen': 8, 'constitution': 29, 'republic': 1, 'biden': 2, 'liberty': 9, 'intervention': 2, 'oversight': 1, 'charter': 2, 'whip': 1, 'empire': 2, 'democracy': 3, 'clinton': 2, 'nazism': 1, 'lobbying': 2, 'fascism': 1, 'ideology': 3, 'nationalism': 1, 'framers': 1, 'revolution': 1, 'authority': 1, 'sample': 3, 'polling': 2, 'loophole': 2, 'bush': 2, 'independent': 1, 'harris': 2, 'dictatorship': 4}\n"
     ]
    }
   ],
   "source": [
    "## recompute political freqs\n",
    "\n",
    "pol_words_sh = {}\n",
    "for x in sh_list:\n",
    "    utt = corpus.get_utterance(x[0])\n",
    "    utt_pol_words = utt.meta['pol_words']\n",
    "    for y in utt_pol_words:\n",
    "        if (y not in pol_words_sh.keys()):\n",
    "            pol_words_sh[y] = 1\n",
    "        else:\n",
    "            pol_words_sh[y] = pol_words_sh[y] + 1\n",
    "        \n",
    "print(pol_words_sh)"
   ]
  },
  {
   "cell_type": "code",
   "execution_count": 304,
   "metadata": {},
   "outputs": [
    {
     "name": "stdout",
     "output_type": "stream",
     "text": [
      "[67, 66, 50, 46, 32, 29, 18, 16, 11, 9, 9, 8, 6, 4, 4, 3, 3, 3, 2, 2, 2, 2, 2, 2, 2, 2, 2, 2, 2, 1, 1, 1, 1, 1, 1, 1, 1, 1, 1, 1]\n"
     ]
    }
   ],
   "source": [
    "freqs_sh = []\n",
    "large_pol_words_sh = []\n",
    "for x in pol_words_sh.keys():\n",
    "    freqs_sh.append(pol_words_sh[x])\n",
    "    large_pol_words_sh.append(x)\n",
    "        \n",
    "freqs_sh, large_pol_words_sh = (list(x) for x in zip(*sorted(zip(freqs_sh, large_pol_words_sh))))\n",
    "freqs_sh.reverse()\n",
    "large_pol_words_sh.reverse()\n",
    "print(freqs_sh)"
   ]
  },
  {
   "cell_type": "code",
   "execution_count": 305,
   "metadata": {},
   "outputs": [
    {
     "data": {
      "image/png": "[encoded data removed]",
      "text/plain": [
       "<Figure size 720x288 with 1 Axes>"
      ]
     },
     "metadata": {
      "needs_background": "light"
     },
     "output_type": "display_data"
    }
   ],
   "source": [
    "objects = large_pol_words_sh\n",
    "y_pos = np.arange(len(objects))\n",
    "\n",
    "plt.figure(figsize=(10,4))\n",
    "plt.bar(y_pos, freqs_sh, align='center', alpha=0.5)\n",
    "plt.xticks(y_pos, objects, rotation='vertical')\n",
    "plt.ylabel('Frequency')\n",
    "plt.title('Most commonly used political words in Sandy Hook Corpus')\n",
    "\n",
    "plt.show()"
   ]
  },
  {
   "cell_type": "code",
   "execution_count": 306,
   "metadata": {},
   "outputs": [
    {
     "name": "stdout",
     "output_type": "stream",
     "text": [
      "Utterance({'id': '3v4rga', 'user': User([('name', 'aluminumdisc')]), 'root': '3v4rga', 'reply_to': None, 'timestamp': 1449056876, 'text': '', 'meta': {'score': 2, 'top_level_comment': None, 'retrieved_on': 1454888391, 'gilded': 0, 'gildings': None, 'subreddit': 'politics', 'stickied': False, 'permalink': '/r/politics/comments/3v4rga/marco_rubio_in_second_place_in_latest_national/', 'author_flair_text': '', 'num_pol_refs': 0, 'num_pol_refs_incidence': 0, 'pol_words': []}})\n"
     ]
    }
   ],
   "source": [
    "print(corpus.get_utterance(utter_ids[60]))"
   ]
  },
  {
   "cell_type": "markdown",
   "metadata": {},
   "source": [
    "## Sandy Hook analysis\n",
    "Now we try to establish a time series of how many words there are per day after December 14, 2012 (Sandy Hook shooting day). Timestamp: 1355461200"
   ]
  },
  {
   "cell_type": "code",
   "execution_count": 316,
   "metadata": {},
   "outputs": [
    {
     "name": "stdout",
     "output_type": "stream",
     "text": [
      "[1015, 26, 240, 318, 24, 29, 54]\n"
     ]
    }
   ],
   "source": [
    "from datetime import datetime\n",
    "import pandas as pd \n",
    "\n",
    "ps = 7\n",
    "\n",
    "#Sandy hook dates\n",
    "#start_date = '2012-12-14'\n",
    "#end_date = '2012-12-22'\n",
    "\n",
    "#Aurora Theatre\n",
    "#start_date = '2012-07-20'\n",
    "#end_date = '2012-07-28'\n",
    "\n",
    "#Santa Fe\n",
    "start_date = '2018-05-18'\n",
    "end_date = '2018-05-26'\n",
    "\n",
    "num_posts_sh = [0] * ps\n",
    "times = pd.date_range(start=start_date,end=end_date,periods=ps+1)\n",
    "times = np.array(times)\n",
    "bin_times = times[:-1]\n",
    "\n",
    "# convert to datetime object\n",
    "times_temp = []\n",
    "for i,x in enumerate(times):\n",
    "    times_temp.append(pd.to_datetime(x))\n",
    "times = times_temp    \n",
    "\n",
    "for i,x in enumerate(sh_list):\n",
    "    utt = corpus.get_utterance(x[0])\n",
    "    posted_time = datetime.fromtimestamp(utt.timestamp)\n",
    "    y = 0\n",
    "    while (posted_time > times[y]):\n",
    "        y = y + 1\n",
    "        if y > ps-1:\n",
    "            break;\n",
    "    ## this gives us the timeframe to mark it as\n",
    "    num_posts_sh[y-1] = num_posts_sh[y-1] + 1\n",
    "print(num_posts_sh)"
   ]
  },
  {
   "cell_type": "code",
   "execution_count": 322,
   "metadata": {},
   "outputs": [
    {
     "data": {
      "image/png": "[encoded data removed]",
      "text/plain": [
       "<Figure size 432x288 with 1 Axes>"
      ]
     },
     "metadata": {
      "needs_background": "light"
     },
     "output_type": "display_data"
    }
   ],
   "source": [
    "plt.plot(bin_times,num_posts_sh)\n",
    "plt.xticks(rotation='vertical')\n",
    "plt.ylabel('Number of posts')\n",
    "plt.title('Number of posts per day 7 days after Santa Fe')\n",
    "plt.show()"
   ]
  },
  {
   "cell_type": "code",
   "execution_count": 318,
   "metadata": {},
   "outputs": [],
   "source": [
    "from nltk.tokenize import word_tokenize\n",
    "\n",
    "## function takes in utterance and counts total words\n",
    "def count_total_words(utt):\n",
    "    if utt.text != None:\n",
    "        tokenized = word_tokenize(utt.text.lower())\n",
    "        return len(tokenized)"
   ]
  },
  {
   "cell_type": "code",
   "execution_count": 319,
   "metadata": {},
   "outputs": [
    {
     "name": "stdout",
     "output_type": "stream",
     "text": [
      "258\n",
      "Utterance({'id': 'c7hyvbw', 'user': User([('name', '[deleted]')]), 'root': '14zqr7', 'reply_to': 'c7hyq49', 'timestamp': 1355758259, 'text': \"Again, see how that goes when you shoot a cop.  I'm sure people will sympathize with you...But really, you're making a point that has no basis in reality...the cops aren't going to fucking break into your home for no reason to take your shit.\\n\\nI'm not misunderstanding, I just don't believe you have any freedom to own a firearm.  It's not a right.  Maybe it's a privilege, but it's certainly not a right.  (and don't say anything about the second amendment...that's a bullshit excuse....commodities aren't things that should be protected by the bill of rights)\\n\\nI didn't flip.  In the first response, you said he was wrong in the association.  I said he was stating a fact: that historically, guns have been used to deny people freedom in this country, probably more than they have been used to give freedom.  \\n\\nI said the gun culture of the south, which is still largely based on confederate wet dreams.  There's a difference between that and larger gun culture. But to your point about gun culture, the stocking for the apocalypse certainly shouldn't be allowed to own guns because he is a nut.  Rifles and shotguns for hunting are fine as long as they aren't semi-auto.  I'm fine with revolvers for protection.   \", 'meta': {'score': 0, 'top_level_comment': 'c7hy4xv', 'retrieved_on': 1430697803, 'gilded': 0, 'gildings': None, 'subreddit': 'politics', 'stickied': False, 'permalink': '', 'author_flair_text': '', 'num_pol_refs': 1, 'num_pol_refs_incidence': 0.003875968992248062, 'pol_words': ['amendment']}})\n"
     ]
    }
   ],
   "source": [
    "##check above function works as expected\n",
    "print(count_total_words(corpus.get_utterance(utter_ids[400080])))\n",
    "print(corpus.get_utterance(utter_ids[400080]))"
   ]
  },
  {
   "cell_type": "code",
   "execution_count": 320,
   "metadata": {},
   "outputs": [
    {
     "name": "stdout",
     "output_type": "stream",
     "text": [
      "[238, 4, 82, 55, 3, 8, 27]\n",
      "[43263, 1907, 10467, 16982, 978, 959, 3049]\n",
      "[0.005501236622518087, 0.002097535395909806, 0.007834145409381868, 0.0032387233541396774, 0.003067484662576687, 0.008342022940563087, 0.0088553624139062]\n"
     ]
    }
   ],
   "source": [
    "## next, I want the incidence rate per day of political words\n",
    "\n",
    "inc_rate_sh = [0]*ps\n",
    "total_pol_words_sh = [0]*ps\n",
    "total_words_sh = [0]*ps\n",
    "\n",
    "for i,x in enumerate(sh_list):\n",
    "    utt = corpus.get_utterance(x[0])\n",
    "    posted_time = datetime.fromtimestamp(utt.timestamp)\n",
    "    y = 0\n",
    "    while (posted_time > times[y]):\n",
    "        \n",
    "        y = y + 1\n",
    "               \n",
    "    ## this gives us the timeframe to mark it as\n",
    "    total_pol_words_sh[y-1] = total_pol_words_sh[y-1] + utt.meta['num_pol_refs']\n",
    "    total_words_sh[y-1] = total_words_sh[y-1] + count_total_words(utt)\n",
    "    if y == 0:\n",
    "        print(count_total_words(utt))\n",
    "\n",
    "print(total_pol_words_sh)\n",
    "print(total_words_sh)\n",
    "\n",
    "for i in range(0, ps):\n",
    "    if total_words_sh[i] != 0:\n",
    "        inc_rate_sh[i] = total_pol_words_sh[i]/total_words_sh[i]\n",
    "    \n",
    "print(inc_rate_sh)"
   ]
  },
  {
   "cell_type": "code",
   "execution_count": 321,
   "metadata": {},
   "outputs": [
    {
     "data": {
      "image/png": "[encoded data removed]",
      "text/plain": [
       "<Figure size 432x288 with 1 Axes>"
      ]
     },
     "metadata": {
      "needs_background": "light"
     },
     "output_type": "display_data"
    }
   ],
   "source": [
    "plt.plot(bin_times,inc_rate_sh)\n",
    "plt.xticks(rotation='vertical')\n",
    "plt.ylabel('Political words/total words')\n",
    "plt.title('Incidence rate of political words in utterances')\n",
    "plt.show()"
   ]
  }
 ],
 "metadata": {
  "kernelspec": {
   "display_name": "Python 3",
   "language": "python",
   "name": "python3"
  },
  "language_info": {
   "codemirror_mode": {
    "name": "ipython",
    "version": 3
   },
   "file_extension": ".py",
   "mimetype": "text/x-python",
   "name": "python",
   "nbconvert_exporter": "python",
   "pygments_lexer": "ipython3",
   "version": "3.7.3"
  }
 },
 "nbformat": 4,
 "nbformat_minor": 2
}
