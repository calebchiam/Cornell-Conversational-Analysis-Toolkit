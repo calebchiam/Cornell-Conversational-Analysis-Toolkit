{
 "cells": [
  {
   "cell_type": "markdown",
   "metadata": {},
   "source": [
    "# Apply Emotion Tracker\n",
    "Nov 14th 2019\n",
    "\n",
    "Testing that the emotion tracker works for utterances in corpus."
   ]
  },
  {
   "cell_type": "code",
   "execution_count": 8,
   "metadata": {},
   "outputs": [],
   "source": [
    "# import required modules and set up environment\n",
    "import os\n",
    "\n",
    "# replace file path below with your own local convokit\n",
    "os.chdir('/Users/marianneaubin/Documents/Classes/CS6742/cs6742-fork')\n",
    "\n",
    "import convokit\n",
    "\n",
    "from convokit import Corpus, Parser, EmoTracker, Transformer\n",
    "import nltk"
   ]
  },
  {
   "cell_type": "code",
   "execution_count": 27,
   "metadata": {},
   "outputs": [],
   "source": [
    "# load corpus\n",
    "\n",
    "corpus_instance = \"The_Donald\"\n",
    "# politics, democrats, Liberal\n",
    "\n",
    "\n",
    "path = \"../datasets/\" + corpus_instance + \"-filtered-labelled-small\"\n",
    "corpus = convokit.Corpus(filename=path)"
   ]
  },
  {
   "cell_type": "code",
   "execution_count": 28,
   "metadata": {},
   "outputs": [
    {
     "name": "stdout",
     "output_type": "stream",
     "text": [
      "Number of Users: 54939\n",
      "Number of Utterances: 437934\n",
      "Number of Conversations: 31832\n"
     ]
    }
   ],
   "source": [
    "corpus.print_summary_stats()"
   ]
  },
  {
   "cell_type": "code",
   "execution_count": 29,
   "metadata": {},
   "outputs": [
    {
     "name": "stdout",
     "output_type": "stream",
     "text": [
      "processed  5000 utterances \n",
      "processed  10000 utterances \n",
      "processed  15000 utterances \n",
      "processed  20000 utterances \n",
      "processed  25000 utterances \n",
      "processed  30000 utterances \n",
      "processed  35000 utterances \n",
      "processed  40000 utterances \n",
      "processed  45000 utterances \n",
      "processed  50000 utterances \n",
      "processed  55000 utterances \n",
      "processed  60000 utterances \n",
      "processed  65000 utterances \n",
      "processed  70000 utterances \n",
      "processed  75000 utterances \n",
      "processed  80000 utterances \n",
      "processed  85000 utterances \n",
      "processed  90000 utterances \n",
      "processed  95000 utterances \n",
      "processed  100000 utterances \n",
      "processed  105000 utterances \n",
      "processed  110000 utterances \n",
      "processed  115000 utterances \n",
      "processed  120000 utterances \n",
      "processed  125000 utterances \n",
      "processed  130000 utterances \n",
      "processed  135000 utterances \n",
      "processed  140000 utterances \n",
      "processed  145000 utterances \n",
      "processed  150000 utterances \n",
      "processed  155000 utterances \n",
      "processed  160000 utterances \n",
      "processed  165000 utterances \n",
      "processed  170000 utterances \n",
      "processed  175000 utterances \n",
      "processed  180000 utterances \n",
      "processed  185000 utterances \n",
      "processed  190000 utterances \n",
      "processed  195000 utterances \n",
      "processed  200000 utterances \n",
      "processed  205000 utterances \n",
      "processed  210000 utterances \n",
      "processed  215000 utterances \n",
      "processed  220000 utterances \n",
      "processed  225000 utterances \n",
      "processed  230000 utterances \n",
      "processed  235000 utterances \n",
      "processed  240000 utterances \n",
      "processed  245000 utterances \n",
      "processed  250000 utterances \n",
      "processed  255000 utterances \n",
      "processed  260000 utterances \n",
      "processed  265000 utterances \n",
      "processed  270000 utterances \n",
      "processed  275000 utterances \n",
      "processed  280000 utterances \n",
      "processed  285000 utterances \n",
      "processed  290000 utterances \n",
      "processed  295000 utterances \n",
      "processed  300000 utterances \n",
      "processed  305000 utterances \n",
      "processed  310000 utterances \n",
      "processed  315000 utterances \n",
      "processed  320000 utterances \n",
      "processed  325000 utterances \n",
      "processed  330000 utterances \n",
      "processed  335000 utterances \n",
      "processed  340000 utterances \n",
      "processed  345000 utterances \n",
      "processed  350000 utterances \n",
      "processed  355000 utterances \n",
      "processed  360000 utterances \n",
      "processed  365000 utterances \n",
      "processed  370000 utterances \n",
      "processed  375000 utterances \n",
      "processed  380000 utterances \n",
      "processed  385000 utterances \n",
      "processed  390000 utterances \n",
      "processed  395000 utterances \n",
      "processed  400000 utterances \n",
      "processed  405000 utterances \n",
      "processed  410000 utterances \n",
      "processed  415000 utterances \n",
      "processed  420000 utterances \n",
      "processed  425000 utterances \n",
      "processed  430000 utterances \n",
      "processed  435000 utterances \n"
     ]
    }
   ],
   "source": [
    "et = EmoTracker();\n",
    "corpus = et.transform(corpus)"
   ]
  },
  {
   "cell_type": "code",
   "execution_count": 30,
   "metadata": {},
   "outputs": [],
   "source": [
    "categories = [\"sadness\", \"violence\", \"rage\", \"pain\", \"anger\", \"love\", \"politics\"]\n",
    "sadness_words = [\"sadness\", \"pain\", \"love\"]\n",
    "anger_words = [\"rage\", \"violence\", \"anger\"]"
   ]
  },
  {
   "cell_type": "code",
   "execution_count": 31,
   "metadata": {},
   "outputs": [],
   "source": [
    "def get_cat_colour(cat):\n",
    "    if cat in sadness_words:\n",
    "        return \"teal\"\n",
    "    elif cat in anger_words:\n",
    "        return \"black\"\n",
    "    elif cat == \"politics\":\n",
    "        return \"grey\""
   ]
  },
  {
   "cell_type": "code",
   "execution_count": 32,
   "metadata": {},
   "outputs": [
    {
     "name": "stdout",
     "output_type": "stream",
     "text": [
      "{'sadness': 10237, 'violence': 33816, 'rage': 4827, 'pain': 23356, 'anger': 4725, 'love': 14079, 'politics': 18639}\n"
     ]
    },
    {
     "data": {
      "image/png": "[encoded data removed]",
      "text/plain": [
       "<Figure size 432x288 with 1 Axes>"
      ]
     },
     "metadata": {
      "needs_background": "light"
     },
     "output_type": "display_data"
    }
   ],
   "source": [
    "import matplotlib.pyplot as plt\n",
    "import numpy as np\n",
    "\n",
    "counter = 1\n",
    "corpus_emo_dist_dict = {\"sadness\": 0, \n",
    "                       \"violence\":0,\n",
    "                       \"rage\":0,\n",
    "                       \"pain\":0,\n",
    "                       \"anger\":0,\n",
    "                       \"love\":0,\n",
    "                       \"politics\":0}\n",
    "for conv_id in corpus.conversations:\n",
    "    conv = corpus.get_conversation(conv_id)\n",
    "    for utt in conv.iter_utterances():\n",
    "        if utt.meta[\"analysis\"] != None:\n",
    "            for cat in categories:\n",
    "                if utt.meta[\"analysis\"][cat] != 0.0:\n",
    "                    corpus_emo_dist_dict[cat] = corpus_emo_dist_dict[cat] + 1\n",
    "            counter = counter + 1\n",
    "print(corpus_emo_dist_dict)\n",
    "\n",
    "Y = []\n",
    "for cat in categories:\n",
    "    Y.append(corpus_emo_dist_dict[cat])\n",
    "    \n",
    "X = categories\n",
    "\n",
    "idx   = np.argsort(Y)\n",
    "\n",
    "X = np.array(X)[idx]\n",
    "Y = np.array(Y)[idx]\n",
    "\n",
    "colours = []\n",
    "for cat in X:\n",
    "    colours.append(get_cat_colour(cat))\n",
    "\n",
    "plt.bar(X, Y, align='center', alpha=0.5, color=colours)\n",
    "plt.xticks(X, rotation='vertical')\n",
    "plt.ylabel('# of utts with at least some emotion present')\n",
    "plt.title('Most common relevant sentiments')\n",
    "\n",
    "plt.show()"
   ]
  },
  {
   "cell_type": "code",
   "execution_count": null,
   "metadata": {},
   "outputs": [],
   "source": []
  }
 ],
 "metadata": {
  "kernelspec": {
   "display_name": "Python 3",
   "language": "python",
   "name": "python3"
  },
  "language_info": {
   "codemirror_mode": {
    "name": "ipython",
    "version": 3
   },
   "file_extension": ".py",
   "mimetype": "text/x-python",
   "name": "python",
   "nbconvert_exporter": "python",
   "pygments_lexer": "ipython3",
   "version": "3.7.3"
  }
 },
 "nbformat": 4,
 "nbformat_minor": 2
}
