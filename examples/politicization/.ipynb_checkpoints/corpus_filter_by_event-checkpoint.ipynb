{
 "cells": [
  {
   "cell_type": "markdown",
   "metadata": {},
   "source": [
    "Oct 30, 2019\n",
    "\n",
    "Feasability test for Sandy Hook in /r/politics. "
   ]
  },
  {
   "cell_type": "code",
   "execution_count": 7,
   "metadata": {},
   "outputs": [],
   "source": [
    "from tqdm import tqdm\n",
    "import os\n",
    "os.chdir('../../')\n",
    "from convokit import Corpus, User, Utterance"
   ]
  },
  {
   "cell_type": "code",
   "execution_count": 10,
   "metadata": {},
   "outputs": [],
   "source": [
    "corpus = Corpus(filename='/Users/calebchiam/Documents/politics-filtered-corpus') #1.96 GB, don't duplicate."
   ]
  },
  {
   "cell_type": "code",
   "execution_count": 12,
   "metadata": {},
   "outputs": [
    {
     "name": "stdout",
     "output_type": "stream",
     "text": [
      "Number of Users: 289890\n",
      "Number of Utterances: 3237456\n",
      "Number of Conversations: 94768\n"
     ]
    }
   ],
   "source": [
    "corpus.print_summary_stats()"
   ]
  },
  {
   "cell_type": "code",
   "execution_count": 13,
   "metadata": {},
   "outputs": [],
   "source": [
    "import nltk"
   ]
  },
  {
   "cell_type": "code",
   "execution_count": 29,
   "metadata": {},
   "outputs": [],
   "source": [
    "shooting_timestamps = {\n",
    " 'Fort Hood shooting': (1257397200, 1258088400),\n",
    " 'Binghamton shootings': (1238731200, 1239422400),\n",
    " 'Geneva County massacre': (1236657600, 1237348800),\n",
    " 'Sandy Hook Elementary School shooting': (1355461200, 1356152400),\n",
    " 'Aurora theater shooting': (1342756800, 1343448000),\n",
    " 'Washington Navy Yard shooting': (1379304000, 1379995200),\n",
    " 'San Bernardino attack': (1449032400, 1449723600),\n",
    " 'Orlando nightclub shooting': (1465704000, 1466395200),\n",
    " 'Las Vegas shooting': (1506830400, 1507521600),\n",
    " 'Sutherland Springs church shooting': (1509854400, 1510545600),\n",
    " 'Stoneman Douglas High School shooting': (1518584400, 1519275600),\n",
    " 'Santa Fe High School shooting': (1526616000, 1527307200)}\n",
    "\n",
    "# 'Virginia Tech shooting': (1176696000, 1177387200),\n",
    "#  'Thousand Oaks shooting': (1541566800, 1542258000),\n",
    "# 'Pittsburgh synagogue shooting': (1540612800, 1541304000)"
   ]
  },
  {
   "cell_type": "code",
   "execution_count": 32,
   "metadata": {},
   "outputs": [],
   "source": [
    "def identify_timestamp_category(timestamp):\n",
    "    for k, v in shooting_timestamps.items():\n",
    "        if v[0] <= timestamp <= v[1]:\n",
    "            return k"
   ]
  },
  {
   "cell_type": "markdown",
   "metadata": {},
   "source": [
    "## Label conversations and utterances by event time category"
   ]
  },
  {
   "cell_type": "code",
   "execution_count": 33,
   "metadata": {},
   "outputs": [],
   "source": [
    "for convo in corpus.iter_conversations():\n",
    "    convo.meta['event'] = identify_timestamp_category(convo.meta['timestamp'])\n",
    "    for utt in convo.iter_utterances():\n",
    "        utt.meta['event'] = convo.meta['event']"
   ]
  },
  {
   "cell_type": "markdown",
   "metadata": {},
   "source": [
    "## Tokenize titles with lemmatization"
   ]
  },
  {
   "cell_type": "code",
   "execution_count": 26,
   "metadata": {},
   "outputs": [],
   "source": [
    "from nltk.stem import SnowballStemmer\n",
    "stemmer = SnowballStemmer('english')"
   ]
  },
  {
   "cell_type": "code",
   "execution_count": 21,
   "metadata": {},
   "outputs": [],
   "source": [
    "convo = next(corpus.iter_conversations())"
   ]
  },
  {
   "cell_type": "code",
   "execution_count": 27,
   "metadata": {},
   "outputs": [],
   "source": [
    "def tokenize_and_stem(sentence):\n",
    "    return set(stemmer.stem(word) for word in nltk.word_tokenize(convo.meta['title']))"
   ]
  },
  {
   "cell_type": "code",
   "execution_count": 28,
   "metadata": {},
   "outputs": [],
   "source": [
    "for convo in corpus.iter_conversations():\n",
    "    convo.meta['stem_tokens'] = tokenize_and_stem(convo.meta['title'])"
   ]
  },
  {
   "cell_type": "code",
   "execution_count": null,
   "metadata": {},
   "outputs": [],
   "source": [
    "generic_words = {stemmer.stem(word) for word in ['shooting', 'shot', 'deaths', 'died', 'injured', 'guns', 'killing', 'attack', 'massacre', 'victim']}"
   ]
  },
  {
   "cell_type": "markdown",
   "metadata": {},
   "source": [
    "## Generate specific words dictionaries for each event"
   ]
  },
  {
   "cell_type": "code",
   "execution_count": 27,
   "metadata": {},
   "outputs": [],
   "source": [
    "specific_words = {lemmatizer.lemmatize(word) for word in ['shooting', 'deaths', 'guns', 'killing', 'attack', 'massacre', 'victim']}"
   ]
  },
  {
   "cell_type": "code",
   "execution_count": 35,
   "metadata": {},
   "outputs": [],
   "source": [
    "specific_words_raw = {\n",
    "    'Fort Hood shooting': ['fort hood', \"nidal hasan\"],\n",
    "    'Binghamton shootings': ['binghamton', \"jiverly\", 'antares', 'wong'],\n",
    "    'Geneva County massacre': ['geneva', \"county\", 'mclendon'],\n",
    " 'Sandy Hook Elementary School shooting': ['sandy hook', \"adam lanza\"],\n",
    " 'Aurora theater shooting': ['aurora theater', 'james eagan holmes', 'colorado shooting'],\n",
    " 'Washington Navy Yard shooting': ['washington navy yard', 'aaron alexis', 'navy yard shooting'],\n",
    " 'San Bernardino attack': ['syed rizwan farook', 'tashfeen malik', 'san bernandino attack', 'san bernandino shooting', 'san bernandino'],\n",
    " 'Orlando nightclub shooting': ['omar mateen'],\n",
    " 'Las Vegas shooting': ['las vegas shooting', 'stephen paddock'],\n",
    " 'Sutherland Springs church shooting': ['sutherland springs', 'sutherland church shooting', 'devin patrick kelley', 'sutherland shooting'],\n",
    " 'Stoneman Douglas High School shooting': ['Marjory Stoneman Douglas High School', 'Parkland', 'Florida'],\n",
    " 'Santa Fe High School shooting': ['santa fe high school', 'dimitrios pagourtzis']}\n",
    "\n",
    "# forthood_words = ['fort hood', \"nidal hasan\"] #Fort Hood\n",
    "# binghamton_words = ['binghamton', \"jiverly\", 'antares', 'wong'] #Binghamton\n",
    "# geneva_words = ['geneva', \"county\", 'mclendon'] #Geneva County, not using first names since we get useless ones\n",
    "# aurora_words = ['aurora theater', 'james eagan holmes', 'colorado shooting'] #Aurora Theater\n",
    "# santafe_words = ['santa fe', 'santa fe high', 'dimitrios pagourtzis'] #Santa Fe High\n",
    "# navy_words = ['washington navy yard', 'aaron alexis', 'navy yard shooting'] #Washington Navy Yard\n",
    "# bernandino_words = ['syed rizwan farook', 'tashfeen malik', 'san bernandino attack', 'san bernandino shooting', 'san bernandino'] #San Bernandino\n",
    "# orlando_words = ['orlando nightclub shooting', 'orlando nightclub', 'omar mateen'] #Orlando Nightclub\n",
    "# vegas_words = ['las vegas shooting', 'stephen paddock'] #Las Vegas\n",
    "# sutherland_words = ['sutherland springs', 'sutherland church shooting', 'devin patrick kelley', 'sutherland shooting'] #Sutherland church\n",
    "# parkland_words = ['stoneman douglas high', 'douglas high shooting', 'parkland shooting', 'nikolas cruz'] #parkland shooting\n",
    "# # pittsburgh_words = ['robert gregory bowers', 'pittsburgh synagogue shooting', 'synagogue shooting'] #Pittsburgh synagogue\n",
    "\n",
    "\n",
    "# }"
   ]
  },
  {
   "cell_type": "code",
   "execution_count": 39,
   "metadata": {},
   "outputs": [],
   "source": [
    "specific_words_list = {}\n",
    "for k, v in specific_words_raw.items():\n",
    "    specific_words_list[k] = []\n",
    "    for phrase in v + [k]:\n",
    "        specific_words_list[k].extend(phrase.split())\n",
    "    specific_words_list[k] = [w.lower() for w in specific_words_list[k]]"
   ]
  },
  {
   "cell_type": "code",
   "execution_count": null,
   "metadata": {},
   "outputs": [],
   "source": []
  },
  {
   "cell_type": "code",
   "execution_count": null,
   "metadata": {},
   "outputs": [],
   "source": []
  },
  {
   "cell_type": "code",
   "execution_count": null,
   "metadata": {},
   "outputs": [],
   "source": []
  },
  {
   "cell_type": "code",
   "execution_count": null,
   "metadata": {},
   "outputs": [],
   "source": []
  },
  {
   "cell_type": "code",
   "execution_count": null,
   "metadata": {},
   "outputs": [],
   "source": []
  },
  {
   "cell_type": "code",
   "execution_count": null,
   "metadata": {},
   "outputs": [],
   "source": []
  },
  {
   "cell_type": "code",
   "execution_count": null,
   "metadata": {},
   "outputs": [],
   "source": []
  },
  {
   "cell_type": "code",
   "execution_count": null,
   "metadata": {},
   "outputs": [],
   "source": []
  },
  {
   "cell_type": "code",
   "execution_count": null,
   "metadata": {},
   "outputs": [],
   "source": []
  },
  {
   "cell_type": "code",
   "execution_count": null,
   "metadata": {},
   "outputs": [],
   "source": []
  },
  {
   "cell_type": "code",
   "execution_count": null,
   "metadata": {},
   "outputs": [],
   "source": []
  },
  {
   "cell_type": "code",
   "execution_count": null,
   "metadata": {},
   "outputs": [],
   "source": []
  },
  {
   "cell_type": "markdown",
   "metadata": {},
   "source": [
    "#### Need to filter out conversations with no titles...."
   ]
  },
  {
   "cell_type": "code",
   "execution_count": 28,
   "metadata": {},
   "outputs": [],
   "source": [
    "allconvoids = corpus.get_conversation_ids()\n",
    "sandyhook_title = []\n",
    "sandyhook_nmatch = []\n",
    "sandyhook_timestamp = []\n",
    "sandyhook_convo = []\n",
    "sandyhook_nutter = []\n",
    "sandyhook_utters = []\n",
    "\n",
    "\n",
    "for i in list(range(0, len(allconvoids))):\n",
    "    convo_id = allconvoids[i]\n",
    "    convo_timestamp = corpus.get_conversation(convo_id)._meta[\"timestamp\"]\n",
    "    convo_utter = corpus.get_conversation(convo_id)._utterance_ids\n",
    "    convo_nutter = len(convo_utter)\n",
    "   \n",
    "    convo_title = corpus.get_conversation(convo_id)._meta[\"title\"]\n",
    "    convo_title = convo_title.lower()\n",
    "    textcleaned = \"\".join(c for c in convo_title if c not in ('!','.',':', '?', '\\'', ',', '\\\"', '@', '#', '$', '%', '^', '&', '*', '(', ')', '-', '~', '`', '_', '+', '=', '>', '<', '[', ']', '{', '}'))\n",
    "    textlist = textcleaned.split()\n",
    "    ngeneric = len([i for i in textlist if i in generic_words])\n",
    "    nspecific = len([i for i in textlist if i in specific_words])\n",
    "    if ngeneric > 0 and nspecific > 0:\n",
    "        sandyhook_timestamp.append(convo_timestamp)\n",
    "        sandyhook_nutter.append(convo_nutter)\n",
    "        sandyhook_title.append(textlist)\n",
    "        sandyhook_nmatch.append(nmatch)\n",
    "        sandyhook_convo.append(convo_id) #adds conversation ID to a list of all Sandy Hook conversations\n",
    "        sandyhook_utters.append(convo_utter) #adds utterance ID to a list of all Sandy Hook utterances"
   ]
  },
  {
   "cell_type": "code",
   "execution_count": 29,
   "metadata": {},
   "outputs": [
    {
     "data": {
      "text/plain": [
       "107"
      ]
     },
     "execution_count": 29,
     "metadata": {},
     "output_type": "execute_result"
    }
   ],
   "source": [
    "len(sandyhook_convo)"
   ]
  },
  {
   "cell_type": "code",
   "execution_count": 30,
   "metadata": {},
   "outputs": [
    {
     "data": {
      "text/plain": [
       "107"
      ]
     },
     "execution_count": 30,
     "metadata": {},
     "output_type": "execute_result"
    }
   ],
   "source": [
    "len(sandyhook_utters)"
   ]
  },
  {
   "cell_type": "code",
   "execution_count": 31,
   "metadata": {},
   "outputs": [
    {
     "name": "stdout",
     "output_type": "stream",
     "text": [
      "4278\n"
     ]
    }
   ],
   "source": [
    "len(sandyhook_nutter)\n",
    "print(sum(sandyhook_nutter))"
   ]
  },
  {
   "cell_type": "code",
   "execution_count": null,
   "metadata": {},
   "outputs": [],
   "source": []
  },
  {
   "cell_type": "code",
   "execution_count": 32,
   "metadata": {},
   "outputs": [
    {
     "data": {
      "text/plain": [
       "107"
      ]
     },
     "execution_count": 32,
     "metadata": {},
     "output_type": "execute_result"
    }
   ],
   "source": [
    "len(sandyhook_title)"
   ]
  },
  {
   "cell_type": "code",
   "execution_count": 33,
   "metadata": {},
   "outputs": [
    {
     "data": {
      "text/plain": [
       "107"
      ]
     },
     "execution_count": 33,
     "metadata": {},
     "output_type": "execute_result"
    }
   ],
   "source": [
    "len(sandyhook_timestamp)"
   ]
  },
  {
   "cell_type": "code",
   "execution_count": 76,
   "metadata": {},
   "outputs": [],
   "source": [
    "import itertools\n",
    "all_sandyhook_utters = list(itertools.chain.from_iterable(sandyhook_utters))\n",
    "#len(all_sandyhook_utters) Sanity check to make sure it matches sum of of sandyhook_nutter"
   ]
  },
  {
   "cell_type": "code",
   "execution_count": 77,
   "metadata": {},
   "outputs": [
    {
     "name": "stdout",
     "output_type": "stream",
     "text": [
      "1355500774 1527304491\n"
     ]
    }
   ],
   "source": [
    "all_timestamps = []\n",
    "\n",
    "for i in list(range(0, len(all_sandyhook_utters))):\n",
    "    utter_timestamp = corpus.get_utterance(all_sandyhook_utters[i]).timestamp\n",
    "    all_timestamps.append(utter_timestamp)\n",
    "\n",
    "starting_point = min(all_timestamps)\n",
    "ending_point = max(all_timestamps)\n",
    "print(starting_point, ending_point)"
   ]
  },
  {
   "cell_type": "code",
   "execution_count": 78,
   "metadata": {},
   "outputs": [
    {
     "name": "stdout",
     "output_type": "stream",
     "text": [
      "2012-12-14 15:59:34\n",
      "2018-05-26 03:14:51\n"
     ]
    }
   ],
   "source": [
    "import calendar, datetime\n",
    "\n",
    "# Convert a unix time u to a datetime object d, and vice versa\n",
    "def dt(u): return datetime.datetime.utcfromtimestamp(u)\n",
    "def ut(d): return calendar.timegm(d.timetuple())\n",
    "\n",
    "print(dt(starting_point))\n",
    "print(dt(ending_point))"
   ]
  },
  {
   "cell_type": "markdown",
   "metadata": {},
   "source": [
    "#### Creating intervals based on starting and ending times and counting timestamps for utterances that fall into each interval"
   ]
  },
  {
   "cell_type": "code",
   "execution_count": 79,
   "metadata": {},
   "outputs": [],
   "source": [
    "import math\n",
    "def date_range(start, end, diff): #function to generate time intervals \n",
    "    intervals = (end - start)/diff\n",
    "    intervals = math.ceil(intervals)\n",
    "\n",
    "    for i in range(intervals):\n",
    "        yield (start + diff * i)\n",
    "    #yield end.strftime(\"%Y%m%d\")"
   ]
  },
  {
   "cell_type": "code",
   "execution_count": 80,
   "metadata": {},
   "outputs": [],
   "source": [
    "three_hours = list(date_range(starting_point, ending_point, 3*60*60))\n",
    "six_hours = list(date_range(starting_point, ending_point, 6*60*60))\n",
    "twelve_hours = list(date_range(starting_point, ending_point, 12*60*60))\n",
    "twofour_hours = list(date_range(starting_point, ending_point, 24*60*60))"
   ]
  },
  {
   "cell_type": "code",
   "execution_count": 86,
   "metadata": {},
   "outputs": [
    {
     "name": "stdout",
     "output_type": "stream",
     "text": [
      "[ 1 10  4 ...  0 50 35]\n",
      "[1355500774 1355511574 1355522374 ... 1527274774 1527285574 1527296374]\n"
     ]
    }
   ],
   "source": []
  },
  {
   "cell_type": "code",
   "execution_count": 90,
   "metadata": {},
   "outputs": [
    {
     "name": "stdout",
     "output_type": "stream",
     "text": [
      "{1355500774: 1, 1355511574: 10, 1355522374: 4, 1355543974: 6, 1355554774: 6, 1355565574: 2, 1355576374: 1, 1355587174: 8, 1355597974: 16, 1355608774: 15, 1355619574: 65, 1355630374: 1289, 1355641174: 416, 1355651974: 21, 1355662774: 49, 1355673574: 55, 1355684374: 23, 1355695174: 51, 1355705974: 42, 1355716774: 26, 1355727574: 9, 1355738374: 17, 1355749174: 11, 1355759974: 40, 1355770774: 46, 1355781574: 62, 1355792374: 55, 1355803174: 14, 1355813974: 4, 1355824774: 8, 1355835574: 9, 1355846374: 7, 1355857174: 8, 1355867974: 35, 1355878774: 21, 1355889574: 19, 1355900374: 13, 1355911174: 3, 1355921974: 8, 1355932774: 7, 1355943574: 22, 1355954374: 37, 1355965174: 99, 1355975974: 86, 1355986774: 35, 1355997574: 17, 1356008374: 30, 1356019174: 27, 1356029974: 30, 1356040774: 22, 1356051574: 5, 1356062374: 4, 1356073174: 1, 1356083974: 1, 1356094774: 5, 1356105574: 17, 1356116374: 35, 1356127174: 25, 1356137974: 16, 1356148774: 1, 1449266374: 4, 1466006374: 6, 1466017174: 1, 1466038774: 26, 1466049574: 14, 1466071174: 4, 1466081974: 1, 1466135974: 1, 1466168374: 5, 1506949174: 22, 1506959974: 10, 1506970774: 14, 1506981574: 1, 1507219174: 24, 1507229974: 10, 1507240774: 7, 1507251574: 2, 1507262374: 24, 1507273174: 8, 1507283974: 6, 1507294774: 8, 1507305574: 10, 1507316374: 11, 1507327174: 4, 1507348774: 2, 1507370374: 1, 1507391974: 1, 1507510774: 1, 1518699574: 9, 1518710374: 2, 1518785974: 18, 1518796774: 11, 1518807574: 5, 1518818374: 1, 1518829174: 2, 1518872374: 1, 1518883174: 3, 1518893974: 1, 1519131574: 1, 1519250374: 170, 1519261174: 315, 1519271974: 68, 1526734774: 74, 1526745574: 76, 1526756374: 56, 1526767174: 29, 1526777974: 24, 1526788774: 21, 1526799574: 7, 1526810374: 9, 1526821174: 12, 1526831974: 11, 1526842774: 15, 1526853574: 2, 1526907574: 2, 1527274774: 50, 1527285574: 35}\n"
     ]
    },
    {
     "data": {
      "text/plain": [
       "Text(0.5, 1.0, 'Sandy Hook - 3 Hour Intervals')"
      ]
     },
     "execution_count": 90,
     "metadata": {},
     "output_type": "execute_result"
    },
    {
     "data": {
      "image/png": "[encoded data removed]",
      "text/plain": [
       "<Figure size 432x288 with 1 Axes>"
      ]
     },
     "metadata": {},
     "output_type": "display_data"
    }
   ],
   "source": [
    "import numpy as np\n",
    "import pandas as pd\n",
    "import seaborn as sns\n",
    "import matplotlib.pyplot as plt\n",
    "from scipy import stats\n",
    "\n",
    "#Three Hour Intervals\n",
    "a, bins = np.histogram(all_timestamps, three_hours)\n",
    "bins_dt = [dt(i) for i in bins]\n",
    "print(dict(zip(bins[a.nonzero()].tolist(), a[a.nonzero()])))\n",
    "\n",
    "sns.set(style=\"darkgrid\")\n",
    "sns.lineplot(x=bins_dt[:-1], y=a).set_title('Sandy Hook - 3 Hour Intervals')"
   ]
  },
  {
   "cell_type": "code",
   "execution_count": 91,
   "metadata": {},
   "outputs": [
    {
     "name": "stdout",
     "output_type": "stream",
     "text": [
      "{1355500774: 11, 1355522374: 4, 1355543974: 12, 1355565574: 3, 1355587174: 24, 1355608774: 80, 1355630374: 1705, 1355651974: 70, 1355673574: 78, 1355695174: 93, 1355716774: 35, 1355738374: 28, 1355759974: 86, 1355781574: 117, 1355803174: 18, 1355824774: 17, 1355846374: 15, 1355867974: 56, 1355889574: 32, 1355911174: 11, 1355932774: 29, 1355954374: 136, 1355975974: 121, 1355997574: 47, 1356019174: 57, 1356040774: 27, 1356062374: 5, 1356083974: 6, 1356105574: 52, 1356127174: 41, 1356148774: 1, 1449266374: 4, 1466006374: 7, 1466027974: 26, 1466049574: 14, 1466071174: 5, 1466135974: 1, 1466157574: 5, 1506938374: 22, 1506959974: 24, 1506981574: 1, 1507219174: 34, 1507240774: 9, 1507262374: 32, 1507283974: 14, 1507305574: 21, 1507327174: 4, 1507348774: 2, 1507370374: 1, 1507391974: 1, 1507499974: 1, 1518688774: 9, 1518710374: 2, 1518775174: 18, 1518796774: 16, 1518818374: 3, 1518861574: 1, 1518883174: 4, 1519120774: 1, 1519250374: 485, 1519271974: 68, 1526723974: 74, 1526745574: 132, 1526767174: 53, 1526788774: 28, 1526810374: 21, 1526831974: 26, 1526853574: 2, 1526896774: 2, 1527263974: 50}\n"
     ]
    },
    {
     "data": {
      "text/plain": [
       "Text(0.5, 1.0, 'Sandy Hook - 6 Hour Intervals')"
      ]
     },
     "execution_count": 91,
     "metadata": {},
     "output_type": "execute_result"
    },
    {
     "data": {
      "image/png": "[encoded data removed]",
      "text/plain": [
       "<Figure size 432x288 with 1 Axes>"
      ]
     },
     "metadata": {},
     "output_type": "display_data"
    }
   ],
   "source": [
    "#Six Hour Intervals\n",
    "a, bins = np.histogram(all_timestamps, six_hours)\n",
    "print(dict(zip(bins[a.nonzero()].tolist(), a[a.nonzero()])))\n",
    "bins_dt = [dt(i) for i in bins]\n",
    "sns.set(style=\"darkgrid\")\n",
    "sns.lineplot(x=bins_dt[:-1], y=a).set_title('Sandy Hook - 6 Hour Intervals')"
   ]
  },
  {
   "cell_type": "code",
   "execution_count": 92,
   "metadata": {},
   "outputs": [
    {
     "name": "stdout",
     "output_type": "stream",
     "text": [
      "{1355500774: 15, 1355543974: 15, 1355587174: 104, 1355630374: 1775, 1355673574: 171, 1355716774: 63, 1355759974: 203, 1355803174: 35, 1355846374: 71, 1355889574: 43, 1355932774: 165, 1355975974: 168, 1356019174: 84, 1356062374: 11, 1356105574: 93, 1356148774: 1, 1449244774: 4, 1466006374: 33, 1466049574: 19, 1466135974: 6, 1506916774: 22, 1506959974: 25, 1507219174: 43, 1507262374: 46, 1507305574: 25, 1507348774: 3, 1507391974: 1, 1507478374: 1, 1518667174: 9, 1518710374: 2, 1518753574: 18, 1518796774: 19, 1518839974: 1, 1518883174: 4, 1519099174: 1, 1519228774: 485, 1519271974: 68, 1526702374: 74, 1526745574: 185, 1526788774: 49, 1526831974: 28, 1526875174: 2}\n"
     ]
    },
    {
     "data": {
      "text/plain": [
       "Text(0.5, 1.0, 'Sandy Hook - 12 Hour Intervals')"
      ]
     },
     "execution_count": 92,
     "metadata": {},
     "output_type": "execute_result"
    },
    {
     "data": {
      "image/png": "[encoded data removed]",
      "text/plain": [
       "<Figure size 432x288 with 1 Axes>"
      ]
     },
     "metadata": {},
     "output_type": "display_data"
    }
   ],
   "source": [
    "#Twelve Hour Intervals\n",
    "a, bins = np.histogram(all_timestamps, twelve_hours)\n",
    "print(dict(zip(bins[a.nonzero()].tolist(), a[a.nonzero()])))\n",
    "bins_dt = [dt(i) for i in bins]\n",
    "sns.set(style=\"darkgrid\")\n",
    "sns.lineplot(x=bins_dt[:-1], y=a).set_title('Sandy Hook - 12 Hour Intervals')\n",
    "\n"
   ]
  },
  {
   "cell_type": "code",
   "execution_count": 93,
   "metadata": {},
   "outputs": [
    {
     "name": "stdout",
     "output_type": "stream",
     "text": [
      "{1355500774: 30, 1355587174: 1879, 1355673574: 234, 1355759974: 238, 1355846374: 114, 1355932774: 333, 1356019174: 95, 1356105574: 94, 1449244774: 4, 1466006374: 52, 1466092774: 6, 1506873574: 22, 1506959974: 25, 1507219174: 89, 1507305574: 28, 1507391974: 1, 1507478374: 1, 1518623974: 9, 1518710374: 20, 1518796774: 20, 1518883174: 4, 1519055974: 1, 1519228774: 553, 1526659174: 74, 1526745574: 234, 1526831974: 30}\n"
     ]
    },
    {
     "data": {
      "text/plain": [
       "Text(0.5, 1.0, 'Sandy Hook - 24 Hour Intervals')"
      ]
     },
     "execution_count": 93,
     "metadata": {},
     "output_type": "execute_result"
    },
    {
     "data": {
      "image/png": "[encoded data removed]",
      "text/plain": [
       "<Figure size 432x288 with 1 Axes>"
      ]
     },
     "metadata": {},
     "output_type": "display_data"
    }
   ],
   "source": [
    "#Twenty Four Hour Intervals\n",
    "a, bins = np.histogram(all_timestamps, twofour_hours)\n",
    "print(dict(zip(bins[a.nonzero()].tolist(), a[a.nonzero()])))\n",
    "bins_dt = [dt(i) for i in bins]\n",
    "sns.set(style=\"darkgrid\")\n",
    "sns.lineplot(x=bins_dt[:-1], y=a).set_title('Sandy Hook - 24 Hour Intervals')"
   ]
  },
  {
   "cell_type": "code",
   "execution_count": null,
   "metadata": {},
   "outputs": [],
   "source": []
  },
  {
   "cell_type": "markdown",
   "metadata": {},
   "source": [
    "#### Scratch Work"
   ]
  },
  {
   "cell_type": "code",
   "execution_count": 37,
   "metadata": {},
   "outputs": [
    {
     "data": {
      "text/plain": [
       "Conversation({'_owner': <convokit.model.corpus.Corpus object at 0x1099413c8>, '_id': '3v7h6p', '_utterance_ids': ['3v7h6p', 'cxkz93c', 'cxkzaiy', 'cxkzfl7', 'cxl05pc', 'cxl0coe', 'cxl0fnt', 'cxl19nz', 'cxl2aj4', 'cxl72uy', 'cxl9mw2', 'cxle76j'], '_usernames': None, '_meta': {'subreddit': 'politics', 'url': 'http://thinkprogress.org/justice/2015/12/02/3727575/an-hour-before-the-san-bernardino-shooting-trump-was-with-radio-host-who-says-sandy-hook-was-a-hoax/', 'num_comments': 11, 'gildings': None, 'stickied': False, 'title': 'An Hour Before The San Bernardino Shooting, Trump Was With Radio Host Who Says Sandy Hook Was A Hoax', 'timestamp': 1449097346, 'author_flair_text': '', 'domain': 'thinkprogress.org', 'gilded': 0}})"
      ]
     },
     "execution_count": 37,
     "metadata": {},
     "output_type": "execute_result"
    }
   ],
   "source": [
    "corpus.get_conversation('3v7h6p')"
   ]
  },
  {
   "cell_type": "code",
   "execution_count": 17,
   "metadata": {},
   "outputs": [
    {
     "data": {
      "text/plain": [
       "Utterance({'id': '3v3ohx', 'user': User([('name', 'obamalover20122')]), 'root': '3v3ohx', 'reply_to': None, 'timestamp': 1449032413, 'text': '', 'meta': {'score': 147, 'top_level_comment': None, 'retrieved_on': 1454887887, 'gilded': 0, 'gildings': None, 'subreddit': 'politics', 'stickied': False, 'permalink': '/r/politics/comments/3v3ohx/a_fox_news_host_eric_bolling_made_the_startling/', 'author_flair_text': ''}})"
      ]
     },
     "execution_count": 17,
     "metadata": {},
     "output_type": "execute_result"
    }
   ],
   "source": [
    "corpus.get_utterance('3v3ohx')"
   ]
  },
  {
   "cell_type": "code",
   "execution_count": 20,
   "metadata": {},
   "outputs": [
    {
     "data": {
      "text/plain": [
       "Utterance({'id': 'cxk2ibl', 'user': User([('name', 'MrBims')]), 'root': '3v3ohx', 'reply_to': '3v3ohx', 'timestamp': 1449032552, 'text': \"This isn't funny any more.\", 'meta': {'score': 56, 'top_level_comment': 'cxk2ibl', 'retrieved_on': 1451384920, 'gilded': 0, 'gildings': None, 'subreddit': 'politics', 'stickied': False, 'permalink': '', 'author_flair_text': ''}})"
      ]
     },
     "execution_count": 20,
     "metadata": {},
     "output_type": "execute_result"
    }
   ],
   "source": [
    "corpus.get_utterance('cxk2ibl')"
   ]
  },
  {
   "cell_type": "code",
   "execution_count": null,
   "metadata": {},
   "outputs": [],
   "source": []
  }
 ],
 "metadata": {
  "kernelspec": {
   "display_name": "Python 3",
   "language": "python",
   "name": "python3"
  },
  "language_info": {
   "codemirror_mode": {
    "name": "ipython",
    "version": 3
   },
   "file_extension": ".py",
   "mimetype": "text/x-python",
   "name": "python",
   "nbconvert_exporter": "python",
   "pygments_lexer": "ipython3",
   "version": "3.7.3"
  }
 },
 "nbformat": 4,
 "nbformat_minor": 2
}
