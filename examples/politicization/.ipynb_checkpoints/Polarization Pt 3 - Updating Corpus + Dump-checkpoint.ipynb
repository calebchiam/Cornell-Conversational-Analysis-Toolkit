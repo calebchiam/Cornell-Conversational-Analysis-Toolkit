{
 "cells": [
  {
   "cell_type": "markdown",
   "metadata": {},
   "source": [
    "October 31, 2019\n",
    "\n",
    "Adding labels to corpus so others can use it."
   ]
  },
  {
   "cell_type": "code",
   "execution_count": 1,
   "metadata": {},
   "outputs": [],
   "source": [
    "from tqdm import tqdm\n",
    "import os\n",
    "os.chdir('/Users/grace/Cornell-Conversational-Analysis-Toolkit/')\n",
    "from convokit import Corpus, User, Utterance"
   ]
  },
  {
   "cell_type": "code",
   "execution_count": 2,
   "metadata": {},
   "outputs": [],
   "source": [
    "os.chdir('/Users/grace/Desktop/CS6742/')\n",
    "corpus = Corpus(filename='politics-filtered-corpus') #1.96 GB, don't duplicate."
   ]
  },
  {
   "cell_type": "code",
   "execution_count": 3,
   "metadata": {},
   "outputs": [],
   "source": [
    "#Need to add all Event to meta for both conversation and utterance level\n",
    "import re\n",
    "allconvoids = corpus.get_conversation_ids()\n",
    "allutterids = corpus.get_utterance_ids()\n",
    "\n",
    "for i in list(range(0, len(allconvoids))):\n",
    "    convo_id = allconvoids[i]\n",
    "    corpus.get_conversation(convo_id)._meta['Event'] = []\n",
    "\n",
    "for i in list(range(0, len(allutterids))):\n",
    "    utter_id = allutterids[i]\n",
    "    corpus.get_utterance(utter_id).meta['Event'] = []"
   ]
  },
  {
   "cell_type": "code",
   "execution_count": 4,
   "metadata": {},
   "outputs": [],
   "source": [
    "#generic_words = ['shoot', 'gun', 'kill', 'attack', 'massacre', 'victim']\n",
    "event_name = ['Virginia Tech', 'Fort Hood', 'Binghamton', 'Geneva County', 'Sandy Hook', \n",
    "              'Aurora Theater', 'Washington Navy Yard', 'San Bernardino', 'Orlando Nightclub', \n",
    "             'Las Vegas', 'Sutherland Springs Church', 'Stoneman Douglas High', 'Thousand Oaks', \n",
    "             'Pittsburgh Synagogue', 'Santa Fe High']\n",
    "sandyhook_words = ['sandy hook', \"adam lanza\"]\n",
    "forthood_words = ['fort hood', \"nidal hasan\"] #Fort Hood\n",
    "binghamton_words = ['binghamton', \"jiverly\", 'antares', 'wong'] #Binghamton\n",
    "geneva_words = ['geneva', \"county\", 'mclendon'] #Geneva County, not using first names since we get useless ones\n",
    "aurora_words = ['aurora theater', 'james eagan holmes', 'colorado shooting'] #Aurora Theater\n",
    "santafe_words = ['santa fe', 'santa fe high', 'dimitrios pagourtzis'] #Santa Fe High\n",
    "navy_words = ['washington navy yard', 'aaron alexis', 'navy yard shooting'] #Washington Navy Yard\n",
    "bernandino_words = ['syed rizwan farook', 'tashfeen malik', 'san bernandino attack', 'san bernandino shooting', 'san bernandino'] #San Bernandino\n",
    "orlando_words = ['orlando nightclub shooting', 'orlando nightclub', 'omar mateen'] #Orlando Nightclub\n",
    "vegas_words = ['las vegas shooting', 'stephen paddock'] #Las Vegas\n",
    "sutherland_words = ['sutherland springs', 'sutherland church shooting', 'devin patrick kelley', 'sutherland shooting'] #Sutherland church\n",
    "parkland_words = ['stoneman douglas high', 'douglas high shooting', 'parkland shooting', 'nikolas cruz'] #parkland shooting\n",
    "pittsburgh_words = ['robert gregory bowers', 'pittsburgh synagogue shooting', 'synagogue shooting'] #Pittsburgh synagogue\n"
   ]
  },
  {
   "cell_type": "code",
   "execution_count": 5,
   "metadata": {},
   "outputs": [],
   "source": [
    "#1. Sandy Hook\n",
    "for i in list(range(0, len(allconvoids))):\n",
    "    convo_id = allconvoids[i]\n",
    "    convo_utter = corpus.get_conversation(convo_id)._utterance_ids\n",
    "    \n",
    "    convo_title = corpus.get_conversation(convo_id)._meta[\"title\"]\n",
    "    convo_title = convo_title.lower()\n",
    "    textcleaned = \"\".join(c for c in convo_title if c not in ('!','.',':', '?', '\\'', ',', '\\\"', '@', '#', '$', '%', '^', '&', '*', '(', ')', '-', '~', '`', '_', '+', '=', '>', '<', '[', ']', '{', '}'))\n",
    "    \n",
    "    nspecific = 0\n",
    "    for pattern in sandyhook_words:\n",
    "        if re.search(pattern, convo_title):\n",
    "            nspecific += 1\n",
    "            \n",
    "    if nspecific > 0:\n",
    "        corpus.get_conversation(convo_id)._meta['Event'].append('Sandy Hook')\n",
    "        for j in list(range(0, len(convo_utter))):\n",
    "            corpus.get_utterance(convo_utter[j]).meta['Event'].append('Sandy Hook')"
   ]
  },
  {
   "cell_type": "code",
   "execution_count": 6,
   "metadata": {},
   "outputs": [],
   "source": [
    "#2. Fort Hood\n",
    "for i in list(range(0, len(allconvoids))):\n",
    "    convo_id = allconvoids[i]\n",
    "    convo_utter = corpus.get_conversation(convo_id)._utterance_ids\n",
    "    \n",
    "    convo_title = corpus.get_conversation(convo_id)._meta[\"title\"]\n",
    "    convo_title = convo_title.lower()\n",
    "    textcleaned = \"\".join(c for c in convo_title if c not in ('!','.',':', '?', '\\'', ',', '\\\"', '@', '#', '$', '%', '^', '&', '*', '(', ')', '-', '~', '`', '_', '+', '=', '>', '<', '[', ']', '{', '}'))\n",
    "    \n",
    "    nspecific = 0\n",
    "    for pattern in forthood_words:\n",
    "        if re.search(pattern, convo_title):\n",
    "            nspecific += 1\n",
    "            \n",
    "    if nspecific > 0:\n",
    "        corpus.get_conversation(convo_id)._meta['Event'].append('Fort Hood')\n",
    "        for j in list(range(0, len(convo_utter))):\n",
    "            corpus.get_utterance(convo_utter[j]).meta['Event'].append('Fort Hood')"
   ]
  },
  {
   "cell_type": "code",
   "execution_count": 7,
   "metadata": {},
   "outputs": [],
   "source": [
    "#3. Binghamton\n",
    "for i in list(range(0, len(allconvoids))):\n",
    "    convo_id = allconvoids[i]\n",
    "    convo_utter = corpus.get_conversation(convo_id)._utterance_ids\n",
    "    \n",
    "    convo_title = corpus.get_conversation(convo_id)._meta[\"title\"]\n",
    "    convo_title = convo_title.lower()\n",
    "    textcleaned = \"\".join(c for c in convo_title if c not in ('!','.',':', '?', '\\'', ',', '\\\"', '@', '#', '$', '%', '^', '&', '*', '(', ')', '-', '~', '`', '_', '+', '=', '>', '<', '[', ']', '{', '}'))\n",
    "    \n",
    "    nspecific = 0\n",
    "    for pattern in binghamton_words:\n",
    "        if re.search(pattern, convo_title):\n",
    "            nspecific += 1\n",
    "            \n",
    "    if nspecific > 0:\n",
    "        corpus.get_conversation(convo_id)._meta['Event'].append('Binghamton')\n",
    "        for j in list(range(0, len(convo_utter))):\n",
    "            corpus.get_utterance(convo_utter[j]).meta['Event'].append('Binghamton')"
   ]
  },
  {
   "cell_type": "code",
   "execution_count": 8,
   "metadata": {},
   "outputs": [],
   "source": [
    "#4. Geneva County\n",
    "for i in list(range(0, len(allconvoids))):\n",
    "    convo_id = allconvoids[i]\n",
    "    convo_utter = corpus.get_conversation(convo_id)._utterance_ids\n",
    "    \n",
    "    convo_title = corpus.get_conversation(convo_id)._meta[\"title\"]\n",
    "    convo_title = convo_title.lower()\n",
    "    textcleaned = \"\".join(c for c in convo_title if c not in ('!','.',':', '?', '\\'', ',', '\\\"', '@', '#', '$', '%', '^', '&', '*', '(', ')', '-', '~', '`', '_', '+', '=', '>', '<', '[', ']', '{', '}'))\n",
    "    \n",
    "    nspecific = 0\n",
    "    for pattern in geneva_words:\n",
    "        if re.search(pattern, convo_title):\n",
    "            nspecific += 1\n",
    "            \n",
    "    if nspecific > 0:\n",
    "        corpus.get_conversation(convo_id)._meta['Event'].append('Geneva County')\n",
    "        for j in list(range(0, len(convo_utter))):\n",
    "            corpus.get_utterance(convo_utter[j]).meta['Event'].append('Geneva County')"
   ]
  },
  {
   "cell_type": "code",
   "execution_count": 9,
   "metadata": {},
   "outputs": [],
   "source": [
    "#5. Aurora Theater\n",
    "for i in list(range(0, len(allconvoids))):\n",
    "    convo_id = allconvoids[i]\n",
    "    convo_utter = corpus.get_conversation(convo_id)._utterance_ids\n",
    "    \n",
    "    convo_title = corpus.get_conversation(convo_id)._meta[\"title\"]\n",
    "    convo_title = convo_title.lower()\n",
    "    textcleaned = \"\".join(c for c in convo_title if c not in ('!','.',':', '?', '\\'', ',', '\\\"', '@', '#', '$', '%', '^', '&', '*', '(', ')', '-', '~', '`', '_', '+', '=', '>', '<', '[', ']', '{', '}'))\n",
    "    \n",
    "    nspecific = 0\n",
    "    for pattern in aurora_words:\n",
    "        if re.search(pattern, convo_title):\n",
    "            nspecific += 1\n",
    "            \n",
    "    if nspecific > 0:\n",
    "        corpus.get_conversation(convo_id)._meta['Event'].append('Aurora Theater')\n",
    "        for j in list(range(0, len(convo_utter))):\n",
    "            corpus.get_utterance(convo_utter[j]).meta['Event'].append('Aurora Theater')"
   ]
  },
  {
   "cell_type": "code",
   "execution_count": 10,
   "metadata": {},
   "outputs": [],
   "source": [
    "#6. Santa Fe High School\n",
    "for i in list(range(0, len(allconvoids))):\n",
    "    convo_id = allconvoids[i]\n",
    "    convo_utter = corpus.get_conversation(convo_id)._utterance_ids\n",
    "    \n",
    "    convo_title = corpus.get_conversation(convo_id)._meta[\"title\"]\n",
    "    convo_title = convo_title.lower()\n",
    "    textcleaned = \"\".join(c for c in convo_title if c not in ('!','.',':', '?', '\\'', ',', '\\\"', '@', '#', '$', '%', '^', '&', '*', '(', ')', '-', '~', '`', '_', '+', '=', '>', '<', '[', ']', '{', '}'))\n",
    "    \n",
    "    nspecific = 0\n",
    "    for pattern in santafe_words:\n",
    "        if re.search(pattern, convo_title):\n",
    "            nspecific += 1\n",
    "            \n",
    "    if nspecific > 0:\n",
    "        corpus.get_conversation(convo_id)._meta['Event'].append('Santa Fe')\n",
    "        for j in list(range(0, len(convo_utter))):\n",
    "            corpus.get_utterance(convo_utter[j]).meta['Event'].append('Santa Fe')"
   ]
  },
  {
   "cell_type": "code",
   "execution_count": 11,
   "metadata": {},
   "outputs": [],
   "source": [
    "#7. Washington Navy Yards\n",
    "for i in list(range(0, len(allconvoids))):\n",
    "    convo_id = allconvoids[i]\n",
    "    convo_utter = corpus.get_conversation(convo_id)._utterance_ids\n",
    "    \n",
    "    convo_title = corpus.get_conversation(convo_id)._meta[\"title\"]\n",
    "    convo_title = convo_title.lower()\n",
    "    textcleaned = \"\".join(c for c in convo_title if c not in ('!','.',':', '?', '\\'', ',', '\\\"', '@', '#', '$', '%', '^', '&', '*', '(', ')', '-', '~', '`', '_', '+', '=', '>', '<', '[', ']', '{', '}'))\n",
    "    \n",
    "    nspecific = 0\n",
    "    for pattern in navy_words:\n",
    "        if re.search(pattern, convo_title):\n",
    "            nspecific += 1\n",
    "            \n",
    "    if nspecific > 0:\n",
    "        corpus.get_conversation(convo_id)._meta['Event'].append('Navy Yard')\n",
    "        for j in list(range(0, len(convo_utter))):\n",
    "            corpus.get_utterance(convo_utter[j]).meta['Event'].append('Navy Yard')"
   ]
  },
  {
   "cell_type": "code",
   "execution_count": 12,
   "metadata": {},
   "outputs": [],
   "source": [
    "#8. San Bernandino\n",
    "for i in list(range(0, len(allconvoids))):\n",
    "    convo_id = allconvoids[i]\n",
    "    convo_utter = corpus.get_conversation(convo_id)._utterance_ids\n",
    "    \n",
    "    convo_title = corpus.get_conversation(convo_id)._meta[\"title\"]\n",
    "    convo_title = convo_title.lower()\n",
    "    textcleaned = \"\".join(c for c in convo_title if c not in ('!','.',':', '?', '\\'', ',', '\\\"', '@', '#', '$', '%', '^', '&', '*', '(', ')', '-', '~', '`', '_', '+', '=', '>', '<', '[', ']', '{', '}'))\n",
    "    \n",
    "    nspecific = 0\n",
    "    for pattern in bernandino_words:\n",
    "        if re.search(pattern, convo_title):\n",
    "            nspecific += 1\n",
    "            \n",
    "    if nspecific > 0:\n",
    "        corpus.get_conversation(convo_id)._meta['Event'].append('San Bernandino')\n",
    "        for j in list(range(0, len(convo_utter))):\n",
    "            corpus.get_utterance(convo_utter[j]).meta['Event'].append('San Bernandino')"
   ]
  },
  {
   "cell_type": "code",
   "execution_count": 13,
   "metadata": {},
   "outputs": [],
   "source": [
    "#9. Orlando Nightclub\n",
    "for i in list(range(0, len(allconvoids))):\n",
    "    convo_id = allconvoids[i]\n",
    "    convo_utter = corpus.get_conversation(convo_id)._utterance_ids\n",
    "    \n",
    "    convo_title = corpus.get_conversation(convo_id)._meta[\"title\"]\n",
    "    convo_title = convo_title.lower()\n",
    "    textcleaned = \"\".join(c for c in convo_title if c not in ('!','.',':', '?', '\\'', ',', '\\\"', '@', '#', '$', '%', '^', '&', '*', '(', ')', '-', '~', '`', '_', '+', '=', '>', '<', '[', ']', '{', '}'))\n",
    "    \n",
    "    nspecific = 0\n",
    "    for pattern in orlando_words:\n",
    "        if re.search(pattern, convo_title):\n",
    "            nspecific += 1\n",
    "            \n",
    "    if nspecific > 0:\n",
    "        corpus.get_conversation(convo_id)._meta['Event'].append('Orlando Nightclub')\n",
    "        for j in list(range(0, len(convo_utter))):\n",
    "            corpus.get_utterance(convo_utter[j]).meta['Event'].append('Orlando Nightclub')"
   ]
  },
  {
   "cell_type": "code",
   "execution_count": 14,
   "metadata": {},
   "outputs": [],
   "source": [
    "#10. Las Vegas\n",
    "for i in list(range(0, len(allconvoids))):\n",
    "    convo_id = allconvoids[i]\n",
    "    convo_utter = corpus.get_conversation(convo_id)._utterance_ids\n",
    "    \n",
    "    convo_title = corpus.get_conversation(convo_id)._meta[\"title\"]\n",
    "    convo_title = convo_title.lower()\n",
    "    textcleaned = \"\".join(c for c in convo_title if c not in ('!','.',':', '?', '\\'', ',', '\\\"', '@', '#', '$', '%', '^', '&', '*', '(', ')', '-', '~', '`', '_', '+', '=', '>', '<', '[', ']', '{', '}'))\n",
    "    \n",
    "    nspecific = 0\n",
    "    for pattern in vegas_words:\n",
    "        if re.search(pattern, convo_title):\n",
    "            nspecific += 1\n",
    "            \n",
    "    if nspecific > 0:\n",
    "        corpus.get_conversation(convo_id)._meta['Event'].append('Las Vegas')\n",
    "        for j in list(range(0, len(convo_utter))):\n",
    "            corpus.get_utterance(convo_utter[j]).meta['Event'].append('Las Vegas')"
   ]
  },
  {
   "cell_type": "code",
   "execution_count": 15,
   "metadata": {},
   "outputs": [],
   "source": [
    "#10. Sutherland Springs\n",
    "for i in list(range(0, len(allconvoids))):\n",
    "    convo_id = allconvoids[i]\n",
    "    convo_utter = corpus.get_conversation(convo_id)._utterance_ids\n",
    "    \n",
    "    convo_title = corpus.get_conversation(convo_id)._meta[\"title\"]\n",
    "    convo_title = convo_title.lower()\n",
    "    textcleaned = \"\".join(c for c in convo_title if c not in ('!','.',':', '?', '\\'', ',', '\\\"', '@', '#', '$', '%', '^', '&', '*', '(', ')', '-', '~', '`', '_', '+', '=', '>', '<', '[', ']', '{', '}'))\n",
    "    \n",
    "    nspecific = 0\n",
    "    for pattern in sutherland_words:\n",
    "        if re.search(pattern, convo_title):\n",
    "            nspecific += 1\n",
    "            \n",
    "    if nspecific > 0:\n",
    "        corpus.get_conversation(convo_id)._meta['Event'].append('Sutherland Springs')\n",
    "        for j in list(range(0, len(convo_utter))):\n",
    "            corpus.get_utterance(convo_utter[j]).meta['Event'].append('Sutherland Springs')"
   ]
  },
  {
   "cell_type": "code",
   "execution_count": 16,
   "metadata": {},
   "outputs": [],
   "source": [
    "#11. Stoneman Douglas High - Parkland\n",
    "for i in list(range(0, len(allconvoids))):\n",
    "    convo_id = allconvoids[i]\n",
    "    convo_utter = corpus.get_conversation(convo_id)._utterance_ids\n",
    "    \n",
    "    convo_title = corpus.get_conversation(convo_id)._meta[\"title\"]\n",
    "    convo_title = convo_title.lower()\n",
    "    textcleaned = \"\".join(c for c in convo_title if c not in ('!','.',':', '?', '\\'', ',', '\\\"', '@', '#', '$', '%', '^', '&', '*', '(', ')', '-', '~', '`', '_', '+', '=', '>', '<', '[', ']', '{', '}'))\n",
    "    \n",
    "    nspecific = 0\n",
    "    for pattern in parkland_words:\n",
    "        if re.search(pattern, convo_title):\n",
    "            nspecific += 1\n",
    "            \n",
    "    if nspecific > 0:\n",
    "        corpus.get_conversation(convo_id)._meta['Event'].append('Stoneman Douglas - Parkland')\n",
    "        for j in list(range(0, len(convo_utter))):\n",
    "            corpus.get_utterance(convo_utter[j]).meta['Event'].append('Stoneman Douglas - Parkland')"
   ]
  },
  {
   "cell_type": "code",
   "execution_count": 17,
   "metadata": {},
   "outputs": [],
   "source": [
    "#12. Pittsburgh Synagogue\n",
    "for i in list(range(0, len(allconvoids))):\n",
    "    convo_id = allconvoids[i]\n",
    "    convo_utter = corpus.get_conversation(convo_id)._utterance_ids\n",
    "    \n",
    "    convo_title = corpus.get_conversation(convo_id)._meta[\"title\"]\n",
    "    convo_title = convo_title.lower()\n",
    "    textcleaned = \"\".join(c for c in convo_title if c not in ('!','.',':', '?', '\\'', ',', '\\\"', '@', '#', '$', '%', '^', '&', '*', '(', ')', '-', '~', '`', '_', '+', '=', '>', '<', '[', ']', '{', '}'))\n",
    "    \n",
    "    nspecific = 0\n",
    "    for pattern in pittsburgh_words:\n",
    "        if re.search(pattern, convo_title):\n",
    "            nspecific += 1\n",
    "            \n",
    "    if nspecific > 0:\n",
    "        corpus.get_conversation(convo_id)._meta['Event'].append('Pittsburgh Synagogue')\n",
    "        for j in list(range(0, len(convo_utter))):\n",
    "            corpus.get_utterance(convo_utter[j]).meta['Event'].append('Pittsburgh Synagogue')"
   ]
  },
  {
   "cell_type": "code",
   "execution_count": null,
   "metadata": {},
   "outputs": [],
   "source": []
  },
  {
   "cell_type": "code",
   "execution_count": 25,
   "metadata": {},
   "outputs": [],
   "source": [
    "corpus.dump(\"labelled-politics-corpus\", \"/Users/grace/Desktop/CS6742/\")"
   ]
  },
  {
   "cell_type": "code",
   "execution_count": null,
   "metadata": {},
   "outputs": [],
   "source": []
  },
  {
   "cell_type": "code",
   "execution_count": 23,
   "metadata": {},
   "outputs": [
    {
     "data": {
      "text/plain": [
       "{'score': 200,\n",
       " 'top_level_comment': None,\n",
       " 'retrieved_on': 1454888620,\n",
       " 'gilded': 0,\n",
       " 'gildings': None,\n",
       " 'subreddit': 'politics',\n",
       " 'stickied': False,\n",
       " 'permalink': '/r/politics/comments/3v594t/chuck_hagel_climate_change_is_a_national_security/',\n",
       " 'author_flair_text': '',\n",
       " 'Event': []}"
      ]
     },
     "execution_count": 23,
     "metadata": {},
     "output_type": "execute_result"
    }
   ],
   "source": [
    "corpus.get_utterance('3v594t').meta"
   ]
  },
  {
   "cell_type": "code",
   "execution_count": 24,
   "metadata": {},
   "outputs": [
    {
     "data": {
      "text/plain": [
       "['Fort Hood']"
      ]
     },
     "execution_count": 24,
     "metadata": {},
     "output_type": "execute_result"
    }
   ],
   "source": [
    "corpus.get_conversation('a1ne7')._meta['Event'] "
   ]
  },
  {
   "cell_type": "code",
   "execution_count": null,
   "metadata": {},
   "outputs": [],
   "source": []
  },
  {
   "cell_type": "code",
   "execution_count": 16,
   "metadata": {},
   "outputs": [
    {
     "data": {
      "text/plain": [
       "['Example', 'stuff']"
      ]
     },
     "execution_count": 16,
     "metadata": {},
     "output_type": "execute_result"
    }
   ],
   "source": [
    "corpus.get_conversation('3v3ohx')._meta['Event']"
   ]
  },
  {
   "cell_type": "code",
   "execution_count": null,
   "metadata": {},
   "outputs": [],
   "source": []
  }
 ],
 "metadata": {
  "kernelspec": {
   "display_name": "Python 3",
   "language": "python",
   "name": "python3"
  },
  "language_info": {
   "codemirror_mode": {
    "name": "ipython",
    "version": 3
   },
   "file_extension": ".py",
   "mimetype": "text/x-python",
   "name": "python",
   "nbconvert_exporter": "python",
   "pygments_lexer": "ipython3",
   "version": "3.7.3"
  }
 },
 "nbformat": 4,
 "nbformat_minor": 2
}
