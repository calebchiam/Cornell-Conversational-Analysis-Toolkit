{
 "cells": [
  {
   "cell_type": "markdown",
   "metadata": {},
   "source": [
    "Oct 30, 2019\n",
    "\n",
    "Feasability test for Sandy Hook in /r/politics. "
   ]
  },
  {
   "cell_type": "code",
   "execution_count": 7,
   "metadata": {},
   "outputs": [],
   "source": [
    "from tqdm import tqdm\n",
    "import os\n",
    "os.chdir('../../')\n",
    "from convokit import Corpus, User, Utterance"
   ]
  },
  {
   "cell_type": "code",
   "execution_count": 10,
   "metadata": {},
   "outputs": [],
   "source": [
    "corpus = Corpus(filename='/Users/calebchiam/Documents/politics-filtered-corpus') #1.96 GB, don't duplicate."
   ]
  },
  {
   "cell_type": "code",
   "execution_count": 12,
   "metadata": {},
   "outputs": [
    {
     "name": "stdout",
     "output_type": "stream",
     "text": [
      "Number of Users: 289890\n",
      "Number of Utterances: 3237456\n",
      "Number of Conversations: 94768\n"
     ]
    }
   ],
   "source": [
    "corpus.print_summary_stats()"
   ]
  },
  {
   "cell_type": "code",
   "execution_count": 13,
   "metadata": {},
   "outputs": [],
   "source": [
    "import nltk"
   ]
  },
  {
   "cell_type": "code",
   "execution_count": 29,
   "metadata": {},
   "outputs": [],
   "source": [
    "shooting_timestamps = {\n",
    " 'Fort Hood shooting': (1257397200, 1258088400),\n",
    " 'Binghamton shootings': (1238731200, 1239422400),\n",
    " 'Geneva County massacre': (1236657600, 1237348800),\n",
    " 'Sandy Hook Elementary School shooting': (1355461200, 1356152400),\n",
    " 'Aurora theater shooting': (1342756800, 1343448000),\n",
    " 'Washington Navy Yard shooting': (1379304000, 1379995200),\n",
    " 'San Bernardino attack': (1449032400, 1449723600),\n",
    " 'Orlando nightclub shooting': (1465704000, 1466395200),\n",
    " 'Las Vegas shooting': (1506830400, 1507521600),\n",
    " 'Sutherland Springs church shooting': (1509854400, 1510545600),\n",
    " 'Stoneman Douglas High School shooting': (1518584400, 1519275600),\n",
    " 'Santa Fe High School shooting': (1526616000, 1527307200)}\n",
    "\n",
    "# 'Virginia Tech shooting': (1176696000, 1177387200),\n",
    "#  'Thousand Oaks shooting': (1541566800, 1542258000),\n",
    "# 'Pittsburgh synagogue shooting': (1540612800, 1541304000)"
   ]
  },
  {
   "cell_type": "code",
   "execution_count": 32,
   "metadata": {},
   "outputs": [],
   "source": [
    "def identify_timestamp_category(timestamp):\n",
    "    for k, v in shooting_timestamps.items():\n",
    "        if v[0] <= timestamp <= v[1]:\n",
    "            return k"
   ]
  },
  {
   "cell_type": "markdown",
   "metadata": {},
   "source": [
    "## Label conversations and utterances by event time category"
   ]
  },
  {
   "cell_type": "code",
   "execution_count": 33,
   "metadata": {},
   "outputs": [],
   "source": [
    "for convo in corpus.iter_conversations():\n",
    "    convo.meta['event'] = identify_timestamp_category(convo.meta['timestamp'])\n",
    "    for utt in convo.iter_utterances():\n",
    "        utt.meta['event'] = convo.meta['event']"
   ]
  },
  {
   "cell_type": "markdown",
   "metadata": {},
   "source": [
    "## Tokenize titles with lemmatization"
   ]
  },
  {
   "cell_type": "code",
   "execution_count": 26,
   "metadata": {},
   "outputs": [],
   "source": [
    "from nltk.stem import SnowballStemmer\n",
    "stemmer = SnowballStemmer('english')"
   ]
  },
  {
   "cell_type": "code",
   "execution_count": 21,
   "metadata": {},
   "outputs": [],
   "source": [
    "convo = next(corpus.iter_conversations())"
   ]
  },
  {
   "cell_type": "code",
   "execution_count": 27,
   "metadata": {},
   "outputs": [],
   "source": [
    "def tokenize_and_stem(sentence):\n",
    "    return set(stemmer.stem(word) for word in nltk.word_tokenize(convo.meta['title']))"
   ]
  },
  {
   "cell_type": "code",
   "execution_count": 28,
   "metadata": {},
   "outputs": [],
   "source": [
    "for convo in corpus.iter_conversations():\n",
    "    convo.meta['stem_tokens'] = tokenize_and_stem(convo.meta['title'])"
   ]
  },
  {
   "cell_type": "code",
   "execution_count": 58,
   "metadata": {},
   "outputs": [],
   "source": [
    "generic_words = {stemmer.stem(word) for word in ['shooting', 'shot', 'deaths', 'died', 'injured', 'guns', 'killing', 'attack', 'massacre', 'victim']}"
   ]
  },
  {
   "cell_type": "markdown",
   "metadata": {},
   "source": [
    "## Generate specific words dictionaries for each event"
   ]
  },
  {
   "cell_type": "code",
   "execution_count": 74,
   "metadata": {},
   "outputs": [],
   "source": [
    "specific_words_raw = {\n",
    "    'Fort Hood shooting': ['fort hood', \"nidal hasan\"],\n",
    "    'Binghamton shootings': ['binghamton', \"jiverly\", 'antares', 'wong'],\n",
    "    'Geneva County massacre': ['geneva', \"county\", 'mclendon'],\n",
    " 'Sandy Hook Elementary School shooting': ['sandy hook', \"adam lanza\"],\n",
    " 'Aurora theater shooting': ['aurora theater', 'james eagan holmes', 'colorado'],\n",
    " 'Washington Navy Yard shooting': ['washington navy yard', 'aaron alexis', 'navy yard'],\n",
    " 'San Bernardino attack': ['syed rizwan farook', 'tashfeen malik', 'san bernandino', 'san bernandino'],\n",
    " 'Orlando nightclub shooting': ['omar mateen'],\n",
    " 'Las Vegas shooting': ['las vegas shooting', 'stephen paddock'],\n",
    " 'Sutherland Springs church shooting': ['sutherland springs', 'sutherland church', 'devin patrick kelley'],\n",
    " 'Stoneman Douglas High School shooting': ['Marjory Stoneman Douglas High School', 'Parkland', 'Florida'],\n",
    " 'Santa Fe High School shooting': ['santa fe high school', 'dimitrios pagourtzis']}\n"
   ]
  },
  {
   "cell_type": "code",
   "execution_count": 60,
   "metadata": {},
   "outputs": [],
   "source": [
    "specific_words_list = {}\n",
    "for k, v in specific_words_raw.items():\n",
    "    specific_words_list[k] = []\n",
    "    for phrase in v + [k]:\n",
    "        specific_words_list[k].extend(phrase.split())\n",
    "    specific_words_list[k] = set([stemmer.stem(w) for w in set(specific_words_list[k])])\n",
    "    specific_words_list[k] -= generic_words"
   ]
  },
  {
   "cell_type": "markdown",
   "metadata": {},
   "source": [
    "## Label conversations and utterances with whether they are *actually* associated with the event"
   ]
  },
  {
   "cell_type": "code",
   "execution_count": 76,
   "metadata": {},
   "outputs": [],
   "source": [
    "for convo in corpus.iter_conversations():\n",
    "    event = convo.meta['event']\n",
    "    tokens = convo.meta['stem_tokens']\n",
    "    \n",
    "    if len(tokens.intersection(generic_words)) > 0 or len(tokens.intersection(specific_words_list.get(event, {}))) > 0:\n",
    "        convo.meta['valid'] = True\n",
    "    else:\n",
    "        convo.meta['valid'] = False\n",
    "        \n",
    "    for utt in convo.iter_utterances():\n",
    "        utt.meta['valid'] = convo.meta['valid']"
   ]
  },
  {
   "cell_type": "code",
   "execution_count": null,
   "metadata": {},
   "outputs": [],
   "source": []
  },
  {
   "cell_type": "markdown",
   "metadata": {},
   "source": [
    "## Let's see a distribution of the counts"
   ]
  },
  {
   "cell_type": "code",
   "execution_count": 80,
   "metadata": {},
   "outputs": [],
   "source": [
    "from collections import defaultdict\n",
    "convo_counts = defaultdict(int)\n",
    "utt_counts = defaultdict(int)\n",
    "for convo in corpus.iter_conversations():\n",
    "    if convo.meta['valid']: convo_counts[convo.meta['event']] += 1\n",
    "\n",
    "for utt in corpus.iter_utterances():\n",
    "    if utt.meta['valid']: utt_counts[utt.meta['event']] += 1\n",
    "    "
   ]
  },
  {
   "cell_type": "code",
   "execution_count": 81,
   "metadata": {},
   "outputs": [
    {
     "data": {
      "text/plain": [
       "defaultdict(int,\n",
       "            {'San Bernardino attack': 887,\n",
       "             'Orlando nightclub shooting': 1770,\n",
       "             'Sandy Hook Elementary School shooting': 3167,\n",
       "             'Stoneman Douglas High School shooting': 2674,\n",
       "             'Las Vegas shooting': 1729,\n",
       "             'Sutherland Springs church shooting': 811,\n",
       "             'Geneva County massacre': 181,\n",
       "             'Washington Navy Yard shooting': 483,\n",
       "             'Fort Hood shooting': 513,\n",
       "             'Aurora theater shooting': 1461,\n",
       "             None: 1055,\n",
       "             'Binghamton shootings': 186,\n",
       "             'Santa Fe High School shooting': 808})"
      ]
     },
     "execution_count": 81,
     "metadata": {},
     "output_type": "execute_result"
    }
   ],
   "source": [
    "convo_counts"
   ]
  },
  {
   "cell_type": "code",
   "execution_count": 82,
   "metadata": {},
   "outputs": [
    {
     "data": {
      "text/plain": [
       "defaultdict(int,\n",
       "            {'San Bernardino attack': 42854,\n",
       "             'Orlando nightclub shooting': 87024,\n",
       "             'Sandy Hook Elementary School shooting': 84810,\n",
       "             'Stoneman Douglas High School shooting': 218585,\n",
       "             'Las Vegas shooting': 97896,\n",
       "             'Sutherland Springs church shooting': 48353,\n",
       "             'Geneva County massacre': 1523,\n",
       "             'Washington Navy Yard shooting': 15286,\n",
       "             'Fort Hood shooting': 6154,\n",
       "             'Aurora theater shooting': 44642,\n",
       "             None: 37173,\n",
       "             'Binghamton shootings': 2047,\n",
       "             'Santa Fe High School shooting': 80168})"
      ]
     },
     "execution_count": 82,
     "metadata": {},
     "output_type": "execute_result"
    }
   ],
   "source": [
    "utt_counts"
   ]
  },
  {
   "cell_type": "code",
   "execution_count": null,
   "metadata": {},
   "outputs": [],
   "source": []
  },
  {
   "cell_type": "code",
   "execution_count": 83,
   "metadata": {},
   "outputs": [],
   "source": [
    "corpus.dump(\"politics-filtered-labelled\", base_path=\"/Users/calebchiam/Documents\")"
   ]
  },
  {
   "cell_type": "code",
   "execution_count": null,
   "metadata": {},
   "outputs": [],
   "source": []
  }
 ],
 "metadata": {
  "kernelspec": {
   "display_name": "Python 3",
   "language": "python",
   "name": "python3"
  },
  "language_info": {
   "codemirror_mode": {
    "name": "ipython",
    "version": 3
   },
   "file_extension": ".py",
   "mimetype": "text/x-python",
   "name": "python",
   "nbconvert_exporter": "python",
   "pygments_lexer": "ipython3",
   "version": "3.7.3"
  }
 },
 "nbformat": 4,
 "nbformat_minor": 2
}
