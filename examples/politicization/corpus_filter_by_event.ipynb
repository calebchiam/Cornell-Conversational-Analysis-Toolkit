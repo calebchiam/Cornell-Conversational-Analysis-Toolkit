{
 "cells": [
  {
   "cell_type": "markdown",
   "metadata": {},
   "source": [
    "Oct 30, 2019\n",
    "\n",
    "Feasability test for Sandy Hook in /r/politics. "
   ]
  },
  {
   "cell_type": "code",
   "execution_count": 8,
   "metadata": {},
   "outputs": [],
   "source": [
    "from tqdm import tqdm\n",
    "import os\n",
    "os.chdir('../../')\n",
    "from convokit import Corpus, User, Utterance\n",
    "import nltk\n",
    "from nltk.stem import SnowballStemmer\n",
    "stemmer = SnowballStemmer('english')\n",
    "from collections import defaultdict\n",
    "\n"
   ]
  },
  {
   "cell_type": "code",
   "execution_count": null,
   "metadata": {},
   "outputs": [],
   "source": [
    "\n",
    "shooting_timestamps = {\n",
    " 'Geneva County massacre': (1236657600, 1237953600),\n",
    " 'Binghamton shootings': (1238731200, 1240027200),\n",
    " 'Fort Hood shooting': (1257397200, 1258693200),\n",
    " 'Aurora theater shooting': (1342756800, 1344052800),\n",
    " 'Sandy Hook Elementary School shooting': (1355461200, 1356757200),\n",
    " 'Washington Navy Yard shooting': (1379304000, 1380600000),\n",
    " 'San Bernardino attack': (1449032400, 1450328400),\n",
    " 'Orlando nightclub shooting': (1465704000, 1467000000),\n",
    " 'Las Vegas shooting': (1506830400, 1508126400),\n",
    " 'Sutherland Springs church shooting': (1509854400, 1511150400),\n",
    " 'Stoneman Douglas High School shooting': (1518584400, 1519880400),\n",
    " 'Santa Fe High School shooting': (1526616000, 1527912000)}\n",
    "\n",
    "# 'Virginia Tech shooting': (1176696000, 1177387200),\n",
    "#  'Thousand Oaks shooting': (1541566800, 1542258000),\n",
    "# 'Pittsburgh synagogue shooting': (1540612800, 1541304000)"
   ]
  },
  {
   "cell_type": "code",
   "execution_count": null,
   "metadata": {},
   "outputs": [],
   "source": [
    "def identify_timestamp_category(timestamp):\n",
    "    for k, v in shooting_timestamps.items():\n",
    "        if v[0] <= timestamp <= v[1]:\n",
    "            return k"
   ]
  },
  {
   "cell_type": "code",
   "execution_count": 4,
   "metadata": {},
   "outputs": [],
   "source": [
    "subreddits = ['news', 'politics', 'worldnews', 'Liberal', 'progressive', 'democrats', 'Conservative', 'The_Donald', 'Republican']"
   ]
  },
  {
   "cell_type": "code",
   "execution_count": null,
   "metadata": {},
   "outputs": [],
   "source": [
    "def tokenize_and_stem(sentence):\n",
    "    return set(stemmer.stem(word) for word in nltk.word_tokenize(sentence))"
   ]
  },
  {
   "cell_type": "code",
   "execution_count": null,
   "metadata": {},
   "outputs": [],
   "source": []
  },
  {
   "cell_type": "markdown",
   "metadata": {},
   "source": [
    "## Generate specific words dictionaries for each event"
   ]
  },
  {
   "cell_type": "code",
   "execution_count": null,
   "metadata": {},
   "outputs": [],
   "source": [
    "generic_words = {stemmer.stem(word) for word in ['shooting', 'survivor', 'wounded', 'shot', 'deaths', \n",
    "                                                 'died', 'injured', 'guns', 'killing', 'attack', \n",
    "                                                 'massacre', 'victim']}"
   ]
  },
  {
   "cell_type": "code",
   "execution_count": null,
   "metadata": {},
   "outputs": [],
   "source": [
    "specific_words_raw = {\n",
    "    'Fort Hood shooting': [\"nidal hasan\", \"killeen\", \"texas\"],\n",
    "    'Binghamton shootings': [\"jiverly antares wong\"],\n",
    "    'Geneva County massacre': ['michael kenneth mclendon', 'kinston', 'samson', 'alabama'],\n",
    "     'Sandy Hook Elementary School shooting': [\"adam lanza\", \"newton\", \"connecticut\"],\n",
    "     'Aurora theater shooting': ['james eagan holmes', 'colorado'],\n",
    "     'Washington Navy Yard shooting': ['aaron alexis'],\n",
    "     'San Bernardino attack': ['syed rizwan farook', 'tashfeen malik'],\n",
    "     'Orlando nightclub shooting': ['omar mateen'],\n",
    "     'Las Vegas shooting': ['stephen paddock'],\n",
    "     'Sutherland Springs church shooting': ['devin patrick kelley', \"baptist\", \"texas\"],\n",
    "     'Stoneman Douglas High School shooting': ['Marjory', 'Parkland', 'Florida'],\n",
    "     'Santa Fe High School shooting': ['dimitrios pagourtzis', \"texas\"]\n",
    "}"
   ]
  },
  {
   "cell_type": "code",
   "execution_count": null,
   "metadata": {},
   "outputs": [],
   "source": [
    "specific_words_list = {}\n",
    "for k, v in specific_words_raw.items():\n",
    "    specific_words_list[k] = []\n",
    "    for phrase in v + [k]:\n",
    "        specific_words_list[k].extend(phrase.split())\n",
    "    specific_words_list[k] = set([stemmer.stem(w) for w in set(specific_words_list[k])])\n",
    "    specific_words_list[k] -= generic_words"
   ]
  },
  {
   "cell_type": "code",
   "execution_count": null,
   "metadata": {},
   "outputs": [],
   "source": []
  },
  {
   "cell_type": "code",
   "execution_count": null,
   "metadata": {},
   "outputs": [],
   "source": [
    "def get_utt_convo_counts(corpus):\n",
    "    convo_counts = defaultdict(int)\n",
    "utt_counts = defaultdict(int)\n",
    "for convo in corpus.iter_conversations():\n",
    "    if convo.meta['valid']: convo_counts[convo.meta['event']] += 1\n",
    "\n",
    "for utt in corpus.iter_utterances():\n",
    "    if utt.meta['valid']: utt_counts[utt.meta['event']] += 1\n",
    "    "
   ]
  },
  {
   "cell_type": "code",
   "execution_count": null,
   "metadata": {},
   "outputs": [],
   "source": [
    "for subreddit in subreddits:\n",
    "    corpus = Corpus(filename='/Users/calebchiam/Documents/{}-filtered-corpus'.format(subreddit))\n",
    "    \n",
    "    # Label conversations and utterances by event time category\n",
    "    for convo in corpus.iter_conversations():\n",
    "    convo.meta['event'] = identify_timestamp_category(convo.meta['timestamp'])\n",
    "    for utt in convo.iter_utterances():\n",
    "        utt.meta['event'] = convo.meta['event']\n",
    "        \n",
    "    # Tokenize and stem titles\n",
    "    for convo in corpus.iter_conversations():\n",
    "        convo.meta['stem_tokens'] = tokenize_and_stem(convo.meta['title'])\n",
    "        \n",
    "    # Label conversations and utterances with whether they are actually associated with the event\n",
    "    \n",
    "    for convo in corpus.iter_conversations():\n",
    "    event = convo.meta['event']\n",
    "    tokens = convo.meta['stem_tokens']\n",
    "    \n",
    "    if len(tokens.intersection(generic_words)) > 0 or len(tokens.intersection(specific_words_list.get(event, {}))) > 0:\n",
    "        convo.meta['valid'] = True\n",
    "    else:\n",
    "        convo.meta['valid'] = False\n",
    "        \n",
    "    for utt in convo.iter_utterances():\n",
    "        utt.meta['valid'] = convo.meta['valid']\n",
    "    "
   ]
  },
  {
   "cell_type": "code",
   "execution_count": null,
   "metadata": {},
   "outputs": [],
   "source": []
  },
  {
   "cell_type": "markdown",
   "metadata": {},
   "source": [
    "## Let's see a distribution of the counts"
   ]
  },
  {
   "cell_type": "code",
   "execution_count": 23,
   "metadata": {},
   "outputs": [],
   "source": []
  },
  {
   "cell_type": "code",
   "execution_count": 24,
   "metadata": {},
   "outputs": [
    {
     "data": {
      "text/plain": [
       "defaultdict(int,\n",
       "            {'San Bernardino attack': 887,\n",
       "             'Orlando nightclub shooting': 1770,\n",
       "             'Sandy Hook Elementary School shooting': 3167,\n",
       "             'Stoneman Douglas High School shooting': 2674,\n",
       "             'Las Vegas shooting': 1729,\n",
       "             'Sutherland Springs church shooting': 811,\n",
       "             'Geneva County massacre': 181,\n",
       "             'Washington Navy Yard shooting': 483,\n",
       "             'Fort Hood shooting': 513,\n",
       "             'Aurora theater shooting': 1461,\n",
       "             None: 1055,\n",
       "             'Binghamton shootings': 186,\n",
       "             'Santa Fe High School shooting': 808})"
      ]
     },
     "execution_count": 24,
     "metadata": {},
     "output_type": "execute_result"
    }
   ],
   "source": [
    "convo_counts"
   ]
  },
  {
   "cell_type": "code",
   "execution_count": 25,
   "metadata": {},
   "outputs": [
    {
     "data": {
      "text/plain": [
       "defaultdict(int,\n",
       "            {'San Bernardino attack': 42854,\n",
       "             'Orlando nightclub shooting': 87024,\n",
       "             'Sandy Hook Elementary School shooting': 84810,\n",
       "             'Stoneman Douglas High School shooting': 218585,\n",
       "             'Las Vegas shooting': 97896,\n",
       "             'Sutherland Springs church shooting': 48353,\n",
       "             'Geneva County massacre': 1523,\n",
       "             'Washington Navy Yard shooting': 15286,\n",
       "             'Fort Hood shooting': 6154,\n",
       "             'Aurora theater shooting': 44642,\n",
       "             None: 37173,\n",
       "             'Binghamton shootings': 2047,\n",
       "             'Santa Fe High School shooting': 80168})"
      ]
     },
     "execution_count": 25,
     "metadata": {},
     "output_type": "execute_result"
    }
   ],
   "source": [
    "utt_counts"
   ]
  },
  {
   "cell_type": "code",
   "execution_count": null,
   "metadata": {},
   "outputs": [],
   "source": [
    "from tqdm import tqdm"
   ]
  },
  {
   "cell_type": "code",
   "execution_count": null,
   "metadata": {},
   "outputs": [],
   "source": [
    "for utt in tqdm(list(corpus.iter_utterances())):\n",
    "    if \"stem_tokens\" in utt.meta: continue\n",
    "    if utt.meta['valid']:\n",
    "        utt.meta['stem_tokens'] = tokenize_and_stem(utt.text)\n",
    "    else:\n",
    "        utt.meta['stem_tokens'] = None"
   ]
  },
  {
   "cell_type": "code",
   "execution_count": null,
   "metadata": {},
   "outputs": [],
   "source": [
    "corpus.dump(\"politics-filtered-labelled\", base_path=\"/Users/calebchiam/Documents\")"
   ]
  },
  {
   "cell_type": "code",
   "execution_count": 3,
   "metadata": {},
   "outputs": [],
   "source": [
    "corpus = Corpus(filename='/Users/calebchiam/Documents/politics-filtered-labelled')"
   ]
  },
  {
   "cell_type": "code",
   "execution_count": null,
   "metadata": {},
   "outputs": [],
   "source": []
  }
 ],
 "metadata": {
  "kernelspec": {
   "display_name": "Python 3",
   "language": "python",
   "name": "python3"
  },
  "language_info": {
   "codemirror_mode": {
    "name": "ipython",
    "version": 3
   },
   "file_extension": ".py",
   "mimetype": "text/x-python",
   "name": "python",
   "nbconvert_exporter": "python",
   "pygments_lexer": "ipython3",
   "version": "3.7.3"
  }
 },
 "nbformat": 4,
 "nbformat_minor": 2
}
