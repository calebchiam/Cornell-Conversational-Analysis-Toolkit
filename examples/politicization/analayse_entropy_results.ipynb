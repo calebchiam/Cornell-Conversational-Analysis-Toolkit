{
 "cells": [
  {
   "cell_type": "markdown",
   "metadata": {},
   "source": [
    "## Analyze Entropy results"
   ]
  },
  {
   "cell_type": "code",
   "execution_count": 1,
   "metadata": {},
   "outputs": [],
   "source": [
    "from tqdm import tqdm\n",
    "import os\n",
    "# replace file path below with your own local convokit\n",
    "os.chdir('/Users/marianneaubin/Documents/Classes/CS6742/cs6742-fork')\n",
    "#os.chdir('/Users/grace/cs6742-fork/')\n",
    "import convokit\n",
    "from convokit import Corpus, User, Utterance\n",
    "from convokit import PolTracker, EmoTracker\n",
    "import nltk\n",
    "import numpy as np\n",
    "from collections import defaultdict\n",
    "import seaborn as sns\n",
    "import matplotlib.pyplot as plt\n",
    "import pandas as pd"
   ]
  },
  {
   "cell_type": "code",
   "execution_count": 37,
   "metadata": {},
   "outputs": [
    {
     "name": "stdout",
     "output_type": "stream",
     "text": [
      "6949\n"
     ]
    }
   ],
   "source": [
    "df = pd.read_csv(\"./datasets/politicization-corpus/csv_forum_entropy/neutral_forum_full_entropy.csv\")\n",
    "df.head()\n",
    "print(len(df))"
   ]
  },
  {
   "cell_type": "code",
   "execution_count": 16,
   "metadata": {},
   "outputs": [],
   "source": [
    "shooting_timestamps = {\n",
    " 'Fort Hood shooting': (1257397200, 1258088400),\n",
    " 'Binghamton shootings': (1238731200, 1239422400),\n",
    " 'Geneva County massacre': (1236657600, 1237348800),\n",
    " 'Sandy Hook Elementary School shooting': (1355461200, 1356152400),\n",
    " 'Aurora theater shooting': (1342756800, 1343448000),\n",
    " 'Washington Navy Yard shooting': (1379304000, 1379995200),\n",
    " 'San Bernardino attack': (1449032400, 1449723600),\n",
    " 'Orlando nightclub shooting': (1465704000, 1466395200),\n",
    " 'Las Vegas shooting': (1506830400, 1507521600),\n",
    " 'Sutherland Springs church shooting': (1509854400, 1510545600),\n",
    " 'Stoneman Douglas High School shooting': (1518584400, 1519275600),\n",
    " 'Santa Fe High School shooting': (1526616000, 1527307200)}"
   ]
  },
  {
   "cell_type": "code",
   "execution_count": 71,
   "metadata": {},
   "outputs": [
    {
     "name": "stdout",
     "output_type": "stream",
     "text": [
      "6949\n"
     ]
    }
   ],
   "source": [
    "df2 = df.loc[(df['subreddit'].isin(['politics','worldnews','news']))]\n",
    "df2.head()\n",
    "print(len(df2))"
   ]
  },
  {
   "cell_type": "code",
   "execution_count": 96,
   "metadata": {},
   "outputs": [
    {
     "data": {
      "text/plain": [
       "'Look at London and all the \\'knife violence\\'. \\n\\n\\n\\nPeople are people. They have been doing this for centuries. This is nothing new. Hands, feet, rocks, sticks, spears, swords, bows, arrows, cannons, muskets, rifles, bombs.........we have always killed each other. The tools change, but the results are the same. \\n\\n\\nThe only difference that the tools make is that they level the playing field. Grandma and 6\\'5\" thug are on the same playing field when she is holding a Colt 45. '"
      ]
     },
     "execution_count": 96,
     "metadata": {},
     "output_type": "execute_result"
    }
   ],
   "source": [
    "df3 = df.loc[(df['antigun_entropy'] > 4000)]\n",
    "df3['text'][534]\n",
    "#print(len(df3))"
   ]
  },
  {
   "cell_type": "code",
   "execution_count": null,
   "metadata": {},
   "outputs": [],
   "source": [
    "49      &gt; Third, you didn't answer my question eith...\n",
    "109     &gt;Saying you don't understand why a person n...\n",
    "111     Great, gunman enters school with intention of ...\n",
    "114     \"Islamo-Mom stockpiles military-grade weapons ...\n",
    "137     A guy is arrested for carrying a board with \"H...\n",
    "143     Your understanding of the 2000 report is highl...\n",
    "157     I've heard Sean Hannity raise a similar point....\n",
    "159     Well lets look at the most common 3 you see so...\n",
    "168     http://www.cnn.com/2012/07/20/justice/colorado...\n",
    "174     Well, I read the entire thing. Very nice socio...\n",
    "216     DCPS announced a lock down of the following sc...\n",
    "238     There's a difference between non-profit and be...\n",
    "241     http://www.washingtonpost.com/world/asia_pacif...\n",
    "242     Allegedly, this is [him](https://www.twitter.c...\n",
    "243     Simple solution everyone. 1. Culture rhino ste...\n",
    "252     Palestinians cannot vote in Israeli elections,...\n",
    "282     “He said he was the Joker, enemy of Batman,” P...\n",
    "304     This seems extremely unlikely IMO. This was a ...\n",
    "317     &gt; The boys pleaded guilty on June 26 to fir...\n",
    "326     Firearm deaths are significantly lower in citi...\n",
    "359     From page 11:\\n&gt; 12:27: /u/shankee: [Legal ...\n",
    "385     And yet widespread prescription drug abuse is ...\n",
    "519     The crowd loved her because she was mediocre. ...\n",
    "520     But that has no bearing on his reasoning or hi...\n",
    "534     Look at London and all the 'knife violence'. \\...\n",
    "545     Hmph!\\n\\n&gt; Riot police attack peaceful prot...\n",
    "554     From a chess perspective: \\n1. R"
   ]
  }
 ],
 "metadata": {
  "kernelspec": {
   "display_name": "Python 3",
   "language": "python",
   "name": "python3"
  },
  "language_info": {
   "codemirror_mode": {
    "name": "ipython",
    "version": 3
   },
   "file_extension": ".py",
   "mimetype": "text/x-python",
   "name": "python",
   "nbconvert_exporter": "python",
   "pygments_lexer": "ipython3",
   "version": "3.7.3"
  }
 },
 "nbformat": 4,
 "nbformat_minor": 2
}
