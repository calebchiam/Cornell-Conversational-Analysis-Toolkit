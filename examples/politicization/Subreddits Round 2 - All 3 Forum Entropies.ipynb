{
 "cells": [
  {
   "cell_type": "code",
   "execution_count": 1,
   "metadata": {},
   "outputs": [
    {
     "data": {
      "text/plain": [
       "['srilm-1.7.3',\n",
       " 'dump',\n",
       " '.DS_Store',\n",
       " 'srilm-demo.ipynb',\n",
       " 'lm_training',\n",
       " 'LMTransformer.py',\n",
       " '__init__.py',\n",
       " '__pycache__',\n",
       " '.ipynb_checkpoints',\n",
       " 'srilmWrapper.py']"
      ]
     },
     "execution_count": 1,
     "metadata": {},
     "output_type": "execute_result"
    }
   ],
   "source": [
    "import os\n",
    "os.chdir('/Users/grace/cs6742-fork/convokit/SRILM')\n",
    "os.listdir()"
   ]
  },
  {
   "cell_type": "code",
   "execution_count": null,
   "metadata": {},
   "outputs": [],
   "source": []
  },
  {
   "cell_type": "code",
   "execution_count": 2,
   "metadata": {},
   "outputs": [],
   "source": [
    "import sys\n",
    "sys.path.append(os.getcwd())"
   ]
  },
  {
   "cell_type": "code",
   "execution_count": 3,
   "metadata": {},
   "outputs": [],
   "source": [
    "from srilmWrapper import LanguageModel"
   ]
  },
  {
   "cell_type": "code",
   "execution_count": 4,
   "metadata": {},
   "outputs": [
    {
     "data": {
      "text/plain": [
       "'/Users/grace/cs6742-fork/convokit/SRILM'"
      ]
     },
     "execution_count": 4,
     "metadata": {},
     "output_type": "execute_result"
    }
   ],
   "source": [
    "os.getcwd()"
   ]
  },
  {
   "cell_type": "code",
   "execution_count": 5,
   "metadata": {},
   "outputs": [],
   "source": [
    "from tqdm import tqdm\n",
    "import os\n",
    "os.chdir('/Users/grace/cs6742-fork/')\n",
    "from convokit import Corpus, User, Utterance #Removed empath from init.py, file not found\n",
    "from convokit import PolTracker\n",
    "import nltk\n",
    "import numpy as np\n",
    "from collections import defaultdict\n",
    "import seaborn as sns\n",
    "import pandas as pd\n",
    "from itertools import product"
   ]
  },
  {
   "cell_type": "code",
   "execution_count": 6,
   "metadata": {},
   "outputs": [],
   "source": [
    "from pandas import Series\n",
    "from matplotlib import pyplot\n",
    "from statsmodels.tsa.seasonal import seasonal_decompose\n",
    "import json\n",
    "from nltk import word_tokenize"
   ]
  },
  {
   "cell_type": "markdown",
   "metadata": {},
   "source": [
    "## Importing Pro vs. Anti Gun LM - Trained on Gun Forum Data"
   ]
  },
  {
   "cell_type": "code",
   "execution_count": 7,
   "metadata": {},
   "outputs": [],
   "source": [
    "lm_antigun = LanguageModel(SRILM_path='/Users/grace/cs6742-fork/convokit/SRILM/srilm-1.7.3',\n",
    "                  working_dir='/Users/grace/cs6742-fork/convokit/SRILM/dump/',\n",
    "                  lm_output_path='antigun_forum_full.lm',\n",
    "                  lm_type='laplace',\n",
    "                  count_output_path='antigun_forum_full_counts.txt',\n",
    "                  order=2,\n",
    "                  lm_filepath='/Users/grace/cs6742-fork/convokit/SRILM/dump/antigun_forum_full.lm',\n",
    "                  verbose=False)"
   ]
  },
  {
   "cell_type": "code",
   "execution_count": 8,
   "metadata": {},
   "outputs": [],
   "source": [
    "lm_progun  = LanguageModel(SRILM_path='/Users/grace/cs6742-fork/convokit/SRILM/srilm-1.7.3',\n",
    "                  working_dir='/Users/grace/cs6742-fork/convokit/SRILM/dump/',\n",
    "                  lm_output_path='progun_forum_full.lm',\n",
    "                  lm_type='laplace',\n",
    "                  count_output_path='progun_forum_full_counts.txt',\n",
    "                  order=2,\n",
    "                  lm_filepath='/Users/grace/cs6742-fork/convokit/SRILM/dump/progun_forum_full.lm',\n",
    "                  verbose=False)"
   ]
  },
  {
   "cell_type": "code",
   "execution_count": 9,
   "metadata": {},
   "outputs": [],
   "source": [
    "lm_gun = LanguageModel(SRILM_path='/Users/grace/cs6742-fork/convokit/SRILM/srilm-1.7.3',\n",
    "                  working_dir='/Users/grace/cs6742-fork/convokit/SRILM/dump/',\n",
    "                  lm_output_path='whole_forum_full.lm',\n",
    "                  lm_type='laplace',\n",
    "                  count_output_path='whole_forum_full_counts.txt',\n",
    "                  order=2,\n",
    "                  lm_filepath='/Users/grace/cs6742-fork/convokit/SRILM/dump/whole_forum_full.lm',\n",
    "                  verbose=False)"
   ]
  },
  {
   "cell_type": "markdown",
   "metadata": {},
   "source": [
    "#### Sanity check for scores for typical anti vs. pro gun phrases"
   ]
  },
  {
   "cell_type": "code",
   "execution_count": 10,
   "metadata": {},
   "outputs": [
    {
     "data": {
      "text/plain": [
       "797.9711"
      ]
     },
     "execution_count": 10,
     "metadata": {},
     "output_type": "execute_result"
    }
   ],
   "source": [
    "lm_antigun.str_perplexity(\"This is a mental health issue.\")"
   ]
  },
  {
   "cell_type": "code",
   "execution_count": 11,
   "metadata": {},
   "outputs": [
    {
     "data": {
      "text/plain": [
       "838.7635"
      ]
     },
     "execution_count": 11,
     "metadata": {},
     "output_type": "execute_result"
    }
   ],
   "source": [
    "lm_progun.str_perplexity(\"This is a mental health issue.\")"
   ]
  },
  {
   "cell_type": "code",
   "execution_count": 12,
   "metadata": {},
   "outputs": [
    {
     "data": {
      "text/plain": [
       "2430.254"
      ]
     },
     "execution_count": 12,
     "metadata": {},
     "output_type": "execute_result"
    }
   ],
   "source": [
    "lm_antigun.str_perplexity1(\"This is a mental health issue.\")"
   ]
  },
  {
   "cell_type": "code",
   "execution_count": 13,
   "metadata": {},
   "outputs": [
    {
     "data": {
      "text/plain": [
       "2303.476"
      ]
     },
     "execution_count": 13,
     "metadata": {},
     "output_type": "execute_result"
    }
   ],
   "source": [
    "lm_progun.str_perplexity1(\"This is a mental health issue .\")"
   ]
  },
  {
   "cell_type": "markdown",
   "metadata": {},
   "source": [
    "## Applying To Subreddit Groups\n",
    "\n",
    "Reading in CSV for 3 groups of subreddits with time_bins added, and repeating users removed \n",
    "This now uses the subreddits_round2 after data has been cleaned using clean-text module"
   ]
  },
  {
   "cell_type": "code",
   "execution_count": 14,
   "metadata": {},
   "outputs": [],
   "source": [
    "import pandas as pd"
   ]
  },
  {
   "cell_type": "code",
   "execution_count": null,
   "metadata": {},
   "outputs": [],
   "source": []
  },
  {
   "cell_type": "markdown",
   "metadata": {},
   "source": [
    "#### Liberal Subreddits"
   ]
  },
  {
   "cell_type": "code",
   "execution_count": 15,
   "metadata": {},
   "outputs": [],
   "source": [
    "os.chdir('/Users/grace/Desktop/CS6742/subreddits_round2/')"
   ]
  },
  {
   "cell_type": "code",
   "execution_count": 16,
   "metadata": {},
   "outputs": [
    {
     "name": "stdout",
     "output_type": "stream",
     "text": [
      "CPU times: user 40.2 ms, sys: 11.5 ms, total: 51.7 ms\n",
      "Wall time: 58.1 ms\n"
     ]
    }
   ],
   "source": [
    "%%time\n",
    "\n",
    "liberal_group = pd.read_csv('liberal_cleaned.csv')"
   ]
  },
  {
   "cell_type": "code",
   "execution_count": 17,
   "metadata": {},
   "outputs": [
    {
     "data": {
      "text/plain": [
       "(4231, 10)"
      ]
     },
     "execution_count": 17,
     "metadata": {},
     "output_type": "execute_result"
    }
   ],
   "source": [
    "liberal_group.shape"
   ]
  },
  {
   "cell_type": "code",
   "execution_count": 18,
   "metadata": {},
   "outputs": [
    {
     "name": "stdout",
     "output_type": "stream",
     "text": [
      "CPU times: user 2.44 s, sys: 12.3 s, total: 14.8 s\n",
      "Wall time: 3min 22s\n"
     ]
    }
   ],
   "source": [
    "%%time\n",
    "liberal_group['antigun_entropy'] = [lm_antigun.str_perplexity1(i) for i in liberal_group['text_30tokens']]"
   ]
  },
  {
   "cell_type": "code",
   "execution_count": 19,
   "metadata": {},
   "outputs": [
    {
     "name": "stdout",
     "output_type": "stream",
     "text": [
      "CPU times: user 2.45 s, sys: 12.6 s, total: 15 s\n",
      "Wall time: 3min 44s\n"
     ]
    }
   ],
   "source": [
    "%%time\n",
    "liberal_group['progun_entropy'] = [lm_progun.str_perplexity1(i) for i in liberal_group['text_30tokens']] "
   ]
  },
  {
   "cell_type": "code",
   "execution_count": 20,
   "metadata": {},
   "outputs": [
    {
     "name": "stdout",
     "output_type": "stream",
     "text": [
      "CPU times: user 2.38 s, sys: 12.1 s, total: 14.5 s\n",
      "Wall time: 8min 13s\n"
     ]
    }
   ],
   "source": [
    "%%time\n",
    "liberal_group['neutral_entropy'] = [lm_gun.str_perplexity1(i) for i in liberal_group['text_30tokens']] "
   ]
  },
  {
   "cell_type": "code",
   "execution_count": 21,
   "metadata": {},
   "outputs": [
    {
     "data": {
      "text/html": [
       "<div>\n",
       "<style scoped>\n",
       "    .dataframe tbody tr th:only-of-type {\n",
       "        vertical-align: middle;\n",
       "    }\n",
       "\n",
       "    .dataframe tbody tr th {\n",
       "        vertical-align: top;\n",
       "    }\n",
       "\n",
       "    .dataframe thead th {\n",
       "        text-align: right;\n",
       "    }\n",
       "</style>\n",
       "<table border=\"1\" class=\"dataframe\">\n",
       "  <thead>\n",
       "    <tr style=\"text-align: right;\">\n",
       "      <th></th>\n",
       "      <th>X</th>\n",
       "      <th>utterid</th>\n",
       "      <th>username</th>\n",
       "      <th>subreddit</th>\n",
       "      <th>event</th>\n",
       "      <th>timestamp</th>\n",
       "      <th>text</th>\n",
       "      <th>text_30tokens</th>\n",
       "      <th>time_bin</th>\n",
       "      <th>user_timebin</th>\n",
       "      <th>antigun_entropy</th>\n",
       "      <th>progun_entropy</th>\n",
       "      <th>neutral_entropy</th>\n",
       "    </tr>\n",
       "  </thead>\n",
       "  <tbody>\n",
       "    <tr>\n",
       "      <th>0</th>\n",
       "      <td>4</td>\n",
       "      <td>14vbrx</td>\n",
       "      <td>[deleted]</td>\n",
       "      <td>Liberal</td>\n",
       "      <td>Sandy Hook Elementary School shooting</td>\n",
       "      <td>1355529589</td>\n",
       "      <td>ill preface this by saying im canadian i live ...</td>\n",
       "      <td>ill preface this by saying im canadian i live ...</td>\n",
       "      <td>2.0</td>\n",
       "      <td>[deleted] 2 Sandy Hook Elementary School shooting</td>\n",
       "      <td>2807.050</td>\n",
       "      <td>4531.560</td>\n",
       "      <td>3430.337</td>\n",
       "    </tr>\n",
       "    <tr>\n",
       "      <th>1</th>\n",
       "      <td>5</td>\n",
       "      <td>14w7rp</td>\n",
       "      <td>[deleted]</td>\n",
       "      <td>Liberal</td>\n",
       "      <td>Sandy Hook Elementary School shooting</td>\n",
       "      <td>1355581147</td>\n",
       "      <td>curious as to your thoughts reddit i do think ...</td>\n",
       "      <td>curious as to your thoughts reddit i do think ...</td>\n",
       "      <td>3.0</td>\n",
       "      <td>[deleted] 3 Sandy Hook Elementary School shooting</td>\n",
       "      <td>3025.056</td>\n",
       "      <td>3986.197</td>\n",
       "      <td>3894.668</td>\n",
       "    </tr>\n",
       "    <tr>\n",
       "      <th>2</th>\n",
       "      <td>6</td>\n",
       "      <td>14vlel</td>\n",
       "      <td>[deleted]</td>\n",
       "      <td>Liberal</td>\n",
       "      <td>Sandy Hook Elementary School shooting</td>\n",
       "      <td>1355540354</td>\n",
       "      <td>general sentiment seems to be gun control isnt...</td>\n",
       "      <td>general sentiment seems to be gun control isnt...</td>\n",
       "      <td>2.0</td>\n",
       "      <td>[deleted] 2 Sandy Hook Elementary School shooting</td>\n",
       "      <td>1905.938</td>\n",
       "      <td>2795.577</td>\n",
       "      <td>3606.641</td>\n",
       "    </tr>\n",
       "    <tr>\n",
       "      <th>3</th>\n",
       "      <td>7</td>\n",
       "      <td>15humz</td>\n",
       "      <td>[deleted]</td>\n",
       "      <td>Liberal</td>\n",
       "      <td>Sandy Hook Elementary School shooting</td>\n",
       "      <td>1356572203</td>\n",
       "      <td>i want to understand why and how gun control w...</td>\n",
       "      <td>i want to understand why and how gun control w...</td>\n",
       "      <td>26.0</td>\n",
       "      <td>[deleted] 26 Sandy Hook Elementary School shoo...</td>\n",
       "      <td>4620.227</td>\n",
       "      <td>3264.820</td>\n",
       "      <td>5145.403</td>\n",
       "    </tr>\n",
       "    <tr>\n",
       "      <th>4</th>\n",
       "      <td>10</td>\n",
       "      <td>c5hicy4</td>\n",
       "      <td>[deleted]</td>\n",
       "      <td>Liberal</td>\n",
       "      <td>Aurora theater shooting</td>\n",
       "      <td>1342927769</td>\n",
       "      <td>i disagree with the article choosing to politi...</td>\n",
       "      <td>i disagree with the article choosing to politi...</td>\n",
       "      <td>4.0</td>\n",
       "      <td>[deleted] 4 Aurora theater shooting</td>\n",
       "      <td>1763.416</td>\n",
       "      <td>2727.233</td>\n",
       "      <td>4318.033</td>\n",
       "    </tr>\n",
       "  </tbody>\n",
       "</table>\n",
       "</div>"
      ],
      "text/plain": [
       "    X  utterid   username subreddit                                  event  \\\n",
       "0   4   14vbrx  [deleted]   Liberal  Sandy Hook Elementary School shooting   \n",
       "1   5   14w7rp  [deleted]   Liberal  Sandy Hook Elementary School shooting   \n",
       "2   6   14vlel  [deleted]   Liberal  Sandy Hook Elementary School shooting   \n",
       "3   7   15humz  [deleted]   Liberal  Sandy Hook Elementary School shooting   \n",
       "4  10  c5hicy4  [deleted]   Liberal                Aurora theater shooting   \n",
       "\n",
       "    timestamp                                               text  \\\n",
       "0  1355529589  ill preface this by saying im canadian i live ...   \n",
       "1  1355581147  curious as to your thoughts reddit i do think ...   \n",
       "2  1355540354  general sentiment seems to be gun control isnt...   \n",
       "3  1356572203  i want to understand why and how gun control w...   \n",
       "4  1342927769  i disagree with the article choosing to politi...   \n",
       "\n",
       "                                       text_30tokens  time_bin  \\\n",
       "0  ill preface this by saying im canadian i live ...       2.0   \n",
       "1  curious as to your thoughts reddit i do think ...       3.0   \n",
       "2  general sentiment seems to be gun control isnt...       2.0   \n",
       "3  i want to understand why and how gun control w...      26.0   \n",
       "4  i disagree with the article choosing to politi...       4.0   \n",
       "\n",
       "                                        user_timebin  antigun_entropy  \\\n",
       "0  [deleted] 2 Sandy Hook Elementary School shooting         2807.050   \n",
       "1  [deleted] 3 Sandy Hook Elementary School shooting         3025.056   \n",
       "2  [deleted] 2 Sandy Hook Elementary School shooting         1905.938   \n",
       "3  [deleted] 26 Sandy Hook Elementary School shoo...         4620.227   \n",
       "4                [deleted] 4 Aurora theater shooting         1763.416   \n",
       "\n",
       "   progun_entropy  neutral_entropy  \n",
       "0        4531.560         3430.337  \n",
       "1        3986.197         3894.668  \n",
       "2        2795.577         3606.641  \n",
       "3        3264.820         5145.403  \n",
       "4        2727.233         4318.033  "
      ]
     },
     "execution_count": 21,
     "metadata": {},
     "output_type": "execute_result"
    }
   ],
   "source": [
    "liberal_group.head(5)"
   ]
  },
  {
   "cell_type": "code",
   "execution_count": 22,
   "metadata": {},
   "outputs": [
    {
     "name": "stdout",
     "output_type": "stream",
     "text": [
      "CPU times: user 95 ms, sys: 12.1 ms, total: 107 ms\n",
      "Wall time: 106 ms\n"
     ]
    }
   ],
   "source": [
    "%%time\n",
    "liberal_group.to_csv(\"/Users/grace/Desktop/CS6742/subreddits_round2/liberal_entropy.csv\")"
   ]
  },
  {
   "cell_type": "code",
   "execution_count": 23,
   "metadata": {},
   "outputs": [],
   "source": [
    "#del liberal_group"
   ]
  },
  {
   "cell_type": "markdown",
   "metadata": {},
   "source": [
    "#### Now Conservative Group LM Model"
   ]
  },
  {
   "cell_type": "code",
   "execution_count": 24,
   "metadata": {},
   "outputs": [],
   "source": [
    "os.chdir('/Users/grace/Desktop/CS6742/subreddits_round2/')"
   ]
  },
  {
   "cell_type": "code",
   "execution_count": 25,
   "metadata": {
    "scrolled": true
   },
   "outputs": [
    {
     "name": "stdout",
     "output_type": "stream",
     "text": [
      "(17747, 10)\n",
      "CPU times: user 125 ms, sys: 24.2 ms, total: 150 ms\n",
      "Wall time: 149 ms\n"
     ]
    }
   ],
   "source": [
    "%%time\n",
    "#conservative_group = pd.read_csv('conservative_uniquser_newsample.csv')\n",
    "conservative_group = pd.read_csv('conservative_cleaned.csv')\n",
    "print(conservative_group.shape)"
   ]
  },
  {
   "cell_type": "code",
   "execution_count": 26,
   "metadata": {},
   "outputs": [
    {
     "name": "stdout",
     "output_type": "stream",
     "text": [
      "[0, 2296.215]\n",
      "[500, 1477.612]\n",
      "[1000, 2632.563]\n",
      "[1500, 1581.524]\n",
      "[2000, 2524.935]\n",
      "[2500, 2012.993]\n",
      "[3000, 2479.944]\n",
      "[3500, 3112.869]\n",
      "[4000, 2634.698]\n",
      "[4500, 3902.967]\n",
      "[5000, 2606.819]\n",
      "[5500, 3983.672]\n",
      "[6000, 3852.062]\n",
      "[6500, 2389.38]\n",
      "[7000, 5070.394]\n",
      "[7500, 3670.242]\n",
      "[8000, 2898.382]\n",
      "[8500, 2494.611]\n",
      "[9000, 2002.966]\n",
      "[9500, 2147.46]\n",
      "[10000, 3518.784]\n",
      "[10500, 1696.5]\n",
      "[11000, 3089.213]\n",
      "[11500, 3201.424]\n",
      "[12000, 2372.348]\n",
      "[12500, 2888.199]\n",
      "[13000, 2899.974]\n",
      "[13500, 1574.537]\n",
      "[14000, 3952.365]\n",
      "[14500, 2938.283]\n",
      "[15000, 3055.61]\n",
      "[15500, 1964.881]\n",
      "[16000, 2464.205]\n",
      "[16500, 958.5705]\n",
      "[17000, 1543.947]\n",
      "[17500, 1719.936]\n",
      "CPU times: user 13.7 s, sys: 1min 1s, total: 1min 15s\n",
      "Wall time: 16min 20s\n"
     ]
    }
   ],
   "source": [
    "%%time\n",
    "antigun_entropy = []\n",
    "\n",
    "for i in list(range(0, len(conservative_group['text_30tokens']))):\n",
    "    entropy = lm_antigun.str_perplexity1(conservative_group['text_30tokens'][i])\n",
    "    if i % 500 == 0:\n",
    "        print([i, entropy])\n",
    "    antigun_entropy.append(entropy)\n",
    "    "
   ]
  },
  {
   "cell_type": "code",
   "execution_count": null,
   "metadata": {},
   "outputs": [],
   "source": []
  },
  {
   "cell_type": "code",
   "execution_count": 27,
   "metadata": {
    "scrolled": true
   },
   "outputs": [],
   "source": [
    "conservative_group['antigun_entropy'] = antigun_entropy"
   ]
  },
  {
   "cell_type": "code",
   "execution_count": 28,
   "metadata": {},
   "outputs": [
    {
     "name": "stdout",
     "output_type": "stream",
     "text": [
      "[0, 5078.898]\n",
      "[500, 3909.833]\n",
      "[1000, 2473.592]\n",
      "[1500, 2680.335]\n",
      "[2000, 5782.463]\n",
      "[2500, 5907.584]\n",
      "[3000, 4113.695]\n",
      "[3500, 3600.654]\n",
      "[4000, 2521.314]\n",
      "[4500, 5604.356]\n",
      "[5000, 4231.053]\n",
      "[5500, 4966.276]\n",
      "[6000, 5070.562]\n",
      "[6500, 3993.496]\n",
      "[7000, 9855.075]\n",
      "[7500, 2915.314]\n",
      "[8000, 3809.854]\n",
      "[8500, 2706.516]\n",
      "[9000, 3532.829]\n",
      "[9500, 6653.156]\n",
      "[10000, 7930.731]\n",
      "[10500, 5411.628]\n",
      "[11000, 3703.721]\n",
      "[11500, 3969.071]\n",
      "[12000, 2891.1]\n",
      "[12500, 3739.035]\n",
      "[13000, 4828.674]\n",
      "[13500, 2462.37]\n",
      "[14000, 6079.356]\n",
      "[14500, 6897.311]\n",
      "[15000, 8930.549]\n",
      "[15500, 7644.141]\n",
      "[16000, 4483.963]\n",
      "[16500, 3404.977]\n",
      "[17000, 4690.708]\n",
      "[17500, 2615.273]\n",
      "CPU times: user 12.8 s, sys: 56.1 s, total: 1min 8s\n",
      "Wall time: 16min 21s\n"
     ]
    }
   ],
   "source": [
    "%%time\n",
    "progun_entropy = []\n",
    "for i in list(range(0, len(conservative_group['text_30tokens']))):\n",
    "    entropy = lm_progun.str_perplexity1(conservative_group['text_30tokens'][i])\n",
    "    if i % 500 == 0:\n",
    "        print([i, entropy])\n",
    "    progun_entropy.append(entropy)\n",
    "    "
   ]
  },
  {
   "cell_type": "code",
   "execution_count": 30,
   "metadata": {},
   "outputs": [
    {
     "name": "stdout",
     "output_type": "stream",
     "text": [
      "CPU times: user 1.61 ms, sys: 244 µs, total: 1.85 ms\n",
      "Wall time: 1.79 ms\n"
     ]
    }
   ],
   "source": [
    "%%time\n",
    "conservative_group['progun_entropy'] = progun_entropy"
   ]
  },
  {
   "cell_type": "code",
   "execution_count": 31,
   "metadata": {},
   "outputs": [
    {
     "name": "stdout",
     "output_type": "stream",
     "text": [
      "[0, 6681.379]\n",
      "[500, 3715.132]\n",
      "[1000, 2371.695]\n",
      "[1500, 2219.007]\n",
      "[2000, 5956.105]\n",
      "[2500, 4632.029]\n",
      "[3000, 3265.51]\n",
      "[3500, 5568.731]\n",
      "[4000, 3449.814]\n",
      "[4500, 8158.869]\n",
      "[5000, 4738.624]\n",
      "[5500, 5891.28]\n",
      "[6000, 6103.651]\n",
      "[6500, 6651.209]\n",
      "[7000, 10505.1]\n",
      "[7500, 2238.571]\n",
      "[8000, 3957.524]\n",
      "[8500, 3165.594]\n",
      "[9000, 4547.149]\n",
      "[9500, 8559.172]\n",
      "[10000, 9850.129]\n",
      "[10500, 5196.503]\n",
      "[11000, 3567.399]\n",
      "[11500, 5520.247]\n",
      "[12000, 4202.088]\n",
      "[12500, 3329.948]\n",
      "[13000, 4794.546]\n",
      "[13500, 3496.27]\n",
      "[14000, 6762.265]\n",
      "[14500, 7347.641]\n",
      "[15000, 6358.441]\n",
      "[15500, 7808.626]\n",
      "[16000, 4559.046]\n",
      "[16500, 3123.448]\n",
      "[17000, 4522.254]\n",
      "[17500, 3749.262]\n",
      "CPU times: user 12.9 s, sys: 53.8 s, total: 1min 6s\n",
      "Wall time: 37min 1s\n"
     ]
    }
   ],
   "source": [
    "%%time\n",
    "neutral_entropy = []\n",
    "for i in list(range(0, len(conservative_group['text_30tokens']))):\n",
    "    entropy = lm_gun.str_perplexity1(conservative_group['text_30tokens'][i])\n",
    "    if i % 500 == 0:\n",
    "        print([i, entropy])\n",
    "    neutral_entropy.append(entropy)"
   ]
  },
  {
   "cell_type": "code",
   "execution_count": 33,
   "metadata": {},
   "outputs": [
    {
     "name": "stdout",
     "output_type": "stream",
     "text": [
      "CPU times: user 1.55 ms, sys: 224 µs, total: 1.78 ms\n",
      "Wall time: 1.86 ms\n"
     ]
    }
   ],
   "source": [
    "%%time\n",
    "conservative_group['neutral_entropy'] = neutral_entropy"
   ]
  },
  {
   "cell_type": "code",
   "execution_count": null,
   "metadata": {},
   "outputs": [],
   "source": []
  },
  {
   "cell_type": "code",
   "execution_count": null,
   "metadata": {},
   "outputs": [],
   "source": []
  },
  {
   "cell_type": "code",
   "execution_count": 35,
   "metadata": {},
   "outputs": [
    {
     "name": "stdout",
     "output_type": "stream",
     "text": [
      "CPU times: user 349 ms, sys: 44.2 ms, total: 393 ms\n",
      "Wall time: 398 ms\n"
     ]
    }
   ],
   "source": [
    "%%time\n",
    "conservative_group.to_csv(\"/Users/grace/Desktop/CS6742/subreddits_round2/conservative_entropy.csv\")"
   ]
  },
  {
   "cell_type": "code",
   "execution_count": 34,
   "metadata": {},
   "outputs": [
    {
     "data": {
      "text/html": [
       "<div>\n",
       "<style scoped>\n",
       "    .dataframe tbody tr th:only-of-type {\n",
       "        vertical-align: middle;\n",
       "    }\n",
       "\n",
       "    .dataframe tbody tr th {\n",
       "        vertical-align: top;\n",
       "    }\n",
       "\n",
       "    .dataframe thead th {\n",
       "        text-align: right;\n",
       "    }\n",
       "</style>\n",
       "<table border=\"1\" class=\"dataframe\">\n",
       "  <thead>\n",
       "    <tr style=\"text-align: right;\">\n",
       "      <th></th>\n",
       "      <th>X</th>\n",
       "      <th>utterid</th>\n",
       "      <th>username</th>\n",
       "      <th>subreddit</th>\n",
       "      <th>event</th>\n",
       "      <th>timestamp</th>\n",
       "      <th>text</th>\n",
       "      <th>text_30tokens</th>\n",
       "      <th>time_bin</th>\n",
       "      <th>user_timebin</th>\n",
       "      <th>antigun_entropy</th>\n",
       "      <th>progun_entropy</th>\n",
       "      <th>neutral_entropy</th>\n",
       "    </tr>\n",
       "  </thead>\n",
       "  <tbody>\n",
       "    <tr>\n",
       "      <th>0</th>\n",
       "      <td>6260</td>\n",
       "      <td>d46izuy</td>\n",
       "      <td>tsdouglas</td>\n",
       "      <td>The_Donald</td>\n",
       "      <td>Orlando nightclub shooting</td>\n",
       "      <td>1465769039</td>\n",
       "      <td>remember this same president is responsible fo...</td>\n",
       "      <td>remember this same president is responsible fo...</td>\n",
       "      <td>2.0</td>\n",
       "      <td>tsdouglas 2</td>\n",
       "      <td>2296.215</td>\n",
       "      <td>5078.898</td>\n",
       "      <td>6681.379</td>\n",
       "    </tr>\n",
       "    <tr>\n",
       "      <th>1</th>\n",
       "      <td>5988</td>\n",
       "      <td>d46h223</td>\n",
       "      <td>theorymeltfool</td>\n",
       "      <td>The_Donald</td>\n",
       "      <td>Orlando nightclub shooting</td>\n",
       "      <td>1465766020</td>\n",
       "      <td>id rather just buy another gun opencarrying as...</td>\n",
       "      <td>id rather just buy another gun opencarrying as...</td>\n",
       "      <td>2.0</td>\n",
       "      <td>theorymeltfool 2</td>\n",
       "      <td>2929.253</td>\n",
       "      <td>2093.525</td>\n",
       "      <td>4789.977</td>\n",
       "    </tr>\n",
       "    <tr>\n",
       "      <th>2</th>\n",
       "      <td>4138</td>\n",
       "      <td>d466i9t</td>\n",
       "      <td>SkaggAteMyPappy</td>\n",
       "      <td>The_Donald</td>\n",
       "      <td>Orlando nightclub shooting</td>\n",
       "      <td>1465751932</td>\n",
       "      <td>anyone whos lgbtq and supports islam is litera...</td>\n",
       "      <td>anyone whos lgbtq and supports islam is litera...</td>\n",
       "      <td>2.0</td>\n",
       "      <td>SkaggAteMyPappy 2</td>\n",
       "      <td>2458.871</td>\n",
       "      <td>4161.457</td>\n",
       "      <td>5268.886</td>\n",
       "    </tr>\n",
       "    <tr>\n",
       "      <th>3</th>\n",
       "      <td>5427</td>\n",
       "      <td>d46dsxa</td>\n",
       "      <td>arsenal12ful</td>\n",
       "      <td>The_Donald</td>\n",
       "      <td>Orlando nightclub shooting</td>\n",
       "      <td>1465762138</td>\n",
       "      <td>now i see what trump meant when he said not al...</td>\n",
       "      <td>now i see what trump meant when he said not al...</td>\n",
       "      <td>2.0</td>\n",
       "      <td>arsenal12ful 2</td>\n",
       "      <td>1673.210</td>\n",
       "      <td>2643.810</td>\n",
       "      <td>4180.132</td>\n",
       "    </tr>\n",
       "    <tr>\n",
       "      <th>4</th>\n",
       "      <td>3154</td>\n",
       "      <td>d468a71</td>\n",
       "      <td>Cannon1</td>\n",
       "      <td>Conservative</td>\n",
       "      <td>Orlando nightclub shooting</td>\n",
       "      <td>1465754403</td>\n",
       "      <td>it really is interesting and quite scary that ...</td>\n",
       "      <td>it really is interesting and quite scary that ...</td>\n",
       "      <td>2.0</td>\n",
       "      <td>Cannon1 2</td>\n",
       "      <td>1948.113</td>\n",
       "      <td>2849.631</td>\n",
       "      <td>2383.255</td>\n",
       "    </tr>\n",
       "  </tbody>\n",
       "</table>\n",
       "</div>"
      ],
      "text/plain": [
       "      X  utterid         username     subreddit                       event  \\\n",
       "0  6260  d46izuy        tsdouglas    The_Donald  Orlando nightclub shooting   \n",
       "1  5988  d46h223   theorymeltfool    The_Donald  Orlando nightclub shooting   \n",
       "2  4138  d466i9t  SkaggAteMyPappy    The_Donald  Orlando nightclub shooting   \n",
       "3  5427  d46dsxa     arsenal12ful    The_Donald  Orlando nightclub shooting   \n",
       "4  3154  d468a71          Cannon1  Conservative  Orlando nightclub shooting   \n",
       "\n",
       "    timestamp                                               text  \\\n",
       "0  1465769039  remember this same president is responsible fo...   \n",
       "1  1465766020  id rather just buy another gun opencarrying as...   \n",
       "2  1465751932  anyone whos lgbtq and supports islam is litera...   \n",
       "3  1465762138  now i see what trump meant when he said not al...   \n",
       "4  1465754403  it really is interesting and quite scary that ...   \n",
       "\n",
       "                                       text_30tokens  time_bin  \\\n",
       "0  remember this same president is responsible fo...       2.0   \n",
       "1  id rather just buy another gun opencarrying as...       2.0   \n",
       "2  anyone whos lgbtq and supports islam is litera...       2.0   \n",
       "3  now i see what trump meant when he said not al...       2.0   \n",
       "4  it really is interesting and quite scary that ...       2.0   \n",
       "\n",
       "        user_timebin  antigun_entropy  progun_entropy  neutral_entropy  \n",
       "0        tsdouglas 2         2296.215        5078.898         6681.379  \n",
       "1   theorymeltfool 2         2929.253        2093.525         4789.977  \n",
       "2  SkaggAteMyPappy 2         2458.871        4161.457         5268.886  \n",
       "3     arsenal12ful 2         1673.210        2643.810         4180.132  \n",
       "4          Cannon1 2         1948.113        2849.631         2383.255  "
      ]
     },
     "execution_count": 34,
     "metadata": {},
     "output_type": "execute_result"
    }
   ],
   "source": [
    "conservative_group.head(5)"
   ]
  },
  {
   "cell_type": "code",
   "execution_count": null,
   "metadata": {},
   "outputs": [],
   "source": []
  },
  {
   "cell_type": "code",
   "execution_count": 35,
   "metadata": {},
   "outputs": [],
   "source": []
  },
  {
   "cell_type": "code",
   "execution_count": null,
   "metadata": {},
   "outputs": [],
   "source": []
  },
  {
   "cell_type": "code",
   "execution_count": null,
   "metadata": {},
   "outputs": [],
   "source": []
  },
  {
   "cell_type": "code",
   "execution_count": null,
   "metadata": {},
   "outputs": [],
   "source": []
  },
  {
   "cell_type": "code",
   "execution_count": null,
   "metadata": {},
   "outputs": [],
   "source": []
  },
  {
   "cell_type": "code",
   "execution_count": 30,
   "metadata": {},
   "outputs": [
    {
     "name": "stdout",
     "output_type": "stream",
     "text": [
      "From 2012 ... That aside , far be it from me to pretend mature Japanese women are n't appealing but that 's pretty ridiculous . Degeneracy is what liberals are\n",
      "From 2012...That aside, far be it from me to pretend mature Japanese women aren't appealing but that's pretty ridiculous . Degeneracy is what liberals are\n",
      "From 2012... That aside, far be it from me to pretend mature Japanese women aren't appealing but that's pretty ridiculous. Degeneracy is what liberals are all about no matter the\n"
     ]
    }
   ],
   "source": []
  },
  {
   "cell_type": "code",
   "execution_count": 41,
   "metadata": {},
   "outputs": [
    {
     "data": {
      "text/plain": [
       "2"
      ]
     },
     "execution_count": 41,
     "metadata": {},
     "output_type": "execute_result"
    }
   ],
   "source": []
  },
  {
   "cell_type": "code",
   "execution_count": 125,
   "metadata": {},
   "outputs": [
    {
     "data": {
      "text/plain": [
       "X                                                            11079\n",
       "utterid                                                    duhsepv\n",
       "username                                            DogBeersHadOne\n",
       "subreddit                                             Conservative\n",
       "event                        Stoneman Douglas High School shooting\n",
       "timestamp                                               1519054870\n",
       "text             \\#1 is already on the books.\\n\\n\\#2 would have...\n",
       "text_30tokens                                                     \n",
       "time_bin                                                        44\n",
       "user_timebin                                     DogBeersHadOne 44\n",
       "Name: 9341, dtype: object"
      ]
     },
     "execution_count": 125,
     "metadata": {},
     "output_type": "execute_result"
    }
   ],
   "source": []
  },
  {
   "cell_type": "code",
   "execution_count": null,
   "metadata": {},
   "outputs": [],
   "source": []
  },
  {
   "cell_type": "code",
   "execution_count": null,
   "metadata": {},
   "outputs": [],
   "source": []
  },
  {
   "cell_type": "code",
   "execution_count": null,
   "metadata": {},
   "outputs": [],
   "source": []
  },
  {
   "cell_type": "code",
   "execution_count": null,
   "metadata": {},
   "outputs": [],
   "source": []
  },
  {
   "cell_type": "code",
   "execution_count": null,
   "metadata": {},
   "outputs": [],
   "source": []
  },
  {
   "cell_type": "markdown",
   "metadata": {},
   "source": [
    "#### Neutral Group Subreddits (Need to Stratify Sample to reduce to 10% of sample size)"
   ]
  },
  {
   "cell_type": "code",
   "execution_count": 36,
   "metadata": {},
   "outputs": [
    {
     "name": "stdout",
     "output_type": "stream",
     "text": [
      "(28009, 10)\n",
      "CPU times: user 219 ms, sys: 34.1 ms, total: 253 ms\n",
      "Wall time: 252 ms\n"
     ]
    }
   ],
   "source": [
    "%%time\n",
    "neutral_group = pd.read_csv('neutral_cleaned.csv')\n",
    "print(neutral_group.shape)"
   ]
  },
  {
   "cell_type": "code",
   "execution_count": 37,
   "metadata": {},
   "outputs": [
    {
     "data": {
      "text/html": [
       "<div>\n",
       "<style scoped>\n",
       "    .dataframe tbody tr th:only-of-type {\n",
       "        vertical-align: middle;\n",
       "    }\n",
       "\n",
       "    .dataframe tbody tr th {\n",
       "        vertical-align: top;\n",
       "    }\n",
       "\n",
       "    .dataframe thead th {\n",
       "        text-align: right;\n",
       "    }\n",
       "</style>\n",
       "<table border=\"1\" class=\"dataframe\">\n",
       "  <thead>\n",
       "    <tr style=\"text-align: right;\">\n",
       "      <th></th>\n",
       "      <th>X</th>\n",
       "      <th>utterid</th>\n",
       "      <th>username</th>\n",
       "      <th>subreddit</th>\n",
       "      <th>event</th>\n",
       "      <th>timestamp</th>\n",
       "      <th>text</th>\n",
       "      <th>text_30tokens</th>\n",
       "      <th>time_bin</th>\n",
       "      <th>user_timebin</th>\n",
       "    </tr>\n",
       "  </thead>\n",
       "  <tbody>\n",
       "    <tr>\n",
       "      <th>0</th>\n",
       "      <td>14411</td>\n",
       "      <td>c7grtof</td>\n",
       "      <td>[deleted]</td>\n",
       "      <td>worldnews</td>\n",
       "      <td>Sandy Hook Elementary School shooting</td>\n",
       "      <td>1355532166</td>\n",
       "      <td>i can definitely agree that it would be very h...</td>\n",
       "      <td>i can definitely agree that it would be very h...</td>\n",
       "      <td>2.0</td>\n",
       "      <td>[deleted] 2</td>\n",
       "    </tr>\n",
       "    <tr>\n",
       "      <th>1</th>\n",
       "      <td>33561</td>\n",
       "      <td>c7gotoq</td>\n",
       "      <td>[deleted]</td>\n",
       "      <td>politics</td>\n",
       "      <td>Sandy Hook Elementary School shooting</td>\n",
       "      <td>1355521177</td>\n",
       "      <td>&gt; guns are not magic wands i completely agree ...</td>\n",
       "      <td>&gt; guns are not magic wands i completely agree ...</td>\n",
       "      <td>2.0</td>\n",
       "      <td>[deleted] 2</td>\n",
       "    </tr>\n",
       "    <tr>\n",
       "      <th>2</th>\n",
       "      <td>31710</td>\n",
       "      <td>c7gnkpo</td>\n",
       "      <td>[deleted]</td>\n",
       "      <td>politics</td>\n",
       "      <td>Sandy Hook Elementary School shooting</td>\n",
       "      <td>1355517205</td>\n",
       "      <td>who who in their right mind could say that chi...</td>\n",
       "      <td>who who in their right mind could say that chi...</td>\n",
       "      <td>2.0</td>\n",
       "      <td>[deleted] 2</td>\n",
       "    </tr>\n",
       "    <tr>\n",
       "      <th>3</th>\n",
       "      <td>8649</td>\n",
       "      <td>c7gkwjf</td>\n",
       "      <td>[deleted]</td>\n",
       "      <td>news</td>\n",
       "      <td>Sandy Hook Elementary School shooting</td>\n",
       "      <td>1355508739</td>\n",
       "      <td>can i clear up if you are talking about size o...</td>\n",
       "      <td>can i clear up if you are talking about size o...</td>\n",
       "      <td>2.0</td>\n",
       "      <td>[deleted] 2</td>\n",
       "    </tr>\n",
       "  </tbody>\n",
       "</table>\n",
       "</div>"
      ],
      "text/plain": [
       "       X  utterid   username  subreddit  \\\n",
       "0  14411  c7grtof  [deleted]  worldnews   \n",
       "1  33561  c7gotoq  [deleted]   politics   \n",
       "2  31710  c7gnkpo  [deleted]   politics   \n",
       "3   8649  c7gkwjf  [deleted]       news   \n",
       "\n",
       "                                   event   timestamp  \\\n",
       "0  Sandy Hook Elementary School shooting  1355532166   \n",
       "1  Sandy Hook Elementary School shooting  1355521177   \n",
       "2  Sandy Hook Elementary School shooting  1355517205   \n",
       "3  Sandy Hook Elementary School shooting  1355508739   \n",
       "\n",
       "                                                text  \\\n",
       "0  i can definitely agree that it would be very h...   \n",
       "1  > guns are not magic wands i completely agree ...   \n",
       "2  who who in their right mind could say that chi...   \n",
       "3  can i clear up if you are talking about size o...   \n",
       "\n",
       "                                       text_30tokens  time_bin user_timebin  \n",
       "0  i can definitely agree that it would be very h...       2.0  [deleted] 2  \n",
       "1  > guns are not magic wands i completely agree ...       2.0  [deleted] 2  \n",
       "2  who who in their right mind could say that chi...       2.0  [deleted] 2  \n",
       "3  can i clear up if you are talking about size o...       2.0  [deleted] 2  "
      ]
     },
     "execution_count": 37,
     "metadata": {},
     "output_type": "execute_result"
    }
   ],
   "source": [
    "neutral_group.head(4)"
   ]
  },
  {
   "cell_type": "code",
   "execution_count": 38,
   "metadata": {},
   "outputs": [
    {
     "name": "stdout",
     "output_type": "stream",
     "text": [
      "[0, 1989.305]\n",
      "[500, 1895.539]\n",
      "[1000, 1954.866]\n",
      "[1500, 933.0778]\n",
      "[2000, 3244.047]\n",
      "[2500, 2200.27]\n",
      "[3000, 1704.224]\n",
      "[3500, 1348.817]\n",
      "[4000, 2632.048]\n",
      "[4500, 2566.3]\n",
      "[5000, 2291.137]\n",
      "[5500, 3396.38]\n",
      "[6000, 2974.207]\n",
      "[6500, 2104.4]\n",
      "[7000, 1727.663]\n",
      "[7500, 2834.462]\n",
      "[8000, 1845.715]\n",
      "[8500, 2192.799]\n",
      "[9000, 2070.729]\n",
      "[9500, 2883.788]\n",
      "[10000, 2276.122]\n",
      "[10500, 2889.495]\n",
      "[11000, 1753.418]\n",
      "[11500, 3638.822]\n",
      "[12000, 3290.787]\n",
      "[12500, 1895.86]\n",
      "[13000, 1776.086]\n",
      "[13500, 2324.515]\n",
      "[14000, 1668.291]\n",
      "[14500, 4145.433]\n",
      "[15000, 2491.321]\n",
      "[15500, 2461.856]\n",
      "[16000, 5606.38]\n",
      "[16500, 1753.924]\n",
      "[17000, 2626.205]\n",
      "[17500, 1841.211]\n",
      "[18000, 2540.53]\n",
      "[18500, 2132.822]\n",
      "[19000, 2286.738]\n",
      "[19500, 1903.971]\n",
      "[20000, 1950.216]\n",
      "[20500, 3019.31]\n",
      "[21000, 2943.217]\n",
      "[21500, 3624.485]\n",
      "[22000, 1868.62]\n",
      "[22500, 2040.653]\n",
      "[23000, 2263.327]\n",
      "[23500, 1553.335]\n",
      "[24000, 1315.712]\n",
      "[24500, 2114.643]\n",
      "[25000, 1746.921]\n",
      "[25500, 2838.116]\n",
      "[26000, 1583.881]\n",
      "[26500, 2098.544]\n",
      "[27000, 1727.808]\n",
      "[27500, 2219.176]\n",
      "[28000, 2029.677]\n",
      "CPU times: user 21 s, sys: 1min 31s, total: 1min 52s\n",
      "Wall time: 25min\n"
     ]
    }
   ],
   "source": [
    "%%time\n",
    "antigun_entropy = []\n",
    "\n",
    "for i in list(range(0, len(neutral_group['text_30tokens']))):\n",
    "    entropy = lm_antigun.str_perplexity1(neutral_group['text_30tokens'][i])\n",
    "    if i % 500 == 0:\n",
    "        print([i, entropy])\n",
    "    antigun_entropy.append(entropy)\n",
    "    "
   ]
  },
  {
   "cell_type": "code",
   "execution_count": 39,
   "metadata": {},
   "outputs": [],
   "source": [
    "neutral_group['antigun_entropy'] = antigun_entropy"
   ]
  },
  {
   "cell_type": "code",
   "execution_count": null,
   "metadata": {},
   "outputs": [],
   "source": []
  },
  {
   "cell_type": "code",
   "execution_count": null,
   "metadata": {},
   "outputs": [],
   "source": []
  },
  {
   "cell_type": "code",
   "execution_count": 40,
   "metadata": {},
   "outputs": [
    {
     "name": "stdout",
     "output_type": "stream",
     "text": [
      "[0, 1964.99]\n",
      "[500, 8384.985]\n",
      "[1000, 2298.518]\n",
      "[1500, 1149.881]\n",
      "[2000, 5493.596]\n",
      "[2500, 3322.541]\n",
      "[3000, 2133.53]\n",
      "[3500, 2770.316]\n",
      "[4000, 6161.766]\n",
      "[4500, 3644.887]\n",
      "[5000, 3170.911]\n",
      "[5500, 4564.447]\n",
      "[6000, 2861.471]\n",
      "[6500, 5319.192]\n",
      "[7000, 2673.842]\n",
      "[7500, 4442.288]\n",
      "[8000, 2902.92]\n",
      "[8500, 5125.647]\n",
      "[9000, 3204.808]\n",
      "[9500, 5029.423]\n",
      "[10000, 4021.459]\n",
      "[10500, 4161.523]\n",
      "[11000, 2937.257]\n",
      "[11500, 5108.519]\n",
      "[12000, 3280.02]\n",
      "[12500, 3957.596]\n",
      "[13000, 2507.118]\n",
      "[13500, 2946.439]\n",
      "[14000, 3642.038]\n",
      "[14500, 5390.107]\n",
      "[15000, 5002.766]\n",
      "[15500, 3575.472]\n",
      "[16000, 12919.71]\n",
      "[16500, 5190.408]\n",
      "[17000, 3328.255]\n",
      "[17500, 4819.131]\n",
      "[18000, 9017.351]\n",
      "[18500, 2709.402]\n",
      "[19000, 3635.389]\n",
      "[19500, 1921.385]\n",
      "[20000, 2693.451]\n",
      "[20500, 8834.072]\n",
      "[21000, 3841.849]\n",
      "[21500, 3993.928]\n",
      "[22000, 2218.183]\n",
      "[22500, 1982.617]\n",
      "[23000, 2429.845]\n",
      "[23500, 2727.508]\n",
      "[24000, 4976.304]\n",
      "[24500, 4330.853]\n",
      "[25000, 2480.123]\n",
      "[25500, 2401.841]\n",
      "[26000, 2092.614]\n",
      "[26500, 6721.126]\n",
      "[27000, 3417.518]\n",
      "[27500, 3529.581]\n",
      "[28000, 3263.824]\n",
      "CPU times: user 19.9 s, sys: 1min 32s, total: 1min 52s\n",
      "Wall time: 26min 5s\n"
     ]
    }
   ],
   "source": [
    "%%time\n",
    "progun_entropy = []\n",
    "\n",
    "for i in list(range(0, len(neutral_group['text_30tokens']))):\n",
    "    entropy = lm_progun.str_perplexity1(neutral_group['text_30tokens'][i])\n",
    "    if i % 500 == 0:\n",
    "        print([i, entropy])\n",
    "    progun_entropy.append(entropy)"
   ]
  },
  {
   "cell_type": "code",
   "execution_count": 41,
   "metadata": {},
   "outputs": [],
   "source": [
    "neutral_group['progun_entropy'] = progun_entropy"
   ]
  },
  {
   "cell_type": "code",
   "execution_count": 42,
   "metadata": {},
   "outputs": [
    {
     "name": "stdout",
     "output_type": "stream",
     "text": [
      "[0, 2522.948]\n",
      "[500, 10709.82]\n",
      "[1000, 2711.366]\n",
      "[1500, 1663.91]\n",
      "[2000, 4088.675]\n",
      "[2500, 4351.929]\n",
      "[3000, 2120.194]\n",
      "[3500, 3683.095]\n",
      "[4000, 6688.683]\n",
      "[4500, 3152.954]\n",
      "[5000, 3493.199]\n",
      "[5500, 6010.023]\n",
      "[6000, 4110.243]\n",
      "[6500, 5734.316]\n",
      "[7000, 3844.553]\n",
      "[7500, 4025.547]\n",
      "[8000, 3915.315]\n",
      "[8500, 6432.494]\n",
      "[9000, 3298.631]\n",
      "[9500, 5261.991]\n",
      "[10000, 4694.388]\n",
      "[10500, 4581.65]\n",
      "[11000, 3761.293]\n",
      "[11500, 6843.87]\n",
      "[12000, 6392.756]\n",
      "[12500, 3715.244]\n",
      "[13000, 2826.218]\n",
      "[13500, 3714.656]\n",
      "[14000, 5439.271]\n",
      "[14500, 6678.314]\n",
      "[15000, 7234.021]\n",
      "[15500, 3320.252]\n",
      "[16000, 15260.85]\n",
      "[16500, 6440.162]\n",
      "[17000, 3573.571]\n",
      "[17500, 5196.884]\n",
      "[18000, 8566.954]\n",
      "[18500, 2737.059]\n",
      "[19000, 3459.373]\n",
      "[19500, 3014.256]\n",
      "[20000, 2895.936]\n",
      "[20500, 8361.228]\n",
      "[21000, 4534.035]\n",
      "[21500, 4720.686]\n",
      "[22000, 2905.476]\n",
      "[22500, 2754.607]\n",
      "[23000, 2670.687]\n",
      "[23500, 2922.933]\n",
      "[24000, 3402.796]\n",
      "[24500, 4426.114]\n",
      "[25000, 2306.517]\n",
      "[25500, 2682.404]\n",
      "[26000, 3278.461]\n",
      "[26500, 7954.973]\n",
      "[27000, 3476.215]\n",
      "[27500, 4499.437]\n",
      "[28000, 2757.277]\n",
      "CPU times: user 20.2 s, sys: 1min 32s, total: 1min 52s\n",
      "Wall time: 55min\n"
     ]
    }
   ],
   "source": [
    "%%time\n",
    "neutral_entropy = []\n",
    "\n",
    "for i in list(range(0, len(neutral_group['text_30tokens']))):\n",
    "    entropy = lm_gun.str_perplexity1(neutral_group['text_30tokens'][i])\n",
    "    if i % 500 == 0:\n",
    "        print([i, entropy])\n",
    "    neutral_entropy.append(entropy)"
   ]
  },
  {
   "cell_type": "code",
   "execution_count": 43,
   "metadata": {},
   "outputs": [],
   "source": [
    "neutral_group['neutral_entropy'] = neutral_entropy"
   ]
  },
  {
   "cell_type": "code",
   "execution_count": 46,
   "metadata": {},
   "outputs": [],
   "source": [
    "neutral_group.to_csv(\"/Users/grace/Desktop/CS6742/subreddits_round2/neutral_entropy.csv\")"
   ]
  },
  {
   "cell_type": "code",
   "execution_count": null,
   "metadata": {},
   "outputs": [],
   "source": []
  },
  {
   "cell_type": "code",
   "execution_count": null,
   "metadata": {},
   "outputs": [],
   "source": []
  },
  {
   "cell_type": "code",
   "execution_count": null,
   "metadata": {},
   "outputs": [],
   "source": []
  },
  {
   "cell_type": "code",
   "execution_count": null,
   "metadata": {},
   "outputs": [],
   "source": []
  },
  {
   "cell_type": "code",
   "execution_count": null,
   "metadata": {},
   "outputs": [],
   "source": []
  },
  {
   "cell_type": "code",
   "execution_count": null,
   "metadata": {},
   "outputs": [],
   "source": []
  },
  {
   "cell_type": "code",
   "execution_count": null,
   "metadata": {},
   "outputs": [],
   "source": []
  }
 ],
 "metadata": {
  "kernelspec": {
   "display_name": "Python 3",
   "language": "python",
   "name": "python3"
  },
  "language_info": {
   "codemirror_mode": {
    "name": "ipython",
    "version": 3
   },
   "file_extension": ".py",
   "mimetype": "text/x-python",
   "name": "python",
   "nbconvert_exporter": "python",
   "pygments_lexer": "ipython3",
   "version": "3.7.1"
  }
 },
 "nbformat": 4,
 "nbformat_minor": 2
}
