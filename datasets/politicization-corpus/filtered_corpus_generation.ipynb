{
 "cells": [
  {
   "cell_type": "code",
   "execution_count": 1,
   "metadata": {},
   "outputs": [],
   "source": [
    "subreddit_dirs = {'news': '/sauna/reddit_201810_raw/corpus/newreddits_nsfw~-~news/news/', \n",
    "                  'politics': '/sauna/reddit_201810_raw/corpus/pokemontrades_banlist~-~politics/politics',\n",
    "                  'worldnews': '/sauna/reddit_201810_raw/corpus/worldIBS~-~worldnews/worldnews', \n",
    "                  'Liberal': '/sauna/reddit_201810_raw/corpus/LegendsOfCubegrad~-~Liberal/Liberal',\n",
    "                  'progressive': '/sauna/reddit_201810_raw/corpus/programming101~-~propaganda/progressive',\n",
    "                  'democrats': '/sauna/reddit_201810_raw/corpus/deadpool2~-~democrats/democrats',\n",
    "                  'Conservative': '/sauna/reddit_201810_raw/corpus/ConnectedCareers2~-~ContagiousLaughter/Conservative',\n",
    "                  'The_Donald': '/sauna/reddit_201810_raw/corpus/TheTwoBeerQueers~-~The_Donald/The_Donald',\n",
    "                  'Republican': '/sauna/reddit_201810_raw/corpus/RepsneakersAU~-~RimWorld/Republican'\n",
    "                 }"
   ]
  },
  {
   "cell_type": "code",
   "execution_count": 2,
   "metadata": {},
   "outputs": [
    {
     "name": "stdout",
     "output_type": "stream",
     "text": [
      "['news', 'politics', 'worldnews', 'Liberal', 'progressive', 'democrats', 'Conservative', 'The_Donald', 'Republican']\n"
     ]
    }
   ],
   "source": [
    "print(list(subreddit_dirs))"
   ]
  },
  {
   "cell_type": "code",
   "execution_count": 3,
   "metadata": {},
   "outputs": [],
   "source": [
    "import os\n",
    "os.chdir('/home/caleb/Cornell-Conversational-Analysis-Toolkit')"
   ]
  },
  {
   "cell_type": "code",
   "execution_count": 4,
   "metadata": {},
   "outputs": [],
   "source": [
    "from convokit import Corpus, download"
   ]
  },
  {
   "cell_type": "code",
   "execution_count": 5,
   "metadata": {},
   "outputs": [],
   "source": [
    "valid_timestamps = [(1236657600, 1237953600),\n",
    "                     (1238731200, 1240027200),\n",
    "                     (1257397200, 1258693200),\n",
    "                     (1342756800, 1344052800),\n",
    "                     (1355461200, 1356757200),\n",
    "                     (1379304000, 1380600000),\n",
    "                     (1449032400, 1450328400),\n",
    "                     (1465704000, 1467000000),\n",
    "                     (1506830400, 1508126400),\n",
    "                     (1509854400, 1511150400),\n",
    "                     (1518584400, 1519880400),\n",
    "                     (1526616000, 1527912000)]"
   ]
  },
  {
   "cell_type": "code",
   "execution_count": 6,
   "metadata": {},
   "outputs": [],
   "source": [
    "def is_valid_timestamp(timestamp):\n",
    "    for ts_start, ts_end in valid_timestamps:\n",
    "        if ts_start <= timestamp <= ts_end:\n",
    "            return True\n",
    "    return False"
   ]
  },
  {
   "cell_type": "code",
   "execution_count": 12,
   "metadata": {},
   "outputs": [
    {
     "name": "stdout",
     "output_type": "stream",
     "text": [
      "news\n",
      "politics\n",
      "worldnews\n",
      "Liberal\n",
      "progressive\n",
      "democrats\n",
      "Conservative\n",
      "The_Donald\n",
      "Republican\n"
     ]
    }
   ],
   "source": [
    "corpus = None\n",
    "for corpus_name, corpus_dir in subreddit_dirs.items():\n",
    "    print(corpus_name)\n",
    "    del corpus\n",
    "    corpus = Corpus(filename=corpus_dir)\n",
    "    utts = [utt for utt in corpus.iter_utterances() if is_valid_timestamp(utt.timestamp)]\n",
    "    corpus_filtered = Corpus(utterances=utts)\n",
    "    for convo in corpus_filtered.iter_conversations():\n",
    "        convo.meta = corpus.get_conversation(convo.id).meta\n",
    "    corpus_filtered.dump('{}-filtered-corpus'.format(corpus_name), base_path='/sauna/fake-news/temp_corpora')"
   ]
  },
  {
   "cell_type": "code",
   "execution_count": null,
   "metadata": {},
   "outputs": [],
   "source": []
  },
  {
   "cell_type": "code",
   "execution_count": null,
   "metadata": {},
   "outputs": [],
   "source": []
  },
  {
   "cell_type": "code",
   "execution_count": null,
   "metadata": {},
   "outputs": [],
   "source": []
  },
  {
   "cell_type": "code",
   "execution_count": null,
   "metadata": {},
   "outputs": [],
   "source": []
  },
  {
   "cell_type": "code",
   "execution_count": null,
   "metadata": {},
   "outputs": [],
   "source": []
  }
 ],
 "metadata": {
  "kernelspec": {
   "display_name": "Python 3",
   "language": "python",
   "name": "python3"
  },
  "language_info": {
   "codemirror_mode": {
    "name": "ipython",
    "version": 3
   },
   "file_extension": ".py",
   "mimetype": "text/x-python",
   "name": "python",
   "nbconvert_exporter": "python",
   "pygments_lexer": "ipython3",
   "version": "3.7.4"
  }
 },
 "nbformat": 4,
 "nbformat_minor": 1
}
