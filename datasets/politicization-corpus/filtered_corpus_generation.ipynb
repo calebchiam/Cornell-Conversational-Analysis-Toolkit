{
 "cells": [
  {
   "cell_type": "code",
   "execution_count": 1,
   "metadata": {},
   "outputs": [],
   "source": [
    "news_dir = '/sauna/reddit_201810_raw/corpus/newreddits_nsfw~-~news/news/'\n",
    "politics_dir = '/sauna/reddit_201810_raw/corpus/pokemontrades_banlist~-~politics/politics'\n",
    "donald_dir = '/sauna/reddit_201810_raw/corpus/TheTwoBeerQueers~-~The_Donald/The_Donald/'"
   ]
  },
  {
   "cell_type": "code",
   "execution_count": 2,
   "metadata": {},
   "outputs": [
    {
     "data": {
      "text/plain": [
       "['corpus_generation.ipynb', '.ipynb_checkpoints']"
      ]
     },
     "execution_count": 2,
     "metadata": {},
     "output_type": "execute_result"
    }
   ],
   "source": [
    "import os\n",
    "os.chdir('/home/caleb/Cornell-Conversational-Analysis-Toolkit')"
   ]
  },
  {
   "cell_type": "code",
   "execution_count": 5,
   "metadata": {},
   "outputs": [],
   "source": [
    "from convokit import Corpus, download"
   ]
  },
  {
   "cell_type": "code",
   "execution_count": 6,
   "metadata": {},
   "outputs": [],
   "source": [
    "politics_corpus = Corpus(filename=politics_dir)"
   ]
  },
  {
   "cell_type": "code",
   "execution_count": 7,
   "metadata": {},
   "outputs": [],
   "source": [
    "news_corpus = Corpus(filename=news_dir)"
   ]
  },
  {
   "cell_type": "code",
   "execution_count": 8,
   "metadata": {},
   "outputs": [
    {
     "name": "stdout",
     "output_type": "stream",
     "text": [
      "Number of Users: 1772618\n",
      "Number of Utterances: 89059584\n",
      "Number of Conversations: 3243950\n"
     ]
    }
   ],
   "source": [
    "politics_corpus.print_summary_stats()"
   ]
  },
  {
   "cell_type": "code",
   "execution_count": 9,
   "metadata": {},
   "outputs": [],
   "source": [
    "valid_timestamps = [(1176696000, 1177387200),\n",
    " (1236657600, 1237348800),\n",
    " (1238731200, 1239422400),\n",
    " (1257397200, 1258088400),\n",
    " (1342756800, 1343448000),\n",
    " (1355461200, 1356152400),\n",
    " (1379304000, 1379995200),\n",
    " (1449032400, 1449723600),\n",
    " (1465704000, 1466395200),\n",
    " (1506830400, 1507521600),\n",
    " (1509854400, 1510545600),\n",
    " (1518584400, 1519275600),\n",
    " (1526616000, 1527307200),\n",
    " (1540612800, 1541304000),\n",
    " (1541566800, 1542258000)]"
   ]
  },
  {
   "cell_type": "code",
   "execution_count": 10,
   "metadata": {},
   "outputs": [],
   "source": [
    "def is_valid_timestamp(timestamp):\n",
    "    for ts_start, ts_end in valid_timestamps:\n",
    "        if ts_start <= timestamp <= ts_end:\n",
    "            return True\n",
    "    return False"
   ]
  },
  {
   "cell_type": "code",
   "execution_count": 11,
   "metadata": {},
   "outputs": [],
   "source": [
    "utts = [utt for utt in politics_corpus.iter_utterances() if is_valid_timestamp(utt.timestamp)]"
   ]
  },
  {
   "cell_type": "code",
   "execution_count": 13,
   "metadata": {},
   "outputs": [],
   "source": [
    "politics_corpus_filtered = Corpus(utterances=utts)"
   ]
  },
  {
   "cell_type": "code",
   "execution_count": 14,
   "metadata": {},
   "outputs": [
    {
     "data": {
      "text/plain": [
       "['labels.csv',\n",
       " 'articles.db',\n",
       " '.DS_Store',\n",
       " 'titles.tar',\n",
       " 'articles.tar',\n",
       " 'articles',\n",
       " 'corpus',\n",
       " 'reddit-corpus',\n",
       " 'politics_corpus_fake_real_valid_convos_1year',\n",
       " 'politics_corpus_paired_1year']"
      ]
     },
     "execution_count": 14,
     "metadata": {},
     "output_type": "execute_result"
    }
   ],
   "source": [
    "os.listdir(\"/sauna/fake-news/\")"
   ]
  },
  {
   "cell_type": "code",
   "execution_count": 15,
   "metadata": {},
   "outputs": [],
   "source": [
    "politics_corpus_filtered.dump(\"politics-filtered-corpus\", base_path=\"/sauna/fake-news/\")"
   ]
  },
  {
   "cell_type": "code",
   "execution_count": 16,
   "metadata": {},
   "outputs": [],
   "source": [
    "news_utts = [utt for utt in news_corpus.iter_utterances() if is_valid_timestamp(utt.timestamp)]"
   ]
  },
  {
   "cell_type": "code",
   "execution_count": 17,
   "metadata": {},
   "outputs": [],
   "source": [
    "news_corpus_filtered = Corpus(utterances=news_utts)"
   ]
  },
  {
   "cell_type": "code",
   "execution_count": 18,
   "metadata": {},
   "outputs": [
    {
     "name": "stdout",
     "output_type": "stream",
     "text": [
      "2042037\n"
     ]
    }
   ],
   "source": [
    "print(len(news_utts))"
   ]
  },
  {
   "cell_type": "code",
   "execution_count": 19,
   "metadata": {},
   "outputs": [],
   "source": [
    "news_corpus_filtered.dump(\"news-filtered-corpus\", base_path=\"/sauna/fake-news\")"
   ]
  },
  {
   "cell_type": "code",
   "execution_count": null,
   "metadata": {},
   "outputs": [],
   "source": []
  }
 ],
 "metadata": {
  "kernelspec": {
   "display_name": "Python 3",
   "language": "python",
   "name": "python3"
  },
  "language_info": {
   "codemirror_mode": {
    "name": "ipython",
    "version": 3
   },
   "file_extension": ".py",
   "mimetype": "text/x-python",
   "name": "python",
   "nbconvert_exporter": "python",
   "pygments_lexer": "ipython3",
   "version": "3.7.4"
  }
 },
 "nbformat": 4,
 "nbformat_minor": 1
}
