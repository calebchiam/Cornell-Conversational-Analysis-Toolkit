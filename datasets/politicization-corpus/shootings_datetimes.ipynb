{
 "cells": [
  {
   "cell_type": "code",
   "execution_count": 1,
   "metadata": {},
   "outputs": [],
   "source": [
    "from datetime import datetime, date"
   ]
  },
  {
   "cell_type": "code",
   "execution_count": 2,
   "metadata": {},
   "outputs": [],
   "source": [
    "import time"
   ]
  },
  {
   "cell_type": "code",
   "execution_count": 3,
   "metadata": {},
   "outputs": [],
   "source": [
    "shootings = {\n",
    "             \"Fort Hood shooting\": \"11/5/09\", \n",
    "             \"Binghamton shootings\": \"4/3/09\",\n",
    "             \"Geneva County massacre\": \"3/10/09\",\n",
    "             \"Sandy Hook Elementary School shooting\": \"12/14/12\",\n",
    "             \"Aurora theater shooting\": \"7/20/12\",\n",
    "             \"Washington Navy Yard shooting\": \"9/16/13\",\n",
    "             \"San Bernardino attack\": \"12/2/15\",\n",
    "             \"Orlando nightclub shooting\": \"6/12/16\",\n",
    "             \"Las Vegas shooting\": \"10/1/17\",\n",
    "             \"Sutherland Springs church shooting\": \"11/5/17\",\n",
    "             \"Stoneman Douglas High School shooting\": \"2/14/18\",\n",
    "             \"Santa Fe High School shooting\": \"5/18/18\"\n",
    "            }\n",
    "# \"Virginia Tech shooting\": \"4/16/07\",\n",
    "# \"Thousand Oaks shooting\": \"11/7/18\",\n",
    "#              \"Pittsburgh synagogue shooting\": \"10/27/18\","
   ]
  },
  {
   "cell_type": "code",
   "execution_count": 4,
   "metadata": {},
   "outputs": [],
   "source": [
    "shootings = {k: v.split(\"/\") for k, v in shootings.items()}"
   ]
  },
  {
   "cell_type": "code",
   "execution_count": 5,
   "metadata": {},
   "outputs": [],
   "source": [
    "shootings = {k: date(year=2000+int(v[2]), month=int(v[0]), day=int(v[1])) for k, v in shootings.items()}"
   ]
  },
  {
   "cell_type": "code",
   "execution_count": 6,
   "metadata": {},
   "outputs": [
    {
     "data": {
      "text/plain": [
       "{'Fort Hood shooting': datetime.date(2009, 11, 5),\n",
       " 'Binghamton shootings': datetime.date(2009, 4, 3),\n",
       " 'Geneva County massacre': datetime.date(2009, 3, 10),\n",
       " 'Sandy Hook Elementary School shooting': datetime.date(2012, 12, 14),\n",
       " 'Aurora theater shooting': datetime.date(2012, 7, 20),\n",
       " 'Washington Navy Yard shooting': datetime.date(2013, 9, 16),\n",
       " 'San Bernardino attack': datetime.date(2015, 12, 2),\n",
       " 'Orlando nightclub shooting': datetime.date(2016, 6, 12),\n",
       " 'Las Vegas shooting': datetime.date(2017, 10, 1),\n",
       " 'Sutherland Springs church shooting': datetime.date(2017, 11, 5),\n",
       " 'Stoneman Douglas High School shooting': datetime.date(2018, 2, 14),\n",
       " 'Santa Fe High School shooting': datetime.date(2018, 5, 18)}"
      ]
     },
     "execution_count": 6,
     "metadata": {},
     "output_type": "execute_result"
    }
   ],
   "source": [
    "shootings"
   ]
  },
  {
   "cell_type": "code",
   "execution_count": 7,
   "metadata": {},
   "outputs": [],
   "source": [
    "# note these timestamps are 12am for the corresponding day in U.S. time (GMT-4)\n",
    "shootings_timestamps = {k: int(time.mktime(dt.timetuple())) for k, dt in shootings.items()}"
   ]
  },
  {
   "cell_type": "code",
   "execution_count": 8,
   "metadata": {},
   "outputs": [
    {
     "data": {
      "text/plain": [
       "{'Fort Hood shooting': 1257397200,\n",
       " 'Binghamton shootings': 1238731200,\n",
       " 'Geneva County massacre': 1236657600,\n",
       " 'Sandy Hook Elementary School shooting': 1355461200,\n",
       " 'Aurora theater shooting': 1342756800,\n",
       " 'Washington Navy Yard shooting': 1379304000,\n",
       " 'San Bernardino attack': 1449032400,\n",
       " 'Orlando nightclub shooting': 1465704000,\n",
       " 'Las Vegas shooting': 1506830400,\n",
       " 'Sutherland Springs church shooting': 1509854400,\n",
       " 'Stoneman Douglas High School shooting': 1518584400,\n",
       " 'Santa Fe High School shooting': 1526616000}"
      ]
     },
     "execution_count": 8,
     "metadata": {},
     "output_type": "execute_result"
    }
   ],
   "source": [
    "shootings_timestamps"
   ]
  },
  {
   "cell_type": "code",
   "execution_count": 9,
   "metadata": {},
   "outputs": [],
   "source": [
    "day = 24*60*60\n"
   ]
  },
  {
   "cell_type": "code",
   "execution_count": 10,
   "metadata": {},
   "outputs": [],
   "source": [
    "valid_timestamps = sorted(list(shootings_timestamps.values()))"
   ]
  },
  {
   "cell_type": "code",
   "execution_count": 11,
   "metadata": {},
   "outputs": [],
   "source": [
    "valid_timestamps = [(v, v+(15*day)) for v in valid_timestamps]"
   ]
  },
  {
   "cell_type": "code",
   "execution_count": 12,
   "metadata": {},
   "outputs": [
    {
     "data": {
      "text/plain": [
       "[(1236657600, 1237953600),\n",
       " (1238731200, 1240027200),\n",
       " (1257397200, 1258693200),\n",
       " (1342756800, 1344052800),\n",
       " (1355461200, 1356757200),\n",
       " (1379304000, 1380600000),\n",
       " (1449032400, 1450328400),\n",
       " (1465704000, 1467000000),\n",
       " (1506830400, 1508126400),\n",
       " (1509854400, 1511150400),\n",
       " (1518584400, 1519880400),\n",
       " (1526616000, 1527912000)]"
      ]
     },
     "execution_count": 12,
     "metadata": {},
     "output_type": "execute_result"
    }
   ],
   "source": [
    "valid_timestamps"
   ]
  },
  {
   "cell_type": "code",
   "execution_count": null,
   "metadata": {},
   "outputs": [],
   "source": []
  }
 ],
 "metadata": {
  "kernelspec": {
   "display_name": "Python 3",
   "language": "python",
   "name": "python3"
  },
  "language_info": {
   "codemirror_mode": {
    "name": "ipython",
    "version": 3
   },
   "file_extension": ".py",
   "mimetype": "text/x-python",
   "name": "python",
   "nbconvert_exporter": "python",
   "pygments_lexer": "ipython3",
   "version": "3.7.3"
  }
 },
 "nbformat": 4,
 "nbformat_minor": 2
}
