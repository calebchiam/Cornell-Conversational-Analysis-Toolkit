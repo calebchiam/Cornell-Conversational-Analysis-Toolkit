{
 "cells": [
  {
   "cell_type": "code",
   "execution_count": 3,
   "metadata": {},
   "outputs": [],
   "source": [
    "from convokit import Corpus"
   ]
  },
  {
   "cell_type": "code",
   "execution_count": 4,
   "metadata": {},
   "outputs": [],
   "source": [
    "corpus = Corpus(filename='change-my-view-corpus')"
   ]
  },
  {
   "cell_type": "code",
   "execution_count": 5,
   "metadata": {},
   "outputs": [
    {
     "data": {
      "text/plain": [
       "<convokit.model.corpus.Corpus at 0x128341048>"
      ]
     },
     "execution_count": 5,
     "metadata": {},
     "output_type": "execute_result"
    }
   ],
   "source": [
    "corpus"
   ]
  },
  {
   "cell_type": "code",
   "execution_count": 6,
   "metadata": {},
   "outputs": [],
   "source": [
    "for convo in corpus.iter_conversations():\n",
    "    conv = convo\n",
    "    break"
   ]
  },
  {
   "cell_type": "code",
   "execution_count": 7,
   "metadata": {},
   "outputs": [
    {
     "data": {
      "text/plain": [
       "{'op-userID': 'seanyowens',\n",
       " 'op-text-body': 'I can\\'t remember the topic that spurred this discussion, but a friend and I were debating whether man-made things were natural. He took the position that they are unnatural. \\n\\nHe cited this definition by Merriam-Webster:  existing in nature and not made or caused by people : coming from nature (http://www.merriam-webster.com/dictionary/natural) as his basis for the distinction for natural vs. unnatural.\\n\\nHowever, I respectfully disagree with his position and furthermore that definition of natural. People arise from nature. Humankind\\'s capacity to create, problem-solve, analyze, rationalize, and build also come from natural processes. How are the things we create unnatural? It is only through natural occurrences that we have this ability, why is it that we would give the credit of these things solely to man, as opposed to nature? We are not separate from nature, thus, how can any of our actions or creations be unnatural? If we were somehow separate from nature, I would understand the distinction between natural and man-made. However, I think unnatural and man-made are not synonyms by any means. It seems to me that man-made things MUST be natural due to our being part of nature. \\n\\nI would love to hear your arguments and to have my view changed if I am mistaken in my logic somewhere along the line.\\n\\nEDIT: Thanks for your responses lads. As many of you pointed out, our argument depends more on the context of the use of the word and I think that my friend and I were arguing about the semantics and definition more than our intended meaning behind use of the word \"natural\".',\n",
       " 'op-title': 'CMV: Anything that is man-made is natural.',\n",
       " 'pair_ids': ['p_1'],\n",
       " 'train': 1}"
      ]
     },
     "execution_count": 7,
     "metadata": {},
     "output_type": "execute_result"
    }
   ],
   "source": [
    "conv.meta"
   ]
  },
  {
   "cell_type": "code",
   "execution_count": 12,
   "metadata": {},
   "outputs": [
    {
     "data": {
      "text/plain": [
       "{'Account9726',\n",
       " 'Amablue',\n",
       " 'BenIncognito',\n",
       " 'DeltaBot',\n",
       " 'I_Say_MOOOOOOOOOOOOO',\n",
       " 'Nepene',\n",
       " 'R3ptar1337',\n",
       " 'Seventh_______',\n",
       " '[deleted]',\n",
       " 'celeritas365',\n",
       " 'chenzo711',\n",
       " 'nikoberg',\n",
       " 'seanyowens',\n",
       " 'silverionmox',\n",
       " 'themcos',\n",
       " 'whitepalms85',\n",
       " 'zouty'}"
      ]
     },
     "execution_count": 12,
     "metadata": {},
     "output_type": "execute_result"
    }
   ],
   "source": [
    "conv._usernames"
   ]
  },
  {
   "cell_type": "code",
   "execution_count": 15,
   "metadata": {},
   "outputs": [],
   "source": [
    "for utt in conv.iter_utterances():\n",
    "    uttz = utt\n",
    "    if len(uttz.meta['replies']) > 0:\n",
    "        break"
   ]
  },
  {
   "cell_type": "code",
   "execution_count": 16,
   "metadata": {},
   "outputs": [],
   "source": [
    "uttz.reply_to"
   ]
  },
  {
   "cell_type": "code",
   "execution_count": 17,
   "metadata": {},
   "outputs": [
    {
     "data": {
      "text/plain": [
       "Utterance({'id': 't3_2ro9ux', 'user': User([('name', 'seanyowens')]), 'root': 't3_2ro9ux', 'reply_to': None, 'timestamp': None, 'text': 'I can\\'t remember the topic that spurred this discussion, but a friend and I were debating whether man-made things were natural. He took the position that they are unnatural. \\n\\nHe cited this definition by Merriam-Webster:  existing in nature and not made or caused by people : coming from nature (http://www.merriam-webster.com/dictionary/natural) as his basis for the distinction for natural vs. unnatural.\\n\\nHowever, I respectfully disagree with his position and furthermore that definition of natural. People arise from nature. Humankind\\'s capacity to create, problem-solve, analyze, rationalize, and build also come from natural processes. How are the things we create unnatural? It is only through natural occurrences that we have this ability, why is it that we would give the credit of these things solely to man, as opposed to nature? We are not separate from nature, thus, how can any of our actions or creations be unnatural? If we were somehow separate from nature, I would understand the distinction between natural and man-made. However, I think unnatural and man-made are not synonyms by any means. It seems to me that man-made things MUST be natural due to our being part of nature. \\n\\nI would love to hear your arguments and to have my view changed if I am mistaken in my logic somewhere along the line.\\n\\nEDIT: Thanks for your responses lads. As many of you pointed out, our argument depends more on the context of the use of the word and I think that my friend and I were arguing about the semantics and definition more than our intended meaning behind use of the word \"natural\".', 'meta': {'pair_ids': [], 'success': None, 'approved_by': None, 'author_flair_css_class': None, 'author_flair_text': None, 'banned_by': None, 'controversiality': None, 'distinguished': None, 'downs': None, 'edited': None, 'gilded': None, 'likes': None, 'mod_reports': None, 'num_reports': None, 'replies': ['cnhplrm', 'cnhpp4o', 'cnhq330', 'cnhs7xb', 'cnhpnmr', 'cnhq7nv', 'cnhqcwz', 'cnhsyft', 'cnhww76', 'cnhz5wq', 'cni80dr', 'cni8e2y'], 'report_reasons': None, 'saved': None, 'score': None, 'score_hidden': None, 'subreddit': None, 'subreddit_id': None, 'ups': None, 'user_reports': None}})"
      ]
     },
     "execution_count": 17,
     "metadata": {},
     "output_type": "execute_result"
    }
   ],
   "source": [
    "uttz"
   ]
  },
  {
   "cell_type": "code",
   "execution_count": null,
   "metadata": {},
   "outputs": [],
   "source": []
  },
  {
   "cell_type": "code",
   "execution_count": 19,
   "metadata": {},
   "outputs": [
    {
     "data": {
      "text/plain": [
       "['t3_2ro9ux',\n",
       " 't1_cnhplrm',\n",
       " 't1_cnhrvq7',\n",
       " 't1_cnhz66d',\n",
       " 't1_cniauhy',\n",
       " 't1_cnibfev',\n",
       " 't1_cnic0gj',\n",
       " 't1_cnhpsmr',\n",
       " 't1_cnhpvqs',\n",
       " 't1_cnhq7iw',\n",
       " 't1_cnhqrw1',\n",
       " 't1_cnhqzsf',\n",
       " 't1_cni8tcx',\n",
       " 't1_cnhpp4o',\n",
       " 't1_cnhqouu',\n",
       " 't1_cnhrd8u',\n",
       " 't1_cnhrwsq',\n",
       " 't1_cnhs6sc',\n",
       " 't1_cnhtr4t',\n",
       " 't1_cnhuopi',\n",
       " 't1_cnio1bg',\n",
       " 't1_cnhq330',\n",
       " 't1_cnhs7xb',\n",
       " 't1_cnhpnmr',\n",
       " 't1_cnhqhxa',\n",
       " 't1_cnhrkoc',\n",
       " 't1_cnhq7nv',\n",
       " 't1_cnhqcwz',\n",
       " 't1_cnhsyft',\n",
       " 't1_cnhww76',\n",
       " 't1_cnhz5wq',\n",
       " 't1_cni80dr',\n",
       " 't1_cni8e2y']"
      ]
     },
     "execution_count": 19,
     "metadata": {},
     "output_type": "execute_result"
    }
   ],
   "source": [
    "[utt.id for utt in corpus.get_conversation('t3_2ro9ux').iter_utterances()]"
   ]
  },
  {
   "cell_type": "code",
   "execution_count": 20,
   "metadata": {},
   "outputs": [
    {
     "data": {
      "text/plain": [
       "['cnhplrm',\n",
       " 'cnhpp4o',\n",
       " 'cnhq330',\n",
       " 'cnhs7xb',\n",
       " 'cnhpnmr',\n",
       " 'cnhq7nv',\n",
       " 'cnhqcwz',\n",
       " 'cnhsyft',\n",
       " 'cnhww76',\n",
       " 'cnhz5wq',\n",
       " 'cni80dr',\n",
       " 'cni8e2y']"
      ]
     },
     "execution_count": 20,
     "metadata": {},
     "output_type": "execute_result"
    }
   ],
   "source": [
    "uttz.meta['replies']"
   ]
  },
  {
   "cell_type": "code",
   "execution_count": 21,
   "metadata": {},
   "outputs": [],
   "source": [
    "for user in corpus.iter_users():\n",
    "    us = user\n",
    "    break"
   ]
  },
  {
   "cell_type": "code",
   "execution_count": 23,
   "metadata": {},
   "outputs": [
    {
     "data": {
      "text/plain": [
       "{}"
      ]
     },
     "execution_count": 23,
     "metadata": {},
     "output_type": "execute_result"
    }
   ],
   "source": [
    "us.meta"
   ]
  },
  {
   "cell_type": "code",
   "execution_count": null,
   "metadata": {},
   "outputs": [],
   "source": []
  }
 ],
 "metadata": {
  "kernelspec": {
   "display_name": "Python 3",
   "language": "python",
   "name": "python3"
  },
  "language_info": {
   "codemirror_mode": {
    "name": "ipython",
    "version": 3
   },
   "file_extension": ".py",
   "mimetype": "text/x-python",
   "name": "python",
   "nbconvert_exporter": "python",
   "pygments_lexer": "ipython3",
   "version": "3.7.3"
  }
 },
 "nbformat": 4,
 "nbformat_minor": 2
}
