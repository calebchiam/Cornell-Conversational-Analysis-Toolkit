{
 "cells": [
  {
   "cell_type": "code",
   "execution_count": null,
   "metadata": {},
   "outputs": [],
   "source": [
    "from convokit.transformer import Transformer\n",
    "from convokit.model import Corpus\n",
    "from nltk.tokenize import word_tokenize\n",
    "\n",
    "class PolTracker(Transformer):\n",
    "    \"\"\"\n",
    "    Extracts information about invoking the self in utterances.\n",
    "\n",
    "    \"\"\"\n",
    "    def __init__(self):\n",
    "        #self.ATTR_NAME = \"self_reference_transformer\"\n",
    "        #self.key_words = set(\n",
    "        #    [\"i\", \"we\", \"my\", \"our\", \"ours\", \"me\", \"us\", \"mine\"])\n",
    "        \n",
    "        ##insert code here\n",
    "\n",
    "    def transform(self, corpus: Corpus):\n",
    "        \"\"\"Adds metadata about self-reflection to each utterance.\n",
    "\n",
    "        :param corpus: the corpus to compute features for.\n",
    "        :type corpus: Corpus\n",
    "        \n",
    "        \"\"\"\n",
    "        \n",
    "        ##insert code here\n",
    "        \n",
    "        #for conv_id in corpus.conversations:\n",
    "        #    conv = corpus.get_conversation(conv_id)\n",
    "        #    for utt in conv.iter_utterances():\n",
    "        #        if utt.text != None:\n",
    "        #            tokenized = word_tokenize(utt.text.lower())\n",
    "        #            invocations = 0\n",
    "        #            for token in tokenized:\n",
    "        #                if token in self.key_words:\n",
    "        #                    invocations += 1\n",
    "        #            utt.meta[\"num_self_invocations\"] = invocations\n",
    "        return corpus"
   ]
  }
 ],
 "metadata": {
  "kernelspec": {
   "display_name": "Python 3",
   "language": "python",
   "name": "python3"
  },
  "language_info": {
   "codemirror_mode": {
    "name": "ipython",
    "version": 3
   },
   "file_extension": ".py",
   "mimetype": "text/x-python",
   "name": "python",
   "nbconvert_exporter": "python",
   "pygments_lexer": "ipython3",
   "version": "3.7.3"
  }
 },
 "nbformat": 4,
 "nbformat_minor": 2
}
