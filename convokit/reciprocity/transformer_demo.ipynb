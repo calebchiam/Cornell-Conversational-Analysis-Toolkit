{
 "cells": [
  {
   "cell_type": "code",
   "execution_count": 1,
   "metadata": {},
   "outputs": [],
   "source": [
    "import os"
   ]
  },
  {
   "cell_type": "code",
   "execution_count": 2,
   "metadata": {},
   "outputs": [],
   "source": [
    "os.chdir('../..')"
   ]
  },
  {
   "cell_type": "code",
   "execution_count": 3,
   "metadata": {},
   "outputs": [],
   "source": [
    "import convokit"
   ]
  },
  {
   "cell_type": "code",
   "execution_count": 4,
   "metadata": {},
   "outputs": [],
   "source": [
    "from convokit import Corpus, download, Reciprocity"
   ]
  },
  {
   "cell_type": "code",
   "execution_count": 5,
   "metadata": {},
   "outputs": [
    {
     "name": "stdout",
     "output_type": "stream",
     "text": [
      "Dataset already exists at /Users/calebchiam/.convokit/downloads/reddit-corpus-small\n",
      "Dataset already exists at /Users/calebchiam/.convokit/downloads/reddit-corpus-small\n"
     ]
    }
   ],
   "source": [
    "corpus = Corpus(filename=download('reddit-corpus-small'))"
   ]
  },
  {
   "cell_type": "code",
   "execution_count": 6,
   "metadata": {},
   "outputs": [],
   "source": [
    "rcp = Reciprocity()"
   ]
  },
  {
   "cell_type": "code",
   "execution_count": 7,
   "metadata": {},
   "outputs": [
    {
     "data": {
      "text/plain": [
       "<convokit.model.corpus.Corpus at 0x12208da58>"
      ]
     },
     "execution_count": 7,
     "metadata": {},
     "output_type": "execute_result"
    },
    {
     "data": {
      "text/plain": [
       "<convokit.model.corpus.Corpus at 0x12208da58>"
      ]
     },
     "execution_count": 7,
     "metadata": {},
     "output_type": "execute_result"
    }
   ],
   "source": [
    "rcp.fit_transform(corpus)"
   ]
  },
  {
   "cell_type": "code",
   "execution_count": 8,
   "metadata": {},
   "outputs": [
    {
     "name": "stdout",
     "output_type": "stream",
     "text": [
      "Number of Users: 119889\n",
      "Number of Utterances: 297132\n",
      "Number of Conversations: 8286\n",
      "Number of Users: 119889\n",
      "Number of Utterances: 297132\n",
      "Number of Conversations: 8286\n"
     ]
    }
   ],
   "source": [
    "corpus.print_summary_stats()"
   ]
  },
  {
   "cell_type": "code",
   "execution_count": 9,
   "metadata": {},
   "outputs": [
    {
     "data": {
      "text/plain": [
       "Conversation({'_owner': <convokit.model.corpus.Corpus object at 0x12208da58>, '_id': '9c716m', '_utterance_ids': ['9c716m', 'e594ur8', 'e594xde', 'e594y7f', 'e594yh7', 'e5951iv', 'e5955h5', 'e595669', 'e595bf1', 'e596s8g', 'e598thd', 'e5amisq', 'e5amqqg', 'e5amzrl', 'e5as1ya'], '_usernames': {'rheinl', 'AutoModerator', '[deleted]', 'sea_lecture', 'ThenPoem', 'belmont_lay', 'tauhuayislove', 'brianne0007', 'littlefiredragon'}, '_meta': {'title': '/r/singapore random discussion and small questions thread for September 02, 2018', 'num_comments': 745, 'domain': 'self.singapore', 'timestamp': 1535839576, 'subreddit': 'singapore', 'gilded': 0, 'gildings': {'gid_1': 0, 'gid_2': 0, 'gid_3': 0}, 'stickied': False, 'author_flair_text': '', 'reciprocity': 0.38461538461538464}})"
      ]
     },
     "execution_count": 9,
     "metadata": {},
     "output_type": "execute_result"
    },
    {
     "data": {
      "text/plain": [
       "Conversation({'_owner': <convokit.model.corpus.Corpus object at 0x12208da58>, '_id': '9c716m', '_utterance_ids': ['9c716m', 'e594ur8', 'e594xde', 'e594y7f', 'e594yh7', 'e5951iv', 'e5955h5', 'e595669', 'e595bf1', 'e596s8g', 'e598thd', 'e5amisq', 'e5amqqg', 'e5amzrl', 'e5as1ya'], '_usernames': {'rheinl', 'AutoModerator', '[deleted]', 'sea_lecture', 'ThenPoem', 'belmont_lay', 'tauhuayislove', 'brianne0007', 'littlefiredragon'}, '_meta': {'title': '/r/singapore random discussion and small questions thread for September 02, 2018', 'num_comments': 745, 'domain': 'self.singapore', 'timestamp': 1535839576, 'subreddit': 'singapore', 'gilded': 0, 'gildings': {'gid_1': 0, 'gid_2': 0, 'gid_3': 0}, 'stickied': False, 'author_flair_text': '', 'reciprocity': 0.38461538461538464}})"
      ]
     },
     "execution_count": 9,
     "metadata": {},
     "output_type": "execute_result"
    }
   ],
   "source": [
    "next(iter(corpus.iter_conversations()))"
   ]
  },
  {
   "cell_type": "code",
   "execution_count": 11,
   "metadata": {},
   "outputs": [
    {
     "data": {
      "text/plain": [
       "<convokit.model.corpus.Corpus at 0x12208da58>"
      ]
     },
     "execution_count": 11,
     "metadata": {},
     "output_type": "execute_result"
    },
    {
     "data": {
      "text/plain": [
       "<convokit.model.corpus.Corpus at 0x12208da58>"
      ]
     },
     "execution_count": 11,
     "metadata": {},
     "output_type": "execute_result"
    }
   ],
   "source": [
    "corpus"
   ]
  },
  {
   "cell_type": "code",
   "execution_count": 12,
   "metadata": {},
   "outputs": [],
   "source": [
    "def get_subreddit_from_convo(convo):\n",
    "    return next(iter(convo.iter_utterances())).meta['subreddit']"
   ]
  },
  {
   "cell_type": "code",
   "execution_count": 13,
   "metadata": {},
   "outputs": [
    {
     "data": {
      "text/plain": [
       "'singapore'"
      ]
     },
     "execution_count": 13,
     "metadata": {},
     "output_type": "execute_result"
    },
    {
     "data": {
      "text/plain": [
       "'singapore'"
      ]
     },
     "execution_count": 13,
     "metadata": {},
     "output_type": "execute_result"
    }
   ],
   "source": [
    "get_subreddit_from_convo(corpus.get_conversation('9c716m'))"
   ]
  },
  {
   "cell_type": "code",
   "execution_count": 15,
   "metadata": {},
   "outputs": [],
   "source": [
    "from collections import defaultdict\n",
    "subreddit_to_reciprocity = defaultdict(list)\n",
    "for convo in corpus.iter_conversations():\n",
    "    subreddit_to_reciprocity[get_subreddit_from_convo(convo)].append(convo.meta['reciprocity'])\n",
    "    "
   ]
  },
  {
   "cell_type": "code",
   "execution_count": 16,
   "metadata": {},
   "outputs": [],
   "source": [
    "from numpy import mean\n",
    "avg_reciprocity_by_subreddit = {k: mean(v) for k, v in subreddit_to_reciprocity.items()}"
   ]
  },
  {
   "cell_type": "code",
   "execution_count": 17,
   "metadata": {},
   "outputs": [],
   "source": [
    "import pandas as pd"
   ]
  },
  {
   "cell_type": "code",
   "execution_count": 20,
   "metadata": {},
   "outputs": [],
   "source": [
    "subreddit_reciprocity = sorted(list(avg_reciprocity_by_subreddit.items()), key=lambda x: x[1], reverse=True)"
   ]
  },
  {
   "cell_type": "code",
   "execution_count": 21,
   "metadata": {},
   "outputs": [
    {
     "data": {
      "text/plain": [
       "[('pokemontrades', 0.8937925170068027),\n",
       " ('techsupport', 0.7857749238848807),\n",
       " ('Random_Acts_Of_Amazon', 0.7701384558245825),\n",
       " ('POLITIC', 0.7266125913033129),\n",
       " ('OkCupid', 0.7121599701248151),\n",
       " ('gonewild', 0.7046978264016803),\n",
       " ('buildapc', 0.691332721813004),\n",
       " ('electronic_cigarette', 0.6465487373074955),\n",
       " ('DebateReligion', 0.6382741688227227),\n",
       " ('travel', 0.5807119440233406),\n",
       " ('teenagers', 0.5680525944878799),\n",
       " ('Christianity', 0.5374079577771694),\n",
       " ('dayz', 0.5277374640175433),\n",
       " ('Naruto', 0.5257417053841028),\n",
       " ('sex', 0.5035390064353094),\n",
       " ('MakeupAddiction', 0.4994048995948906),\n",
       " ('MensRights', 0.49563896733346),\n",
       " ('AmItheAsshole', 0.4862907117830785),\n",
       " ('NoFap', 0.48026481214172684),\n",
       " ('relationship_advice', 0.4670591219986888),\n",
       " ('Drugs', 0.4664108578390791),\n",
       " ('guns', 0.45139790541544506),\n",
       " ('TwoXChromosomes', 0.4474237852960376),\n",
       " ('conspiracy', 0.4456029417403354),\n",
       " ('trees', 0.4402636289511827),\n",
       " ('Libertarian', 0.44013013771341347),\n",
       " ('Minecraft', 0.4297042051046931),\n",
       " ('asoiaf', 0.4120448621173577),\n",
       " ('IAmA', 0.4102819797525846),\n",
       " ('Fitness', 0.40846943414167686),\n",
       " ('relationships', 0.4078115407298028),\n",
       " ('photography', 0.40545797681823553),\n",
       " ('Bitcoin', 0.40446484392787685),\n",
       " ('ShingekiNoKyojin', 0.4042717147037676),\n",
       " ('pokemon', 0.3989997445497601),\n",
       " ('skyrim', 0.3949775358817346),\n",
       " ('malefashionadvice', 0.3881560459760296),\n",
       " ('atheism', 0.3851313093496585),\n",
       " ('unitedkingdom', 0.3848442400135684),\n",
       " ('AskMen', 0.3840776815230769),\n",
       " ('AskWomen', 0.38324639484740425),\n",
       " ('Guildwars2', 0.3775012642055975),\n",
       " ('singapore', 0.37504695614221856),\n",
       " ('tf2', 0.36950290726349233),\n",
       " ('Diablo', 0.3628382619449218),\n",
       " ('motorcycles', 0.3612141674307223),\n",
       " ('canada', 0.35247527369599974),\n",
       " ('apple', 0.3386644053412185),\n",
       " ('Economics', 0.3373156618809569),\n",
       " ('worldnews', 0.33487780596192096),\n",
       " ('cars', 0.3336623990077743),\n",
       " ('programming', 0.33316721589306003),\n",
       " ('Frugal', 0.33209165523308504),\n",
       " ('AskReddit', 0.3293714195309547),\n",
       " ('anime', 0.3262404051934254),\n",
       " ('starcraft', 0.3217394294897629),\n",
       " ('explainlikeimfive', 0.3107141154485953),\n",
       " ('books', 0.3103262260026884),\n",
       " ('askscience', 0.3103243363866065),\n",
       " ('nfl', 0.30373002335818106),\n",
       " ('Marvel', 0.30353171600469),\n",
       " ('news', 0.3029528148198924),\n",
       " ('australia', 0.3022515385394651),\n",
       " ('rupaulsdragrace', 0.3010681928955012),\n",
       " ('LifeProTips', 0.2966275169960625),\n",
       " ('pics', 0.2908100617453095),\n",
       " ('politics', 0.29052844863936317),\n",
       " ('wow', 0.2886110916063556),\n",
       " ('tifu', 0.28517580256890335),\n",
       " ('movies', 0.2784329115897308),\n",
       " ('Android', 0.2767936116433064),\n",
       " ('technology', 0.276273440838566),\n",
       " ('business', 0.27590984566225574),\n",
       " ('offbeat', 0.27424604713967926),\n",
       " ('hiphopheads', 0.27387577073926833),\n",
       " ('nba', 0.2697595734239157),\n",
       " ('soccer', 0.2680315485539682),\n",
       " ('DotA2', 0.26395067672078343),\n",
       " ('leagueoflegends', 0.26315556237612187),\n",
       " ('CFB', 0.2604979699032404),\n",
       " ('fantasyfootball', 0.2600870883504167),\n",
       " ('AdviceAnimals', 0.25929902793001514),\n",
       " ('cringe', 0.2571357513421574),\n",
       " ('baseball', 0.25219625485992403),\n",
       " ('gaming', 0.2502440645570565),\n",
       " ('science', 0.24914862242510225),\n",
       " ('Games', 0.24455499085730495),\n",
       " ('MMA', 0.24307296783434112),\n",
       " ('hockey', 0.24284676267741737),\n",
       " ('magicTCG', 0.24187733217683327),\n",
       " ('funny', 0.23847547321507218),\n",
       " ('videos', 0.23699598309808947),\n",
       " ('Music', 0.23680121181224711),\n",
       " ('SquaredCircle', 0.22513251528582992),\n",
       " ('MovieDetails', 0.21903562909733607),\n",
       " ('todayilearned', 0.21852549162010768),\n",
       " ('cringepics', 0.21039387790742156),\n",
       " ('aww', 0.20833231897995305),\n",
       " ('gifs', 0.20325626967118673),\n",
       " ('WTF', 0.20169193112864953)]"
      ]
     },
     "execution_count": 21,
     "metadata": {},
     "output_type": "execute_result"
    },
    {
     "data": {
      "text/plain": [
       "[('pokemontrades', 0.8937925170068027),\n",
       " ('techsupport', 0.7857749238848807),\n",
       " ('Random_Acts_Of_Amazon', 0.7701384558245825),\n",
       " ('POLITIC', 0.7266125913033129),\n",
       " ('OkCupid', 0.7121599701248151),\n",
       " ('gonewild', 0.7046978264016803),\n",
       " ('buildapc', 0.691332721813004),\n",
       " ('electronic_cigarette', 0.6465487373074955),\n",
       " ('DebateReligion', 0.6382741688227227),\n",
       " ('travel', 0.5807119440233406),\n",
       " ('teenagers', 0.5680525944878799),\n",
       " ('Christianity', 0.5374079577771694),\n",
       " ('dayz', 0.5277374640175433),\n",
       " ('Naruto', 0.5257417053841028),\n",
       " ('sex', 0.5035390064353094),\n",
       " ('MakeupAddiction', 0.4994048995948906),\n",
       " ('MensRights', 0.49563896733346),\n",
       " ('AmItheAsshole', 0.4862907117830785),\n",
       " ('NoFap', 0.48026481214172684),\n",
       " ('relationship_advice', 0.4670591219986888),\n",
       " ('Drugs', 0.4664108578390791),\n",
       " ('guns', 0.45139790541544506),\n",
       " ('TwoXChromosomes', 0.4474237852960376),\n",
       " ('conspiracy', 0.4456029417403354),\n",
       " ('trees', 0.4402636289511827),\n",
       " ('Libertarian', 0.44013013771341347),\n",
       " ('Minecraft', 0.4297042051046931),\n",
       " ('asoiaf', 0.4120448621173577),\n",
       " ('IAmA', 0.4102819797525846),\n",
       " ('Fitness', 0.40846943414167686),\n",
       " ('relationships', 0.4078115407298028),\n",
       " ('photography', 0.40545797681823553),\n",
       " ('Bitcoin', 0.40446484392787685),\n",
       " ('ShingekiNoKyojin', 0.4042717147037676),\n",
       " ('pokemon', 0.3989997445497601),\n",
       " ('skyrim', 0.3949775358817346),\n",
       " ('malefashionadvice', 0.3881560459760296),\n",
       " ('atheism', 0.3851313093496585),\n",
       " ('unitedkingdom', 0.3848442400135684),\n",
       " ('AskMen', 0.3840776815230769),\n",
       " ('AskWomen', 0.38324639484740425),\n",
       " ('Guildwars2', 0.3775012642055975),\n",
       " ('singapore', 0.37504695614221856),\n",
       " ('tf2', 0.36950290726349233),\n",
       " ('Diablo', 0.3628382619449218),\n",
       " ('motorcycles', 0.3612141674307223),\n",
       " ('canada', 0.35247527369599974),\n",
       " ('apple', 0.3386644053412185),\n",
       " ('Economics', 0.3373156618809569),\n",
       " ('worldnews', 0.33487780596192096),\n",
       " ('cars', 0.3336623990077743),\n",
       " ('programming', 0.33316721589306003),\n",
       " ('Frugal', 0.33209165523308504),\n",
       " ('AskReddit', 0.3293714195309547),\n",
       " ('anime', 0.3262404051934254),\n",
       " ('starcraft', 0.3217394294897629),\n",
       " ('explainlikeimfive', 0.3107141154485953),\n",
       " ('books', 0.3103262260026884),\n",
       " ('askscience', 0.3103243363866065),\n",
       " ('nfl', 0.30373002335818106),\n",
       " ('Marvel', 0.30353171600469),\n",
       " ('news', 0.3029528148198924),\n",
       " ('australia', 0.3022515385394651),\n",
       " ('rupaulsdragrace', 0.3010681928955012),\n",
       " ('LifeProTips', 0.2966275169960625),\n",
       " ('pics', 0.2908100617453095),\n",
       " ('politics', 0.29052844863936317),\n",
       " ('wow', 0.2886110916063556),\n",
       " ('tifu', 0.28517580256890335),\n",
       " ('movies', 0.2784329115897308),\n",
       " ('Android', 0.2767936116433064),\n",
       " ('technology', 0.276273440838566),\n",
       " ('business', 0.27590984566225574),\n",
       " ('offbeat', 0.27424604713967926),\n",
       " ('hiphopheads', 0.27387577073926833),\n",
       " ('nba', 0.2697595734239157),\n",
       " ('soccer', 0.2680315485539682),\n",
       " ('DotA2', 0.26395067672078343),\n",
       " ('leagueoflegends', 0.26315556237612187),\n",
       " ('CFB', 0.2604979699032404),\n",
       " ('fantasyfootball', 0.2600870883504167),\n",
       " ('AdviceAnimals', 0.25929902793001514),\n",
       " ('cringe', 0.2571357513421574),\n",
       " ('baseball', 0.25219625485992403),\n",
       " ('gaming', 0.2502440645570565),\n",
       " ('science', 0.24914862242510225),\n",
       " ('Games', 0.24455499085730495),\n",
       " ('MMA', 0.24307296783434112),\n",
       " ('hockey', 0.24284676267741737),\n",
       " ('magicTCG', 0.24187733217683327),\n",
       " ('funny', 0.23847547321507218),\n",
       " ('videos', 0.23699598309808947),\n",
       " ('Music', 0.23680121181224711),\n",
       " ('SquaredCircle', 0.22513251528582992),\n",
       " ('MovieDetails', 0.21903562909733607),\n",
       " ('todayilearned', 0.21852549162010768),\n",
       " ('cringepics', 0.21039387790742156),\n",
       " ('aww', 0.20833231897995305),\n",
       " ('gifs', 0.20325626967118673),\n",
       " ('WTF', 0.20169193112864953)]"
      ]
     },
     "execution_count": 21,
     "metadata": {},
     "output_type": "execute_result"
    }
   ],
   "source": [
    "subreddit_reciprocity"
   ]
  },
  {
   "cell_type": "code",
   "execution_count": null,
   "metadata": {},
   "outputs": [],
   "source": []
  }
 ],
 "metadata": {
  "kernelspec": {
   "display_name": "Python 3",
   "language": "python",
   "name": "python3"
  },
  "language_info": {
   "codemirror_mode": {
    "name": "ipython",
    "version": 3
   },
   "file_extension": ".py",
   "mimetype": "text/x-python",
   "name": "python",
   "nbconvert_exporter": "python",
   "pygments_lexer": "ipython3",
   "version": "3.7.3"
  }
 },
 "nbformat": 4,
 "nbformat_minor": 1
}
