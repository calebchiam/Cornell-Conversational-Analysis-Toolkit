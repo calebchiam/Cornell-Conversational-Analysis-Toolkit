{
 "cells": [
  {
   "cell_type": "code",
   "execution_count": 1,
   "metadata": {},
   "outputs": [],
   "source": [
    "import os\n",
    "os.chdir('../../..')"
   ]
  },
  {
   "cell_type": "code",
   "execution_count": 2,
   "metadata": {},
   "outputs": [],
   "source": [
    "from convokit import Corpus, LanguageModel, download"
   ]
  },
  {
   "cell_type": "code",
   "execution_count": 23,
   "metadata": {},
   "outputs": [],
   "source": [
    "lm = LanguageModel(SRILM_path='/Users/calebchiam/Documents/GitHub/cs6742-fork/convokit/SRILM/srilm-1.7.3',\n",
    "                  working_dir='/Users/calebchiam/Documents/GitHub/cs6742-fork/convokit/SRILM/dump/',\n",
    "                  lm_output_path=None,\n",
    "                  lm_type='laplace',\n",
    "                  count_output_path='counts.txt',\n",
    "                  order=2,\n",
    "                  lm_filepath='/Users/calebchiam/Documents/GitHub/cs6742-fork/convokit/SRILM/dump/whole_forum_full.lm',\n",
    "                  verbose=False)"
   ]
  },
  {
   "cell_type": "code",
   "execution_count": 4,
   "metadata": {},
   "outputs": [],
   "source": [
    "rs_corpus_dir = \"/Users/calebchiam/Documents/rs-corpus-lastmonth\""
   ]
  },
  {
   "cell_type": "code",
   "execution_count": 10,
   "metadata": {},
   "outputs": [],
   "source": [
    "pol_filtered_corpus_dir = \"/Users/calebchiam/Documents/datasets/politics-special-corpus\"\n",
    "pol_filtered_labelled_corpus_dir = \"/Users/calebchiam/Documents/datasets/politics-filtered-labelled-small\""
   ]
  },
  {
   "cell_type": "code",
   "execution_count": 11,
   "metadata": {},
   "outputs": [],
   "source": [
    "rs_corpus = Corpus(filename=rs_corpus_dir)"
   ]
  },
  {
   "cell_type": "code",
   "execution_count": 12,
   "metadata": {},
   "outputs": [],
   "source": [
    "pol_corpus = Corpus(filename=pol_filtered_corpus_dir)"
   ]
  },
  {
   "cell_type": "code",
   "execution_count": 16,
   "metadata": {},
   "outputs": [],
   "source": [
    "pol_filtered_corpus = Corpus(filename=pol_filtered_labelled_corpus_dir)"
   ]
  },
  {
   "cell_type": "code",
   "execution_count": 6,
   "metadata": {},
   "outputs": [
    {
     "name": "stdout",
     "output_type": "stream",
     "text": [
      "Number of Users: 41879\n",
      "Number of Utterances: 281412\n",
      "Number of Conversations: 24914\n"
     ]
    }
   ],
   "source": [
    "rs_corpus.print_summary_stats()"
   ]
  },
  {
   "cell_type": "code",
   "execution_count": 15,
   "metadata": {},
   "outputs": [
    {
     "name": "stdout",
     "output_type": "stream",
     "text": [
      "Number of Users: 63017\n",
      "Number of Utterances: 249737\n",
      "Number of Conversations: 7970\n"
     ]
    }
   ],
   "source": [
    "pol_corpus.print_summary_stats()"
   ]
  },
  {
   "cell_type": "code",
   "execution_count": 17,
   "metadata": {},
   "outputs": [
    {
     "name": "stdout",
     "output_type": "stream",
     "text": [
      "Number of Users: 144760\n",
      "Number of Utterances: 1046504\n",
      "Number of Conversations: 22193\n"
     ]
    }
   ],
   "source": [
    "pol_filtered_corpus.print_summary_stats()"
   ]
  },
  {
   "cell_type": "code",
   "execution_count": 18,
   "metadata": {},
   "outputs": [],
   "source": [
    "from convokit import LMTransformer"
   ]
  },
  {
   "cell_type": "code",
   "execution_count": 28,
   "metadata": {},
   "outputs": [],
   "source": [
    "import re"
   ]
  },
  {
   "cell_type": "code",
   "execution_count": null,
   "metadata": {},
   "outputs": [],
   "source": [
    "from tqdm import tqdm"
   ]
  },
  {
   "cell_type": "code",
   "execution_count": 34,
   "metadata": {},
   "outputs": [
    {
     "name": "stdout",
     "output_type": "stream",
     "text": [
      "start\n",
      "start\n",
      "start\n"
     ]
    }
   ],
   "source": [
    "for corpus in [rs_corpus, pol_corpus, pol_filtered_corpus]:\n",
    "    print(\"start\")\n",
    "    for utt in corpus.iter_utterances():\n",
    "        utt_text = re.sub(r'\\W+', ' ', utt.text)\n",
    "        utt_tokens = utt_text.split()\n",
    "        if len(utt_tokens) >= 30:\n",
    "            utt.meta['utt_30tokens'] = \" \".join(utt_tokens[:30])\n",
    "        else:\n",
    "            utt.meta['utt_30tokens'] = None"
   ]
  },
  {
   "cell_type": "code",
   "execution_count": 38,
   "metadata": {},
   "outputs": [],
   "source": [
    "rs_utts = [utt for utt in rs_corpus.iter_utterances() if utt.meta['utt_30tokens'] is not None]"
   ]
  },
  {
   "cell_type": "code",
   "execution_count": 47,
   "metadata": {},
   "outputs": [],
   "source": [
    "pol_utts = [utt for utt in pol_corpus.iter_utterances() if utt.meta['utt_30tokens'] is not None]"
   ]
  },
  {
   "cell_type": "code",
   "execution_count": 48,
   "metadata": {},
   "outputs": [],
   "source": [
    "pol_filtered_utts = [utt for utt in pol_filtered_corpus.iter_utterances() if utt.meta['utt_30tokens'] is not None]"
   ]
  },
  {
   "cell_type": "code",
   "execution_count": 39,
   "metadata": {},
   "outputs": [
    {
     "data": {
      "text/plain": [
       "154948"
      ]
     },
     "execution_count": 39,
     "metadata": {},
     "output_type": "execute_result"
    }
   ],
   "source": [
    "len(rs_utts)"
   ]
  },
  {
   "cell_type": "code",
   "execution_count": 40,
   "metadata": {},
   "outputs": [],
   "source": [
    "from tqdm import tqdm"
   ]
  },
  {
   "cell_type": "code",
   "execution_count": 43,
   "metadata": {},
   "outputs": [],
   "source": [
    "from random import sample"
   ]
  },
  {
   "cell_type": "code",
   "execution_count": 46,
   "metadata": {},
   "outputs": [],
   "source": [
    "rs_ppls = []\n",
    "rs_sampled_utts = sample(rs_utts, 10000)\n",
    "for utt in rs_sampled_utts:\n",
    "    rs_ppls.append(lm.str_perplexity1(utt.meta['utt_30tokens']))"
   ]
  },
  {
   "cell_type": "code",
   "execution_count": 49,
   "metadata": {},
   "outputs": [],
   "source": [
    "pol_ppls = []\n",
    "pol_sampled_utts = sample(pol_utts, 10000)\n",
    "for utt in pol_sampled_utts:\n",
    "    pol_ppls.append(lm.str_perplexity1(utt.meta['utt_30tokens']))"
   ]
  },
  {
   "cell_type": "code",
   "execution_count": 76,
   "metadata": {},
   "outputs": [],
   "source": [
    "pol_filtered_ppls = []\n",
    "pol_filtered_sampled_utts = sample(pol_filtered_utts, 10000)\n",
    "for utt in pol_filtered_sampled_utts:\n",
    "    pol_filtered_ppls.append(lm.str_perplexity1(utt.meta['utt_30tokens']))"
   ]
  },
  {
   "cell_type": "code",
   "execution_count": 79,
   "metadata": {},
   "outputs": [
    {
     "name": "stdout",
     "output_type": "stream",
     "text": [
      "Dataset already exists at /Users/calebchiam/.convokit/downloads/reddit-corpus-small\n"
     ]
    }
   ],
   "source": [
    "reddit_corpus_small = Corpus(download('reddit-corpus-small'))"
   ]
  },
  {
   "cell_type": "code",
   "execution_count": 83,
   "metadata": {},
   "outputs": [],
   "source": [
    "for utt in reddit_corpus_small.iter_utterances():\n",
    "    utt_text = re.sub(r'\\W+', ' ', utt.text)\n",
    "    utt_tokens = utt_text.split()\n",
    "    if len(utt_tokens) >= 30:\n",
    "        utt.meta['utt_30tokens'] = \" \".join(utt_tokens[:30])\n",
    "    else:\n",
    "        utt.meta['utt_30tokens'] = None"
   ]
  },
  {
   "cell_type": "code",
   "execution_count": 84,
   "metadata": {},
   "outputs": [],
   "source": [
    "reddit_small_utts = [utt for utt in reddit_corpus_small.iter_utterances() if utt.meta['utt_30tokens'] is not None]"
   ]
  },
  {
   "cell_type": "code",
   "execution_count": 96,
   "metadata": {},
   "outputs": [],
   "source": [
    "general_ppls = []\n",
    "general_sampled_utts = sample(reddit_small_utts, 5000)\n",
    "for utt in general_sampled_utts:\n",
    "    general_ppls.append(lm.str_perplexity1(utt.meta['utt_30tokens']))\n"
   ]
  },
  {
   "cell_type": "code",
   "execution_count": 75,
   "metadata": {},
   "outputs": [],
   "source": [
    "pol_filtered_ppls2 = pol_filtered_ppls"
   ]
  },
  {
   "cell_type": "code",
   "execution_count": null,
   "metadata": {},
   "outputs": [],
   "source": []
  },
  {
   "cell_type": "code",
   "execution_count": 72,
   "metadata": {},
   "outputs": [
    {
     "data": {
      "text/plain": [
       "[6037.407,\n",
       " 4398.606,\n",
       " 4784.376,\n",
       " 4370.803,\n",
       " 2105.474,\n",
       " 2947.268,\n",
       " 9150.446,\n",
       " 1664.846,\n",
       " 4692.682,\n",
       " 12585.58]"
      ]
     },
     "execution_count": 72,
     "metadata": {},
     "output_type": "execute_result"
    }
   ],
   "source": [
    "pol_filtered_ppls[:10]"
   ]
  },
  {
   "cell_type": "code",
   "execution_count": null,
   "metadata": {},
   "outputs": [],
   "source": [
    "pol_ppls"
   ]
  },
  {
   "cell_type": "code",
   "execution_count": 66,
   "metadata": {},
   "outputs": [
    {
     "data": {
      "text/plain": [
       "10000"
      ]
     },
     "execution_count": 66,
     "metadata": {},
     "output_type": "execute_result"
    }
   ],
   "source": [
    "len(pol_ppls)"
   ]
  },
  {
   "cell_type": "code",
   "execution_count": 62,
   "metadata": {},
   "outputs": [
    {
     "data": {
      "text/plain": [
       "10000"
      ]
     },
     "execution_count": 62,
     "metadata": {},
     "output_type": "execute_result"
    }
   ],
   "source": [
    "len(pol_filtered_ppls)"
   ]
  },
  {
   "cell_type": "code",
   "execution_count": 52,
   "metadata": {},
   "outputs": [],
   "source": [
    "import seaborn as sns"
   ]
  },
  {
   "cell_type": "code",
   "execution_count": 54,
   "metadata": {},
   "outputs": [],
   "source": [
    "import matplotlib.pyplot as plt"
   ]
  },
  {
   "cell_type": "code",
   "execution_count": 78,
   "metadata": {},
   "outputs": [
    {
     "data": {
      "image/png": "[encoded data removed]",
      "text/plain": [
       "<Figure size 432x288 with 1 Axes>"
      ]
     },
     "metadata": {
      "needs_background": "light"
     },
     "output_type": "display_data"
    }
   ],
   "source": [
    "# sns.kdeplot(rs_ppls, label='relationships')\n",
    "sns.kdeplot(pol_ppls, label='r/politics')\n",
    "sns.kdeplot(pol_filtered_ppls, label='r/politics (topic filtered)')\n",
    "plt.xlim(0,10000)\n",
    "plt.show()"
   ]
  },
  {
   "cell_type": "code",
   "execution_count": 81,
   "metadata": {},
   "outputs": [
    {
     "data": {
      "text/plain": [
       "10000"
      ]
     },
     "execution_count": 81,
     "metadata": {},
     "output_type": "execute_result"
    }
   ],
   "source": [
    "len(pol_filtered_ppls)"
   ]
  },
  {
   "cell_type": "code",
   "execution_count": 82,
   "metadata": {},
   "outputs": [
    {
     "data": {
      "text/plain": [
       "10000"
      ]
     },
     "execution_count": 82,
     "metadata": {},
     "output_type": "execute_result"
    }
   ],
   "source": [
    "len(pol_ppls)"
   ]
  },
  {
   "cell_type": "code",
   "execution_count": 89,
   "metadata": {},
   "outputs": [],
   "source": [
    "import pandas as pd"
   ]
  },
  {
   "cell_type": "code",
   "execution_count": 90,
   "metadata": {},
   "outputs": [],
   "source": [
    "d = {'pol_filtered': pol_filtered_ppls, 'pol': pol_ppls}"
   ]
  },
  {
   "cell_type": "code",
   "execution_count": 93,
   "metadata": {},
   "outputs": [],
   "source": [
    "pd.DataFrame(d).to_csv('ppl_scores.csv')"
   ]
  },
  {
   "cell_type": "code",
   "execution_count": 94,
   "metadata": {},
   "outputs": [
    {
     "data": {
      "text/plain": [
       "['ppl_scores.csv',\n",
       " 'LICENSE.md',\n",
       " 'progun_forum_corpus.txt',\n",
       " 'convokit',\n",
       " '.DS_Store',\n",
       " 'requirements.txt',\n",
       " 'progun_corpus.txt',\n",
       " 'skipped_users.json',\n",
       " 'Makefile',\n",
       " 'website',\n",
       " 'datasets',\n",
       " 'tests',\n",
       " 'README.md',\n",
       " 'setup.py',\n",
       " '.gitignore',\n",
       " 'ldavis_prepared_8',\n",
       " 'moderate_forum_corpus_full.txt',\n",
       " 'CONTRIBUTING.md',\n",
       " 'examples',\n",
       " 'antigun_forum_corpus_full.txt',\n",
       " 'progun_forum_corpus_full.txt',\n",
       " 'doc',\n",
       " 'ldavis_prepared_news_8',\n",
       " 'antigun_forum_corpus.txt',\n",
       " '.git',\n",
       " 'antigun_corpus.txt',\n",
       " 'whole_forum_corpus_full.txt',\n",
       " '.idea']"
      ]
     },
     "execution_count": 94,
     "metadata": {},
     "output_type": "execute_result"
    }
   ],
   "source": [
    "os.listdir()"
   ]
  },
  {
   "cell_type": "code",
   "execution_count": null,
   "metadata": {},
   "outputs": [],
   "source": []
  }
 ],
 "metadata": {
  "kernelspec": {
   "display_name": "Python 3",
   "language": "python",
   "name": "python3"
  },
  "language_info": {
   "codemirror_mode": {
    "name": "ipython",
    "version": 3
   },
   "file_extension": ".py",
   "mimetype": "text/x-python",
   "name": "python",
   "nbconvert_exporter": "python",
   "pygments_lexer": "ipython3",
   "version": "3.7.3"
  }
 },
 "nbformat": 4,
 "nbformat_minor": 2
}
