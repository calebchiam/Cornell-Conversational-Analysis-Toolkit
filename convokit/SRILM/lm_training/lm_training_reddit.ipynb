{
 "cells": [
  {
   "cell_type": "code",
   "execution_count": 1,
   "metadata": {},
   "outputs": [],
   "source": [
    "import os\n",
    "os.chdir('../../..')"
   ]
  },
  {
   "cell_type": "code",
   "execution_count": 2,
   "metadata": {},
   "outputs": [
    {
     "data": {
      "text/plain": [
       "['LICENSE.md',\n",
       " 'convokit',\n",
       " '.DS_Store',\n",
       " 'requirements.txt',\n",
       " 'Makefile',\n",
       " 'website',\n",
       " 'datasets',\n",
       " 'tests',\n",
       " 'README.md',\n",
       " 'setup.py',\n",
       " '.gitignore',\n",
       " 'ldavis_prepared_8',\n",
       " 'CONTRIBUTING.md',\n",
       " 'examples',\n",
       " 'doc',\n",
       " 'ldavis_prepared_news_8',\n",
       " '.git',\n",
       " '.idea']"
      ]
     },
     "execution_count": 2,
     "metadata": {},
     "output_type": "execute_result"
    }
   ],
   "source": [
    "os.listdir()"
   ]
  },
  {
   "cell_type": "code",
   "execution_count": 6,
   "metadata": {},
   "outputs": [],
   "source": [
    "from convokit import Corpus, LanguageModel, download"
   ]
  },
  {
   "cell_type": "code",
   "execution_count": 98,
   "metadata": {},
   "outputs": [
    {
     "name": "stdout",
     "output_type": "stream",
     "text": [
      "Downloading subreddit-gunpolitics to /Users/calebchiam/.convokit/downloads/subreddit-gunpolitics\n",
      "Downloading subreddit-gunpolitics from http://zissou.infosci.cornell.edu/convokit/datasets/subreddit-corpus/corpus-zipped/guitarpractice~-~gwent/gunpolitics.corpus.zip (53.1MB)... Done\n"
     ]
    }
   ],
   "source": [
    "progun_corpus = Corpus(download('subreddit-gunpolitics'))"
   ]
  },
  {
   "cell_type": "code",
   "execution_count": 99,
   "metadata": {},
   "outputs": [
    {
     "name": "stdout",
     "output_type": "stream",
     "text": [
      "Number of Users: 17482\n",
      "Number of Utterances: 324345\n",
      "Number of Conversations: 20240\n"
     ]
    }
   ],
   "source": [
    "progun_corpus.print_summary_stats()"
   ]
  },
  {
   "cell_type": "code",
   "execution_count": 127,
   "metadata": {},
   "outputs": [
    {
     "name": "stdout",
     "output_type": "stream",
     "text": [
      "Dataset already exists at /Users/calebchiam/.convokit/downloads/subreddit-GunsAreCool\n"
     ]
    }
   ],
   "source": [
    "antigun_corpus = Corpus(download('subreddit-GunsAreCool'))"
   ]
  },
  {
   "cell_type": "code",
   "execution_count": 128,
   "metadata": {},
   "outputs": [
    {
     "name": "stdout",
     "output_type": "stream",
     "text": [
      "Number of Users: 15559\n",
      "Number of Utterances: 346866\n",
      "Number of Conversations: 86943\n"
     ]
    }
   ],
   "source": [
    "antigun_corpus.print_summary_stats()"
   ]
  },
  {
   "cell_type": "markdown",
   "metadata": {},
   "source": [
    "Let's exclude users that appear in both corpora. This removes users that may be debating the opposite side."
   ]
  },
  {
   "cell_type": "code",
   "execution_count": 129,
   "metadata": {},
   "outputs": [],
   "source": [
    "antigun_users = set([user.name for user in antigun_corpus.iter_users()])\n",
    "progun_users = set([user.name for user in progun_corpus.iter_users()])"
   ]
  },
  {
   "cell_type": "code",
   "execution_count": 130,
   "metadata": {},
   "outputs": [
    {
     "data": {
      "text/plain": [
       "2163"
      ]
     },
     "execution_count": 130,
     "metadata": {},
     "output_type": "execute_result"
    }
   ],
   "source": [
    "len(progun_users.intersection(antigun_users))"
   ]
  },
  {
   "cell_type": "code",
   "execution_count": 131,
   "metadata": {},
   "outputs": [],
   "source": [
    "skipped_users = antigun_users.intersection(progun_users)"
   ]
  },
  {
   "cell_type": "code",
   "execution_count": 132,
   "metadata": {},
   "outputs": [],
   "source": [
    "# We want to keep [deleted] users as we don't know their identity\n",
    "skipped_users.remove('[deleted]')"
   ]
  },
  {
   "cell_type": "code",
   "execution_count": 133,
   "metadata": {},
   "outputs": [
    {
     "data": {
      "text/plain": [
       "False"
      ]
     },
     "execution_count": 133,
     "metadata": {},
     "output_type": "execute_result"
    }
   ],
   "source": [
    "'[deleted]' in skipped_users"
   ]
  },
  {
   "cell_type": "code",
   "execution_count": 134,
   "metadata": {},
   "outputs": [
    {
     "data": {
      "text/plain": [
       "True"
      ]
     },
     "execution_count": 134,
     "metadata": {},
     "output_type": "execute_result"
    }
   ],
   "source": [
    "'AutoModerator' in antigun_users"
   ]
  },
  {
   "cell_type": "code",
   "execution_count": 135,
   "metadata": {},
   "outputs": [],
   "source": [
    "# Basic cleaning: skip moderator comments\n",
    "skipped_users.add('AutoModerator')"
   ]
  },
  {
   "cell_type": "code",
   "execution_count": 136,
   "metadata": {},
   "outputs": [
    {
     "data": {
      "text/plain": [
       "2163"
      ]
     },
     "execution_count": 136,
     "metadata": {},
     "output_type": "execute_result"
    }
   ],
   "source": [
    "len(skipped_users)"
   ]
  },
  {
   "cell_type": "markdown",
   "metadata": {},
   "source": [
    "To avoid biasing the model toward frequent users, we will sample up to 3 utterances per user. This avoids data wastage (since this is a small corpus), while ensuring that no user can have an overly large impact on the model."
   ]
  },
  {
   "cell_type": "markdown",
   "metadata": {},
   "source": [
    "We also limit our training corpus to include utterances that are at least 25 characters long, so as to ignore short non-sentence responses, while allowing for most short sentences. Basically, we want to ensure that we are mainly including sentences in the corpus, not just phrases. This also allows us to exclude comments that are deleted (i.e. \"[deleted]\") or missing (i.e. empty string)."
   ]
  },
  {
   "cell_type": "markdown",
   "metadata": {},
   "source": [
    "When computing perplexity scores, we will also use the same treatment, i.e. we will only compute scores for utterances >=25 characters long."
   ]
  },
  {
   "cell_type": "code",
   "execution_count": 154,
   "metadata": {},
   "outputs": [],
   "source": [
    "def clean_text(txt):\n",
    "    return txt.replace(\"\\n\", \" \")"
   ]
  },
  {
   "cell_type": "markdown",
   "metadata": {},
   "source": [
    "## Progun corpus"
   ]
  },
  {
   "cell_type": "code",
   "execution_count": 137,
   "metadata": {},
   "outputs": [],
   "source": [
    "progun_utts = [utt for utt in progun_corpus.iter_utterances() if len(utt.text) >= 25 and utt.user.name not in skipped_users]"
   ]
  },
  {
   "cell_type": "code",
   "execution_count": 138,
   "metadata": {},
   "outputs": [],
   "source": [
    "from collections import defaultdict\n",
    "progun_user_to_utt = defaultdict(list)\n",
    "for utt in progun_utts:\n",
    "    progun_user_to_utt[utt.user.name].append(utt)"
   ]
  },
  {
   "cell_type": "code",
   "execution_count": 139,
   "metadata": {},
   "outputs": [
    {
     "data": {
      "text/plain": [
       "12.488815740255854"
      ]
     },
     "execution_count": 139,
     "metadata": {},
     "output_type": "execute_result"
    }
   ],
   "source": [
    "# Average utt per user\n",
    "len(progun_utts) / len(progun_user_to_utt)"
   ]
  },
  {
   "cell_type": "code",
   "execution_count": 140,
   "metadata": {},
   "outputs": [],
   "source": [
    "from random import sample\n",
    "for user_id, user_utts in progun_user_to_utt.items():\n",
    "    try:\n",
    "        progun_user_to_utt[user_id] = sample(user_utts, 3)\n",
    "    except ValueError:\n",
    "        continue"
   ]
  },
  {
   "cell_type": "code",
   "execution_count": 141,
   "metadata": {},
   "outputs": [],
   "source": [
    "sampled_utts = []\n",
    "for user_id, user_utts in progun_user_to_utt.items():\n",
    "    sampled_utts.extend(user_utts)"
   ]
  },
  {
   "cell_type": "code",
   "execution_count": 142,
   "metadata": {},
   "outputs": [
    {
     "data": {
      "text/plain": [
       "['Except nigras, it *is* the south, after all. ',\n",
       " \"From one high schooler to another, good job on standing up for your beliefs :) I live in a gun-less  country, so there were no protests or anything. But if there was, I would've been on the same side as you. \",\n",
       " 'http://i.imgur.com/5ottssc.gif',\n",
       " '[Hey, no problem](http://imgur.com/vJSzz8a)',\n",
       " \"First off, I'm new in this subreddit. My name is Mark, and I'm from Texas. I've had a gun in the house since the day I was born. \\n\\nAnyways, I got curious about this so I looked it up expecting to see some graphs or data sheets with shootings at establishments with guns banned and guns allowed. (Not) surprisingly I was slapped in the face with 5 pages of anti gun articles and all that not so good stuff. So I'm here to ask this community, do you think antigun or pro gun establishments are more likely to be involved in a mass shooting? \\n\\nIf you have a link to a page about this that provides statistics on this I would be very greatful. \\nThanks! \",\n",
       " 'There is currently (Sun, 31 Aug) a poll on CNN. It asks if children should be allowed to learn to shoot guns under adult supervision. It is currently swinging towards no. Let\\'s change this. The poll is all the way at the bottom of the page, so click on the link below and let\\'s change this this to \"Yes.\" Thank you.\\n\\nhttp://edition.cnn.com\\n',\n",
       " \"Me either. I guess the fact that she is gay is supposed to make the story all the more outrageous. It had little to do with the incident other than it was one of the reasons she decided to arm herself in the first place. If the story about her treatment by the police is true then it is plenty outrageous. But you know, such is today's world.\",\n",
       " 'Again, you’ve got all sorts of  rationale for not having any semblance of empathy or humanity. \\nIf it looks like a duck, talks like a duck it must be a fascist. \\n\\nYou go ahead and create whatever excuses you need to justify your hatred for fellow humans.  \\n\\nGod have mercy on your soul. ',\n",
       " 'Literally said DAMMIT out loud cuz I wanted to say this. Good on you sir',\n",
       " \"I like that. That's the kind of attitude that could save our personal liberty and economic freedom. \"]"
      ]
     },
     "execution_count": 142,
     "metadata": {},
     "output_type": "execute_result"
    }
   ],
   "source": [
    "[utt.text for utt in sample(sampled_utts, 10)]"
   ]
  },
  {
   "cell_type": "code",
   "execution_count": 155,
   "metadata": {},
   "outputs": [],
   "source": [
    "pro_gun_text = ''\n",
    "for utt in sampled_utts:\n",
    "    if utt.text.endswith('.'):\n",
    "        pro_gun_text += clean_text(utt.text) + ' '\n",
    "    else:\n",
    "        pro_gun_text += clean_text(utt.text) + '. '"
   ]
  },
  {
   "cell_type": "code",
   "execution_count": 175,
   "metadata": {},
   "outputs": [],
   "source": [
    "from nltk import sent_tokenize"
   ]
  },
  {
   "cell_type": "code",
   "execution_count": 179,
   "metadata": {},
   "outputs": [],
   "source": [
    "with open('progun_corpus.txt', 'w') as f:\n",
    "    for sentence in sent_tokenize(pro_gun_text):\n",
    "        if len(sentence) > 5:\n",
    "            f.write(sentence)\n",
    "            f.write(\"\\n\")"
   ]
  },
  {
   "cell_type": "markdown",
   "metadata": {},
   "source": [
    "## Antigun corpus"
   ]
  },
  {
   "cell_type": "code",
   "execution_count": 157,
   "metadata": {},
   "outputs": [],
   "source": [
    "antigun_utts = [utt for utt in antigun_corpus.iter_utterances() if len(utt.text) >= 25 and utt.user.name not in skipped_users]"
   ]
  },
  {
   "cell_type": "code",
   "execution_count": 158,
   "metadata": {},
   "outputs": [],
   "source": [
    "antigun_user_to_utt = defaultdict(list)\n",
    "for utt in antigun_utts:\n",
    "    antigun_user_to_utt[utt.user.name].append(utt)"
   ]
  },
  {
   "cell_type": "code",
   "execution_count": 159,
   "metadata": {},
   "outputs": [
    {
     "data": {
      "text/plain": [
       "11.761225944404847"
      ]
     },
     "execution_count": 159,
     "metadata": {},
     "output_type": "execute_result"
    }
   ],
   "source": [
    "# Average utt per user\n",
    "len(antigun_utts) / len(antigun_user_to_utt)"
   ]
  },
  {
   "cell_type": "code",
   "execution_count": null,
   "metadata": {},
   "outputs": [],
   "source": []
  },
  {
   "cell_type": "code",
   "execution_count": 160,
   "metadata": {},
   "outputs": [],
   "source": [
    "for user_id, user_utts in antigun_user_to_utt.items():\n",
    "    try:\n",
    "        antigun_user_to_utt[user_id] = sample(user_utts, 3)\n",
    "    except ValueError:\n",
    "        continue"
   ]
  },
  {
   "cell_type": "code",
   "execution_count": 161,
   "metadata": {},
   "outputs": [],
   "source": [
    "sampled_utts = []\n",
    "for user_id, user_utts in antigun_user_to_utt.items():\n",
    "    sampled_utts.extend(user_utts)"
   ]
  },
  {
   "cell_type": "code",
   "execution_count": 162,
   "metadata": {},
   "outputs": [
    {
     "data": {
      "text/plain": [
       "['It was the guns fault, it made him do it. Im saying it right on this subreddit right?',\n",
       " 'Looking at the picture I said, \"That doesn\\'t look like Will Smith or Jada Smith.\"\\n\\n Looked closer at the name that had a caption \"...not to be confused with the actor.\"',\n",
       " 'Just like our rape culture, right?',\n",
       " \"Over 500 casualties in one event isn't a real problem? Yikes.\",\n",
       " 'Ask Trayvon Martin how great justice-by-gun is. Oh ... um ... never mind.',\n",
       " 'A defeated safe, you say?\\n\\nTell us more about this safe and how it was defeated. ',\n",
       " \"Yay a response to my question. I was beginning to wonder. Don't worry, there are like 20 other mods besides the ones you seem to have a problem with and (gasp!) a lot of the mods are liberal. So pretty much everyone stays in check and we too have had the admins ban mods who have been caught misbehaving. That's the funny thing about actual evidence, when you have some people act on it versus what you guys do which is make accusations without credible evidence. If you had evidence the mods would quickly and easily ban people for vote manipulation.\\n  \\nIt's really obvious to me that you are way too involved in this gun stuff. That's cool. I mean, this is reddit after all and everyone can be interested in whatever they want. You seem to have taken your devotion to a whole other level which has led you to believe things that are untrue. \\n  \\nI don't know how things work in this little tiny subreddit, but with a subreddit as large as /r/Politics its pretty dense of you to believe that the mods there have must time to do anything other than clean the spam queue and answer mod mails. For this reason, it's more important for us to have mods that can handle these basic things and have time to commit to these tasks. It's less important for us to have mods from every single issue related subreddit ever. I mean, it's painfully obvious to me that if we have to add one mod per issue then we will have a lot of crazy fucking mods running around. \\n  \\nLook, I'm not a racist and I don't hate black people but that doesn't mean I'm using my mod position to push a pro-African American agenda and it certainly doesn't mean we need to pick up someone from r/Niggers to counter me in this regard. If it makes you feel better I'm not a big supporter of gun rights and all that (although I live in the south and realize how guns are going no where any time soon). So you see, you actually already have what you want but I'm sure you'll find some dumb way to yell at me as if getting EXACTLY what you want EXACTLY when you want doesn't make you look like some some spoiled chick on her 16th birthday. \\n\\nI'm out of here. Feel free to hurl your insults and say whatever dumb shit you want to say. I'm already gone. \\n\",\n",
       " 'How is liking something and collecting it an unhealthy obsession?',\n",
       " 'But but mah 2nd amendment /s',\n",
       " 'The comments in the other discussion are quite mad about this subs definition of what constitutes a mass shooting. ']"
      ]
     },
     "execution_count": 162,
     "metadata": {},
     "output_type": "execute_result"
    }
   ],
   "source": [
    "[utt.text for utt in sample(sampled_utts, 10)]"
   ]
  },
  {
   "cell_type": "code",
   "execution_count": 164,
   "metadata": {},
   "outputs": [],
   "source": [
    "anti_gun_text = ''\n",
    "for utt in sampled_utts:\n",
    "    if utt.text.endswith('.'):\n",
    "        anti_gun_text += clean_text(utt.text) + ' '\n",
    "    else:\n",
    "        anti_gun_text += clean_text(utt.text) + '. '"
   ]
  },
  {
   "cell_type": "code",
   "execution_count": null,
   "metadata": {},
   "outputs": [],
   "source": []
  },
  {
   "cell_type": "code",
   "execution_count": 180,
   "metadata": {},
   "outputs": [],
   "source": [
    "with open('antigun_corpus.txt', 'w') as f:\n",
    "    for sentence in sent_tokenize(anti_gun_text):\n",
    "        if len(sentence) > 5:\n",
    "            f.write(sentence)\n",
    "            f.write(\"\\n\")"
   ]
  },
  {
   "cell_type": "code",
   "execution_count": 230,
   "metadata": {},
   "outputs": [],
   "source": [
    "lm = LanguageModel(SRILM_path='/Users/calebchiam/Documents/GitHub/cs6742-fork/convokit/SRILM/srilm-1.7.3',\n",
    "                  working_dir='/Users/calebchiam/Documents/GitHub/cs6742-fork/convokit/SRILM/dump/',\n",
    "                  lm_output_path='progun.lm',\n",
    "                  lm_type='laplace',\n",
    "                  count_output_path='progun_counts.txt',\n",
    "                  order=2,\n",
    "                  verbose=False)"
   ]
  },
  {
   "cell_type": "code",
   "execution_count": 231,
   "metadata": {},
   "outputs": [
    {
     "name": "stdout",
     "output_type": "stream",
     "text": [
      "\n"
     ]
    }
   ],
   "source": [
    "lm.train('progun_corpus.txt')"
   ]
  },
  {
   "cell_type": "code",
   "execution_count": 232,
   "metadata": {},
   "outputs": [
    {
     "data": {
      "text/plain": [
       "213.3894"
      ]
     },
     "execution_count": 232,
     "metadata": {},
     "output_type": "execute_result"
    }
   ],
   "source": [
    "lm.str_perplexity(\"I love guns.\")"
   ]
  },
  {
   "cell_type": "code",
   "execution_count": 233,
   "metadata": {},
   "outputs": [
    {
     "data": {
      "text/plain": [
       "523.6776"
      ]
     },
     "execution_count": 233,
     "metadata": {},
     "output_type": "execute_result"
    }
   ],
   "source": [
    "lm.str_perplexity(\"I hate guns.\")"
   ]
  },
  {
   "cell_type": "code",
   "execution_count": 234,
   "metadata": {},
   "outputs": [
    {
     "data": {
      "text/plain": [
       "1721.711"
      ]
     },
     "execution_count": 234,
     "metadata": {},
     "output_type": "execute_result"
    }
   ],
   "source": [
    "lm.str_perplexity(\"We have a right to arm ourselves.\")"
   ]
  },
  {
   "cell_type": "code",
   "execution_count": 235,
   "metadata": {},
   "outputs": [
    {
     "data": {
      "text/plain": [
       "1525.072"
      ]
     },
     "execution_count": 235,
     "metadata": {},
     "output_type": "execute_result"
    }
   ],
   "source": [
    "lm.str_perplexity(\"We do not have a right to arm ourselves.\")"
   ]
  },
  {
   "cell_type": "code",
   "execution_count": 225,
   "metadata": {},
   "outputs": [],
   "source": [
    "lm2 = LanguageModel(SRILM_path='/Users/calebchiam/Documents/GitHub/cs6742-fork/convokit/SRILM/srilm-1.7.3',\n",
    "                  working_dir='/Users/calebchiam/Documents/GitHub/cs6742-fork/convokit/SRILM/dump/',\n",
    "                  lm_output_path='antigun.lm',\n",
    "                  lm_type='laplace',\n",
    "                  count_output_path='antigun_counts.txt',\n",
    "                  order=2,\n",
    "                  verbose=False)"
   ]
  },
  {
   "cell_type": "code",
   "execution_count": 226,
   "metadata": {},
   "outputs": [
    {
     "name": "stdout",
     "output_type": "stream",
     "text": [
      "\n"
     ]
    }
   ],
   "source": [
    "lm2.train('antigun_corpus.txt')"
   ]
  },
  {
   "cell_type": "code",
   "execution_count": 254,
   "metadata": {},
   "outputs": [],
   "source": [
    "import json\n",
    "with open(\"skipped_users.json\", 'w') as f:\n",
    "    json.dump({\"users\": list(skipped_users)}, f)"
   ]
  },
  {
   "cell_type": "code",
   "execution_count": null,
   "metadata": {},
   "outputs": [],
   "source": []
  }
 ],
 "metadata": {
  "kernelspec": {
   "display_name": "Python 3",
   "language": "python",
   "name": "python3"
  },
  "language_info": {
   "codemirror_mode": {
    "name": "ipython",
    "version": 3
   },
   "file_extension": ".py",
   "mimetype": "text/x-python",
   "name": "python",
   "nbconvert_exporter": "python",
   "pygments_lexer": "ipython3",
   "version": "3.7.3"
  }
 },
 "nbformat": 4,
 "nbformat_minor": 2
}
