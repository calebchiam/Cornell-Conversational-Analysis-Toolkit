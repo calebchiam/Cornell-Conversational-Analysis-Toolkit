{
 "cells": [
  {
   "cell_type": "code",
   "execution_count": 1,
   "metadata": {},
   "outputs": [],
   "source": [
    "import os\n",
    "os.chdir('../../..')"
   ]
  },
  {
   "cell_type": "code",
   "execution_count": 2,
   "metadata": {},
   "outputs": [
    {
     "data": {
      "text/plain": [
       "['LICENSE.md',\n",
       " 'progun_forum_corpus.txt',\n",
       " 'convokit',\n",
       " '.DS_Store',\n",
       " 'requirements.txt',\n",
       " 'progun_corpus.txt',\n",
       " 'skipped_users.json',\n",
       " 'Makefile',\n",
       " 'website',\n",
       " 'datasets',\n",
       " 'tests',\n",
       " 'README.md',\n",
       " 'setup.py',\n",
       " '.gitignore',\n",
       " 'ldavis_prepared_8',\n",
       " 'moderate_forum_corpus_full.txt',\n",
       " 'CONTRIBUTING.md',\n",
       " 'examples',\n",
       " 'doc',\n",
       " 'ldavis_prepared_news_8',\n",
       " 'antigun_forum_corpus.txt',\n",
       " '.git',\n",
       " 'antigun_corpus.txt',\n",
       " 'whole_forum_corpus_full.txt',\n",
       " '.idea']"
      ]
     },
     "execution_count": 2,
     "metadata": {},
     "output_type": "execute_result"
    }
   ],
   "source": [
    "os.listdir()"
   ]
  },
  {
   "cell_type": "code",
   "execution_count": 3,
   "metadata": {},
   "outputs": [],
   "source": [
    "from convokit import Corpus, LanguageModel, download"
   ]
  },
  {
   "cell_type": "code",
   "execution_count": 4,
   "metadata": {},
   "outputs": [],
   "source": [
    "forum_corpus = Corpus(filename=\"/Users/calebchiam/Documents/GitHub/cs6742-fork/datasets/gun_debate_forum_corpus_full\")"
   ]
  },
  {
   "cell_type": "code",
   "execution_count": 5,
   "metadata": {},
   "outputs": [
    {
     "name": "stdout",
     "output_type": "stream",
     "text": [
      "Number of Users: 2010\n",
      "Number of Utterances: 457973\n",
      "Number of Conversations: 4104\n"
     ]
    }
   ],
   "source": [
    "forum_corpus.print_summary_stats()"
   ]
  },
  {
   "cell_type": "code",
   "execution_count": 6,
   "metadata": {},
   "outputs": [],
   "source": [
    "from collections import defaultdict\n",
    "leanings = defaultdict(int)\n",
    "for user in forum_corpus.iter_users():\n",
    "    if 'lean' in user.meta:\n",
    "        leanings[user.meta['lean']] += 1 "
   ]
  },
  {
   "cell_type": "code",
   "execution_count": 7,
   "metadata": {},
   "outputs": [
    {
     "data": {
      "text/plain": [
       "defaultdict(int,\n",
       "            {'Libertarian ': 117,\n",
       "             'Slightly Conservative ': 49,\n",
       "             'Progressive ': 77,\n",
       "             'Undisclosed ': 428,\n",
       "             'Liberal ': 105,\n",
       "             'Libertarian - Right ': 83,\n",
       "             'Conservative ': 215,\n",
       "             'Very Conservative ': 87,\n",
       "             'Slightly Liberal ': 56,\n",
       "             'Independent ': 240,\n",
       "             'Centrist ': 76,\n",
       "             'Other ': 182,\n",
       "             'Socialist ': 50,\n",
       "             'Libertarian - Left ': 39,\n",
       "             'Private ': 19,\n",
       "             'Moderate ': 73,\n",
       "             'Very Liberal ': 44,\n",
       "             'Communist ': 9})"
      ]
     },
     "execution_count": 7,
     "metadata": {},
     "output_type": "execute_result"
    }
   ],
   "source": [
    "leanings"
   ]
  },
  {
   "cell_type": "code",
   "execution_count": 8,
   "metadata": {},
   "outputs": [
    {
     "data": {
      "text/plain": [
       "1949"
      ]
     },
     "execution_count": 8,
     "metadata": {},
     "output_type": "execute_result"
    }
   ],
   "source": [
    "sum(leanings.values())"
   ]
  },
  {
   "cell_type": "code",
   "execution_count": 9,
   "metadata": {},
   "outputs": [],
   "source": [
    "for user in forum_corpus.iter_users():\n",
    "    if 'lean' in user.meta:\n",
    "        user.meta['lean'] = user.meta['lean'].strip() # get rid of extra whitespace"
   ]
  },
  {
   "cell_type": "code",
   "execution_count": 10,
   "metadata": {},
   "outputs": [],
   "source": [
    "# Liberal, Very Liberal, Progressive\n",
    "# Libertarian - Right, Conservative, Very Conservative\n",
    "# Independent, Centrist, Moderate"
   ]
  },
  {
   "cell_type": "code",
   "execution_count": 11,
   "metadata": {},
   "outputs": [],
   "source": [
    "random_user = next(forum_corpus.iter_users())"
   ]
  },
  {
   "cell_type": "code",
   "execution_count": 12,
   "metadata": {},
   "outputs": [],
   "source": [
    "antigun_users = []\n",
    "progun_users = []\n",
    "moderate_users = []\n",
    "for user in forum_corpus.iter_users():\n",
    "    lean = user.meta.get('lean', None)\n",
    "    if lean in {'Liberal', 'Very Liberal', 'Progressive'}:\n",
    "        antigun_users.append(user)\n",
    "    elif lean in {'Libertarian - Right', 'Conservative', 'Very Conservative'}:\n",
    "        progun_users.append(user)\n",
    "    elif lean in {'Independent', 'Centrist', 'Moderate'}:\n",
    "        moderate_users.append(user)"
   ]
  },
  {
   "cell_type": "code",
   "execution_count": 13,
   "metadata": {},
   "outputs": [
    {
     "data": {
      "text/plain": [
       "226"
      ]
     },
     "execution_count": 13,
     "metadata": {},
     "output_type": "execute_result"
    }
   ],
   "source": [
    "len(antigun_users)"
   ]
  },
  {
   "cell_type": "code",
   "execution_count": 14,
   "metadata": {},
   "outputs": [
    {
     "data": {
      "text/plain": [
       "385"
      ]
     },
     "execution_count": 14,
     "metadata": {},
     "output_type": "execute_result"
    }
   ],
   "source": [
    "len(progun_users)"
   ]
  },
  {
   "cell_type": "code",
   "execution_count": 15,
   "metadata": {},
   "outputs": [
    {
     "data": {
      "text/plain": [
       "389"
      ]
     },
     "execution_count": 15,
     "metadata": {},
     "output_type": "execute_result"
    }
   ],
   "source": [
    "len(moderate_users)"
   ]
  },
  {
   "cell_type": "markdown",
   "metadata": {},
   "source": [
    "## Distribution of utterances"
   ]
  },
  {
   "cell_type": "code",
   "execution_count": 16,
   "metadata": {},
   "outputs": [],
   "source": [
    "import matplotlib.pyplot as plt"
   ]
  },
  {
   "cell_type": "code",
   "execution_count": 17,
   "metadata": {},
   "outputs": [],
   "source": [
    "num_utts_antigun_users = [len(list(user.iter_utterances())) for user in antigun_users]\n",
    "num_utts_progun_users = [len(list(user.iter_utterances())) for user in progun_users]\n",
    "num_utts_moderate_users = [len(list(user.iter_utterances())) for user in moderate_users]"
   ]
  },
  {
   "cell_type": "code",
   "execution_count": 67,
   "metadata": {},
   "outputs": [
    {
     "data": {
      "text/plain": [
       "(array([189.,  14.,   8.,   2.,   2.,   4.,   1.,   1.,   2.,   0.,   0.,\n",
       "          0.,   1.,   0.,   1.,   0.,   0.,   0.,   0.,   1.]),\n",
       " array([1.00000e+00, 1.85550e+02, 3.70100e+02, 5.54650e+02, 7.39200e+02,\n",
       "        9.23750e+02, 1.10830e+03, 1.29285e+03, 1.47740e+03, 1.66195e+03,\n",
       "        1.84650e+03, 2.03105e+03, 2.21560e+03, 2.40015e+03, 2.58470e+03,\n",
       "        2.76925e+03, 2.95380e+03, 3.13835e+03, 3.32290e+03, 3.50745e+03,\n",
       "        3.69200e+03]),\n",
       " <a list of 20 Patch objects>)"
      ]
     },
     "execution_count": 67,
     "metadata": {},
     "output_type": "execute_result"
    },
    {
     "data": {
      "image/png": "[encoded data removed]",
      "text/plain": [
       "<Figure size 432x288 with 1 Axes>"
      ]
     },
     "metadata": {
      "needs_background": "light"
     },
     "output_type": "display_data"
    }
   ],
   "source": [
    "plt.hist(num_utts_antigun_users, bins=20)"
   ]
  },
  {
   "cell_type": "markdown",
   "metadata": {},
   "source": [
    "Some people say a LOT."
   ]
  },
  {
   "cell_type": "code",
   "execution_count": 68,
   "metadata": {},
   "outputs": [
    {
     "data": {
      "text/plain": [
       "(array([377.,   4.,   3.,   0.,   0.,   0.,   0.,   0.,   0.,   0.,   0.,\n",
       "          0.,   0.,   0.,   0.,   0.,   0.,   0.,   0.,   1.]),\n",
       " array([1.000000e+00, 2.697150e+03, 5.393300e+03, 8.089450e+03,\n",
       "        1.078560e+04, 1.348175e+04, 1.617790e+04, 1.887405e+04,\n",
       "        2.157020e+04, 2.426635e+04, 2.696250e+04, 2.965865e+04,\n",
       "        3.235480e+04, 3.505095e+04, 3.774710e+04, 4.044325e+04,\n",
       "        4.313940e+04, 4.583555e+04, 4.853170e+04, 5.122785e+04,\n",
       "        5.392400e+04]),\n",
       " <a list of 20 Patch objects>)"
      ]
     },
     "execution_count": 68,
     "metadata": {},
     "output_type": "execute_result"
    },
    {
     "data": {
      "image/png": "[encoded data removed]",
      "text/plain": [
       "<Figure size 432x288 with 1 Axes>"
      ]
     },
     "metadata": {
      "needs_background": "light"
     },
     "output_type": "display_data"
    }
   ],
   "source": [
    "plt.hist(num_utts_progun_users, bins=20) # holy shit that guy at 50000"
   ]
  },
  {
   "cell_type": "code",
   "execution_count": 114,
   "metadata": {},
   "outputs": [
    {
     "data": {
      "text/plain": [
       "(array([356.,  13.,   4.,   5.,   2.,   0.,   2.,   1.,   1.,   2.,   1.,\n",
       "          0.,   0.,   0.,   1.,   0.,   0.,   0.,   0.,   1.]),\n",
       " array([1.00000e+00, 5.90200e+02, 1.17940e+03, 1.76860e+03, 2.35780e+03,\n",
       "        2.94700e+03, 3.53620e+03, 4.12540e+03, 4.71460e+03, 5.30380e+03,\n",
       "        5.89300e+03, 6.48220e+03, 7.07140e+03, 7.66060e+03, 8.24980e+03,\n",
       "        8.83900e+03, 9.42820e+03, 1.00174e+04, 1.06066e+04, 1.11958e+04,\n",
       "        1.17850e+04]),\n",
       " <a list of 20 Patch objects>)"
      ]
     },
     "execution_count": 114,
     "metadata": {},
     "output_type": "execute_result"
    },
    {
     "data": {
      "image/png": "[encoded data removed]",
      "text/plain": [
       "<Figure size 432x288 with 1 Axes>"
      ]
     },
     "metadata": {
      "needs_background": "light"
     },
     "output_type": "display_data"
    }
   ],
   "source": [
    "plt.hist(num_utts_moderate_users, bins=20) # holy shit that guy at 7500"
   ]
  },
  {
   "cell_type": "code",
   "execution_count": 115,
   "metadata": {},
   "outputs": [],
   "source": [
    "import numpy as np"
   ]
  },
  {
   "cell_type": "code",
   "execution_count": 70,
   "metadata": {},
   "outputs": [
    {
     "name": "stdout",
     "output_type": "stream",
     "text": [
      "29.5\n",
      "160.50442477876106\n"
     ]
    }
   ],
   "source": [
    "print(np.median(num_utts_antigun_users))\n",
    "print(np.mean(num_utts_antigun_users))"
   ]
  },
  {
   "cell_type": "code",
   "execution_count": 71,
   "metadata": {},
   "outputs": [
    {
     "name": "stdout",
     "output_type": "stream",
     "text": [
      "12.0\n",
      "357.6051948051948\n"
     ]
    }
   ],
   "source": [
    "print(np.median(num_utts_progun_users))\n",
    "print(np.mean(num_utts_progun_users))"
   ]
  },
  {
   "cell_type": "markdown",
   "metadata": {},
   "source": [
    "To normalize, we take up to 5 utterances per user. If the user has <= 5 utterances, take all of them."
   ]
  },
  {
   "cell_type": "code",
   "execution_count": 18,
   "metadata": {},
   "outputs": [],
   "source": [
    "from random import sample"
   ]
  },
  {
   "cell_type": "code",
   "execution_count": 19,
   "metadata": {},
   "outputs": [],
   "source": [
    "progun_utts = []\n",
    "for user in progun_users:\n",
    "    user_utts = list(user.iter_utterances())\n",
    "    if len(user_utts) <= 5:\n",
    "        progun_utts.extend(user_utts)\n",
    "    else:\n",
    "        progun_utts.extend(sample(user_utts, 5))"
   ]
  },
  {
   "cell_type": "code",
   "execution_count": 20,
   "metadata": {},
   "outputs": [],
   "source": [
    "antigun_utts = []\n",
    "for user in antigun_users:\n",
    "    user_utts = list(user.iter_utterances())\n",
    "    if len(user_utts) <= 5:\n",
    "        antigun_utts.extend(user_utts)\n",
    "    else:\n",
    "        antigun_utts.extend(sample(user_utts, 5))"
   ]
  },
  {
   "cell_type": "code",
   "execution_count": 126,
   "metadata": {},
   "outputs": [],
   "source": [
    "moderate_utts = []\n",
    "for user in moderate_users:\n",
    "    user_utts = list(user.iter_utterances())\n",
    "    if len(user_utts) <= 5:\n",
    "        moderate_utts.extend(user_utts)\n",
    "    else:\n",
    "        moderate_utts.extend(sample(user_utts, 5))"
   ]
  },
  {
   "cell_type": "code",
   "execution_count": 21,
   "metadata": {},
   "outputs": [
    {
     "data": {
      "text/plain": [
       "932"
      ]
     },
     "execution_count": 21,
     "metadata": {},
     "output_type": "execute_result"
    }
   ],
   "source": [
    "len(antigun_utts)"
   ]
  },
  {
   "cell_type": "code",
   "execution_count": 22,
   "metadata": {},
   "outputs": [
    {
     "data": {
      "text/plain": [
       "1487"
      ]
     },
     "execution_count": 22,
     "metadata": {},
     "output_type": "execute_result"
    }
   ],
   "source": [
    "len(progun_utts)"
   ]
  },
  {
   "cell_type": "code",
   "execution_count": 127,
   "metadata": {},
   "outputs": [
    {
     "data": {
      "text/plain": [
       "1607"
      ]
     },
     "execution_count": 127,
     "metadata": {},
     "output_type": "execute_result"
    }
   ],
   "source": [
    "len(moderate_utts)"
   ]
  },
  {
   "cell_type": "code",
   "execution_count": 23,
   "metadata": {},
   "outputs": [
    {
     "data": {
      "text/plain": [
       "['personally, i am highly supportive of the second amendment, but one has a choice whether to carry guns on their person at a given moment while one does not have this choice when it comes to their sexuality, gender, or race. apples to oranges also i think they should be able to allow smoking so long as its clearly posted and not vented out to the side walk',\n",
       " '',\n",
       " \"It depends on a number of external factors from that, but your concern does play a part. Other factors would include the type of business, the negative externalities an industry might have, a business' effects on society, etc.\",\n",
       " 'Maybe??',\n",
       " 'you have yet to cite my specific statement. Are you afraid?',\n",
       " 'Repeal the 2nd amendment. Ban all guns Seize all guns not surrendered. Is that too simple for you ?',\n",
       " 'Then why are \"home invaders\" not charged with it in most cases ? The \"new laws\" would be to establish \"Home Invasion\" as a crime.',\n",
       " 'BAN ALL GUNS Make exceptions for muzzle loaders, bolt action and maybe single and double barreled shotguns. QED.',\n",
       " \"Ah this is it And another reason why guns should be banned, a gun owner unilaterally deciding a man's justified fate\\nJudge, jury and executioner Isn't that a lynch mob rationale ?\",\n",
       " 'Gun issues is an exception Guns kill people. The right to own one is a blot on the US Constitution.']"
      ]
     },
     "execution_count": 23,
     "metadata": {},
     "output_type": "execute_result"
    }
   ],
   "source": [
    "[utt.text for utt in antigun_utts[:10]]"
   ]
  },
  {
   "cell_type": "code",
   "execution_count": 24,
   "metadata": {},
   "outputs": [
    {
     "data": {
      "text/plain": [
       "[\"your stupid question is not relevant to the USA. Mine is. we have increased guns massively, both in people carrying them and the numbers owned and yet our violent crime rate is going down. that sort of bitch slaps all the bannerrhoid propaganda we hear from Democrats and the media how more guns equals more violence. It doesn't.\",\n",
       " 'many makers either supply a military surplus mag while more and more are using Magpuls. Italian Made Mec-gar mags are often OEM for many guns and as good or better than others OEMs. I use MGs exclusively in my CZ 75s since the springs on them are better than the factory original and they are cheaper. Now on my race guns (Also CZ) I use CZ factory TS mags but with CZ Custom (Aftermarket) extensions and springs. These are designed for pro level world class shooting',\n",
       " 'you have not demonstrated you have any discernible knowledge in ANY topic that is relevant to this discussion. calling LEGAL gun ownership a public health crisis is just plain silly',\n",
       " '1) why do you demand I meet a test you have failed to even attempt to meet. 2) you fail to answer the questions because its a no win scenario for you',\n",
       " \"You haven't proven your claim. I never lost to any Israelis when I was shooting for the USA but I suspect their Olympic team members weren't limited to 50 rounds a year.\",\n",
       " 'I may be mistaken but my understanding is that Wisconsin doesn\\'t require a permit for open carry although \"open carry\" does not include carrying a loaded firearm in your personal vehicle if it is \"accessible\". My further understanding is that a firearm is considered to be \"accessible\" even if it is cased and on the passenger seat or back seat or even the glove box. If that\\'s the case then \"open carry\" is actually extremely restricted and the only real way to get around those restrictions is to get permitted to conceal. The net effect of that is to register lawful gun owners who choose to carry and also desire reasonable convenience in doing so. I would suggest that this \"expansion\" of gun rights is little more than an underhanded method of increasing registration.',\n",
       " 'Miller was a test case for the NFA and was decided amid sharp political controversy. It should be noted that the \"reasonable relationship\" test mentioned in Miller was remanded back to the district court.',\n",
       " 'First off, choosing a home defense firearm is kind of like choosing one screwdriver and assuming that you have a toolbox. Defense of your home and family is no more a one tool job than is replacing a garbage disposal. While I\\'ll grant you that in a pinch having something available is far preferable to having nothing available it is equally preferable to have options available to address different threats with different tools. Second, the primary objective of home defense is survival. Meeting this objective doesn\\'t necessarily mean preparing for a firefight. In many (if not most) cases this objective is best met by evasion rather than engagement. In fact I would suggest that engagement is the least desirable option. So, with these two factors in place, before selecting any firearm for home defense the first thing that needs to be done for home defense planning is identifying likely entry points and planning exit strategies. Front and back doors are always going to top the list of likely entry points but don\\'t forget about basement windows, ground floor windows at the sides of the house and entrances from garages. While main entrance doors might be attractive to an ambush attacker the individual who is primarily interested in not being detected is going to look for a different point of entry. As you identify these likely points of entry you should also think about how to get out of the house without crossing these areas. In doing this you should also consider fields of fire both from that point and to that point. You need to have a good idea of what someone in that position can see and, if they have a firearm, what they would be able to hit. Directly related to that, you need to look at defensive positions you could take to avoid fire from that position as well as areas where you would have a reasonable chance of engaging that target (if necessary) while remaining behind cover. With these key points in mind you now need to consider cases where multiple attackers may enter either from a single point or from multiple points. Three attackers coming up from the basement might be relatively easy to avoid or engage but one from the basement and another from the front door adds a huge level of complexity your situation. Furthermore, just because one target approaches from a given point doesn\\'t mean that another won\\'t appear from that same point once they detect activity. Your choice of firearm needs to address this contingency both from the standpoint of offensive use [directly engaging the target(s)] and defensive use [suppressive fire as you move]. Another consideration you need to address is perimeter security. If your property extends some distance from the house and/or has outbuildings such as sheds, barns or garages you need to consider the possibility that an attack might occur from one of those areas. Think about whether the handgun you have would be adequate to address the threat of a child molester who attacks your toddler who is playing in the back yard 40\\' from your back door. Now, with these basic concepts in mind, we need to start looking at firearms. In general a handgun affords one with excellent portability, rapid engagement of multiple targets and easy storage in a multitude of common locations. You can keep a handgun in the nightstand, the kitchen cupboard, an end table or your waistband without too much difficulty at all. Many handguns also afford the user with decent capacity and enough \"stopping power\" to be an effective close in protective tool. Where the handgun lacks is in longer range accuracy and the fact that many handguns which are \"comfortable\" for novice shooters achieve that comfort by using lower power rounds and reduced capacity. A simple double action revolver in .38sp might be easy to use at the range but it\\'s slower to reload than a semi-auto pistol and doesn\\'t deliver the punch of a heavier round. A pump shotgun can provide an excellent deterrent effect. The sound of the action is unmistakable and a belly full of 00 is decidedly undesirable to most people. The relatively low velocity shot also means that the risk of overpenetration of a target is greatly reduced. The downside to a shotgun is, like the handgun, reduced effective range and limited capacity. Furthermore, a pump shotgun is slower on the follow-up than most handguns and movement can easily be restricted due to barrel length. The size of a shotgun also limits the places where one can be easily stored while still being readily accessible. Shotguns can also be slow to reload. A semi-auto rifle such as an AR or AK style (especially a carbine) provides good accuracy at pretty much any home defense range, good stopping power and excellent capacity. The higher velocity rounds also tend to be more effective than handgun rounds if there is some light resistance (such as glass or furniture) between the shooter and the target. This type of firearm is also lightweight and low recoil which affords the shooter with excellent opportunities for follow up shots. The barrel length of this type of firearm makes it fairly simple to use as a natural point of aim weapon. The down side to these weapons is the risk of overpenetration of the target and, like the shotgun, ease of concealment/storage. So with all of this the question is still \"What\\'s the answer?\" Well, from my perspective the answer is \"All of the above\". I recommend handguns as a first line of \"last defense\". It\\'s a good idea to keep multiple handguns in various areas of the house where they are readily accessible should the need arise. This satisfies rule #1 which is \"something is better than nothing\". I also recommend keeping one or more long gun on each floor of the house in as central an area as you can so if things get hairy you can get to it quickly. Given the opportunity my ultimate choice would be something along the lines of a M-4 as my \"last in line for a last defense\" which means that if I couldn\\'t get out of the house and had to fight I\\'d prefer to have that weapon in my hands when the chips were down.',\n",
       " \"Sound doesn't help.\\n\",\n",
       " 'Interesting. The cylinder release is definitely Colt but the push rod and shroud look more like a Ruger LCR...which wasn\\'t available in 1981. The push rod also doesn\\'t look long enough to be a Python 2.5\" or 3\" and it\\'s no a longer barrel than that. Smith generally uses a larger thumb pad on their cylinder release. What is that thing?']"
      ]
     },
     "execution_count": 24,
     "metadata": {},
     "output_type": "execute_result"
    }
   ],
   "source": [
    "[utt.text for utt in progun_utts[:10]]"
   ]
  },
  {
   "cell_type": "code",
   "execution_count": 25,
   "metadata": {},
   "outputs": [],
   "source": [
    "def clean_text(txt):\n",
    "    return txt.replace(\"\\n\", \" \").replace('\\x92', \"'\")"
   ]
  },
  {
   "cell_type": "code",
   "execution_count": 26,
   "metadata": {},
   "outputs": [],
   "source": [
    "progun_text = ''\n",
    "for utt in progun_utts:\n",
    "    if len(utt.text) >= 25:\n",
    "        if utt.text.endswith('.'):\n",
    "            progun_text += clean_text(utt.text) + ' '\n",
    "        else:\n",
    "            progun_text += clean_text(utt.text) + '. '"
   ]
  },
  {
   "cell_type": "code",
   "execution_count": 27,
   "metadata": {},
   "outputs": [],
   "source": [
    "antigun_text = ''\n",
    "for utt in antigun_utts:\n",
    "    if len(utt.text) >= 25:\n",
    "        if utt.text.endswith('.'):\n",
    "            antigun_text += clean_text(utt.text) + ' '\n",
    "        else:\n",
    "            antigun_text += clean_text(utt.text) + '. '"
   ]
  },
  {
   "cell_type": "code",
   "execution_count": 134,
   "metadata": {},
   "outputs": [],
   "source": [
    "moderate_text = ''\n",
    "for utt in moderate_utts:\n",
    "    if len(utt.text) >= 25:\n",
    "        if utt.text.endswith('.'):\n",
    "            moderate_text += clean_text(utt.text) + ' '\n",
    "        else:\n",
    "            moderate_text += clean_text(utt.text) + '. '"
   ]
  },
  {
   "cell_type": "code",
   "execution_count": 28,
   "metadata": {},
   "outputs": [],
   "source": [
    "from random import sample\n",
    "all_text = ''\n",
    "for user in forum_corpus.iter_users():\n",
    "    user_utts = list(user.iter_utterances())\n",
    "    user_utts = [utt for utt in user_utts if len(utt.text) >= 25]\n",
    "    if len(user_utts) >= 3:\n",
    "        selected_utts = sample(user_utts, 3)\n",
    "    else:\n",
    "        selected_utts = user_utts\n",
    "    \n",
    "    for utt in selected_utts:\n",
    "        if utt.text.endswith('.'):\n",
    "            all_text += clean_text(utt.text) + ' '\n",
    "        else:\n",
    "            all_text += clean_text(utt.text) + '. '"
   ]
  },
  {
   "cell_type": "code",
   "execution_count": 29,
   "metadata": {},
   "outputs": [
    {
     "data": {
      "text/plain": [
       "570464"
      ]
     },
     "execution_count": 29,
     "metadata": {},
     "output_type": "execute_result"
    }
   ],
   "source": [
    "len(progun_text)"
   ]
  },
  {
   "cell_type": "code",
   "execution_count": 30,
   "metadata": {},
   "outputs": [
    {
     "data": {
      "text/plain": [
       "365536"
      ]
     },
     "execution_count": 30,
     "metadata": {},
     "output_type": "execute_result"
    }
   ],
   "source": [
    "len(antigun_text)"
   ]
  },
  {
   "cell_type": "code",
   "execution_count": 31,
   "metadata": {},
   "outputs": [
    {
     "ename": "NameError",
     "evalue": "name 'moderate_text' is not defined",
     "output_type": "error",
     "traceback": [
      "\u001b[0;31m---------------------------------------------------------------------------\u001b[0m",
      "\u001b[0;31mNameError\u001b[0m                                 Traceback (most recent call last)",
      "\u001b[0;32m<ipython-input-31-fe512823ab82>\u001b[0m in \u001b[0;36m<module>\u001b[0;34m\u001b[0m\n\u001b[0;32m----> 1\u001b[0;31m \u001b[0mlen\u001b[0m\u001b[0;34m(\u001b[0m\u001b[0mmoderate_text\u001b[0m\u001b[0;34m)\u001b[0m\u001b[0;34m\u001b[0m\u001b[0;34m\u001b[0m\u001b[0m\n\u001b[0m",
      "\u001b[0;31mNameError\u001b[0m: name 'moderate_text' is not defined"
     ]
    }
   ],
   "source": [
    "len(moderate_text)"
   ]
  },
  {
   "cell_type": "code",
   "execution_count": 32,
   "metadata": {},
   "outputs": [],
   "source": [
    "from nltk import sent_tokenize"
   ]
  },
  {
   "cell_type": "code",
   "execution_count": 33,
   "metadata": {},
   "outputs": [],
   "source": [
    "with open('progun_forum_corpus_full.txt', 'w') as f:\n",
    "    for sentence in sent_tokenize(progun_text):\n",
    "        if len(sentence) > 5:\n",
    "            f.write(sentence)\n",
    "            f.write(\"\\n\")"
   ]
  },
  {
   "cell_type": "code",
   "execution_count": 34,
   "metadata": {},
   "outputs": [],
   "source": [
    "with open('antigun_forum_corpus_full.txt', 'w') as f:\n",
    "    for sentence in sent_tokenize(antigun_text):\n",
    "        if len(sentence) > 5:\n",
    "            f.write(sentence)\n",
    "            f.write(\"\\n\")"
   ]
  },
  {
   "cell_type": "code",
   "execution_count": 147,
   "metadata": {},
   "outputs": [],
   "source": [
    "with open('moderate_forum_corpus_full.txt', 'w') as f:\n",
    "    for sentence in sent_tokenize(moderate_text):\n",
    "        if len(sentence) > 5:\n",
    "            f.write(sentence)\n",
    "            f.write(\"\\n\")"
   ]
  },
  {
   "cell_type": "code",
   "execution_count": 35,
   "metadata": {},
   "outputs": [],
   "source": [
    "with open('whole_forum_corpus_full.txt', 'w') as f:\n",
    "    for sentence in sent_tokenize(all_text):\n",
    "        if len(sentence) > 5:\n",
    "            f.write(sentence)\n",
    "            f.write(\"\\n\")"
   ]
  },
  {
   "cell_type": "markdown",
   "metadata": {},
   "source": [
    "## Training step"
   ]
  },
  {
   "cell_type": "code",
   "execution_count": 61,
   "metadata": {},
   "outputs": [],
   "source": [
    "lm = LanguageModel(SRILM_path='/Users/calebchiam/Documents/GitHub/cs6742-fork/convokit/SRILM/srilm-1.7.3',\n",
    "                  working_dir='/Users/calebchiam/Documents/GitHub/cs6742-fork/convokit/SRILM/dump/',\n",
    "                  lm_output_path='whole_forum_full.lm',\n",
    "                  lm_type='laplace',\n",
    "                  count_output_path='whole_forum_counts.txt',\n",
    "                  order=2,\n",
    "                  verbose=True)"
   ]
  },
  {
   "cell_type": "code",
   "execution_count": 62,
   "metadata": {},
   "outputs": [
    {
     "name": "stdout",
     "output_type": "stream",
     "text": [
      "\n"
     ]
    }
   ],
   "source": [
    "lm.train('whole_forum_corpus_full.txt')"
   ]
  },
  {
   "cell_type": "code",
   "execution_count": null,
   "metadata": {},
   "outputs": [],
   "source": []
  },
  {
   "cell_type": "code",
   "execution_count": 54,
   "metadata": {},
   "outputs": [],
   "source": [
    "lm = LanguageModel(SRILM_path='/Users/calebchiam/Documents/GitHub/cs6742-fork/convokit/SRILM/srilm-1.7.3',\n",
    "                  working_dir='/Users/calebchiam/Documents/GitHub/cs6742-fork/convokit/SRILM/dump/',\n",
    "                  lm_output_path='progun_forum_full.lm',\n",
    "                  lm_type='laplace',\n",
    "                  count_output_path='progun_forum_counts.txt',\n",
    "                  order=2,\n",
    "                  verbose=True)"
   ]
  },
  {
   "cell_type": "code",
   "execution_count": 55,
   "metadata": {},
   "outputs": [
    {
     "name": "stdout",
     "output_type": "stream",
     "text": [
      "\n"
     ]
    }
   ],
   "source": [
    "lm.train('progun_forum_corpus_full.txt')"
   ]
  },
  {
   "cell_type": "code",
   "execution_count": 56,
   "metadata": {},
   "outputs": [
    {
     "name": "stdout",
     "output_type": "stream",
     "text": [
      "/Users/calebchiam/Documents/GitHub/cs6742-fork/convokit/SRILM/dump/progun_forum_full.lm: line 1373: warning: non-zero probability for <unk> in closed-vocabulary LM\n",
      "file /Users/calebchiam/Documents/GitHub/cs6742-fork/convokit/SRILM/dump/temp/493957586420138824.txt: 1 sentences, 5 words, 0 OOVs\n",
      "0 zeroprobs, logprob= -16.68756 ppl= 604.3092 ppl1= 2175.259\n"
     ]
    },
    {
     "data": {
      "text/plain": [
       "604.3092"
      ]
     },
     "execution_count": 56,
     "metadata": {},
     "output_type": "execute_result"
    }
   ],
   "source": [
    "lm.str_perplexity(\"I love guns and guns.\")"
   ]
  },
  {
   "cell_type": "code",
   "execution_count": 57,
   "metadata": {},
   "outputs": [
    {
     "name": "stdout",
     "output_type": "stream",
     "text": [
      "/Users/calebchiam/Documents/GitHub/cs6742-fork/convokit/SRILM/dump/progun_forum_full.lm: line 1373: warning: non-zero probability for <unk> in closed-vocabulary LM\n",
      "file /Users/calebchiam/Documents/GitHub/cs6742-fork/convokit/SRILM/dump/temp/8332283749400076066.txt: 1 sentences, 5 words, 0 OOVs\n",
      "0 zeroprobs, logprob= -17.81153 ppl= 930.2249 ppl1= 3650.107\n"
     ]
    },
    {
     "data": {
      "text/plain": [
       "930.2249"
      ]
     },
     "execution_count": 57,
     "metadata": {},
     "output_type": "execute_result"
    }
   ],
   "source": [
    "lm.str_perplexity(\"I love muffins and muffins.\")"
   ]
  },
  {
   "cell_type": "code",
   "execution_count": 58,
   "metadata": {},
   "outputs": [
    {
     "name": "stdout",
     "output_type": "stream",
     "text": [
      "/Users/calebchiam/Documents/GitHub/cs6742-fork/convokit/SRILM/dump/progun_forum_full.lm: line 1373: warning: non-zero probability for <unk> in closed-vocabulary LM\n",
      "file /Users/calebchiam/Documents/GitHub/cs6742-fork/convokit/SRILM/dump/temp/2199159746890547450.txt: 1 sentences, 3 words, 0 OOVs\n",
      "0 zeroprobs, logprob= -11.36669 ppl= 694.5021 ppl1= 6150.326\n"
     ]
    },
    {
     "data": {
      "text/plain": [
       "694.5021"
      ]
     },
     "execution_count": 58,
     "metadata": {},
     "output_type": "execute_result"
    }
   ],
   "source": [
    "lm.str_perplexity(\"I hate guns.\")"
   ]
  },
  {
   "cell_type": "code",
   "execution_count": 59,
   "metadata": {},
   "outputs": [
    {
     "name": "stdout",
     "output_type": "stream",
     "text": [
      "/Users/calebchiam/Documents/GitHub/cs6742-fork/convokit/SRILM/dump/progun_forum_full.lm: line 1373: warning: non-zero probability for <unk> in closed-vocabulary LM\n",
      "file /Users/calebchiam/Documents/GitHub/cs6742-fork/convokit/SRILM/dump/temp/7976965727151651160.txt: 1 sentences, 9 words, 0 OOVs\n",
      "0 zeroprobs, logprob= -31.999 ppl= 1584.53 ppl1= 3592.898\n"
     ]
    },
    {
     "data": {
      "text/plain": [
       "1584.53"
      ]
     },
     "execution_count": 59,
     "metadata": {},
     "output_type": "execute_result"
    }
   ],
   "source": [
    "lm.str_perplexity(\"We ought to have a right to arm ourselves.\")"
   ]
  },
  {
   "cell_type": "code",
   "execution_count": 60,
   "metadata": {},
   "outputs": [
    {
     "name": "stdout",
     "output_type": "stream",
     "text": [
      "/Users/calebchiam/Documents/GitHub/cs6742-fork/convokit/SRILM/dump/progun_forum_full.lm: line 1373: warning: non-zero probability for <unk> in closed-vocabulary LM\n",
      "file /Users/calebchiam/Documents/GitHub/cs6742-fork/convokit/SRILM/dump/temp/6923359597537417205.txt: 1 sentences, 9 words, 0 OOVs\n",
      "0 zeroprobs, logprob= -32.51303 ppl= 1783.623 ppl1= 4097.878\n"
     ]
    },
    {
     "data": {
      "text/plain": [
       "1783.623"
      ]
     },
     "execution_count": 60,
     "metadata": {},
     "output_type": "execute_result"
    }
   ],
   "source": [
    "lm.str_perplexity(\"We ought not have a right to arm ourselves.\")"
   ]
  },
  {
   "cell_type": "code",
   "execution_count": 63,
   "metadata": {},
   "outputs": [],
   "source": [
    "lm2 = LanguageModel(SRILM_path='/Users/calebchiam/Documents/GitHub/cs6742-fork/convokit/SRILM/srilm-1.7.3',\n",
    "                  working_dir='/Users/calebchiam/Documents/GitHub/cs6742-fork/convokit/SRILM/dump/',\n",
    "                  lm_output_path='antigun_forum_full.lm',\n",
    "                  lm_type='laplace',\n",
    "                  count_output_path='antigun_forum_counts.txt',\n",
    "                  order=2,\n",
    "                  verbose=False)"
   ]
  },
  {
   "cell_type": "code",
   "execution_count": 64,
   "metadata": {},
   "outputs": [
    {
     "name": "stdout",
     "output_type": "stream",
     "text": [
      "\n"
     ]
    }
   ],
   "source": [
    "lm2.train('antigun_forum_corpus_full.txt')"
   ]
  },
  {
   "cell_type": "code",
   "execution_count": 65,
   "metadata": {},
   "outputs": [
    {
     "data": {
      "text/plain": [
       "532.3662"
      ]
     },
     "execution_count": 65,
     "metadata": {},
     "output_type": "execute_result"
    }
   ],
   "source": [
    "lm2.str_perplexity(\"I love guns.\")"
   ]
  },
  {
   "cell_type": "code",
   "execution_count": 66,
   "metadata": {},
   "outputs": [
    {
     "data": {
      "text/plain": [
       "453.1557"
      ]
     },
     "execution_count": 66,
     "metadata": {},
     "output_type": "execute_result"
    }
   ],
   "source": [
    "lm2.str_perplexity(\"I hate guns.\")"
   ]
  },
  {
   "cell_type": "code",
   "execution_count": 67,
   "metadata": {},
   "outputs": [
    {
     "data": {
      "text/plain": [
       "812.1554"
      ]
     },
     "execution_count": 67,
     "metadata": {},
     "output_type": "execute_result"
    }
   ],
   "source": [
    "lm2.str_perplexity(\"We ought to have a right to arm ourselves.\")"
   ]
  },
  {
   "cell_type": "code",
   "execution_count": 68,
   "metadata": {},
   "outputs": [
    {
     "data": {
      "text/plain": [
       "1002.714"
      ]
     },
     "execution_count": 68,
     "metadata": {},
     "output_type": "execute_result"
    }
   ],
   "source": [
    "lm2.str_perplexity(\"We ought not have a right to arm ourselves.\")"
   ]
  },
  {
   "cell_type": "code",
   "execution_count": null,
   "metadata": {},
   "outputs": [],
   "source": []
  }
 ],
 "metadata": {
  "kernelspec": {
   "display_name": "Python 3",
   "language": "python",
   "name": "python3"
  },
  "language_info": {
   "codemirror_mode": {
    "name": "ipython",
    "version": 3
   },
   "file_extension": ".py",
   "mimetype": "text/x-python",
   "name": "python",
   "nbconvert_exporter": "python",
   "pygments_lexer": "ipython3",
   "version": "3.7.3"
  }
 },
 "nbformat": 4,
 "nbformat_minor": 2
}
