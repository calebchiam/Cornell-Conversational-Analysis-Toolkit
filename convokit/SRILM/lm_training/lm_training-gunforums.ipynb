{
 "cells": [
  {
   "cell_type": "code",
   "execution_count": 1,
   "metadata": {},
   "outputs": [],
   "source": [
    "import os\n",
    "os.chdir('../../..')"
   ]
  },
  {
   "cell_type": "code",
   "execution_count": 2,
   "metadata": {},
   "outputs": [
    {
     "data": {
      "text/plain": [
       "['LICENSE.md',\n",
       " 'convokit',\n",
       " '.DS_Store',\n",
       " 'requirements.txt',\n",
       " 'progun_corpus.txt',\n",
       " 'skipped_users.json',\n",
       " 'Makefile',\n",
       " 'website',\n",
       " 'datasets',\n",
       " 'tests',\n",
       " 'README.md',\n",
       " 'setup.py',\n",
       " '.gitignore',\n",
       " 'ldavis_prepared_8',\n",
       " 'CONTRIBUTING.md',\n",
       " 'examples',\n",
       " 'doc',\n",
       " 'ldavis_prepared_news_8',\n",
       " '.git',\n",
       " 'antigun_corpus.txt',\n",
       " '.idea']"
      ]
     },
     "execution_count": 2,
     "metadata": {},
     "output_type": "execute_result"
    }
   ],
   "source": [
    "os.listdir()"
   ]
  },
  {
   "cell_type": "code",
   "execution_count": 3,
   "metadata": {},
   "outputs": [],
   "source": [
    "from convokit import Corpus, LanguageModel, download"
   ]
  },
  {
   "cell_type": "code",
   "execution_count": 10,
   "metadata": {},
   "outputs": [],
   "source": [
    "forum_corpus = Corpus(filename=\"/Users/calebchiam/Documents/GitHub/cs6742-fork/datasets/gun_debate_forum_corpus\")"
   ]
  },
  {
   "cell_type": "code",
   "execution_count": 11,
   "metadata": {},
   "outputs": [
    {
     "name": "stdout",
     "output_type": "stream",
     "text": [
      "Number of Users: 586\n",
      "Number of Utterances: 64621\n",
      "Number of Conversations: 449\n"
     ]
    }
   ],
   "source": [
    "forum_corpus.print_summary_stats()"
   ]
  },
  {
   "cell_type": "code",
   "execution_count": 16,
   "metadata": {},
   "outputs": [],
   "source": [
    "from collections import defaultdict\n",
    "leanings = defaultdict(int)\n",
    "for user in forum_corpus.iter_users():\n",
    "    if 'lean' in user.meta:\n",
    "        leanings[user.meta['lean']] += 1 "
   ]
  },
  {
   "cell_type": "code",
   "execution_count": 17,
   "metadata": {},
   "outputs": [
    {
     "data": {
      "text/plain": [
       "defaultdict(int,\n",
       "            {'Other ': 57,\n",
       "             'Independent ': 86,\n",
       "             'Slightly Liberal ': 23,\n",
       "             'Libertarian ': 32,\n",
       "             'Very Conservative ': 20,\n",
       "             'Undisclosed ': 105,\n",
       "             'Liberal ': 36,\n",
       "             'Moderate ': 19,\n",
       "             'Libertarian - Right ': 16,\n",
       "             'Conservative ': 72,\n",
       "             'Centrist ': 20,\n",
       "             'Private ': 6,\n",
       "             'Progressive ': 27,\n",
       "             'Slightly Conservative ': 15,\n",
       "             'Libertarian - Left ': 9,\n",
       "             'Very Liberal ': 9,\n",
       "             'Socialist ': 14})"
      ]
     },
     "execution_count": 17,
     "metadata": {},
     "output_type": "execute_result"
    }
   ],
   "source": [
    "leanings"
   ]
  },
  {
   "cell_type": "code",
   "execution_count": 18,
   "metadata": {},
   "outputs": [
    {
     "data": {
      "text/plain": [
       "566"
      ]
     },
     "execution_count": 18,
     "metadata": {},
     "output_type": "execute_result"
    }
   ],
   "source": [
    "sum(leanings.values())"
   ]
  },
  {
   "cell_type": "code",
   "execution_count": 19,
   "metadata": {},
   "outputs": [],
   "source": [
    "for user in forum_corpus.iter_users():\n",
    "    if 'lean' in user.meta:\n",
    "        user.meta['lean'] = user.meta['lean'].strip() # get rid of extra whitespace"
   ]
  },
  {
   "cell_type": "code",
   "execution_count": null,
   "metadata": {},
   "outputs": [],
   "source": [
    "# Liberal, Very Liberal, Progressive\n",
    "# Libertarian - Right, Conservative, Very Conservative"
   ]
  },
  {
   "cell_type": "code",
   "execution_count": 21,
   "metadata": {},
   "outputs": [],
   "source": [
    "random_user = next(forum_corpus.iter_users())"
   ]
  },
  {
   "cell_type": "code",
   "execution_count": 25,
   "metadata": {},
   "outputs": [],
   "source": [
    "antigun_users = []\n",
    "progun_users = []\n",
    "\n",
    "for user in forum_corpus.iter_users():\n",
    "    lean = user.meta.get('lean', None)\n",
    "    if lean in {'Liberal', 'Very Liberal', 'Progressive'}:\n",
    "        antigun_users.append(user)\n",
    "    elif lean in {'Libertarian - Right', 'Conservative', 'Very Conservative'}:\n",
    "        progun_users.append(user)"
   ]
  },
  {
   "cell_type": "code",
   "execution_count": 26,
   "metadata": {},
   "outputs": [
    {
     "data": {
      "text/plain": [
       "72"
      ]
     },
     "execution_count": 26,
     "metadata": {},
     "output_type": "execute_result"
    }
   ],
   "source": [
    "len(antigun_users)"
   ]
  },
  {
   "cell_type": "code",
   "execution_count": 27,
   "metadata": {},
   "outputs": [
    {
     "data": {
      "text/plain": [
       "108"
      ]
     },
     "execution_count": 27,
     "metadata": {},
     "output_type": "execute_result"
    }
   ],
   "source": [
    "len(progun_users)"
   ]
  },
  {
   "cell_type": "markdown",
   "metadata": {},
   "source": [
    "## Distribution of utterances"
   ]
  },
  {
   "cell_type": "code",
   "execution_count": 28,
   "metadata": {},
   "outputs": [],
   "source": [
    "import matplotlib.pyplot as plt"
   ]
  },
  {
   "cell_type": "code",
   "execution_count": 43,
   "metadata": {},
   "outputs": [],
   "source": [
    "num_utts_antigun_users = [len(list(user.iter_utterances())) for user in antigun_users]\n",
    "num_utts_progun_users = [len(list(user.iter_utterances())) for user in progun_users]"
   ]
  },
  {
   "cell_type": "code",
   "execution_count": 44,
   "metadata": {},
   "outputs": [
    {
     "data": {
      "text/plain": [
       "(array([62.,  5.,  2.,  0.,  1.,  0.,  0.,  1.,  0.,  0.,  0.,  0.,  0.,\n",
       "         0.,  0.,  0.,  0.,  0.,  0.,  1.]),\n",
       " array([1.0000e+00, 1.0790e+02, 2.1480e+02, 3.2170e+02, 4.2860e+02,\n",
       "        5.3550e+02, 6.4240e+02, 7.4930e+02, 8.5620e+02, 9.6310e+02,\n",
       "        1.0700e+03, 1.1769e+03, 1.2838e+03, 1.3907e+03, 1.4976e+03,\n",
       "        1.6045e+03, 1.7114e+03, 1.8183e+03, 1.9252e+03, 2.0321e+03,\n",
       "        2.1390e+03]),\n",
       " <a list of 20 Patch objects>)"
      ]
     },
     "execution_count": 44,
     "metadata": {},
     "output_type": "execute_result"
    },
    {
     "data": {
      "image/png": "[encoded data removed]",
      "text/plain": [
       "<Figure size 432x288 with 1 Axes>"
      ]
     },
     "metadata": {
      "needs_background": "light"
     },
     "output_type": "display_data"
    }
   ],
   "source": [
    "plt.hist(num_utts_antigun_users, bins=20)"
   ]
  },
  {
   "cell_type": "markdown",
   "metadata": {},
   "source": [
    "Some people say a LOT."
   ]
  },
  {
   "cell_type": "code",
   "execution_count": 46,
   "metadata": {},
   "outputs": [
    {
     "data": {
      "text/plain": [
       "(array([100.,   3.,   2.,   2.,   0.,   0.,   0.,   0.,   0.,   0.,   0.,\n",
       "          0.,   0.,   0.,   0.,   0.,   0.,   0.,   0.,   1.]),\n",
       " array([1.00000e+00, 3.91250e+02, 7.81500e+02, 1.17175e+03, 1.56200e+03,\n",
       "        1.95225e+03, 2.34250e+03, 2.73275e+03, 3.12300e+03, 3.51325e+03,\n",
       "        3.90350e+03, 4.29375e+03, 4.68400e+03, 5.07425e+03, 5.46450e+03,\n",
       "        5.85475e+03, 6.24500e+03, 6.63525e+03, 7.02550e+03, 7.41575e+03,\n",
       "        7.80600e+03]),\n",
       " <a list of 20 Patch objects>)"
      ]
     },
     "execution_count": 46,
     "metadata": {},
     "output_type": "execute_result"
    },
    {
     "data": {
      "image/png": "[encoded data removed]",
      "text/plain": [
       "<Figure size 432x288 with 1 Axes>"
      ]
     },
     "metadata": {
      "needs_background": "light"
     },
     "output_type": "display_data"
    }
   ],
   "source": [
    "plt.hist(num_utts_progun_users, bins=20) # holy shit that guy at 7500"
   ]
  },
  {
   "cell_type": "code",
   "execution_count": 33,
   "metadata": {},
   "outputs": [],
   "source": [
    "import numpy as np"
   ]
  },
  {
   "cell_type": "code",
   "execution_count": 48,
   "metadata": {},
   "outputs": [
    {
     "name": "stdout",
     "output_type": "stream",
     "text": [
      "16.5\n",
      "81.91666666666667\n"
     ]
    }
   ],
   "source": [
    "print(np.median(num_utts_antigun_users))\n",
    "print(np.mean(num_utts_antigun_users))"
   ]
  },
  {
   "cell_type": "code",
   "execution_count": 49,
   "metadata": {},
   "outputs": [
    {
     "name": "stdout",
     "output_type": "stream",
     "text": [
      "14.0\n",
      "160.74074074074073\n"
     ]
    }
   ],
   "source": [
    "print(np.median(num_utts_progun_users))\n",
    "print(np.mean(num_utts_progun_users))"
   ]
  },
  {
   "cell_type": "markdown",
   "metadata": {},
   "source": [
    "To normalize, we take up to 10 utterances per user. If the user has <= 10 utterances, take all of them."
   ]
  },
  {
   "cell_type": "code",
   "execution_count": 51,
   "metadata": {},
   "outputs": [],
   "source": [
    "from random import sample"
   ]
  },
  {
   "cell_type": "code",
   "execution_count": 55,
   "metadata": {},
   "outputs": [],
   "source": [
    "progun_utts = []\n",
    "for user in progun_users:\n",
    "    user_utts = list(user.iter_utterances())\n",
    "    if len(user_utts) <= 10:\n",
    "        progun_utts.extend(user_utts)\n",
    "    else:\n",
    "        progun_utts.extend(sample(user_utts, 10))"
   ]
  },
  {
   "cell_type": "code",
   "execution_count": 56,
   "metadata": {},
   "outputs": [],
   "source": [
    "antigun_utts = []\n",
    "for user in antigun_users:\n",
    "    user_utts = list(user.iter_utterances())\n",
    "    if len(user_utts) <= 10:\n",
    "        antigun_utts.extend(user_utts)\n",
    "    else:\n",
    "        antigun_utts.extend(sample(user_utts, 10))"
   ]
  },
  {
   "cell_type": "code",
   "execution_count": 57,
   "metadata": {},
   "outputs": [
    {
     "data": {
      "text/plain": [
       "520"
      ]
     },
     "execution_count": 57,
     "metadata": {},
     "output_type": "execute_result"
    }
   ],
   "source": [
    "len(antigun_utts)"
   ]
  },
  {
   "cell_type": "code",
   "execution_count": 58,
   "metadata": {},
   "outputs": [
    {
     "data": {
      "text/plain": [
       "772"
      ]
     },
     "execution_count": 58,
     "metadata": {},
     "output_type": "execute_result"
    }
   ],
   "source": [
    "len(progun_utts)"
   ]
  },
  {
   "cell_type": "code",
   "execution_count": 61,
   "metadata": {},
   "outputs": [
    {
     "data": {
      "text/plain": [
       "[\"There's actually a thread on here showing that gun deaths are rising to record levels. The UK has very few guns in private ownership....and consequently it has VERY low gun crime British police are forced to kill only a tiny fraction of the number of people that trigger happy US police kill. So yes: More guns = more shootings Less guns = Less shootings\",\n",
       " \"No, we'd have a White House that would be functionally normally...not like an episode of The Apprentice. We'd have a competent head of state - not the bombastic fool we have now. ...I've already got my Trump 2020 Keep America Great hat. I can't imagine anybody on the Democratic party who might be running for President who I would vote for over Trump.... How about Elizabeth Warren or Kamala Harris ? ...but I thought you want people to vote, or at least to register.... Correct, I want all citizens to register to vote. I want all registered voters to vote...unless they're going to vote Republican. In which case they should be disqualified from voting on the grounds of mental incapacity. ...no doubt you voted for Hillary in 2016.... Actually I didn't I didn't vote. I'm not even registered to vote. I pay taxes but the law prevents me from registering. No taxation without representation is what I say.\",\n",
       " \"I try not to think about it Though I stay well clear of any individual I see carrying a gun ...Georgia has about 1 million concealed carry licencees in a state with about 10 million in population... I know, I'm one of them ...meaning about 1 in every 10 people you encounter could be carrying a legal concealed firearm. Does that make you very afraid? Yes it does And not forgetting the guns held by people who DON'T have a concealed license.\",\n",
       " 'In the gun control debate and by those arguing for gun control ? Are you aware of a single valid reason to own a gun ?',\n",
       " \"A lot - like Stephen Paddock - are. Until the very moment they start shooting with the aim to kill as many people as possible. ...from the illegal market.... And before that....? ...source... Me I said that is what I would say Because I don't think that gun manufacturers sell to criminals And I don't see many reports of guns being smuggled into the USA (a bit like smuggling tequila into Mexico) ...not possible or practical. Excuse 3.1\",\n",
       " 'Is it ?\\nCitation required. You are not known for substantiated debate - you are known for making ignorant comments. Statistics show the gun shot is the most preferred method of suicide in the USA\\nAnd that it is by far the most effective at taking lives. QED',\n",
       " 'Yes...except a butcher with his knives is likely to be less lethal than a \"well armed citizen\" with assault rifles, hi-capacity mags etc etc Giving people guns is bad. More guns = more shootings Training people how to use the guns just means that those who decide to kill as many people as possible will kill more than they otherwise would. Learn to control their breathing, take up a gun firing position, proper sight alignment... Yeah just the kind of things I want a total stranger with a gun to become proficient at.',\n",
       " \"So if there's enough evidence now for you to make your mind up, why isn't there enough for lawmakers?\",\n",
       " \"Gun lovers will say that if you outlaw guns, then the only ones with guns will be outlaws. They miss the point that almost all guns were legally bought and/or owned at some point before finding their way into criminals hands. The above case is a prime example of how it is done. Ban the legal supply of guns and you will see gun numbers fall. Criminals won't be able to get their guns from people who legally acquired them and thus will be disarmed over time as guns are confiscated and seized by law enforcement.\",\n",
       " \"Really ? Which gunships were those ? And even if they did exist, are you suggesting that the militia's right to bear muzzle loading muskets was a defense against them ?\"]"
      ]
     },
     "execution_count": 61,
     "metadata": {},
     "output_type": "execute_result"
    }
   ],
   "source": [
    "[utt.text for utt in antigun_utts[:10]]"
   ]
  },
  {
   "cell_type": "code",
   "execution_count": 68,
   "metadata": {},
   "outputs": [
    {
     "data": {
      "text/plain": [
       "['I only ever carried strong side on my belt. Except when hiking, in that case I carried a Ruger Service Six in a shoulder holster. This doesn\\x92t always work with modern fashion trends especially women\\x92s ones. But I feel it is the best. Obviously only you can decide what\\x92s best for you',\n",
       " 'What can the NRA do? The oppose all the laws being used to arrest these people I am sure, but in the end it’s still up to you to follow',\n",
       " 'Well that’s what I though about the AZ cop who shot the guy crawling in the hotel carpet, jury acquittal there',\n",
       " 'You’re actually incorrect about one thing, the army issued the .38 long colt, which was less powerful then the .38 special. In fact the .38 special is a magnum of the .38 long colt and was made to fix that issue',\n",
       " \"I feel Minnesota has the best background check law, you can sell someone a gun without a background check, but if you do and the person you sold it to was unable to legally possess a gun and commits a crime within a certain time period of the sale you can be prosecuted for selling it. Sure, make your private party sales, if that guy kills someone it's your ass if you didn't do any due diligence. I don't know why that law can't make a national model, it in theory should be low hanging fruit.\",\n",
       " 'False, both the California state assembly and Senate were majority democrat at the time it was passed.',\n",
       " 'Ummm yes it is.',\n",
       " 'End abortion now! Oh wait were we talking about slaughtering children?',\n",
       " 'You say that like Obama was next in line to lead the NRA. Obama didn’t have any legal ability to restrict guns. In fact he tried to ban gun ownership for social security recipients. So your assertion is not true.',\n",
       " 'While I have no problem with such a law in theory, I can tell you exactly what the hang up is, there is no credible political movement in this country dedicated to the widespread banning and confiscation of automobiles or arbitrary restrictions of any automobile that\\x92s safe to operate on public streets by a responsible owner. The same cannot be said of gun issues. And in fact I\\x92m aware of no moderate gun control groups. There is no nuance, if they oppose owning AR-15s they also oppose concealed/open carry they oppose children\\x92s safety education, they oppose reasonable self defense laws allowing citizens to use deadly force to defend themselves or effect the arrest of a felon without duty to retreat, they in short oppose any gun right at all. I think we\\x92d have many more reasonable restriction of firearms if urban liberals didn\\x92t use guns as an issue to demonize rural residents and destroy their culture Countries like Chile and the Czech Republic and Poland, Finland etc have very reasonable gun laws requiring licenses and mental health checks but still permit their citizens to own rifles and shotguns for rural use and pistols for home defense or competition']"
      ]
     },
     "execution_count": 68,
     "metadata": {},
     "output_type": "execute_result"
    }
   ],
   "source": [
    "[utt.text for utt in progun_utts[:10]]"
   ]
  },
  {
   "cell_type": "code",
   "execution_count": 75,
   "metadata": {},
   "outputs": [],
   "source": [
    "def clean_text(txt):\n",
    "    return txt.replace(\"\\n\", \" \").replace('\\x92', \"'\")"
   ]
  },
  {
   "cell_type": "code",
   "execution_count": 71,
   "metadata": {},
   "outputs": [],
   "source": [
    "progun_text = ''\n",
    "for utt in progun_utts:\n",
    "    if utt.text.endswith('.'):\n",
    "        progun_text += clean_text(utt.text) + ' '\n",
    "    else:\n",
    "        progun_text += clean_text(utt.text) + '. '"
   ]
  },
  {
   "cell_type": "code",
   "execution_count": 76,
   "metadata": {},
   "outputs": [],
   "source": [
    "antigun_text = ''\n",
    "for utt in antigun_utts:\n",
    "    if utt.text.endswith('.'):\n",
    "        antigun_text += clean_text(utt.text) + ' '\n",
    "    else:\n",
    "        antigun_text += clean_text(utt.text) + '. '"
   ]
  },
  {
   "cell_type": "code",
   "execution_count": 77,
   "metadata": {},
   "outputs": [
    {
     "data": {
      "text/plain": [
       "238681"
      ]
     },
     "execution_count": 77,
     "metadata": {},
     "output_type": "execute_result"
    }
   ],
   "source": [
    "len(progun_text)"
   ]
  },
  {
   "cell_type": "code",
   "execution_count": 78,
   "metadata": {},
   "outputs": [
    {
     "data": {
      "text/plain": [
       "172369"
      ]
     },
     "execution_count": 78,
     "metadata": {},
     "output_type": "execute_result"
    }
   ],
   "source": [
    "len(antigun_text)"
   ]
  },
  {
   "cell_type": "code",
   "execution_count": 79,
   "metadata": {},
   "outputs": [],
   "source": [
    "from nltk import sent_tokenize"
   ]
  },
  {
   "cell_type": "code",
   "execution_count": 87,
   "metadata": {},
   "outputs": [],
   "source": [
    "with open('progun_forum_corpus.txt', 'w') as f:\n",
    "    for sentence in sent_tokenize(progun_text):\n",
    "        if len(sentence) > 5:\n",
    "            f.write(sentence)\n",
    "            f.write(\"\\n\")"
   ]
  },
  {
   "cell_type": "code",
   "execution_count": 88,
   "metadata": {},
   "outputs": [],
   "source": [
    "with open('antigun_forum_corpus.txt', 'w') as f:\n",
    "    for sentence in sent_tokenize(antigun_text):\n",
    "        if len(sentence) > 5:\n",
    "            f.write(sentence)\n",
    "            f.write(\"\\n\")"
   ]
  },
  {
   "cell_type": "markdown",
   "metadata": {},
   "source": [
    "## Training step"
   ]
  },
  {
   "cell_type": "code",
   "execution_count": 103,
   "metadata": {},
   "outputs": [],
   "source": [
    "lm = LanguageModel(SRILM_path='/Users/calebchiam/Documents/GitHub/cs6742-fork/convokit/SRILM/srilm-1.7.3',\n",
    "                  working_dir='/Users/calebchiam/Documents/GitHub/cs6742-fork/convokit/SRILM/dump/',\n",
    "                  lm_output_path='progun_forum.lm',\n",
    "                  lm_type='laplace',\n",
    "                  count_output_path='progun_forum_counts.txt',\n",
    "                  order=2,\n",
    "                  verbose=True)"
   ]
  },
  {
   "cell_type": "code",
   "execution_count": 104,
   "metadata": {},
   "outputs": [
    {
     "name": "stdout",
     "output_type": "stream",
     "text": [
      "\n"
     ]
    }
   ],
   "source": [
    "lm.train('progun_forum_corpus.txt')"
   ]
  },
  {
   "cell_type": "code",
   "execution_count": 105,
   "metadata": {},
   "outputs": [
    {
     "name": "stdout",
     "output_type": "stream",
     "text": [
      "file /Users/calebchiam/Documents/GitHub/cs6742-fork/convokit/SRILM/dump/temp/280594959603171588.txt: 1 sentences, 3 words, 0 OOVs\n",
      "0 zeroprobs, logprob= -10.97168 ppl= 553.2469 ppl1= 4541.772\n"
     ]
    },
    {
     "data": {
      "text/plain": [
       "553.2469"
      ]
     },
     "execution_count": 105,
     "metadata": {},
     "output_type": "execute_result"
    }
   ],
   "source": [
    "lm.str_perplexity(\"I love guns.\")"
   ]
  },
  {
   "cell_type": "code",
   "execution_count": null,
   "metadata": {},
   "outputs": [],
   "source": []
  },
  {
   "cell_type": "code",
   "execution_count": 106,
   "metadata": {},
   "outputs": [
    {
     "name": "stdout",
     "output_type": "stream",
     "text": [
      "file /Users/calebchiam/Documents/GitHub/cs6742-fork/convokit/SRILM/dump/temp/643164199682958812.txt: 1 sentences, 3 words, 0 OOVs\n",
      "0 zeroprobs, logprob= -11.1783 ppl= 623.125 ppl1= 5322.311\n"
     ]
    },
    {
     "data": {
      "text/plain": [
       "623.125"
      ]
     },
     "execution_count": 106,
     "metadata": {},
     "output_type": "execute_result"
    }
   ],
   "source": [
    "lm.str_perplexity(\"I hate guns.\")"
   ]
  },
  {
   "cell_type": "code",
   "execution_count": 107,
   "metadata": {},
   "outputs": [
    {
     "name": "stdout",
     "output_type": "stream",
     "text": [
      "file /Users/calebchiam/Documents/GitHub/cs6742-fork/convokit/SRILM/dump/temp/8219121977068413720.txt: 1 sentences, 7 words, 1 OOVs\n",
      "0 zeroprobs, logprob= -17.98651 ppl= 371.1088 ppl1= 994.836\n"
     ]
    },
    {
     "data": {
      "text/plain": [
       "371.1088"
      ]
     },
     "execution_count": 107,
     "metadata": {},
     "output_type": "execute_result"
    }
   ],
   "source": [
    "lm.str_perplexity(\"We have a right to arm ourselves.\")"
   ]
  },
  {
   "cell_type": "code",
   "execution_count": 108,
   "metadata": {},
   "outputs": [
    {
     "name": "stdout",
     "output_type": "stream",
     "text": [
      "file /Users/calebchiam/Documents/GitHub/cs6742-fork/convokit/SRILM/dump/temp/8424412835006428244.txt: 1 sentences, 9 words, 1 OOVs\n",
      "0 zeroprobs, logprob= -24.04541 ppl= 469.5826 ppl1= 1013.155\n"
     ]
    },
    {
     "data": {
      "text/plain": [
       "469.5826"
      ]
     },
     "execution_count": 108,
     "metadata": {},
     "output_type": "execute_result"
    }
   ],
   "source": [
    "lm.str_perplexity(\"We do not have a right to arm ourselves.\")"
   ]
  },
  {
   "cell_type": "code",
   "execution_count": 112,
   "metadata": {},
   "outputs": [],
   "source": [
    "lm2 = LanguageModel(SRILM_path='/Users/calebchiam/Documents/GitHub/cs6742-fork/convokit/SRILM/srilm-1.7.3',\n",
    "                  working_dir='/Users/calebchiam/Documents/GitHub/cs6742-fork/convokit/SRILM/dump/',\n",
    "                  lm_output_path='antigun_forum.lm',\n",
    "                  lm_type='laplace',\n",
    "                  count_output_path='antigun_forum_counts.txt',\n",
    "                  order=2,\n",
    "                  verbose=False)"
   ]
  },
  {
   "cell_type": "code",
   "execution_count": 113,
   "metadata": {},
   "outputs": [
    {
     "name": "stdout",
     "output_type": "stream",
     "text": [
      "\n"
     ]
    }
   ],
   "source": [
    "lm2.train('antigun_forum_corpus.txt')"
   ]
  },
  {
   "cell_type": "code",
   "execution_count": 119,
   "metadata": {},
   "outputs": [
    {
     "data": {
      "text/plain": [
       "492.8375"
      ]
     },
     "execution_count": 119,
     "metadata": {},
     "output_type": "execute_result"
    }
   ],
   "source": [
    "lm2.str_perplexity(\"I love guns.\")"
   ]
  },
  {
   "cell_type": "code",
   "execution_count": 120,
   "metadata": {},
   "outputs": [
    {
     "data": {
      "text/plain": [
       "490.4409"
      ]
     },
     "execution_count": 120,
     "metadata": {},
     "output_type": "execute_result"
    }
   ],
   "source": [
    "lm2.str_perplexity(\"I hate guns.\")"
   ]
  },
  {
   "cell_type": "code",
   "execution_count": 121,
   "metadata": {},
   "outputs": [
    {
     "data": {
      "text/plain": [
       "377.7095"
      ]
     },
     "execution_count": 121,
     "metadata": {},
     "output_type": "execute_result"
    }
   ],
   "source": [
    "lm2.str_perplexity(\"We have a right to arm ourselves.\")"
   ]
  },
  {
   "cell_type": "code",
   "execution_count": 122,
   "metadata": {},
   "outputs": [
    {
     "data": {
      "text/plain": [
       "410.2935"
      ]
     },
     "execution_count": 122,
     "metadata": {},
     "output_type": "execute_result"
    }
   ],
   "source": [
    "lm2.str_perplexity(\"We do not have a right to arm ourselves.\")"
   ]
  },
  {
   "cell_type": "code",
   "execution_count": 254,
   "metadata": {},
   "outputs": [],
   "source": [
    "import json\n",
    "with open(\"skipped_users.json\", 'w') as f:\n",
    "    json.dump({\"users\": list(skipped_users)}, f)"
   ]
  },
  {
   "cell_type": "code",
   "execution_count": null,
   "metadata": {},
   "outputs": [],
   "source": []
  }
 ],
 "metadata": {
  "kernelspec": {
   "display_name": "Python 3",
   "language": "python",
   "name": "python3"
  },
  "language_info": {
   "codemirror_mode": {
    "name": "ipython",
    "version": 3
   },
   "file_extension": ".py",
   "mimetype": "text/x-python",
   "name": "python",
   "nbconvert_exporter": "python",
   "pygments_lexer": "ipython3",
   "version": "3.7.3"
  }
 },
 "nbformat": 4,
 "nbformat_minor": 2
}
