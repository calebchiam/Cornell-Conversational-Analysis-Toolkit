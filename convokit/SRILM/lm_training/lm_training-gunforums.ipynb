{
 "cells": [
  {
   "cell_type": "code",
   "execution_count": 1,
   "metadata": {},
   "outputs": [],
   "source": [
    "import os\n",
    "os.chdir('../../..')"
   ]
  },
  {
   "cell_type": "code",
   "execution_count": 2,
   "metadata": {},
   "outputs": [
    {
     "data": {
      "text/plain": [
       "['LICENSE.md',\n",
       " 'progun_forum_corpus.txt',\n",
       " 'convokit',\n",
       " '.DS_Store',\n",
       " 'requirements.txt',\n",
       " 'progun_corpus.txt',\n",
       " 'skipped_users.json',\n",
       " 'Makefile',\n",
       " 'website',\n",
       " 'datasets',\n",
       " 'tests',\n",
       " 'README.md',\n",
       " 'setup.py',\n",
       " '.gitignore',\n",
       " 'ldavis_prepared_8',\n",
       " 'CONTRIBUTING.md',\n",
       " 'examples',\n",
       " 'doc',\n",
       " 'ldavis_prepared_news_8',\n",
       " 'antigun_forum_corpus.txt',\n",
       " '.git',\n",
       " 'antigun_corpus.txt',\n",
       " '.idea']"
      ]
     },
     "execution_count": 2,
     "metadata": {},
     "output_type": "execute_result"
    }
   ],
   "source": [
    "os.listdir()"
   ]
  },
  {
   "cell_type": "code",
   "execution_count": 3,
   "metadata": {},
   "outputs": [],
   "source": [
    "from convokit import Corpus, LanguageModel, download"
   ]
  },
  {
   "cell_type": "code",
   "execution_count": 4,
   "metadata": {},
   "outputs": [],
   "source": [
    "forum_corpus = Corpus(filename=\"/Users/calebchiam/Documents/GitHub/cs6742-fork/datasets/gun_debate_forum_corpus_2k\")"
   ]
  },
  {
   "cell_type": "code",
   "execution_count": 5,
   "metadata": {},
   "outputs": [
    {
     "name": "stdout",
     "output_type": "stream",
     "text": [
      "Number of Users: 1385\n",
      "Number of Utterances: 285586\n",
      "Number of Conversations: 2146\n"
     ]
    }
   ],
   "source": [
    "forum_corpus.print_summary_stats()"
   ]
  },
  {
   "cell_type": "code",
   "execution_count": 6,
   "metadata": {},
   "outputs": [],
   "source": [
    "from collections import defaultdict\n",
    "leanings = defaultdict(int)\n",
    "for user in forum_corpus.iter_users():\n",
    "    if 'lean' in user.meta:\n",
    "        leanings[user.meta['lean']] += 1 "
   ]
  },
  {
   "cell_type": "code",
   "execution_count": 7,
   "metadata": {},
   "outputs": [
    {
     "data": {
      "text/plain": [
       "defaultdict(int,\n",
       "            {'Centrist ': 51,\n",
       "             'Libertarian - Right ': 53,\n",
       "             'Liberal ': 73,\n",
       "             'Independent ': 176,\n",
       "             'Libertarian ': 74,\n",
       "             'Undisclosed ': 278,\n",
       "             'Other ': 135,\n",
       "             'Very Conservative ': 62,\n",
       "             'Conservative ': 149,\n",
       "             'Libertarian - Left ': 22,\n",
       "             'Slightly Liberal ': 43,\n",
       "             'Private ': 15,\n",
       "             'Progressive ': 55,\n",
       "             'Slightly Conservative ': 31,\n",
       "             'Moderate ': 53,\n",
       "             'Very Liberal ': 26,\n",
       "             'Socialist ': 32,\n",
       "             'Communist ': 7})"
      ]
     },
     "execution_count": 7,
     "metadata": {},
     "output_type": "execute_result"
    }
   ],
   "source": [
    "leanings"
   ]
  },
  {
   "cell_type": "code",
   "execution_count": 8,
   "metadata": {},
   "outputs": [
    {
     "data": {
      "text/plain": [
       "1335"
      ]
     },
     "execution_count": 8,
     "metadata": {},
     "output_type": "execute_result"
    }
   ],
   "source": [
    "sum(leanings.values())"
   ]
  },
  {
   "cell_type": "code",
   "execution_count": 9,
   "metadata": {},
   "outputs": [],
   "source": [
    "for user in forum_corpus.iter_users():\n",
    "    if 'lean' in user.meta:\n",
    "        user.meta['lean'] = user.meta['lean'].strip() # get rid of extra whitespace"
   ]
  },
  {
   "cell_type": "code",
   "execution_count": 10,
   "metadata": {},
   "outputs": [],
   "source": [
    "# Liberal, Very Liberal, Progressive\n",
    "# Libertarian - Right, Conservative, Very Conservative"
   ]
  },
  {
   "cell_type": "code",
   "execution_count": 11,
   "metadata": {},
   "outputs": [],
   "source": [
    "random_user = next(forum_corpus.iter_users())"
   ]
  },
  {
   "cell_type": "code",
   "execution_count": 12,
   "metadata": {},
   "outputs": [],
   "source": [
    "antigun_users = []\n",
    "progun_users = []\n",
    "\n",
    "for user in forum_corpus.iter_users():\n",
    "    lean = user.meta.get('lean', None)\n",
    "    if lean in {'Liberal', 'Very Liberal', 'Progressive'}:\n",
    "        antigun_users.append(user)\n",
    "    elif lean in {'Libertarian - Right', 'Conservative', 'Very Conservative'}:\n",
    "        progun_users.append(user)"
   ]
  },
  {
   "cell_type": "code",
   "execution_count": 13,
   "metadata": {},
   "outputs": [
    {
     "data": {
      "text/plain": [
       "154"
      ]
     },
     "execution_count": 13,
     "metadata": {},
     "output_type": "execute_result"
    }
   ],
   "source": [
    "len(antigun_users)"
   ]
  },
  {
   "cell_type": "code",
   "execution_count": 14,
   "metadata": {},
   "outputs": [
    {
     "data": {
      "text/plain": [
       "264"
      ]
     },
     "execution_count": 14,
     "metadata": {},
     "output_type": "execute_result"
    }
   ],
   "source": [
    "len(progun_users)"
   ]
  },
  {
   "cell_type": "markdown",
   "metadata": {},
   "source": [
    "## Distribution of utterances"
   ]
  },
  {
   "cell_type": "code",
   "execution_count": 15,
   "metadata": {},
   "outputs": [],
   "source": [
    "import matplotlib.pyplot as plt"
   ]
  },
  {
   "cell_type": "code",
   "execution_count": 16,
   "metadata": {},
   "outputs": [],
   "source": [
    "num_utts_antigun_users = [len(list(user.iter_utterances())) for user in antigun_users]\n",
    "num_utts_progun_users = [len(list(user.iter_utterances())) for user in progun_users]"
   ]
  },
  {
   "cell_type": "code",
   "execution_count": 17,
   "metadata": {},
   "outputs": [
    {
     "data": {
      "text/plain": [
       "(array([134.,   6.,   4.,   3.,   2.,   1.,   0.,   0.,   1.,   1.,   0.,\n",
       "          0.,   1.,   0.,   0.,   0.,   0.,   0.,   0.,   1.]),\n",
       " array([1.00000e+00, 1.82550e+02, 3.64100e+02, 5.45650e+02, 7.27200e+02,\n",
       "        9.08750e+02, 1.09030e+03, 1.27185e+03, 1.45340e+03, 1.63495e+03,\n",
       "        1.81650e+03, 1.99805e+03, 2.17960e+03, 2.36115e+03, 2.54270e+03,\n",
       "        2.72425e+03, 2.90580e+03, 3.08735e+03, 3.26890e+03, 3.45045e+03,\n",
       "        3.63200e+03]),\n",
       " <a list of 20 Patch objects>)"
      ]
     },
     "execution_count": 17,
     "metadata": {},
     "output_type": "execute_result"
    },
    {
     "data": {
      "image/png": "[encoded data removed]",
      "text/plain": [
       "<Figure size 432x288 with 1 Axes>"
      ]
     },
     "metadata": {
      "needs_background": "light"
     },
     "output_type": "display_data"
    }
   ],
   "source": [
    "plt.hist(num_utts_antigun_users, bins=20)"
   ]
  },
  {
   "cell_type": "markdown",
   "metadata": {},
   "source": [
    "Some people say a LOT."
   ]
  },
  {
   "cell_type": "code",
   "execution_count": 18,
   "metadata": {},
   "outputs": [
    {
     "data": {
      "text/plain": [
       "(array([254.,   8.,   1.,   0.,   0.,   0.,   0.,   0.,   0.,   0.,   0.,\n",
       "          0.,   0.,   0.,   0.,   0.,   0.,   0.,   0.,   1.]),\n",
       " array([1.00000e+00, 1.76010e+03, 3.51920e+03, 5.27830e+03, 7.03740e+03,\n",
       "        8.79650e+03, 1.05556e+04, 1.23147e+04, 1.40738e+04, 1.58329e+04,\n",
       "        1.75920e+04, 1.93511e+04, 2.11102e+04, 2.28693e+04, 2.46284e+04,\n",
       "        2.63875e+04, 2.81466e+04, 2.99057e+04, 3.16648e+04, 3.34239e+04,\n",
       "        3.51830e+04]),\n",
       " <a list of 20 Patch objects>)"
      ]
     },
     "execution_count": 18,
     "metadata": {},
     "output_type": "execute_result"
    },
    {
     "data": {
      "image/png": "[encoded data removed]",
      "text/plain": [
       "<Figure size 432x288 with 1 Axes>"
      ]
     },
     "metadata": {
      "needs_background": "light"
     },
     "output_type": "display_data"
    }
   ],
   "source": [
    "plt.hist(num_utts_progun_users, bins=20) # holy shit that guy at 7500"
   ]
  },
  {
   "cell_type": "code",
   "execution_count": 19,
   "metadata": {},
   "outputs": [],
   "source": [
    "import numpy as np"
   ]
  },
  {
   "cell_type": "code",
   "execution_count": 20,
   "metadata": {},
   "outputs": [
    {
     "name": "stdout",
     "output_type": "stream",
     "text": [
      "22.5\n",
      "139.91558441558442\n"
     ]
    }
   ],
   "source": [
    "print(np.median(num_utts_antigun_users))\n",
    "print(np.mean(num_utts_antigun_users))"
   ]
  },
  {
   "cell_type": "code",
   "execution_count": 21,
   "metadata": {},
   "outputs": [
    {
     "name": "stdout",
     "output_type": "stream",
     "text": [
      "13.0\n",
      "327.9734848484849\n"
     ]
    }
   ],
   "source": [
    "print(np.median(num_utts_progun_users))\n",
    "print(np.mean(num_utts_progun_users))"
   ]
  },
  {
   "cell_type": "markdown",
   "metadata": {},
   "source": [
    "To normalize, we take up to 5 utterances per user. If the user has <= 5 utterances, take all of them."
   ]
  },
  {
   "cell_type": "code",
   "execution_count": 22,
   "metadata": {},
   "outputs": [],
   "source": [
    "from random import sample"
   ]
  },
  {
   "cell_type": "code",
   "execution_count": 23,
   "metadata": {},
   "outputs": [],
   "source": [
    "progun_utts = []\n",
    "for user in progun_users:\n",
    "    user_utts = list(user.iter_utterances())\n",
    "    if len(user_utts) <= 10:\n",
    "        progun_utts.extend(user_utts)\n",
    "    else:\n",
    "        progun_utts.extend(sample(user_utts, 10))"
   ]
  },
  {
   "cell_type": "code",
   "execution_count": 24,
   "metadata": {},
   "outputs": [],
   "source": [
    "antigun_utts = []\n",
    "for user in antigun_users:\n",
    "    user_utts = list(user.iter_utterances())\n",
    "    if len(user_utts) <= 10:\n",
    "        antigun_utts.extend(user_utts)\n",
    "    else:\n",
    "        antigun_utts.extend(sample(user_utts, 10))"
   ]
  },
  {
   "cell_type": "code",
   "execution_count": 25,
   "metadata": {},
   "outputs": [
    {
     "data": {
      "text/plain": [
       "1165"
      ]
     },
     "execution_count": 25,
     "metadata": {},
     "output_type": "execute_result"
    }
   ],
   "source": [
    "len(antigun_utts)"
   ]
  },
  {
   "cell_type": "code",
   "execution_count": 26,
   "metadata": {},
   "outputs": [
    {
     "data": {
      "text/plain": [
       "1822"
      ]
     },
     "execution_count": 26,
     "metadata": {},
     "output_type": "execute_result"
    }
   ],
   "source": [
    "len(progun_utts)"
   ]
  },
  {
   "cell_type": "code",
   "execution_count": 27,
   "metadata": {},
   "outputs": [
    {
     "data": {
      "text/plain": [
       "[\"You're recreational/decorative need is outweighed by casualties, Guns are not a necessity Car are this is why legislation seek to make safer and not ban them.\",\n",
       " \"Go ahead and make a good argument for owning a gun. There are non yet that I've come across.\",\n",
       " 'They have been for thousands of years.',\n",
       " 'And if I told you I spoke to god yesterday do you accept that as proof god exists ? I was able to protect myself from all threats last night without any guns. How do you explain that ?',\n",
       " 'You are so quick to judge immigrants And yes, Lt Col Vindman, of the US Army, who gave evidence to the House Committee on Intelligence today, wasn\\'t brought up in this country either ...your claims about my veracity are hilarious.... Simple minds are easily amused...oh look a... - Quote ....given how many legal gun owners here are, your doom and gloom nonsense is just that.... Legal gun owners like Stephen Paddock (up to the point where he became a mass shooter) ...and I still don\\'t believe that public safety is what motivates your desire to make American citizens sitting ducks for armed criminals. And I remain dubious that Americans, denuded of their guns, would be \"sitting ducks\" for criminals Especially as you claim that the bulk is directed inward to similar criminals.',\n",
       " 'Like I said, you don\\'t understand the meaning of the words \"Education\" and \"Educated\". George W Bush was completely incompetent as a head of state, but he was well educated. ...by educated, what I mean by that is that at least you\\'ve gone to college. I not only went to college I finished it and got a degree. For me to consider somebody educated I would expect them to at least start college.... OK, then you\\'re educated And so is Bill Clinton. ...that would be Bill Clinton.... Huh ? Bill Clinton came from a wealthy family ? His father was a salesman who died before Bill Clinton was born. ...only if you\\'re one of those sore loser Hillary fans. And they call themselves Americans, they\\'re such a disgrace.... Trump is the worst president ever ... and will probably be the worst president of all time. Only Russians and Saudis have cause to think he\\'s any good. ...you\\'re right about Nixon, it wasn\\'t a terrific president and I would say between him and Carter they would tie for second worse with Bill Clinton being the worst. Eisenhower was an excellent president.... Nixon did a couple of good things, he got the USA out of Vietnam and thawed relations with China. But he was a crook. Carter had a tough time because of the economy he was handed. Of all the ex-presidents ever, he has done the most work and the most good. Eisenhower did nothing as president - he played a lot of golf but a wax dummy would have been as effective. ...the only one you\\'re right about on that list is JFK, he is one of the better presidents. For some reason you\\'re confusing Bill Clinton with Donald Trump when you call Trump the worst president. FDR and Obama were both decent presidents although FDR made some mistakes but that is a topic for another discussion. JFK played the Cuban Missile Crisis just right - a very dangerous time for the world. Clinton saw an economic recovery and dealt with his foreign policy issues without having to go to war. If only he could have served a third term...the Iraq war would never have happened. Trump is the worst ever president and I don\\'t think they\\'ll ever be one even close to him. His administration is a shambles and he\\'s looking increasingly shady. He\\'s in love with his self image...he loves playing up to the camera. His own aids deride him. His new White House chief of staff calls him \"a terrible human being\".',\n",
       " 'Sure: 05, 06, 45, 55, 59, 14 powerball - Google Search\\n',\n",
       " 'Well that\\'s the bulk of the developed world plus a large portion of American What\\'s moronic is a country that lets its citizens buy guns and they commit mass shootings at almost one per day ...I\\'ll mention the proposal that people that advocate for gun bans should cut off their dicks to prevent rapes every time people that advocate gun... And you call other people \"moronic\" Hopefully you\\'ll mature a little when you grow up.',\n",
       " \"Well let's stick to similar countries like the USA (I bolded them to make them easier for you to see). Let's start with the UK. Semi-Auto-Guns banned following a mass shooting in 1987. Handguns banned following a mass shooting in 1996.\\nSince 1996 the UK (pop circa 60 million or 1/5th USA) has had ONE mass shooting\\nNone in 2017 or 2018 Germany: Since 1996 there have been FOUR mass shootings\\nNone in 2017 or 2018 In the USA there were 345 mass shootings in 2017 alone. Which country works out best for you ?\",\n",
       " \"Sorry, you're just parroting excuse # 3 Do you need all three excuses listed again ? Then you can list all your 55 - which I assume is just a number you pulled out of thin air.\"]"
      ]
     },
     "execution_count": 27,
     "metadata": {},
     "output_type": "execute_result"
    }
   ],
   "source": [
    "[utt.text for utt in antigun_utts[:10]]"
   ]
  },
  {
   "cell_type": "code",
   "execution_count": 28,
   "metadata": {},
   "outputs": [
    {
     "data": {
      "text/plain": [
       "['using the Wickard \"logic\" the federal government could regulate the amount of sugar that cute little 12 year old girl with the ponytail is selling you for a quarter',\n",
       " \"He's been retired for years-his Heller dissent proved he overstayed his welcome\",\n",
       " 'Yeah I remember one of my friends saying he was going to apply to Harvard medical school. Another student said \"why bother, you only have a 6% chance of getting in\" and he said, yeah but if I don\\'t apply I am guaranteed a zero chance of getting in (he got in)',\n",
       " 'none of this matters given disarming potential victims will make things worse and that is the only solution gun banners want to do',\n",
       " 'and a couple just killed a wanted murderous fugitive who was going to kill them so what? Look, we get the fact that you are afraid to own a gun my suggestion as a professional in this field-DO NOT OWN A GUN but quit trying to tell us who are well trained in their use to not own them and stop advocating banning firearms or limiting what honest people can own',\n",
       " \"that's just plain idiotic. everything one can possibly do illegally with a gun or harmful with a firearm is illegal. so is mere possession of a gun by anyone who has been=through due process of law=found to be a danger to society.\",\n",
       " 'what stupidity thousands of Americans have died keeping other democracies free',\n",
       " \"what exactly is your rant about? If you don't like discussions about guns why are you here?\",\n",
       " 'military qualification really has almost zero relevance to civilian firearms issues. Now if you were USAMU-USAST then that might mean something.',\n",
       " 'the nuke argument is idiotic and has been discredited dozens of times']"
      ]
     },
     "execution_count": 28,
     "metadata": {},
     "output_type": "execute_result"
    }
   ],
   "source": [
    "[utt.text for utt in progun_utts[:10]]"
   ]
  },
  {
   "cell_type": "code",
   "execution_count": 29,
   "metadata": {},
   "outputs": [],
   "source": [
    "def clean_text(txt):\n",
    "    return txt.replace(\"\\n\", \" \").replace('\\x92', \"'\")"
   ]
  },
  {
   "cell_type": "code",
   "execution_count": 30,
   "metadata": {},
   "outputs": [],
   "source": [
    "progun_text = ''\n",
    "for utt in progun_utts:\n",
    "    if len(utt.text) >= 25:\n",
    "        if utt.text.endswith('.'):\n",
    "            progun_text += clean_text(utt.text) + ' '\n",
    "        else:\n",
    "            progun_text += clean_text(utt.text) + '. '"
   ]
  },
  {
   "cell_type": "code",
   "execution_count": 31,
   "metadata": {},
   "outputs": [],
   "source": [
    "antigun_text = ''\n",
    "for utt in antigun_utts:\n",
    "    if len(utt.text) >= 25:\n",
    "        if utt.text.endswith('.'):\n",
    "            antigun_text += clean_text(utt.text) + ' '\n",
    "        else:\n",
    "            antigun_text += clean_text(utt.text) + '. '"
   ]
  },
  {
   "cell_type": "code",
   "execution_count": 32,
   "metadata": {},
   "outputs": [
    {
     "data": {
      "text/plain": [
       "710540"
      ]
     },
     "execution_count": 32,
     "metadata": {},
     "output_type": "execute_result"
    }
   ],
   "source": [
    "len(progun_text)"
   ]
  },
  {
   "cell_type": "code",
   "execution_count": 33,
   "metadata": {},
   "outputs": [
    {
     "data": {
      "text/plain": [
       "400802"
      ]
     },
     "execution_count": 33,
     "metadata": {},
     "output_type": "execute_result"
    }
   ],
   "source": [
    "len(antigun_text)"
   ]
  },
  {
   "cell_type": "code",
   "execution_count": 34,
   "metadata": {},
   "outputs": [],
   "source": [
    "from nltk import sent_tokenize"
   ]
  },
  {
   "cell_type": "code",
   "execution_count": 35,
   "metadata": {},
   "outputs": [],
   "source": [
    "with open('progun_forum_corpus.txt', 'w') as f:\n",
    "    for sentence in sent_tokenize(progun_text):\n",
    "        if len(sentence) > 5:\n",
    "            f.write(sentence)\n",
    "            f.write(\"\\n\")"
   ]
  },
  {
   "cell_type": "code",
   "execution_count": 36,
   "metadata": {},
   "outputs": [],
   "source": [
    "with open('antigun_forum_corpus.txt', 'w') as f:\n",
    "    for sentence in sent_tokenize(antigun_text):\n",
    "        if len(sentence) > 5:\n",
    "            f.write(sentence)\n",
    "            f.write(\"\\n\")"
   ]
  },
  {
   "cell_type": "markdown",
   "metadata": {},
   "source": [
    "## Training step"
   ]
  },
  {
   "cell_type": "code",
   "execution_count": 37,
   "metadata": {},
   "outputs": [],
   "source": [
    "lm = LanguageModel(SRILM_path='/Users/calebchiam/Documents/GitHub/cs6742-fork/convokit/SRILM/srilm-1.7.3',\n",
    "                  working_dir='/Users/calebchiam/Documents/GitHub/cs6742-fork/convokit/SRILM/dump/',\n",
    "                  lm_output_path='progun_forum_2.lm',\n",
    "                  lm_type='laplace',\n",
    "                  count_output_path='progun_forum_counts.txt',\n",
    "                  order=2,\n",
    "                  verbose=True)"
   ]
  },
  {
   "cell_type": "code",
   "execution_count": 38,
   "metadata": {},
   "outputs": [
    {
     "name": "stdout",
     "output_type": "stream",
     "text": [
      "\n"
     ]
    }
   ],
   "source": [
    "lm.train('progun_forum_corpus.txt')"
   ]
  },
  {
   "cell_type": "code",
   "execution_count": 39,
   "metadata": {},
   "outputs": [
    {
     "name": "stdout",
     "output_type": "stream",
     "text": [
      "file /Users/calebchiam/Documents/GitHub/cs6742-fork/convokit/SRILM/dump/temp/4571617107665466448.txt: 1 sentences, 3 words, 0 OOVs\n",
      "0 zeroprobs, logprob= -10.5951 ppl= 445.425 ppl1= 3401.727\n"
     ]
    },
    {
     "data": {
      "text/plain": [
       "445.425"
      ]
     },
     "execution_count": 39,
     "metadata": {},
     "output_type": "execute_result"
    }
   ],
   "source": [
    "lm.str_perplexity(\"I love guns.\")"
   ]
  },
  {
   "cell_type": "code",
   "execution_count": null,
   "metadata": {},
   "outputs": [],
   "source": []
  },
  {
   "cell_type": "code",
   "execution_count": 40,
   "metadata": {},
   "outputs": [
    {
     "name": "stdout",
     "output_type": "stream",
     "text": [
      "file /Users/calebchiam/Documents/GitHub/cs6742-fork/convokit/SRILM/dump/temp/384409342118227312.txt: 1 sentences, 3 words, 0 OOVs\n",
      "0 zeroprobs, logprob= -11.549 ppl= 771.3454 ppl1= 7074.002\n"
     ]
    },
    {
     "data": {
      "text/plain": [
       "771.3454"
      ]
     },
     "execution_count": 40,
     "metadata": {},
     "output_type": "execute_result"
    }
   ],
   "source": [
    "lm.str_perplexity(\"I hate guns.\")"
   ]
  },
  {
   "cell_type": "code",
   "execution_count": 44,
   "metadata": {},
   "outputs": [
    {
     "name": "stdout",
     "output_type": "stream",
     "text": [
      "file /Users/calebchiam/Documents/GitHub/cs6742-fork/convokit/SRILM/dump/temp/7135832805376208926.txt: 1 sentences, 8 words, 0 OOVs\n",
      "0 zeroprobs, logprob= -28.27347 ppl= 1385.15 ppl1= 3421.244\n"
     ]
    },
    {
     "data": {
      "text/plain": [
       "1385.15"
      ]
     },
     "execution_count": 44,
     "metadata": {},
     "output_type": "execute_result"
    }
   ],
   "source": [
    "lm.str_perplexity(\"We should have a right to arm ourselves.\")"
   ]
  },
  {
   "cell_type": "code",
   "execution_count": 43,
   "metadata": {},
   "outputs": [
    {
     "name": "stdout",
     "output_type": "stream",
     "text": [
      "file /Users/calebchiam/Documents/GitHub/cs6742-fork/convokit/SRILM/dump/temp/3375551998011995050.txt: 1 sentences, 9 words, 0 OOVs\n",
      "0 zeroprobs, logprob= -31.09565 ppl= 1286.96 ppl1= 2851.494\n"
     ]
    },
    {
     "data": {
      "text/plain": [
       "1286.96"
      ]
     },
     "execution_count": 43,
     "metadata": {},
     "output_type": "execute_result"
    }
   ],
   "source": [
    "lm.str_perplexity(\"We should not have a right to arm ourselves.\")"
   ]
  },
  {
   "cell_type": "code",
   "execution_count": 45,
   "metadata": {},
   "outputs": [],
   "source": [
    "lm2 = LanguageModel(SRILM_path='/Users/calebchiam/Documents/GitHub/cs6742-fork/convokit/SRILM/srilm-1.7.3',\n",
    "                  working_dir='/Users/calebchiam/Documents/GitHub/cs6742-fork/convokit/SRILM/dump/',\n",
    "                  lm_output_path='antigun_forum_2.lm',\n",
    "                  lm_type='laplace',\n",
    "                  count_output_path='antigun_forum_counts.txt',\n",
    "                  order=2,\n",
    "                  verbose=False)"
   ]
  },
  {
   "cell_type": "code",
   "execution_count": 46,
   "metadata": {},
   "outputs": [
    {
     "name": "stdout",
     "output_type": "stream",
     "text": [
      "\n"
     ]
    }
   ],
   "source": [
    "lm2.train('antigun_forum_corpus.txt')"
   ]
  },
  {
   "cell_type": "code",
   "execution_count": 47,
   "metadata": {},
   "outputs": [
    {
     "data": {
      "text/plain": [
       "436.8381"
      ]
     },
     "execution_count": 47,
     "metadata": {},
     "output_type": "execute_result"
    }
   ],
   "source": [
    "lm2.str_perplexity(\"I love guns.\")"
   ]
  },
  {
   "cell_type": "code",
   "execution_count": 48,
   "metadata": {},
   "outputs": [
    {
     "data": {
      "text/plain": [
       "614.6817"
      ]
     },
     "execution_count": 48,
     "metadata": {},
     "output_type": "execute_result"
    }
   ],
   "source": [
    "lm2.str_perplexity(\"I hate guns.\")"
   ]
  },
  {
   "cell_type": "code",
   "execution_count": 49,
   "metadata": {},
   "outputs": [
    {
     "data": {
      "text/plain": [
       "1582.907"
      ]
     },
     "execution_count": 49,
     "metadata": {},
     "output_type": "execute_result"
    }
   ],
   "source": [
    "lm2.str_perplexity(\"We have a right to arm ourselves.\")"
   ]
  },
  {
   "cell_type": "code",
   "execution_count": 50,
   "metadata": {},
   "outputs": [
    {
     "data": {
      "text/plain": [
       "1348.064"
      ]
     },
     "execution_count": 50,
     "metadata": {},
     "output_type": "execute_result"
    }
   ],
   "source": [
    "lm2.str_perplexity(\"We do not have a right to arm ourselves.\")"
   ]
  },
  {
   "cell_type": "code",
   "execution_count": null,
   "metadata": {},
   "outputs": [],
   "source": []
  }
 ],
 "metadata": {
  "kernelspec": {
   "display_name": "Python 3",
   "language": "python",
   "name": "python3"
  },
  "language_info": {
   "codemirror_mode": {
    "name": "ipython",
    "version": 3
   },
   "file_extension": ".py",
   "mimetype": "text/x-python",
   "name": "python",
   "nbconvert_exporter": "python",
   "pygments_lexer": "ipython3",
   "version": "3.7.3"
  }
 },
 "nbformat": 4,
 "nbformat_minor": 2
}
