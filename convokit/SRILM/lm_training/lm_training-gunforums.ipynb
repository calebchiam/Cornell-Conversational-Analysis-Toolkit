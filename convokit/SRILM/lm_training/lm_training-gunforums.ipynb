{
 "cells": [
  {
   "cell_type": "code",
   "execution_count": 1,
   "metadata": {},
   "outputs": [],
   "source": [
    "import os\n",
    "os.chdir('../../..')"
   ]
  },
  {
   "cell_type": "code",
   "execution_count": 2,
   "metadata": {},
   "outputs": [
    {
     "data": {
      "text/plain": [
       "['LICENSE.md',\n",
       " 'progun_forum_corpus.txt',\n",
       " 'convokit',\n",
       " '.DS_Store',\n",
       " 'requirements.txt',\n",
       " 'progun_corpus.txt',\n",
       " 'skipped_users.json',\n",
       " 'Makefile',\n",
       " 'website',\n",
       " 'datasets',\n",
       " 'tests',\n",
       " 'README.md',\n",
       " 'setup.py',\n",
       " '.gitignore',\n",
       " 'ldavis_prepared_8',\n",
       " 'moderate_forum_corpus_full.txt',\n",
       " 'CONTRIBUTING.md',\n",
       " 'examples',\n",
       " 'doc',\n",
       " 'ldavis_prepared_news_8',\n",
       " 'antigun_forum_corpus.txt',\n",
       " '.git',\n",
       " 'antigun_corpus.txt',\n",
       " 'whole_forum_corpus_full.txt',\n",
       " '.idea']"
      ]
     },
     "execution_count": 2,
     "metadata": {},
     "output_type": "execute_result"
    }
   ],
   "source": [
    "os.listdir()"
   ]
  },
  {
   "cell_type": "code",
   "execution_count": 3,
   "metadata": {},
   "outputs": [],
   "source": [
    "from convokit import Corpus, LanguageModel, download"
   ]
  },
  {
   "cell_type": "code",
   "execution_count": 4,
   "metadata": {},
   "outputs": [],
   "source": [
    "forum_corpus = Corpus(filename=\"/Users/calebchiam/Documents/GitHub/cs6742-fork/datasets/gun_debate_forum_corpus_full\")"
   ]
  },
  {
   "cell_type": "code",
   "execution_count": 5,
   "metadata": {},
   "outputs": [
    {
     "name": "stdout",
     "output_type": "stream",
     "text": [
      "Number of Users: 2010\n",
      "Number of Utterances: 457973\n",
      "Number of Conversations: 4104\n"
     ]
    }
   ],
   "source": [
    "forum_corpus.print_summary_stats()"
   ]
  },
  {
   "cell_type": "code",
   "execution_count": 6,
   "metadata": {},
   "outputs": [],
   "source": [
    "from collections import defaultdict\n",
    "leanings = defaultdict(int)\n",
    "for user in forum_corpus.iter_users():\n",
    "    if 'lean' in user.meta:\n",
    "        leanings[user.meta['lean']] += 1 "
   ]
  },
  {
   "cell_type": "code",
   "execution_count": 7,
   "metadata": {},
   "outputs": [
    {
     "data": {
      "text/plain": [
       "defaultdict(int,\n",
       "            {'Libertarian ': 117,\n",
       "             'Slightly Conservative ': 49,\n",
       "             'Progressive ': 77,\n",
       "             'Undisclosed ': 428,\n",
       "             'Liberal ': 105,\n",
       "             'Libertarian - Right ': 83,\n",
       "             'Conservative ': 215,\n",
       "             'Very Conservative ': 87,\n",
       "             'Slightly Liberal ': 56,\n",
       "             'Independent ': 240,\n",
       "             'Centrist ': 76,\n",
       "             'Other ': 182,\n",
       "             'Socialist ': 50,\n",
       "             'Libertarian - Left ': 39,\n",
       "             'Private ': 19,\n",
       "             'Moderate ': 73,\n",
       "             'Very Liberal ': 44,\n",
       "             'Communist ': 9})"
      ]
     },
     "execution_count": 7,
     "metadata": {},
     "output_type": "execute_result"
    }
   ],
   "source": [
    "leanings"
   ]
  },
  {
   "cell_type": "code",
   "execution_count": 8,
   "metadata": {},
   "outputs": [
    {
     "data": {
      "text/plain": [
       "1949"
      ]
     },
     "execution_count": 8,
     "metadata": {},
     "output_type": "execute_result"
    }
   ],
   "source": [
    "sum(leanings.values())"
   ]
  },
  {
   "cell_type": "code",
   "execution_count": 9,
   "metadata": {},
   "outputs": [],
   "source": [
    "for user in forum_corpus.iter_users():\n",
    "    if 'lean' in user.meta:\n",
    "        user.meta['lean'] = user.meta['lean'].strip() # get rid of extra whitespace"
   ]
  },
  {
   "cell_type": "code",
   "execution_count": 60,
   "metadata": {},
   "outputs": [],
   "source": [
    "# Liberal, Very Liberal, Progressive\n",
    "# Libertarian - Right, Conservative, Very Conservative\n",
    "# Independent, Centrist, Moderate"
   ]
  },
  {
   "cell_type": "code",
   "execution_count": 61,
   "metadata": {},
   "outputs": [],
   "source": [
    "random_user = next(forum_corpus.iter_users())"
   ]
  },
  {
   "cell_type": "code",
   "execution_count": 108,
   "metadata": {},
   "outputs": [],
   "source": [
    "antigun_users = []\n",
    "progun_users = []\n",
    "moderate_users = []\n",
    "for user in forum_corpus.iter_users():\n",
    "    lean = user.meta.get('lean', None)\n",
    "    if lean in {'Liberal', 'Very Liberal', 'Progressive'}:\n",
    "        antigun_users.append(user)\n",
    "    elif lean in {'Libertarian - Right', 'Conservative', 'Very Conservative'}:\n",
    "        progun_users.append(user)\n",
    "    elif lean in {'Independent', 'Centrist', 'Moderate'}:\n",
    "        moderate_users.append(user)"
   ]
  },
  {
   "cell_type": "code",
   "execution_count": 109,
   "metadata": {},
   "outputs": [
    {
     "data": {
      "text/plain": [
       "226"
      ]
     },
     "execution_count": 109,
     "metadata": {},
     "output_type": "execute_result"
    }
   ],
   "source": [
    "len(antigun_users)"
   ]
  },
  {
   "cell_type": "code",
   "execution_count": 110,
   "metadata": {},
   "outputs": [
    {
     "data": {
      "text/plain": [
       "385"
      ]
     },
     "execution_count": 110,
     "metadata": {},
     "output_type": "execute_result"
    }
   ],
   "source": [
    "len(progun_users)"
   ]
  },
  {
   "cell_type": "code",
   "execution_count": 111,
   "metadata": {},
   "outputs": [
    {
     "data": {
      "text/plain": [
       "389"
      ]
     },
     "execution_count": 111,
     "metadata": {},
     "output_type": "execute_result"
    }
   ],
   "source": [
    "len(moderate_users)"
   ]
  },
  {
   "cell_type": "markdown",
   "metadata": {},
   "source": [
    "## Distribution of utterances"
   ]
  },
  {
   "cell_type": "code",
   "execution_count": 112,
   "metadata": {},
   "outputs": [],
   "source": [
    "import matplotlib.pyplot as plt"
   ]
  },
  {
   "cell_type": "code",
   "execution_count": 113,
   "metadata": {},
   "outputs": [],
   "source": [
    "num_utts_antigun_users = [len(list(user.iter_utterances())) for user in antigun_users]\n",
    "num_utts_progun_users = [len(list(user.iter_utterances())) for user in progun_users]\n",
    "num_utts_moderate_users = [len(list(user.iter_utterances())) for user in moderate_users]"
   ]
  },
  {
   "cell_type": "code",
   "execution_count": 67,
   "metadata": {},
   "outputs": [
    {
     "data": {
      "text/plain": [
       "(array([189.,  14.,   8.,   2.,   2.,   4.,   1.,   1.,   2.,   0.,   0.,\n",
       "          0.,   1.,   0.,   1.,   0.,   0.,   0.,   0.,   1.]),\n",
       " array([1.00000e+00, 1.85550e+02, 3.70100e+02, 5.54650e+02, 7.39200e+02,\n",
       "        9.23750e+02, 1.10830e+03, 1.29285e+03, 1.47740e+03, 1.66195e+03,\n",
       "        1.84650e+03, 2.03105e+03, 2.21560e+03, 2.40015e+03, 2.58470e+03,\n",
       "        2.76925e+03, 2.95380e+03, 3.13835e+03, 3.32290e+03, 3.50745e+03,\n",
       "        3.69200e+03]),\n",
       " <a list of 20 Patch objects>)"
      ]
     },
     "execution_count": 67,
     "metadata": {},
     "output_type": "execute_result"
    },
    {
     "data": {
      "image/png": "[encoded data removed]",
      "text/plain": [
       "<Figure size 432x288 with 1 Axes>"
      ]
     },
     "metadata": {
      "needs_background": "light"
     },
     "output_type": "display_data"
    }
   ],
   "source": [
    "plt.hist(num_utts_antigun_users, bins=20)"
   ]
  },
  {
   "cell_type": "markdown",
   "metadata": {},
   "source": [
    "Some people say a LOT."
   ]
  },
  {
   "cell_type": "code",
   "execution_count": 68,
   "metadata": {},
   "outputs": [
    {
     "data": {
      "text/plain": [
       "(array([377.,   4.,   3.,   0.,   0.,   0.,   0.,   0.,   0.,   0.,   0.,\n",
       "          0.,   0.,   0.,   0.,   0.,   0.,   0.,   0.,   1.]),\n",
       " array([1.000000e+00, 2.697150e+03, 5.393300e+03, 8.089450e+03,\n",
       "        1.078560e+04, 1.348175e+04, 1.617790e+04, 1.887405e+04,\n",
       "        2.157020e+04, 2.426635e+04, 2.696250e+04, 2.965865e+04,\n",
       "        3.235480e+04, 3.505095e+04, 3.774710e+04, 4.044325e+04,\n",
       "        4.313940e+04, 4.583555e+04, 4.853170e+04, 5.122785e+04,\n",
       "        5.392400e+04]),\n",
       " <a list of 20 Patch objects>)"
      ]
     },
     "execution_count": 68,
     "metadata": {},
     "output_type": "execute_result"
    },
    {
     "data": {
      "image/png": "[encoded data removed]",
      "text/plain": [
       "<Figure size 432x288 with 1 Axes>"
      ]
     },
     "metadata": {
      "needs_background": "light"
     },
     "output_type": "display_data"
    }
   ],
   "source": [
    "plt.hist(num_utts_progun_users, bins=20) # holy shit that guy at 50000"
   ]
  },
  {
   "cell_type": "code",
   "execution_count": 114,
   "metadata": {},
   "outputs": [
    {
     "data": {
      "text/plain": [
       "(array([356.,  13.,   4.,   5.,   2.,   0.,   2.,   1.,   1.,   2.,   1.,\n",
       "          0.,   0.,   0.,   1.,   0.,   0.,   0.,   0.,   1.]),\n",
       " array([1.00000e+00, 5.90200e+02, 1.17940e+03, 1.76860e+03, 2.35780e+03,\n",
       "        2.94700e+03, 3.53620e+03, 4.12540e+03, 4.71460e+03, 5.30380e+03,\n",
       "        5.89300e+03, 6.48220e+03, 7.07140e+03, 7.66060e+03, 8.24980e+03,\n",
       "        8.83900e+03, 9.42820e+03, 1.00174e+04, 1.06066e+04, 1.11958e+04,\n",
       "        1.17850e+04]),\n",
       " <a list of 20 Patch objects>)"
      ]
     },
     "execution_count": 114,
     "metadata": {},
     "output_type": "execute_result"
    },
    {
     "data": {
      "image/png": "[encoded data removed]",
      "text/plain": [
       "<Figure size 432x288 with 1 Axes>"
      ]
     },
     "metadata": {
      "needs_background": "light"
     },
     "output_type": "display_data"
    }
   ],
   "source": [
    "plt.hist(num_utts_moderate_users, bins=20) # holy shit that guy at 7500"
   ]
  },
  {
   "cell_type": "code",
   "execution_count": 115,
   "metadata": {},
   "outputs": [],
   "source": [
    "import numpy as np"
   ]
  },
  {
   "cell_type": "code",
   "execution_count": 70,
   "metadata": {},
   "outputs": [
    {
     "name": "stdout",
     "output_type": "stream",
     "text": [
      "29.5\n",
      "160.50442477876106\n"
     ]
    }
   ],
   "source": [
    "print(np.median(num_utts_antigun_users))\n",
    "print(np.mean(num_utts_antigun_users))"
   ]
  },
  {
   "cell_type": "code",
   "execution_count": 71,
   "metadata": {},
   "outputs": [
    {
     "name": "stdout",
     "output_type": "stream",
     "text": [
      "12.0\n",
      "357.6051948051948\n"
     ]
    }
   ],
   "source": [
    "print(np.median(num_utts_progun_users))\n",
    "print(np.mean(num_utts_progun_users))"
   ]
  },
  {
   "cell_type": "markdown",
   "metadata": {},
   "source": [
    "To normalize, we take up to 5 utterances per user. If the user has <= 5 utterances, take all of them."
   ]
  },
  {
   "cell_type": "code",
   "execution_count": 116,
   "metadata": {},
   "outputs": [],
   "source": [
    "from random import sample"
   ]
  },
  {
   "cell_type": "code",
   "execution_count": 119,
   "metadata": {},
   "outputs": [],
   "source": [
    "progun_utts = []\n",
    "for user in progun_users:\n",
    "    user_utts = list(user.iter_utterances())\n",
    "    if len(user_utts) <= 5:\n",
    "        progun_utts.extend(user_utts)\n",
    "    else:\n",
    "        progun_utts.extend(sample(user_utts, 5))"
   ]
  },
  {
   "cell_type": "code",
   "execution_count": 120,
   "metadata": {},
   "outputs": [],
   "source": [
    "antigun_utts = []\n",
    "for user in antigun_users:\n",
    "    user_utts = list(user.iter_utterances())\n",
    "    if len(user_utts) <= 5:\n",
    "        antigun_utts.extend(user_utts)\n",
    "    else:\n",
    "        antigun_utts.extend(sample(user_utts, 5))"
   ]
  },
  {
   "cell_type": "code",
   "execution_count": 126,
   "metadata": {},
   "outputs": [],
   "source": [
    "moderate_utts = []\n",
    "for user in moderate_users:\n",
    "    user_utts = list(user.iter_utterances())\n",
    "    if len(user_utts) <= 5:\n",
    "        moderate_utts.extend(user_utts)\n",
    "    else:\n",
    "        moderate_utts.extend(sample(user_utts, 5))"
   ]
  },
  {
   "cell_type": "code",
   "execution_count": 125,
   "metadata": {},
   "outputs": [
    {
     "data": {
      "text/plain": [
       "932"
      ]
     },
     "execution_count": 125,
     "metadata": {},
     "output_type": "execute_result"
    }
   ],
   "source": [
    "len(antigun_utts)"
   ]
  },
  {
   "cell_type": "code",
   "execution_count": 122,
   "metadata": {},
   "outputs": [
    {
     "data": {
      "text/plain": [
       "1487"
      ]
     },
     "execution_count": 122,
     "metadata": {},
     "output_type": "execute_result"
    }
   ],
   "source": [
    "len(progun_utts)"
   ]
  },
  {
   "cell_type": "code",
   "execution_count": 127,
   "metadata": {},
   "outputs": [
    {
     "data": {
      "text/plain": [
       "1607"
      ]
     },
     "execution_count": 127,
     "metadata": {},
     "output_type": "execute_result"
    }
   ],
   "source": [
    "len(moderate_utts)"
   ]
  },
  {
   "cell_type": "code",
   "execution_count": 77,
   "metadata": {},
   "outputs": [
    {
     "data": {
      "text/plain": [
       "['Maybe??',\n",
       " 'personally, i am highly supportive of the second amendment, but one has a choice whether to carry guns on their person at a given moment while one does not have this choice when it comes to their sexuality, gender, or race. apples to oranges also i think they should be able to allow smoking so long as its clearly posted and not vented out to the side walk',\n",
       " 'This is a potential issue, I agree, but then again, no solution is ever perfect.',\n",
       " \"My question goes deeper than that. Why is it perceived that life is inherently good and death inherently bad. Why do we care in the first place? The arguments you are using are making these assumptions but where do these assumptions come from? I'm gonna be like a six year old and keep asking why until we get reasons we make these assumptions to build higher level arguments from. Or we could short cut and I can tell you the answer\",\n",
       " \"It's not desirable because of emotional attachment to life ... The very definition of beneficial is emotionally derived... I agree that murder shouldn't be permitted but I am self aware enough and socially aware enough to realize that we place value on things that to the cold and dead universe are completely arbitrary (which life is) because I and other people derive a sense of value from emotionality All pure logic can achieve is running information through a set of rules to achieve a conclusion. The value of that conclusion is outside logic's capabilities\",\n",
       " \"lol, you quoted something out of context, here is the whole statement Originally Posted by tacomancer You hit the nail on the head, we have ingrained impulses. My point is without those impulses we would see no need to make laws or customs to protect life as we would not value the lives of others. We would be sociopaths. That impulse is inherently emotion based. When we see murder we experience anger and disgust. When we see a life preserved we feel pleasure. Those are emotions because evolution has selected a group based survival strategy as the best fit for humanity. Because we are programmed to care, we devise best little philosophies and laws to further direct our care and increase the pleasure we feel from our internal reward centers. This emotionality as at the basis of laws and philosophical systems that seek to prevent murder (which is different from killing as murder lacks reciprocity which is also a survival strategy). Now specific details of a law against murder are certainly based on logic and ad hoc justifications like philosophy or religion are often logic based but our initial impulse is emotion and comes from a more animal part of the brain. When some group says some other group is thinking emotionally instead of logically they are correct but what's missing is the recognition that all groups think emotionally but inherent cognitive biases cause us to believe we are thinking rationally To your second point about it being hard to care about someone you never met. This tends to be more true for conservatives than liberals and is thought by neuropsychologists to be reflected in the size of the amygdala and anterior cingulate cortex It you look at the first sentence, you will notice I am not making a distinction between conservatives and liberals, in this statement it is implicit that both care deeply about preventing murder (which was the basis of discussion). you took a statement out of context and then acted out. very typical of you, sad to say.\",\n",
       " 'ok, it looks like you have to register an account to the website to get the numbers, but here is the study author at a ted talk giving some of those statistics at the 8:00 mark. (well really 8:20 mark, but the 8:00 provides valuable context)',\n",
       " 'I remember those old sears catalogs being really high capacity, like 600 pages or something!',\n",
       " \"For the first idea if maximizing productivity in society and it's reflection on social policy that is amoral and outside the scope of morality. For the second, I have yet to meet a libertarian who at the heart of it all doesn't love what they consider to be liberty and other societal traits on an emotional level as their primary driver once you strip away all the post hoc reasoning, self righteousness, and self justification, so they can call it morality (to be fair this is a feature of every ideology I have encountered not just yours) If this mythical unicorn actually exists I will reconsider my point, but as of yet I have not encountered one in the wild or seen mention of one in scientific literature so I have no basis to believe your claim (excepting one individual with severe social retardation) So this is already considered in my original point. Also you are confusing the construction of a moral response for the motivation itself.\",\n",
       " 'I am being absolutely consistent, just to a set of principals you dont deem important']"
      ]
     },
     "execution_count": 77,
     "metadata": {},
     "output_type": "execute_result"
    }
   ],
   "source": [
    "[utt.text for utt in antigun_utts[:10]]"
   ]
  },
  {
   "cell_type": "code",
   "execution_count": 78,
   "metadata": {},
   "outputs": [
    {
     "data": {
      "text/plain": [
       "['yeah-its like that scene in DIAMONDS ARE FOREVER where Bond is stuffed in a casket inside a crematorium',\n",
       " 'what \"loopholes\" BM members pretend stuff like the fourth amendment are \"loopholes\"',\n",
       " 'what ruling-the commerce clause says nothing about firearms or what individuals can own or do',\n",
       " \"its bad either way but its much easier to avoid a small piddly-ass town's decrees and those are never enforced anyway. Kennesaw Ga did the same thing-no one was ever arrested NYC's gun ban and sullivan law-just ask Bernie Goetz\",\n",
       " 'Politicians pander-it is what they do. Trump is pandering to yapping emotobabblers who want SOMETHING done.',\n",
       " \"you're proving that all you want to do is whine about Trump\",\n",
       " \"that stupid law banned firearms that had cosmetic issues. Are you saying those massacres would not have taken place if the shooter was limited to an AR 15 that didn't have say a flash hider or a bayonet lug\",\n",
       " 'your crap is evidently flawed that is DICTA and the LAUTENBERG AMENDMENT allowed the federal government to disbar soldiers (federal militia) National Guardsmen and State police (State militia) from touching firearms so you are wrong, and you lose',\n",
       " \"BS-the only issue before the court was DC's gun ban. It was struck down\",\n",
       " 'how many cops have been killed by such bullets. calling them \"cop killers\" is dishonest and demonstrates a lack of understanding of the issue']"
      ]
     },
     "execution_count": 78,
     "metadata": {},
     "output_type": "execute_result"
    }
   ],
   "source": [
    "[utt.text for utt in progun_utts[:10]]"
   ]
  },
  {
   "cell_type": "code",
   "execution_count": 10,
   "metadata": {},
   "outputs": [],
   "source": [
    "def clean_text(txt):\n",
    "    return txt.replace(\"\\n\", \" \").replace('\\x92', \"'\")"
   ]
  },
  {
   "cell_type": "code",
   "execution_count": 80,
   "metadata": {},
   "outputs": [],
   "source": [
    "progun_text = ''\n",
    "for utt in progun_utts:\n",
    "    if len(utt.text) >= 25:\n",
    "        if utt.text.endswith('.'):\n",
    "            progun_text += clean_text(utt.text) + ' '\n",
    "        else:\n",
    "            progun_text += clean_text(utt.text) + '. '"
   ]
  },
  {
   "cell_type": "code",
   "execution_count": 133,
   "metadata": {},
   "outputs": [],
   "source": [
    "antigun_text = ''\n",
    "for utt in antigun_utts:\n",
    "    if len(utt.text) >= 25:\n",
    "        if utt.text.endswith('.'):\n",
    "            antigun_text += clean_text(utt.text) + ' '\n",
    "        else:\n",
    "            antigun_text += clean_text(utt.text) + '. '"
   ]
  },
  {
   "cell_type": "code",
   "execution_count": 134,
   "metadata": {},
   "outputs": [],
   "source": [
    "moderate_text = ''\n",
    "for utt in moderate_utts:\n",
    "    if len(utt.text) >= 25:\n",
    "        if utt.text.endswith('.'):\n",
    "            moderate_text += clean_text(utt.text) + ' '\n",
    "        else:\n",
    "            moderate_text += clean_text(utt.text) + '. '"
   ]
  },
  {
   "cell_type": "code",
   "execution_count": 12,
   "metadata": {},
   "outputs": [],
   "source": [
    "from random import sample\n",
    "all_text = ''\n",
    "for user in forum_corpus.iter_users():\n",
    "    user_utts = list(user.iter_utterances())\n",
    "    user_utts = [utt for utt in user_utts if len(utt.text) >= 25]\n",
    "    if len(user_utts) >= 3:\n",
    "        selected_utts = sample(user_utts, 3)\n",
    "    else:\n",
    "        selected_utts = user_utts\n",
    "    \n",
    "    for utt in selected_utts:\n",
    "        if utt.text.endswith('.'):\n",
    "            all_text += clean_text(utt.text) + ' '\n",
    "        else:\n",
    "            all_text += clean_text(utt.text) + '. '"
   ]
  },
  {
   "cell_type": "code",
   "execution_count": 13,
   "metadata": {},
   "outputs": [
    {
     "ename": "NameError",
     "evalue": "name 'progun_text' is not defined",
     "output_type": "error",
     "traceback": [
      "\u001b[0;31m---------------------------------------------------------------------------\u001b[0m",
      "\u001b[0;31mNameError\u001b[0m                                 Traceback (most recent call last)",
      "\u001b[0;32m<ipython-input-13-a7f26e7d7cd2>\u001b[0m in \u001b[0;36m<module>\u001b[0;34m\u001b[0m\n\u001b[0;32m----> 1\u001b[0;31m \u001b[0mlen\u001b[0m\u001b[0;34m(\u001b[0m\u001b[0mprogun_text\u001b[0m\u001b[0;34m)\u001b[0m\u001b[0;34m\u001b[0m\u001b[0;34m\u001b[0m\u001b[0m\n\u001b[0m",
      "\u001b[0;31mNameError\u001b[0m: name 'progun_text' is not defined"
     ]
    }
   ],
   "source": [
    "len(progun_text)"
   ]
  },
  {
   "cell_type": "code",
   "execution_count": 14,
   "metadata": {},
   "outputs": [
    {
     "ename": "NameError",
     "evalue": "name 'antigun_text' is not defined",
     "output_type": "error",
     "traceback": [
      "\u001b[0;31m---------------------------------------------------------------------------\u001b[0m",
      "\u001b[0;31mNameError\u001b[0m                                 Traceback (most recent call last)",
      "\u001b[0;32m<ipython-input-14-f9fb598e4ed4>\u001b[0m in \u001b[0;36m<module>\u001b[0;34m\u001b[0m\n\u001b[0;32m----> 1\u001b[0;31m \u001b[0mlen\u001b[0m\u001b[0;34m(\u001b[0m\u001b[0mantigun_text\u001b[0m\u001b[0;34m)\u001b[0m\u001b[0;34m\u001b[0m\u001b[0;34m\u001b[0m\u001b[0m\n\u001b[0m",
      "\u001b[0;31mNameError\u001b[0m: name 'antigun_text' is not defined"
     ]
    }
   ],
   "source": [
    "len(antigun_text)"
   ]
  },
  {
   "cell_type": "code",
   "execution_count": 137,
   "metadata": {},
   "outputs": [
    {
     "data": {
      "text/plain": [
       "718039"
      ]
     },
     "execution_count": 137,
     "metadata": {},
     "output_type": "execute_result"
    }
   ],
   "source": [
    "len(moderate_text)"
   ]
  },
  {
   "cell_type": "code",
   "execution_count": 16,
   "metadata": {},
   "outputs": [],
   "source": [
    "from nltk import sent_tokenize"
   ]
  },
  {
   "cell_type": "code",
   "execution_count": 85,
   "metadata": {},
   "outputs": [],
   "source": [
    "with open('progun_forum_corpus_full.txt', 'w') as f:\n",
    "    for sentence in sent_tokenize(progun_text):\n",
    "        if len(sentence) > 5:\n",
    "            f.write(sentence)\n",
    "            f.write(\"\\n\")"
   ]
  },
  {
   "cell_type": "code",
   "execution_count": 86,
   "metadata": {},
   "outputs": [],
   "source": [
    "with open('antigun_forum_corpus_full.txt', 'w') as f:\n",
    "    for sentence in sent_tokenize(antigun_text):\n",
    "        if len(sentence) > 5:\n",
    "            f.write(sentence)\n",
    "            f.write(\"\\n\")"
   ]
  },
  {
   "cell_type": "code",
   "execution_count": 142,
   "metadata": {},
   "outputs": [],
   "source": [
    "os.chdir('/Users/calebchiam/Documents')"
   ]
  },
  {
   "cell_type": "code",
   "execution_count": 147,
   "metadata": {},
   "outputs": [],
   "source": [
    "with open('moderate_forum_corpus_full.txt', 'w') as f:\n",
    "    for sentence in sent_tokenize(moderate_text):\n",
    "        if len(sentence) > 5:\n",
    "            f.write(sentence)\n",
    "            f.write(\"\\n\")"
   ]
  },
  {
   "cell_type": "code",
   "execution_count": 17,
   "metadata": {},
   "outputs": [],
   "source": [
    "with open('whole_forum_corpus_full.txt', 'w') as f:\n",
    "    for sentence in sent_tokenize(all_text):\n",
    "        if len(sentence) > 5:\n",
    "            f.write(sentence)\n",
    "            f.write(\"\\n\")"
   ]
  },
  {
   "cell_type": "markdown",
   "metadata": {},
   "source": [
    "## Training step"
   ]
  },
  {
   "cell_type": "code",
   "execution_count": 18,
   "metadata": {},
   "outputs": [],
   "source": [
    "lm = LanguageModel(SRILM_path='/Users/calebchiam/Documents/GitHub/cs6742-fork/convokit/SRILM/srilm-1.7.3',\n",
    "                  working_dir='/Users/calebchiam/Documents/GitHub/cs6742-fork/convokit/SRILM/dump/',\n",
    "                  lm_output_path='whole_forum_full.lm',\n",
    "                  lm_type='laplace',\n",
    "                  count_output_path='whole_forum_counts.txt',\n",
    "                  order=2,\n",
    "                  verbose=True)"
   ]
  },
  {
   "cell_type": "code",
   "execution_count": 19,
   "metadata": {},
   "outputs": [
    {
     "name": "stdout",
     "output_type": "stream",
     "text": [
      "\n"
     ]
    }
   ],
   "source": [
    "lm.train('whole_forum_corpus_full.txt')"
   ]
  },
  {
   "cell_type": "code",
   "execution_count": null,
   "metadata": {},
   "outputs": [],
   "source": []
  },
  {
   "cell_type": "code",
   "execution_count": 29,
   "metadata": {},
   "outputs": [],
   "source": [
    "lm = LanguageModel(SRILM_path='/Users/calebchiam/Documents/GitHub/cs6742-fork/convokit/SRILM/srilm-1.7.3',\n",
    "                  working_dir='/Users/calebchiam/Documents/GitHub/cs6742-fork/convokit/SRILM/dump/',\n",
    "                  lm_output_path='progun_forum_full.lm',\n",
    "                  lm_type='laplace',\n",
    "                  count_output_path='progun_forum_counts.txt',\n",
    "                  order=2,\n",
    "                  verbose=True)"
   ]
  },
  {
   "cell_type": "code",
   "execution_count": 30,
   "metadata": {},
   "outputs": [
    {
     "name": "stdout",
     "output_type": "stream",
     "text": [
      "\n"
     ]
    }
   ],
   "source": [
    "lm.train('progun_forum_corpus.txt')"
   ]
  },
  {
   "cell_type": "code",
   "execution_count": 31,
   "metadata": {},
   "outputs": [
    {
     "name": "stdout",
     "output_type": "stream",
     "text": [
      "/Users/calebchiam/Documents/GitHub/cs6742-fork/convokit/SRILM/dump/progun_forum_full.lm: line 1774: warning: non-zero probability for <unk> in closed-vocabulary LM\n",
      "file /Users/calebchiam/Documents/GitHub/cs6742-fork/convokit/SRILM/dump/temp/4243935552279479169.txt: 1 sentences, 3 words, 0 OOVs\n",
      "0 zeroprobs, logprob= -10.59516 ppl= 445.4407 ppl1= 3401.887\n"
     ]
    },
    {
     "data": {
      "text/plain": [
       "445.4407"
      ]
     },
     "execution_count": 31,
     "metadata": {},
     "output_type": "execute_result"
    }
   ],
   "source": [
    "lm.str_perplexity(\"I love guns.\")"
   ]
  },
  {
   "cell_type": "code",
   "execution_count": 22,
   "metadata": {},
   "outputs": [
    {
     "name": "stdout",
     "output_type": "stream",
     "text": [
      "/Users/calebchiam/Documents/GitHub/cs6742-fork/convokit/SRILM/dump/whole_forum_full.lm: line 3551: warning: non-zero probability for <unk> in closed-vocabulary LM\n",
      "file /Users/calebchiam/Documents/GitHub/cs6742-fork/convokit/SRILM/dump/temp/131650430163317822.txt: 1 sentences, 3 words, 0 OOVs\n",
      "0 zeroprobs, logprob= -11.41833 ppl= 715.4552 ppl1= 6398.968\n"
     ]
    },
    {
     "data": {
      "text/plain": [
       "715.4552"
      ]
     },
     "execution_count": 22,
     "metadata": {},
     "output_type": "execute_result"
    }
   ],
   "source": [
    "lm.str_perplexity(\"I love muffins.\")"
   ]
  },
  {
   "cell_type": "code",
   "execution_count": 32,
   "metadata": {},
   "outputs": [
    {
     "name": "stdout",
     "output_type": "stream",
     "text": [
      "/Users/calebchiam/Documents/GitHub/cs6742-fork/convokit/SRILM/dump/progun_forum_full.lm: line 1774: warning: non-zero probability for <unk> in closed-vocabulary LM\n",
      "file /Users/calebchiam/Documents/GitHub/cs6742-fork/convokit/SRILM/dump/temp/8020604061166563672.txt: 1 sentences, 3 words, 0 OOVs\n",
      "0 zeroprobs, logprob= -11.54904 ppl= 771.3641 ppl1= 7074.231\n"
     ]
    },
    {
     "data": {
      "text/plain": [
       "771.3641"
      ]
     },
     "execution_count": 32,
     "metadata": {},
     "output_type": "execute_result"
    }
   ],
   "source": [
    "lm.str_perplexity(\"I hate guns.\")"
   ]
  },
  {
   "cell_type": "code",
   "execution_count": 35,
   "metadata": {},
   "outputs": [
    {
     "name": "stdout",
     "output_type": "stream",
     "text": [
      "/Users/calebchiam/Documents/GitHub/cs6742-fork/convokit/SRILM/dump/progun_forum_full.lm: line 1774: warning: non-zero probability for <unk> in closed-vocabulary LM\n",
      "file /Users/calebchiam/Documents/GitHub/cs6742-fork/convokit/SRILM/dump/temp/1034462867550833082.txt: 1 sentences, 9 words, 0 OOVs\n",
      "0 zeroprobs, logprob= -33.60268 ppl= 2292.284 ppl1= 5415.414\n"
     ]
    },
    {
     "data": {
      "text/plain": [
       "2292.284"
      ]
     },
     "execution_count": 35,
     "metadata": {},
     "output_type": "execute_result"
    }
   ],
   "source": [
    "lm.str_perplexity(\"We ought to have a right to arm ourselves.\")"
   ]
  },
  {
   "cell_type": "code",
   "execution_count": 36,
   "metadata": {},
   "outputs": [
    {
     "name": "stdout",
     "output_type": "stream",
     "text": [
      "/Users/calebchiam/Documents/GitHub/cs6742-fork/convokit/SRILM/dump/progun_forum_full.lm: line 1774: warning: non-zero probability for <unk> in closed-vocabulary LM\n",
      "file /Users/calebchiam/Documents/GitHub/cs6742-fork/convokit/SRILM/dump/temp/7279073632164468617.txt: 1 sentences, 9 words, 0 OOVs\n",
      "0 zeroprobs, logprob= -32.24645 ppl= 1677.434 ppl1= 3827.713\n"
     ]
    },
    {
     "data": {
      "text/plain": [
       "1677.434"
      ]
     },
     "execution_count": 36,
     "metadata": {},
     "output_type": "execute_result"
    }
   ],
   "source": [
    "lm.str_perplexity(\"We ought not have a right to arm ourselves.\")"
   ]
  },
  {
   "cell_type": "code",
   "execution_count": 93,
   "metadata": {},
   "outputs": [],
   "source": [
    "lm2 = LanguageModel(SRILM_path='/Users/calebchiam/Documents/GitHub/cs6742-fork/convokit/SRILM/srilm-1.7.3',\n",
    "                  working_dir='/Users/calebchiam/Documents/GitHub/cs6742-fork/convokit/SRILM/dump/',\n",
    "                  lm_output_path='antigun_forum_full.lm',\n",
    "                  lm_type='laplace',\n",
    "                  count_output_path='antigun_forum_counts.txt',\n",
    "                  order=2,\n",
    "                  verbose=False)"
   ]
  },
  {
   "cell_type": "code",
   "execution_count": 94,
   "metadata": {},
   "outputs": [
    {
     "name": "stdout",
     "output_type": "stream",
     "text": [
      "\n"
     ]
    }
   ],
   "source": [
    "lm2.train('antigun_forum_corpus_full.txt')"
   ]
  },
  {
   "cell_type": "code",
   "execution_count": 95,
   "metadata": {},
   "outputs": [
    {
     "data": {
      "text/plain": [
       "434.3236"
      ]
     },
     "execution_count": 95,
     "metadata": {},
     "output_type": "execute_result"
    }
   ],
   "source": [
    "lm2.str_perplexity(\"I love guns.\")"
   ]
  },
  {
   "cell_type": "code",
   "execution_count": 96,
   "metadata": {},
   "outputs": [
    {
     "data": {
      "text/plain": [
       "369.1392"
      ]
     },
     "execution_count": 96,
     "metadata": {},
     "output_type": "execute_result"
    }
   ],
   "source": [
    "lm2.str_perplexity(\"I hate guns.\")"
   ]
  },
  {
   "cell_type": "code",
   "execution_count": 49,
   "metadata": {},
   "outputs": [
    {
     "data": {
      "text/plain": [
       "1582.907"
      ]
     },
     "execution_count": 49,
     "metadata": {},
     "output_type": "execute_result"
    }
   ],
   "source": [
    "lm2.str_perplexity(\"We have a right to arm ourselves.\")"
   ]
  },
  {
   "cell_type": "code",
   "execution_count": 50,
   "metadata": {},
   "outputs": [
    {
     "data": {
      "text/plain": [
       "1348.064"
      ]
     },
     "execution_count": 50,
     "metadata": {},
     "output_type": "execute_result"
    }
   ],
   "source": [
    "lm2.str_perplexity(\"We do not have a right to arm ourselves.\")"
   ]
  },
  {
   "cell_type": "code",
   "execution_count": null,
   "metadata": {},
   "outputs": [],
   "source": []
  }
 ],
 "metadata": {
  "kernelspec": {
   "display_name": "Python 3",
   "language": "python",
   "name": "python3"
  },
  "language_info": {
   "codemirror_mode": {
    "name": "ipython",
    "version": 3
   },
   "file_extension": ".py",
   "mimetype": "text/x-python",
   "name": "python",
   "nbconvert_exporter": "python",
   "pygments_lexer": "ipython3",
   "version": "3.7.3"
  }
 },
 "nbformat": 4,
 "nbformat_minor": 2
}
