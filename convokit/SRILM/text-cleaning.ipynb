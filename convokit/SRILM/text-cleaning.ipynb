{
 "cells": [
  {
   "cell_type": "code",
   "execution_count": null,
   "metadata": {},
   "outputs": [],
   "source": [
    "# pip install cleantext\n",
    "# pip install cleantext[unicode]"
   ]
  },
  {
   "cell_type": "code",
   "execution_count": 3,
   "metadata": {},
   "outputs": [],
   "source": [
    "from cleantext import clean\n",
    "\n",
    "clean_str = lambda s: clean(s,\n",
    "    fix_unicode=True,               # fix various unicode errors\n",
    "    to_ascii=True,                  # transliterate to closest ASCII representation\n",
    "    lower=True,                     # lowercase text\n",
    "    no_line_breaks=False,           # fully strip line breaks as opposed to only normalizing them\n",
    "    no_urls=False,                  # replace all URLs with a special token\n",
    "    no_emails=False,                # replace all email addresses with a special token\n",
    "    no_phone_numbers=False,         # replace all phone numbers with a special token\n",
    "    no_numbers=False,               # replace all numbers with a special token\n",
    "    no_digits=False,                # replace all digits with a special token\n",
    "    no_currency_symbols=False,      # replace all currency symbols with a special token\n",
    "    no_punct=False,                 # fully remove punctuation\n",
    "    replace_with_url=\"<URL>\",\n",
    "    replace_with_email=\"<EMAIL>\",\n",
    "    replace_with_phone_number=\"<PHONE>\",\n",
    "    replace_with_number=\"<NUMBER>\",\n",
    "    replace_with_digit=\"0\",\n",
    "    replace_with_currency_symbol=\"<CUR>\",\n",
    "    lang=\"en\"                       # set to 'de' for German special handling\n",
    ")"
   ]
  },
  {
   "cell_type": "code",
   "execution_count": 20,
   "metadata": {},
   "outputs": [],
   "source": [
    "sample_str = 'Dude! Say what? \"It was President George Bush, Sr. who banned the import of \"assault weapons\" in 1989, and promoted the view that Americans should only be allowed to own weapons suitable for \"sporting purposes.\" \"Another Republican, New York State Governor George Pataki, on August 10, 2000, signed into law what The New York Times called \"the nation\\x92s strictest gun controls,\" a radical program mandating trigger locks, background checks at gun shows and \"ballistic fingerprinting\" of guns sold in the state.'"
   ]
  },
  {
   "cell_type": "code",
   "execution_count": 21,
   "metadata": {},
   "outputs": [
    {
     "data": {
      "text/plain": [
       "'Dude! Say what? \"It was President George Bush, Sr. who banned the import of \"assault weapons\" in 1989, and promoted the view that Americans should only be allowed to own weapons suitable for \"sporting purposes.\" \"Another Republican, New York State Governor George Pataki, on August 10, 2000, signed into law what The New York Times called \"the nation\\x92s strictest gun controls,\" a radical program mandating trigger locks, background checks at gun shows and \"ballistic fingerprinting\" of guns sold in the state.'"
      ]
     },
     "execution_count": 21,
     "metadata": {},
     "output_type": "execute_result"
    }
   ],
   "source": [
    "sample_str"
   ]
  },
  {
   "cell_type": "code",
   "execution_count": 19,
   "metadata": {},
   "outputs": [
    {
     "data": {
      "text/plain": [
       "\"the nation's strictest gun controls,\""
      ]
     },
     "execution_count": 19,
     "metadata": {},
     "output_type": "execute_result"
    }
   ],
   "source": [
    "clean_str(\"the nation\\x92s strictest gun controls,\")"
   ]
  },
  {
   "cell_type": "code",
   "execution_count": 22,
   "metadata": {},
   "outputs": [
    {
     "data": {
      "text/plain": [
       "'dude! say what? \"it was president george bush, sr. who banned the import of \"assault weapons\" in 1989, and promoted the view that americans should only be allowed to own weapons suitable for \"sporting purposes.\" \"another republican, new york state governor george pataki, on august 10, 2000, signed into law what the new york times called \"the nation\\'s strictest gun controls,\" a radical program mandating trigger locks, background checks at gun shows and \"ballistic fingerprinting\" of guns sold in the state.'"
      ]
     },
     "execution_count": 22,
     "metadata": {},
     "output_type": "execute_result"
    }
   ],
   "source": [
    "clean_str(sample_str)"
   ]
  },
  {
   "cell_type": "code",
   "execution_count": null,
   "metadata": {},
   "outputs": [],
   "source": []
  }
 ],
 "metadata": {
  "kernelspec": {
   "display_name": "Python 3",
   "language": "python",
   "name": "python3"
  },
  "language_info": {
   "codemirror_mode": {
    "name": "ipython",
    "version": 3
   },
   "file_extension": ".py",
   "mimetype": "text/x-python",
   "name": "python",
   "nbconvert_exporter": "python",
   "pygments_lexer": "ipython3",
   "version": "3.7.3"
  }
 },
 "nbformat": 4,
 "nbformat_minor": 2
}
