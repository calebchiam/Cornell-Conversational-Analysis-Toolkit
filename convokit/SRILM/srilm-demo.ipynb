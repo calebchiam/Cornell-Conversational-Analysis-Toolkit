{
 "cells": [
  {
   "cell_type": "code",
   "execution_count": 1,
   "metadata": {},
   "outputs": [
    {
     "data": {
      "text/plain": [
       "['srilm-1.7.3',\n",
       " 'dump',\n",
       " '.DS_Store',\n",
       " 'srilm-demo.ipynb',\n",
       " 'srilm-1.7.3.tar',\n",
       " 'corpus.txt',\n",
       " 'LMTransformer.py',\n",
       " '__init__.py',\n",
       " '__pycache__',\n",
       " '.ipynb_checkpoints',\n",
       " 'srilmWrapper.py',\n",
       " 'ngrams.txt']"
      ]
     },
     "execution_count": 1,
     "metadata": {},
     "output_type": "execute_result"
    }
   ],
   "source": [
    "import os\n",
    "os.chdir('../..')"
   ]
  },
  {
   "cell_type": "code",
   "execution_count": 6,
   "metadata": {},
   "outputs": [],
   "source": [
    "from convokit import LMTransformer, LanguageModel"
   ]
  },
  {
   "cell_type": "code",
   "execution_count": 19,
   "metadata": {},
   "outputs": [],
   "source": [
    "lm = LanguageModel(SRILM_path='/Users/calebchiam/Documents/GitHub/cs6742-fork/convokit/SRILM/srilm-1.7.3',\n",
    "                  working_dir='/Users/calebchiam/Documents/GitHub/cs6742-fork/convokit/SRILM/dump/',\n",
    "                  lm_output_path='test.lm',\n",
    "                  lm_type='kneser-ney',\n",
    "                  count_output_path='counts.txt',\n",
    "                  order=2,\n",
    "                  verbose=True)"
   ]
  },
  {
   "cell_type": "code",
   "execution_count": 20,
   "metadata": {},
   "outputs": [
    {
     "name": "stdout",
     "output_type": "stream",
     "text": [
      "one of required modified KneserNey count-of-counts is zero\n",
      "error in discount estimator for order 1\n"
     ]
    }
   ],
   "source": [
    "lm.train('corpus.txt')"
   ]
  },
  {
   "cell_type": "code",
   "execution_count": null,
   "metadata": {},
   "outputs": [],
   "source": [
    "lm = L"
   ]
  },
  {
   "cell_type": "code",
   "execution_count": 25,
   "metadata": {},
   "outputs": [
    {
     "name": "stdout",
     "output_type": "stream",
     "text": [
      "file /Users/calebchiam/Documents/GitHub/cs6742-fork/convokit/SRILM/dump/temp/2435031160417692071.txt: 1 sentences, 7 words, 6 OOVs\n",
      "0 zeroprobs, logprob= -3.607455 ppl= 63.63961 ppl1= 4050\n"
     ]
    },
    {
     "data": {
      "text/plain": [
       "4050.0"
      ]
     },
     "execution_count": 25,
     "metadata": {},
     "output_type": "execute_result"
    }
   ],
   "source": [
    "lm.str_perplexity1(\"Hey, this is a weird little sentence.\")"
   ]
  },
  {
   "cell_type": "code",
   "execution_count": 28,
   "metadata": {},
   "outputs": [
    {
     "name": "stdout",
     "output_type": "stream",
     "text": [
      "file /Users/calebchiam/Documents/GitHub/cs6742-fork/convokit/SRILM/dump/temp/7662754423862351691.txt: 1 sentences, 4 words, 3 OOVs\n",
      "0 zeroprobs, logprob= -3.431363 ppl= 51.96148 ppl1= 2699.995\n"
     ]
    },
    {
     "data": {
      "text/plain": [
       "2699.995"
      ]
     },
     "execution_count": 28,
     "metadata": {},
     "output_type": "execute_result"
    }
   ],
   "source": [
    "lm.str_perplexity1(\"Eat the gargantuan pig.\")"
   ]
  },
  {
   "cell_type": "code",
   "execution_count": 13,
   "metadata": {},
   "outputs": [
    {
     "data": {
      "text/plain": [
       "22.97824"
      ]
     },
     "execution_count": 13,
     "metadata": {},
     "output_type": "execute_result"
    }
   ],
   "source": [
    "lm.str_perplexity(\"I\")"
   ]
  },
  {
   "cell_type": "code",
   "execution_count": 17,
   "metadata": {},
   "outputs": [
    {
     "data": {
      "text/plain": [
       "14.84769"
      ]
     },
     "execution_count": 17,
     "metadata": {},
     "output_type": "execute_result"
    }
   ],
   "source": [
    "lm.str_perplexity(\"I got killed on Saturday\")"
   ]
  },
  {
   "cell_type": "markdown",
   "metadata": {},
   "source": [
    "## Loading from an existing LM"
   ]
  },
  {
   "cell_type": "code",
   "execution_count": 33,
   "metadata": {},
   "outputs": [],
   "source": [
    "lm2 = LanguageModel(SRILM_path='/Users/calebchiam/Documents/GitHub/cs6742-fork/convokit/SRILM/srilm-1.7.3',\n",
    "                  working_dir='/Users/calebchiam/Documents/GitHub/cs6742-fork/convokit/SRILM/dump/',\n",
    "                  lm_output_path='test.lm',\n",
    "                  lm_type='kneser-ney',\n",
    "                  count_output_path='counts.txt',\n",
    "                  order=3,\n",
    "                  lm_filepath='/Users/calebchiam/Documents/GitHub/cs6742-fork/convokit/SRILM/dump/antigun.lm',\n",
    "                  verbose=True)"
   ]
  },
  {
   "cell_type": "code",
   "execution_count": 34,
   "metadata": {},
   "outputs": [
    {
     "data": {
      "text/plain": [
       "<convokit.SRILM.srilmWrapper.LanguageModel at 0x1221f2438>"
      ]
     },
     "execution_count": 34,
     "metadata": {},
     "output_type": "execute_result"
    }
   ],
   "source": [
    "lm2"
   ]
  },
  {
   "cell_type": "code",
   "execution_count": 49,
   "metadata": {},
   "outputs": [],
   "source": [
    "ts = \"file /Users/calebchiam/Documents/GitHub/cs6742-fork/convokit/SRILM/dump/temp/8828796617650773791.txt: 1 sentences, 2 words, 0 OOVs 0 zeroprobs, logprob= -8.050243 ppl= 482.4077 ppl1= 10595.5\""
   ]
  },
  {
   "cell_type": "code",
   "execution_count": 51,
   "metadata": {},
   "outputs": [
    {
     "data": {
      "text/plain": [
       "'10595.5'"
      ]
     },
     "execution_count": 51,
     "metadata": {},
     "output_type": "execute_result"
    }
   ],
   "source": [
    "ts.split(\"ppl1= \")[1].split()"
   ]
  },
  {
   "cell_type": "code",
   "execution_count": 35,
   "metadata": {},
   "outputs": [
    {
     "name": "stdout",
     "output_type": "stream",
     "text": [
      "file /Users/calebchiam/Documents/GitHub/cs6742-fork/convokit/SRILM/dump/temp/8828796617650773791.txt: 1 sentences, 2 words, 0 OOVs\n",
      "0 zeroprobs, logprob= -8.050243 ppl= 482.4077 ppl1= 10595.5\n"
     ]
    },
    {
     "data": {
      "text/plain": [
       "10595.5"
      ]
     },
     "execution_count": 35,
     "metadata": {},
     "output_type": "execute_result"
    }
   ],
   "source": [
    "lm2.str_perplexity1(\"hey, this\")"
   ]
  },
  {
   "cell_type": "code",
   "execution_count": 18,
   "metadata": {},
   "outputs": [
    {
     "ename": "NameError",
     "evalue": "name 'lm2' is not defined",
     "output_type": "error",
     "traceback": [
      "\u001b[0;31m---------------------------------------------------------------------------\u001b[0m",
      "\u001b[0;31mNameError\u001b[0m                                 Traceback (most recent call last)",
      "\u001b[0;32m<ipython-input-18-24f60a5333bc>\u001b[0m in \u001b[0;36m<module>\u001b[0;34m\u001b[0m\n\u001b[0;32m----> 1\u001b[0;31m \u001b[0mlm2\u001b[0m\u001b[0;34m.\u001b[0m\u001b[0mstr_perplexity\u001b[0m\u001b[0;34m(\u001b[0m\u001b[0;34m\"oh damn.\"\u001b[0m\u001b[0;34m)\u001b[0m\u001b[0;34m\u001b[0m\u001b[0;34m\u001b[0m\u001b[0m\n\u001b[0m",
      "\u001b[0;31mNameError\u001b[0m: name 'lm2' is not defined"
     ]
    }
   ],
   "source": [
    "lm2.str_perplexity(\"oh damn.\")"
   ]
  },
  {
   "cell_type": "code",
   "execution_count": null,
   "metadata": {},
   "outputs": [],
   "source": []
  }
 ],
 "metadata": {
  "kernelspec": {
   "display_name": "Python 3",
   "language": "python",
   "name": "python3"
  },
  "language_info": {
   "codemirror_mode": {
    "name": "ipython",
    "version": 3
   },
   "file_extension": ".py",
   "mimetype": "text/x-python",
   "name": "python",
   "nbconvert_exporter": "python",
   "pygments_lexer": "ipython3",
   "version": "3.7.3"
  }
 },
 "nbformat": 4,
 "nbformat_minor": 2
}
